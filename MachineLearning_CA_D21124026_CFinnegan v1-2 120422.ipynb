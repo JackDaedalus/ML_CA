{
 "cells": [
  {
   "cell_type": "markdown",
   "metadata": {},
   "source": [
    "# Machine Learning - Continuous Assessment - Class Group: TU060 <a class=\"tocSkip\">"
   ]
  },
  {
   "cell_type": "markdown",
   "metadata": {},
   "source": [
    "# MSc in Computer Science - Data Science (Part Time) <a class=\"tocSkip\">"
   ]
  },
  {
   "cell_type": "markdown",
   "metadata": {},
   "source": [
    "# Student Name: Ciaran Finnegan  <a class=\"tocSkip\">"
   ]
  },
  {
   "cell_type": "markdown",
   "metadata": {},
   "source": [
    "# Student No: D21124026 <a class=\"tocSkip\">"
   ]
  },
  {
   "cell_type": "markdown",
   "metadata": {},
   "source": [
    "#### Student EMail: D21124026@mytudublin.ie <a class=\"tocSkip\">"
   ]
  },
  {
   "cell_type": "markdown",
   "metadata": {},
   "source": [
    "## May 2022<a class=\"tocSkip\">"
   ]
  },
  {
   "cell_type": "markdown",
   "metadata": {},
   "source": [
    "# "
   ]
  },
  {
   "cell_type": "markdown",
   "metadata": {},
   "source": [
    "# H&M Personalised Fashion Recommendations <a class=\"tocSkip\">\n"
   ]
  },
  {
   "cell_type": "markdown",
   "metadata": {},
   "source": [
    "#### This project takes the datasets provided by Kaggle for the H&M Personalised Fashion Recommendations competition.  <a class=\"tocSkip\">\n",
    "\n",
    "Ipso forum..."
   ]
  },
  {
   "cell_type": "markdown",
   "metadata": {},
   "source": [
    "## <a class=\"tocSkip\">"
   ]
  },
  {
   "cell_type": "markdown",
   "metadata": {},
   "source": [
    "#### The CA follows a n-part structure. <a class=\"tocSkip\">\n",
    "\n",
    "Section 1: Ipso forum...\n",
    "\n",
    "Section 2: Ipso forum...\n",
    "\n",
    "Section 3: Ipso forum...\n"
   ]
  },
  {
   "cell_type": "markdown",
   "metadata": {},
   "source": [
    "### <a class=\"tocSkip\">"
   ]
  },
  {
   "cell_type": "markdown",
   "metadata": {
    "toc": true
   },
   "source": [
    "<h1>Table of Contents<span class=\"tocSkip\"></span></h1>\n",
    "<div class=\"toc\"><ul class=\"toc-item\"><li><span><a href=\"#Jupyter-Notebook-Set-Up\" data-toc-modified-id=\"Jupyter-Notebook-Set-Up-1\"><span class=\"toc-item-num\">1&nbsp;&nbsp;</span>Jupyter Notebook Set Up</a></span><ul class=\"toc-item\"><li><span><a href=\"#Import-Libraries\" data-toc-modified-id=\"Import-Libraries-1.1\"><span class=\"toc-item-num\">1.1&nbsp;&nbsp;</span>Import Libraries</a></span><ul class=\"toc-item\"><li><span><a href=\"#General-Utility-Libraries\" data-toc-modified-id=\"General-Utility-Libraries-1.1.1\"><span class=\"toc-item-num\">1.1.1&nbsp;&nbsp;</span>General Utility Libraries</a></span></li><li><span><a href=\"#Panda-+-Numpy\" data-toc-modified-id=\"Panda-+-Numpy-1.1.2\"><span class=\"toc-item-num\">1.1.2&nbsp;&nbsp;</span>Panda + Numpy</a></span></li><li><span><a href=\"#Matplotlib-Library\" data-toc-modified-id=\"Matplotlib-Library-1.1.3\"><span class=\"toc-item-num\">1.1.3&nbsp;&nbsp;</span>Matplotlib Library</a></span></li><li><span><a href=\"#Plotly-Libraries\" data-toc-modified-id=\"Plotly-Libraries-1.1.4\"><span class=\"toc-item-num\">1.1.4&nbsp;&nbsp;</span>Plotly Libraries</a></span></li></ul></li></ul></li><li><span><a href=\"#Project-Data-Import,-Analysis-and-Preparation\" data-toc-modified-id=\"Project-Data-Import,-Analysis-and-Preparation-2\"><span class=\"toc-item-num\">2&nbsp;&nbsp;</span>Project Data Import, Analysis and Preparation</a></span><ul class=\"toc-item\"><li><span><a href=\"#Load-and-Sample-Kaggle-H&amp;M-Datasets\" data-toc-modified-id=\"Load-and-Sample-Kaggle-H&amp;M-Datasets-2.1\"><span class=\"toc-item-num\">2.1&nbsp;&nbsp;</span>Load and Sample Kaggle H&amp;M Datasets</a></span><ul class=\"toc-item\"><li><span><a href=\"#Set-Up-File-Paths\" data-toc-modified-id=\"Set-Up-File-Paths-2.1.1\"><span class=\"toc-item-num\">2.1.1&nbsp;&nbsp;</span>Set Up File Paths</a></span></li><li><span><a href=\"#H&amp;M-Transaction-Dataset\" data-toc-modified-id=\"H&amp;M-Transaction-Dataset-2.1.2\"><span class=\"toc-item-num\">2.1.2&nbsp;&nbsp;</span>H&amp;M Transaction Dataset</a></span></li><li><span><a href=\"#H&amp;M-Articles-Dataset\" data-toc-modified-id=\"H&amp;M-Articles-Dataset-2.1.3\"><span class=\"toc-item-num\">2.1.3&nbsp;&nbsp;</span>H&amp;M Articles Dataset</a></span></li><li><span><a href=\"#H&amp;M-Customers-Dataset\" data-toc-modified-id=\"H&amp;M-Customers-Dataset-2.1.4\"><span class=\"toc-item-num\">2.1.4&nbsp;&nbsp;</span>H&amp;M Customers Dataset</a></span></li></ul></li><li><span><a href=\"#Exploratory-Data-Analysis\" data-toc-modified-id=\"Exploratory-Data-Analysis-2.2\"><span class=\"toc-item-num\">2.2&nbsp;&nbsp;</span>Exploratory Data Analysis</a></span><ul class=\"toc-item\"><li><span><a href=\"#H&amp;M-Sampled-Transaction-Dataset\" data-toc-modified-id=\"H&amp;M-Sampled-Transaction-Dataset-2.2.1\"><span class=\"toc-item-num\">2.2.1&nbsp;&nbsp;</span>H&amp;M Sampled Transaction Dataset</a></span></li><li><span><a href=\"#H&amp;M-Sampled-Customer-Dataset\" data-toc-modified-id=\"H&amp;M-Sampled-Customer-Dataset-2.2.2\"><span class=\"toc-item-num\">2.2.2&nbsp;&nbsp;</span>H&amp;M Sampled Customer Dataset</a></span></li><li><span><a href=\"#H&amp;M-Sampled-Articles-Dataset\" data-toc-modified-id=\"H&amp;M-Sampled-Articles-Dataset-2.2.3\"><span class=\"toc-item-num\">2.2.3&nbsp;&nbsp;</span>H&amp;M Sampled Articles Dataset</a></span></li></ul></li><li><span><a href=\"#Data-Preparation\" data-toc-modified-id=\"Data-Preparation-2.3\"><span class=\"toc-item-num\">2.3&nbsp;&nbsp;</span>Data Preparation</a></span><ul class=\"toc-item\"><li><span><a href=\"#Data-Preparation-/-Feature-Enrichment-on-Transaction-Data-(sample)\" data-toc-modified-id=\"Data-Preparation-/-Feature-Enrichment-on-Transaction-Data-(sample)-2.3.1\"><span class=\"toc-item-num\">2.3.1&nbsp;&nbsp;</span>Data Preparation / Feature Enrichment on Transaction Data (sample)</a></span></li><li><span><a href=\"#Data-Preparation-/-Feature-Enrichment-with-Customer-Data-(sample)\" data-toc-modified-id=\"Data-Preparation-/-Feature-Enrichment-with-Customer-Data-(sample)-2.3.2\"><span class=\"toc-item-num\">2.3.2&nbsp;&nbsp;</span>Data Preparation / Feature Enrichment with Customer Data (sample)</a></span></li><li><span><a href=\"#Data-Preparation-/-Feature-Enrichment-with-Articles-Data-(sample)\" data-toc-modified-id=\"Data-Preparation-/-Feature-Enrichment-with-Articles-Data-(sample)-2.3.3\"><span class=\"toc-item-num\">2.3.3&nbsp;&nbsp;</span>Data Preparation / Feature Enrichment with Articles Data (sample)</a></span></li><li><span><a href=\"#Final-Data-Preparation-Steps\" data-toc-modified-id=\"Final-Data-Preparation-Steps-2.3.4\"><span class=\"toc-item-num\">2.3.4&nbsp;&nbsp;</span>Final Data Preparation Steps</a></span></li></ul></li></ul></li><li><span><a href=\"#References\" data-toc-modified-id=\"References-3\"><span class=\"toc-item-num\">3&nbsp;&nbsp;</span>References</a></span></li></ul></div>"
   ]
  },
  {
   "cell_type": "markdown",
   "metadata": {},
   "source": [
    "## Jupyter Notebook Set Up"
   ]
  },
  {
   "cell_type": "markdown",
   "metadata": {},
   "source": [
    "### Import Libraries"
   ]
  },
  {
   "cell_type": "markdown",
   "metadata": {},
   "source": [
    "Note: It is assumed that the matplotlib and plotly library has been installed on the user's machine before it is available for import.\n",
    "\n",
    "```bash\n",
    "> pip install matplotlib\n",
    "> pip install plotly\n",
    "```\n"
   ]
  },
  {
   "cell_type": "markdown",
   "metadata": {},
   "source": [
    "#### General Utility Libraries"
   ]
  },
  {
   "cell_type": "code",
   "execution_count": 1,
   "metadata": {},
   "outputs": [],
   "source": [
    "import os"
   ]
  },
  {
   "cell_type": "markdown",
   "metadata": {},
   "source": [
    "#### Panda + Numpy"
   ]
  },
  {
   "cell_type": "code",
   "execution_count": 2,
   "metadata": {},
   "outputs": [],
   "source": [
    "# Python libraries for data manipulation\n",
    "import numpy as np\n",
    "import pandas as pd"
   ]
  },
  {
   "cell_type": "markdown",
   "metadata": {},
   "source": [
    "Set up additional libraries for graphical presentations. A number of earlier graphs use Matplotlib. In later sections, Plotly graphs are used."
   ]
  },
  {
   "cell_type": "markdown",
   "metadata": {},
   "source": [
    "#### Matplotlib Library"
   ]
  },
  {
   "cell_type": "code",
   "execution_count": 3,
   "metadata": {},
   "outputs": [],
   "source": [
    "import matplotlib.pyplot as plt"
   ]
  },
  {
   "cell_type": "markdown",
   "metadata": {},
   "source": [
    "#### Plotly Libraries"
   ]
  },
  {
   "cell_type": "code",
   "execution_count": 4,
   "metadata": {},
   "outputs": [],
   "source": [
    "# For interactive graphics and global displays\n",
    "import plotly.express as px\n",
    "import plotly.graph_objects as go"
   ]
  },
  {
   "cell_type": "markdown",
   "metadata": {},
   "source": [
    "### <a class=\"tocSkip\">"
   ]
  },
  {
   "cell_type": "code",
   "execution_count": 5,
   "metadata": {},
   "outputs": [],
   "source": [
    "import warnings\n",
    "warnings.filterwarnings(\"ignore\")"
   ]
  },
  {
   "cell_type": "markdown",
   "metadata": {},
   "source": [
    "### <a class=\"tocSkip\">"
   ]
  },
  {
   "cell_type": "markdown",
   "metadata": {},
   "source": [
    "## Project Data Import, Analysis and Preparation"
   ]
  },
  {
   "cell_type": "markdown",
   "metadata": {},
   "source": [
    "### Load and Sample Kaggle H&M Datasets"
   ]
  },
  {
   "cell_type": "markdown",
   "metadata": {},
   "source": [
    "### The assignment starts with a Kaggle H&M Personalised Fashion Recommendations datasets. <a class=\"tocSkip\">"
   ]
  },
  {
   "cell_type": "markdown",
   "metadata": {},
   "source": [
    "#### Set Up File Paths "
   ]
  },
  {
   "cell_type": "code",
   "execution_count": 6,
   "metadata": {},
   "outputs": [],
   "source": [
    "# Set up a Global path file variable to use when loading each dataset\n",
    "Path_To_Inputs = '../input'"
   ]
  },
  {
   "cell_type": "markdown",
   "metadata": {},
   "source": [
    "#### H&M Transaction Dataset "
   ]
  },
  {
   "cell_type": "code",
   "execution_count": 7,
   "metadata": {},
   "outputs": [],
   "source": [
    "# Load H&M Transaction dataset\n",
    "df_trxns = pd.read_csv(os.path.join(Path_To_Inputs,'transactions_train.csv'))"
   ]
  },
  {
   "cell_type": "code",
   "execution_count": 8,
   "metadata": {},
   "outputs": [
    {
     "data": {
      "text/plain": [
       "(31788324, 5)"
      ]
     },
     "execution_count": 8,
     "metadata": {},
     "output_type": "execute_result"
    }
   ],
   "source": [
    "# Display Number of Rows, Number of Columns in Transaction dataset prior to Sampling\n",
    "df_trxns.shape"
   ]
  },
  {
   "cell_type": "code",
   "execution_count": 9,
   "metadata": {},
   "outputs": [],
   "source": [
    "# Extract random sample of Transactions (without replacement) - 0.1% of records\n",
    "df_trxns_sample = df_trxns.sample(frac=0.001, replace=False)"
   ]
  },
  {
   "cell_type": "code",
   "execution_count": 10,
   "metadata": {},
   "outputs": [
    {
     "data": {
      "text/plain": [
       "(31788, 5)"
      ]
     },
     "execution_count": 10,
     "metadata": {},
     "output_type": "execute_result"
    }
   ],
   "source": [
    "# Display Number of Rows, Number of Columns in Transaction dataset after Sampling\n",
    "df_trxns_sample.shape"
   ]
  },
  {
   "cell_type": "markdown",
   "metadata": {},
   "source": [
    "#### H&M Articles Dataset "
   ]
  },
  {
   "cell_type": "code",
   "execution_count": 11,
   "metadata": {},
   "outputs": [],
   "source": [
    "# Read file, located in 'input' folder above this notebook, for articles data - containing meta data on purchasable items.\n",
    "df_Articles = pd.read_csv(os.path.join(Path_To_Inputs,'articles.csv'))"
   ]
  },
  {
   "cell_type": "code",
   "execution_count": 12,
   "metadata": {},
   "outputs": [
    {
     "data": {
      "text/plain": [
       "(105542, 25)"
      ]
     },
     "execution_count": 12,
     "metadata": {},
     "output_type": "execute_result"
    }
   ],
   "source": [
    "# Display Number of Rows, Number of Columns in Articles dataset\n",
    "df_Articles.shape"
   ]
  },
  {
   "cell_type": "code",
   "execution_count": 13,
   "metadata": {},
   "outputs": [],
   "source": [
    "# Display basic file data for the initial Kaggle H&M 'articles' datatset\n",
    "# df_Articles.head()"
   ]
  },
  {
   "cell_type": "code",
   "execution_count": 14,
   "metadata": {},
   "outputs": [],
   "source": [
    "# Extract only the H&M articles contained in the sample Transaction dataset \n",
    "articleIDs_in_Trxn_Sample  = set(df_trxns_sample[\"article_id\"])"
   ]
  },
  {
   "cell_type": "code",
   "execution_count": 15,
   "metadata": {},
   "outputs": [],
   "source": [
    "#Count Article Ids in Transaction Sample\n",
    "#len(articleIDs_in_Trxn_Sample)"
   ]
  },
  {
   "cell_type": "code",
   "execution_count": 16,
   "metadata": {},
   "outputs": [],
   "source": [
    "# Create dataset that only contains H&M articles in the sample Transaction dataset\n",
    "df_articles_sample = df_Articles[df_Articles[\"article_id\"].isin(articleIDs_in_Trxn_Sample)]"
   ]
  },
  {
   "cell_type": "code",
   "execution_count": 17,
   "metadata": {},
   "outputs": [
    {
     "data": {
      "text/plain": [
       "(18276, 25)"
      ]
     },
     "execution_count": 17,
     "metadata": {},
     "output_type": "execute_result"
    }
   ],
   "source": [
    "# Display Number of Rows, Number of Columns in Sample Articles dataset\n",
    "df_articles_sample.shape"
   ]
  },
  {
   "cell_type": "markdown",
   "metadata": {},
   "source": [
    "#### H&M Customers Dataset "
   ]
  },
  {
   "cell_type": "code",
   "execution_count": 18,
   "metadata": {},
   "outputs": [],
   "source": [
    "# Load H&M Customer dataset\n",
    "df_customers = pd.read_csv(os.path.join(Path_To_Inputs,'customers.csv'))"
   ]
  },
  {
   "cell_type": "code",
   "execution_count": 19,
   "metadata": {},
   "outputs": [
    {
     "data": {
      "text/plain": [
       "(1371980, 7)"
      ]
     },
     "execution_count": 19,
     "metadata": {},
     "output_type": "execute_result"
    }
   ],
   "source": [
    "# Display Number of Rows, Number of Columns in Customers dataset prior to Sampling\n",
    "df_customers.shape"
   ]
  },
  {
   "cell_type": "code",
   "execution_count": 20,
   "metadata": {},
   "outputs": [],
   "source": [
    "# Extract only the H&M Customers contained in the sample Transaction dataset \n",
    "custIDs_in_Trxn_Sample  = set(df_trxns_sample[\"customer_id\"])"
   ]
  },
  {
   "cell_type": "code",
   "execution_count": 21,
   "metadata": {},
   "outputs": [
    {
     "data": {
      "text/plain": [
       "30498"
      ]
     },
     "execution_count": 21,
     "metadata": {},
     "output_type": "execute_result"
    }
   ],
   "source": [
    "#Count Customer Ids in Transaction Sample\n",
    "len(custIDs_in_Trxn_Sample)"
   ]
  },
  {
   "cell_type": "code",
   "execution_count": 22,
   "metadata": {},
   "outputs": [],
   "source": [
    "# Create dataset that only contains H&M Customers from the sample Transaction dataset\n",
    "df_customers_sample = df_customers[df_customers[\"customer_id\"].isin(custIDs_in_Trxn_Sample)]"
   ]
  },
  {
   "cell_type": "code",
   "execution_count": 23,
   "metadata": {},
   "outputs": [
    {
     "data": {
      "text/plain": [
       "(30498, 7)"
      ]
     },
     "execution_count": 23,
     "metadata": {},
     "output_type": "execute_result"
    }
   ],
   "source": [
    "# Display Number of Rows, Number of Columns in Sample Customers dataset\n",
    "df_customers_sample.shape"
   ]
  },
  {
   "cell_type": "markdown",
   "metadata": {},
   "source": [
    "###### "
   ]
  },
  {
   "cell_type": "markdown",
   "metadata": {},
   "source": [
    "### Exploratory Data Analysis"
   ]
  },
  {
   "cell_type": "markdown",
   "metadata": {},
   "source": [
    "### Display key data attributes and distributions in Sampled H&M datasets. <a class=\"tocSkip\">"
   ]
  },
  {
   "cell_type": "markdown",
   "metadata": {},
   "source": [
    "#### H&M Sampled Transaction Dataset "
   ]
  },
  {
   "cell_type": "code",
   "execution_count": 24,
   "metadata": {},
   "outputs": [
    {
     "data": {
      "text/html": [
       "<div>\n",
       "<style scoped>\n",
       "    .dataframe tbody tr th:only-of-type {\n",
       "        vertical-align: middle;\n",
       "    }\n",
       "\n",
       "    .dataframe tbody tr th {\n",
       "        vertical-align: top;\n",
       "    }\n",
       "\n",
       "    .dataframe thead th {\n",
       "        text-align: right;\n",
       "    }\n",
       "</style>\n",
       "<table border=\"1\" class=\"dataframe\">\n",
       "  <thead>\n",
       "    <tr style=\"text-align: right;\">\n",
       "      <th></th>\n",
       "      <th>t_dat</th>\n",
       "      <th>customer_id</th>\n",
       "      <th>article_id</th>\n",
       "      <th>price</th>\n",
       "      <th>sales_channel_id</th>\n",
       "    </tr>\n",
       "  </thead>\n",
       "  <tbody>\n",
       "    <tr>\n",
       "      <th>30359303</th>\n",
       "      <td>2020-08-14</td>\n",
       "      <td>bc3808440a540efaa0919b417a5e5ea7598cedc4c72c06...</td>\n",
       "      <td>767255001</td>\n",
       "      <td>0.013034</td>\n",
       "      <td>2</td>\n",
       "    </tr>\n",
       "    <tr>\n",
       "      <th>20055374</th>\n",
       "      <td>2019-12-12</td>\n",
       "      <td>2a3d1c360abaf1291fc67c41610c7ba418f41f324a4d67...</td>\n",
       "      <td>570003070</td>\n",
       "      <td>0.013542</td>\n",
       "      <td>1</td>\n",
       "    </tr>\n",
       "    <tr>\n",
       "      <th>30305376</th>\n",
       "      <td>2020-08-13</td>\n",
       "      <td>45cfe632a4901088fb566eca50a4b0f8d69203ac24f446...</td>\n",
       "      <td>915015001</td>\n",
       "      <td>0.010525</td>\n",
       "      <td>2</td>\n",
       "    </tr>\n",
       "    <tr>\n",
       "      <th>23183120</th>\n",
       "      <td>2020-03-08</td>\n",
       "      <td>1c049d2f4ea081b96343fb7bce10b9f041ca05bd24f8f0...</td>\n",
       "      <td>160442007</td>\n",
       "      <td>0.012492</td>\n",
       "      <td>2</td>\n",
       "    </tr>\n",
       "    <tr>\n",
       "      <th>3837766</th>\n",
       "      <td>2018-12-18</td>\n",
       "      <td>3abbc76fa17ee76fdaaa224f2e01a483994fc0e3eef146...</td>\n",
       "      <td>682520001</td>\n",
       "      <td>0.044051</td>\n",
       "      <td>1</td>\n",
       "    </tr>\n",
       "  </tbody>\n",
       "</table>\n",
       "</div>"
      ],
      "text/plain": [
       "               t_dat                                        customer_id  \\\n",
       "30359303  2020-08-14  bc3808440a540efaa0919b417a5e5ea7598cedc4c72c06...   \n",
       "20055374  2019-12-12  2a3d1c360abaf1291fc67c41610c7ba418f41f324a4d67...   \n",
       "30305376  2020-08-13  45cfe632a4901088fb566eca50a4b0f8d69203ac24f446...   \n",
       "23183120  2020-03-08  1c049d2f4ea081b96343fb7bce10b9f041ca05bd24f8f0...   \n",
       "3837766   2018-12-18  3abbc76fa17ee76fdaaa224f2e01a483994fc0e3eef146...   \n",
       "\n",
       "          article_id     price  sales_channel_id  \n",
       "30359303   767255001  0.013034                 2  \n",
       "20055374   570003070  0.013542                 1  \n",
       "30305376   915015001  0.010525                 2  \n",
       "23183120   160442007  0.012492                 2  \n",
       "3837766    682520001  0.044051                 1  "
      ]
     },
     "execution_count": 24,
     "metadata": {},
     "output_type": "execute_result"
    }
   ],
   "source": [
    "# Display basic column information for the initial Kaggle 'transaction_train' datatset - after Sampling of original dataset\n",
    "df_trxns_sample.head()"
   ]
  },
  {
   "cell_type": "code",
   "execution_count": 25,
   "metadata": {},
   "outputs": [
    {
     "data": {
      "text/plain": [
       "t_dat                object\n",
       "customer_id          object\n",
       "article_id            int64\n",
       "price               float64\n",
       "sales_channel_id      int64\n",
       "dtype: object"
      ]
     },
     "execution_count": 25,
     "metadata": {},
     "output_type": "execute_result"
    }
   ],
   "source": [
    "# Display datatype of colums in original H&M Transaction dataset\n",
    "df_trxns_sample.dtypes"
   ]
  },
  {
   "cell_type": "markdown",
   "metadata": {},
   "source": [
    "#### H&M Sampled Customer Dataset "
   ]
  },
  {
   "cell_type": "code",
   "execution_count": 26,
   "metadata": {},
   "outputs": [
    {
     "data": {
      "text/html": [
       "<div>\n",
       "<style scoped>\n",
       "    .dataframe tbody tr th:only-of-type {\n",
       "        vertical-align: middle;\n",
       "    }\n",
       "\n",
       "    .dataframe tbody tr th {\n",
       "        vertical-align: top;\n",
       "    }\n",
       "\n",
       "    .dataframe thead th {\n",
       "        text-align: right;\n",
       "    }\n",
       "</style>\n",
       "<table border=\"1\" class=\"dataframe\">\n",
       "  <thead>\n",
       "    <tr style=\"text-align: right;\">\n",
       "      <th></th>\n",
       "      <th>customer_id</th>\n",
       "      <th>FN</th>\n",
       "      <th>Active</th>\n",
       "      <th>club_member_status</th>\n",
       "      <th>fashion_news_frequency</th>\n",
       "      <th>age</th>\n",
       "      <th>postal_code</th>\n",
       "    </tr>\n",
       "  </thead>\n",
       "  <tbody>\n",
       "    <tr>\n",
       "      <th>13</th>\n",
       "      <td>00009d946eec3ea54add5ba56d5210ea898def4b46c685...</td>\n",
       "      <td>1.0</td>\n",
       "      <td>1.0</td>\n",
       "      <td>ACTIVE</td>\n",
       "      <td>Regularly</td>\n",
       "      <td>56.0</td>\n",
       "      <td>b31984b20a8c478de38eaf113c581ff64e63c4242e607b...</td>\n",
       "    </tr>\n",
       "    <tr>\n",
       "      <th>21</th>\n",
       "      <td>0000f1c71aafe5963c3d195cf273f7bfd50bbf17761c91...</td>\n",
       "      <td>1.0</td>\n",
       "      <td>1.0</td>\n",
       "      <td>ACTIVE</td>\n",
       "      <td>Regularly</td>\n",
       "      <td>30.0</td>\n",
       "      <td>7c902dca60ee0bd0f9030eefd445d11146e8d24835738a...</td>\n",
       "    </tr>\n",
       "    <tr>\n",
       "      <th>145</th>\n",
       "      <td>0005f3aab821000881d74b72fde2d9b3e4742cf8613668...</td>\n",
       "      <td>1.0</td>\n",
       "      <td>1.0</td>\n",
       "      <td>ACTIVE</td>\n",
       "      <td>Regularly</td>\n",
       "      <td>71.0</td>\n",
       "      <td>43b97ec1f1b9018a03049bac784e3b0fe42b78e7c1e4d7...</td>\n",
       "    </tr>\n",
       "    <tr>\n",
       "      <th>179</th>\n",
       "      <td>00077dbd5c4a4991e092e63893ccf29294a9d5c46e8501...</td>\n",
       "      <td>NaN</td>\n",
       "      <td>NaN</td>\n",
       "      <td>ACTIVE</td>\n",
       "      <td>NONE</td>\n",
       "      <td>23.0</td>\n",
       "      <td>3119ea10ffe5ac3419b9127589a61b33e1ae38ecbb997b...</td>\n",
       "    </tr>\n",
       "    <tr>\n",
       "      <th>287</th>\n",
       "      <td>000d6bc779aec5d6116fbe35804d3efc272042892d032f...</td>\n",
       "      <td>NaN</td>\n",
       "      <td>NaN</td>\n",
       "      <td>ACTIVE</td>\n",
       "      <td>NONE</td>\n",
       "      <td>29.0</td>\n",
       "      <td>e966deb3e32f4182559688aec4e758116229616b173bc0...</td>\n",
       "    </tr>\n",
       "  </tbody>\n",
       "</table>\n",
       "</div>"
      ],
      "text/plain": [
       "                                           customer_id   FN  Active  \\\n",
       "13   00009d946eec3ea54add5ba56d5210ea898def4b46c685...  1.0     1.0   \n",
       "21   0000f1c71aafe5963c3d195cf273f7bfd50bbf17761c91...  1.0     1.0   \n",
       "145  0005f3aab821000881d74b72fde2d9b3e4742cf8613668...  1.0     1.0   \n",
       "179  00077dbd5c4a4991e092e63893ccf29294a9d5c46e8501...  NaN     NaN   \n",
       "287  000d6bc779aec5d6116fbe35804d3efc272042892d032f...  NaN     NaN   \n",
       "\n",
       "    club_member_status fashion_news_frequency   age  \\\n",
       "13              ACTIVE              Regularly  56.0   \n",
       "21              ACTIVE              Regularly  30.0   \n",
       "145             ACTIVE              Regularly  71.0   \n",
       "179             ACTIVE                   NONE  23.0   \n",
       "287             ACTIVE                   NONE  29.0   \n",
       "\n",
       "                                           postal_code  \n",
       "13   b31984b20a8c478de38eaf113c581ff64e63c4242e607b...  \n",
       "21   7c902dca60ee0bd0f9030eefd445d11146e8d24835738a...  \n",
       "145  43b97ec1f1b9018a03049bac784e3b0fe42b78e7c1e4d7...  \n",
       "179  3119ea10ffe5ac3419b9127589a61b33e1ae38ecbb997b...  \n",
       "287  e966deb3e32f4182559688aec4e758116229616b173bc0...  "
      ]
     },
     "execution_count": 26,
     "metadata": {},
     "output_type": "execute_result"
    }
   ],
   "source": [
    "# Display basic column information for the initial Kaggle 'customers' datatset - after Sampling of original dataset\n",
    "df_customers_sample.head()"
   ]
  },
  {
   "cell_type": "code",
   "execution_count": 27,
   "metadata": {},
   "outputs": [
    {
     "data": {
      "text/plain": [
       "customer_id                object\n",
       "FN                        float64\n",
       "Active                    float64\n",
       "club_member_status         object\n",
       "fashion_news_frequency     object\n",
       "age                       float64\n",
       "postal_code                object\n",
       "dtype: object"
      ]
     },
     "execution_count": 27,
     "metadata": {},
     "output_type": "execute_result"
    }
   ],
   "source": [
    "df_customers_sample.dtypes"
   ]
  },
  {
   "cell_type": "markdown",
   "metadata": {},
   "source": [
    "#### H&M Sampled Articles Dataset "
   ]
  },
  {
   "cell_type": "code",
   "execution_count": 28,
   "metadata": {},
   "outputs": [
    {
     "data": {
      "text/html": [
       "<div>\n",
       "<style scoped>\n",
       "    .dataframe tbody tr th:only-of-type {\n",
       "        vertical-align: middle;\n",
       "    }\n",
       "\n",
       "    .dataframe tbody tr th {\n",
       "        vertical-align: top;\n",
       "    }\n",
       "\n",
       "    .dataframe thead th {\n",
       "        text-align: right;\n",
       "    }\n",
       "</style>\n",
       "<table border=\"1\" class=\"dataframe\">\n",
       "  <thead>\n",
       "    <tr style=\"text-align: right;\">\n",
       "      <th></th>\n",
       "      <th>article_id</th>\n",
       "      <th>product_code</th>\n",
       "      <th>prod_name</th>\n",
       "      <th>product_type_no</th>\n",
       "      <th>product_type_name</th>\n",
       "      <th>product_group_name</th>\n",
       "      <th>graphical_appearance_no</th>\n",
       "      <th>graphical_appearance_name</th>\n",
       "      <th>colour_group_code</th>\n",
       "      <th>colour_group_name</th>\n",
       "      <th>...</th>\n",
       "      <th>department_name</th>\n",
       "      <th>index_code</th>\n",
       "      <th>index_name</th>\n",
       "      <th>index_group_no</th>\n",
       "      <th>index_group_name</th>\n",
       "      <th>section_no</th>\n",
       "      <th>section_name</th>\n",
       "      <th>garment_group_no</th>\n",
       "      <th>garment_group_name</th>\n",
       "      <th>detail_desc</th>\n",
       "    </tr>\n",
       "  </thead>\n",
       "  <tbody>\n",
       "    <tr>\n",
       "      <th>0</th>\n",
       "      <td>108775015</td>\n",
       "      <td>108775</td>\n",
       "      <td>Strap top</td>\n",
       "      <td>253</td>\n",
       "      <td>Vest top</td>\n",
       "      <td>Garment Upper body</td>\n",
       "      <td>1010016</td>\n",
       "      <td>Solid</td>\n",
       "      <td>9</td>\n",
       "      <td>Black</td>\n",
       "      <td>...</td>\n",
       "      <td>Jersey Basic</td>\n",
       "      <td>A</td>\n",
       "      <td>Ladieswear</td>\n",
       "      <td>1</td>\n",
       "      <td>Ladieswear</td>\n",
       "      <td>16</td>\n",
       "      <td>Womens Everyday Basics</td>\n",
       "      <td>1002</td>\n",
       "      <td>Jersey Basic</td>\n",
       "      <td>Jersey top with narrow shoulder straps.</td>\n",
       "    </tr>\n",
       "    <tr>\n",
       "      <th>1</th>\n",
       "      <td>108775044</td>\n",
       "      <td>108775</td>\n",
       "      <td>Strap top</td>\n",
       "      <td>253</td>\n",
       "      <td>Vest top</td>\n",
       "      <td>Garment Upper body</td>\n",
       "      <td>1010016</td>\n",
       "      <td>Solid</td>\n",
       "      <td>10</td>\n",
       "      <td>White</td>\n",
       "      <td>...</td>\n",
       "      <td>Jersey Basic</td>\n",
       "      <td>A</td>\n",
       "      <td>Ladieswear</td>\n",
       "      <td>1</td>\n",
       "      <td>Ladieswear</td>\n",
       "      <td>16</td>\n",
       "      <td>Womens Everyday Basics</td>\n",
       "      <td>1002</td>\n",
       "      <td>Jersey Basic</td>\n",
       "      <td>Jersey top with narrow shoulder straps.</td>\n",
       "    </tr>\n",
       "    <tr>\n",
       "      <th>4</th>\n",
       "      <td>110065002</td>\n",
       "      <td>110065</td>\n",
       "      <td>OP T-shirt (Idro)</td>\n",
       "      <td>306</td>\n",
       "      <td>Bra</td>\n",
       "      <td>Underwear</td>\n",
       "      <td>1010016</td>\n",
       "      <td>Solid</td>\n",
       "      <td>10</td>\n",
       "      <td>White</td>\n",
       "      <td>...</td>\n",
       "      <td>Clean Lingerie</td>\n",
       "      <td>B</td>\n",
       "      <td>Lingeries/Tights</td>\n",
       "      <td>1</td>\n",
       "      <td>Ladieswear</td>\n",
       "      <td>61</td>\n",
       "      <td>Womens Lingerie</td>\n",
       "      <td>1017</td>\n",
       "      <td>Under-, Nightwear</td>\n",
       "      <td>Microfibre T-shirt bra with underwired, moulde...</td>\n",
       "    </tr>\n",
       "    <tr>\n",
       "      <th>5</th>\n",
       "      <td>110065011</td>\n",
       "      <td>110065</td>\n",
       "      <td>OP T-shirt (Idro)</td>\n",
       "      <td>306</td>\n",
       "      <td>Bra</td>\n",
       "      <td>Underwear</td>\n",
       "      <td>1010016</td>\n",
       "      <td>Solid</td>\n",
       "      <td>12</td>\n",
       "      <td>Light Beige</td>\n",
       "      <td>...</td>\n",
       "      <td>Clean Lingerie</td>\n",
       "      <td>B</td>\n",
       "      <td>Lingeries/Tights</td>\n",
       "      <td>1</td>\n",
       "      <td>Ladieswear</td>\n",
       "      <td>61</td>\n",
       "      <td>Womens Lingerie</td>\n",
       "      <td>1017</td>\n",
       "      <td>Under-, Nightwear</td>\n",
       "      <td>Microfibre T-shirt bra with underwired, moulde...</td>\n",
       "    </tr>\n",
       "    <tr>\n",
       "      <th>6</th>\n",
       "      <td>111565001</td>\n",
       "      <td>111565</td>\n",
       "      <td>20 den 1p Stockings</td>\n",
       "      <td>304</td>\n",
       "      <td>Underwear Tights</td>\n",
       "      <td>Socks &amp; Tights</td>\n",
       "      <td>1010016</td>\n",
       "      <td>Solid</td>\n",
       "      <td>9</td>\n",
       "      <td>Black</td>\n",
       "      <td>...</td>\n",
       "      <td>Tights basic</td>\n",
       "      <td>B</td>\n",
       "      <td>Lingeries/Tights</td>\n",
       "      <td>1</td>\n",
       "      <td>Ladieswear</td>\n",
       "      <td>62</td>\n",
       "      <td>Womens Nightwear, Socks &amp; Tigh</td>\n",
       "      <td>1021</td>\n",
       "      <td>Socks and Tights</td>\n",
       "      <td>Semi shiny nylon stockings with a wide, reinfo...</td>\n",
       "    </tr>\n",
       "  </tbody>\n",
       "</table>\n",
       "<p>5 rows × 25 columns</p>\n",
       "</div>"
      ],
      "text/plain": [
       "   article_id  product_code            prod_name  product_type_no  \\\n",
       "0   108775015        108775            Strap top              253   \n",
       "1   108775044        108775            Strap top              253   \n",
       "4   110065002        110065    OP T-shirt (Idro)              306   \n",
       "5   110065011        110065    OP T-shirt (Idro)              306   \n",
       "6   111565001        111565  20 den 1p Stockings              304   \n",
       "\n",
       "  product_type_name  product_group_name  graphical_appearance_no  \\\n",
       "0          Vest top  Garment Upper body                  1010016   \n",
       "1          Vest top  Garment Upper body                  1010016   \n",
       "4               Bra           Underwear                  1010016   \n",
       "5               Bra           Underwear                  1010016   \n",
       "6  Underwear Tights      Socks & Tights                  1010016   \n",
       "\n",
       "  graphical_appearance_name  colour_group_code colour_group_name  ...  \\\n",
       "0                     Solid                  9             Black  ...   \n",
       "1                     Solid                 10             White  ...   \n",
       "4                     Solid                 10             White  ...   \n",
       "5                     Solid                 12       Light Beige  ...   \n",
       "6                     Solid                  9             Black  ...   \n",
       "\n",
       "   department_name index_code        index_name index_group_no  \\\n",
       "0     Jersey Basic          A        Ladieswear              1   \n",
       "1     Jersey Basic          A        Ladieswear              1   \n",
       "4   Clean Lingerie          B  Lingeries/Tights              1   \n",
       "5   Clean Lingerie          B  Lingeries/Tights              1   \n",
       "6     Tights basic          B  Lingeries/Tights              1   \n",
       "\n",
       "   index_group_name section_no                    section_name  \\\n",
       "0        Ladieswear         16          Womens Everyday Basics   \n",
       "1        Ladieswear         16          Womens Everyday Basics   \n",
       "4        Ladieswear         61                 Womens Lingerie   \n",
       "5        Ladieswear         61                 Womens Lingerie   \n",
       "6        Ladieswear         62  Womens Nightwear, Socks & Tigh   \n",
       "\n",
       "  garment_group_no  garment_group_name  \\\n",
       "0             1002        Jersey Basic   \n",
       "1             1002        Jersey Basic   \n",
       "4             1017   Under-, Nightwear   \n",
       "5             1017   Under-, Nightwear   \n",
       "6             1021    Socks and Tights   \n",
       "\n",
       "                                         detail_desc  \n",
       "0            Jersey top with narrow shoulder straps.  \n",
       "1            Jersey top with narrow shoulder straps.  \n",
       "4  Microfibre T-shirt bra with underwired, moulde...  \n",
       "5  Microfibre T-shirt bra with underwired, moulde...  \n",
       "6  Semi shiny nylon stockings with a wide, reinfo...  \n",
       "\n",
       "[5 rows x 25 columns]"
      ]
     },
     "execution_count": 28,
     "metadata": {},
     "output_type": "execute_result"
    }
   ],
   "source": [
    "# Display basic column information for the initial Kaggle 'article' datatset - after Sampling of original dataset\n",
    "df_articles_sample.head()"
   ]
  },
  {
   "cell_type": "markdown",
   "metadata": {},
   "source": [
    "###### "
   ]
  },
  {
   "cell_type": "markdown",
   "metadata": {},
   "source": [
    "### Data Preparation"
   ]
  },
  {
   "cell_type": "markdown",
   "metadata": {},
   "source": [
    "### Construct a dataset upon which to build ML models. <a class=\"tocSkip\">"
   ]
  },
  {
   "cell_type": "markdown",
   "metadata": {},
   "source": [
    "### Begin with Transaction Dataset (sampled) and merge in customer and article data. <a class=\"tocSkip\">"
   ]
  },
  {
   "cell_type": "markdown",
   "metadata": {},
   "source": [
    "#### Data Preparation / Feature Enrichment on Transaction Data (sample)"
   ]
  },
  {
   "cell_type": "code",
   "execution_count": 96,
   "metadata": {},
   "outputs": [],
   "source": [
    "# Create new dataset for modelling. Initial basis for new dataset is the sampled transaction dataset.\n",
    "df_HM_CustTrxn = df_trxns_sample"
   ]
  },
  {
   "cell_type": "code",
   "execution_count": 97,
   "metadata": {},
   "outputs": [
    {
     "data": {
      "text/html": [
       "<div>\n",
       "<style scoped>\n",
       "    .dataframe tbody tr th:only-of-type {\n",
       "        vertical-align: middle;\n",
       "    }\n",
       "\n",
       "    .dataframe tbody tr th {\n",
       "        vertical-align: top;\n",
       "    }\n",
       "\n",
       "    .dataframe thead th {\n",
       "        text-align: right;\n",
       "    }\n",
       "</style>\n",
       "<table border=\"1\" class=\"dataframe\">\n",
       "  <thead>\n",
       "    <tr style=\"text-align: right;\">\n",
       "      <th></th>\n",
       "      <th>t_dat</th>\n",
       "      <th>customer_id</th>\n",
       "      <th>article_id</th>\n",
       "      <th>price</th>\n",
       "      <th>sales_channel_id</th>\n",
       "      <th>txn_year</th>\n",
       "      <th>txn_mth</th>\n",
       "      <th>txn_day</th>\n",
       "    </tr>\n",
       "  </thead>\n",
       "  <tbody>\n",
       "    <tr>\n",
       "      <th>30359303</th>\n",
       "      <td>2020-08-14</td>\n",
       "      <td>bc3808440a540efaa0919b417a5e5ea7598cedc4c72c06...</td>\n",
       "      <td>767255001</td>\n",
       "      <td>0.013034</td>\n",
       "      <td>2</td>\n",
       "      <td>2020</td>\n",
       "      <td>08</td>\n",
       "      <td>14</td>\n",
       "    </tr>\n",
       "    <tr>\n",
       "      <th>20055374</th>\n",
       "      <td>2019-12-12</td>\n",
       "      <td>2a3d1c360abaf1291fc67c41610c7ba418f41f324a4d67...</td>\n",
       "      <td>570003070</td>\n",
       "      <td>0.013542</td>\n",
       "      <td>1</td>\n",
       "      <td>2019</td>\n",
       "      <td>12</td>\n",
       "      <td>12</td>\n",
       "    </tr>\n",
       "    <tr>\n",
       "      <th>30305376</th>\n",
       "      <td>2020-08-13</td>\n",
       "      <td>45cfe632a4901088fb566eca50a4b0f8d69203ac24f446...</td>\n",
       "      <td>915015001</td>\n",
       "      <td>0.010525</td>\n",
       "      <td>2</td>\n",
       "      <td>2020</td>\n",
       "      <td>08</td>\n",
       "      <td>13</td>\n",
       "    </tr>\n",
       "    <tr>\n",
       "      <th>23183120</th>\n",
       "      <td>2020-03-08</td>\n",
       "      <td>1c049d2f4ea081b96343fb7bce10b9f041ca05bd24f8f0...</td>\n",
       "      <td>160442007</td>\n",
       "      <td>0.012492</td>\n",
       "      <td>2</td>\n",
       "      <td>2020</td>\n",
       "      <td>03</td>\n",
       "      <td>08</td>\n",
       "    </tr>\n",
       "    <tr>\n",
       "      <th>3837766</th>\n",
       "      <td>2018-12-18</td>\n",
       "      <td>3abbc76fa17ee76fdaaa224f2e01a483994fc0e3eef146...</td>\n",
       "      <td>682520001</td>\n",
       "      <td>0.044051</td>\n",
       "      <td>1</td>\n",
       "      <td>2018</td>\n",
       "      <td>12</td>\n",
       "      <td>18</td>\n",
       "    </tr>\n",
       "  </tbody>\n",
       "</table>\n",
       "</div>"
      ],
      "text/plain": [
       "              t_dat                                        customer_id  \\\n",
       "30359303 2020-08-14  bc3808440a540efaa0919b417a5e5ea7598cedc4c72c06...   \n",
       "20055374 2019-12-12  2a3d1c360abaf1291fc67c41610c7ba418f41f324a4d67...   \n",
       "30305376 2020-08-13  45cfe632a4901088fb566eca50a4b0f8d69203ac24f446...   \n",
       "23183120 2020-03-08  1c049d2f4ea081b96343fb7bce10b9f041ca05bd24f8f0...   \n",
       "3837766  2018-12-18  3abbc76fa17ee76fdaaa224f2e01a483994fc0e3eef146...   \n",
       "\n",
       "          article_id     price  sales_channel_id txn_year txn_mth txn_day  \n",
       "30359303   767255001  0.013034                 2     2020      08      14  \n",
       "20055374   570003070  0.013542                 1     2019      12      12  \n",
       "30305376   915015001  0.010525                 2     2020      08      13  \n",
       "23183120   160442007  0.012492                 2     2020      03      08  \n",
       "3837766    682520001  0.044051                 1     2018      12      18  "
      ]
     },
     "execution_count": 97,
     "metadata": {},
     "output_type": "execute_result"
    }
   ],
   "source": [
    "df_HM_CustTrxn.head()"
   ]
  },
  {
   "cell_type": "code",
   "execution_count": 98,
   "metadata": {},
   "outputs": [],
   "source": [
    "# Decompose Datetime information \n",
    "df_HM_CustTrxn['t_dat'] = pd.to_datetime(df_HM_CustTrxn['t_dat'], format=\"%Y-%m-%d\")\n",
    "\n",
    "# Add Column for Transaction Year\n",
    "df_HM_CustTrxn['txn_year'] = df_HM_CustTrxn['t_dat'].dt.strftime('%Y')\n",
    "\n",
    "# Add Column for Transaction Month\n",
    "df_HM_CustTrxn['txn_mth'] = df_HM_CustTrxn['t_dat'].dt.strftime('%m')\n",
    "\n",
    "# Add Column for Transaction Day\n",
    "df_HM_CustTrxn['txn_day'] = df_HM_CustTrxn['t_dat'].dt.strftime('%d')"
   ]
  },
  {
   "cell_type": "code",
   "execution_count": 99,
   "metadata": {},
   "outputs": [],
   "source": [
    "# Filter out column to drop timestamp attribute\n",
    "df_HM_CustTrxn = df_HM_CustTrxn.iloc[:,1:8]"
   ]
  },
  {
   "cell_type": "code",
   "execution_count": 100,
   "metadata": {},
   "outputs": [
    {
     "data": {
      "text/html": [
       "<div>\n",
       "<style scoped>\n",
       "    .dataframe tbody tr th:only-of-type {\n",
       "        vertical-align: middle;\n",
       "    }\n",
       "\n",
       "    .dataframe tbody tr th {\n",
       "        vertical-align: top;\n",
       "    }\n",
       "\n",
       "    .dataframe thead th {\n",
       "        text-align: right;\n",
       "    }\n",
       "</style>\n",
       "<table border=\"1\" class=\"dataframe\">\n",
       "  <thead>\n",
       "    <tr style=\"text-align: right;\">\n",
       "      <th></th>\n",
       "      <th>customer_id</th>\n",
       "      <th>article_id</th>\n",
       "      <th>price</th>\n",
       "      <th>sales_channel_id</th>\n",
       "      <th>txn_year</th>\n",
       "      <th>txn_mth</th>\n",
       "      <th>txn_day</th>\n",
       "    </tr>\n",
       "  </thead>\n",
       "  <tbody>\n",
       "    <tr>\n",
       "      <th>30359303</th>\n",
       "      <td>bc3808440a540efaa0919b417a5e5ea7598cedc4c72c06...</td>\n",
       "      <td>767255001</td>\n",
       "      <td>0.013034</td>\n",
       "      <td>2</td>\n",
       "      <td>2020</td>\n",
       "      <td>08</td>\n",
       "      <td>14</td>\n",
       "    </tr>\n",
       "    <tr>\n",
       "      <th>20055374</th>\n",
       "      <td>2a3d1c360abaf1291fc67c41610c7ba418f41f324a4d67...</td>\n",
       "      <td>570003070</td>\n",
       "      <td>0.013542</td>\n",
       "      <td>1</td>\n",
       "      <td>2019</td>\n",
       "      <td>12</td>\n",
       "      <td>12</td>\n",
       "    </tr>\n",
       "    <tr>\n",
       "      <th>30305376</th>\n",
       "      <td>45cfe632a4901088fb566eca50a4b0f8d69203ac24f446...</td>\n",
       "      <td>915015001</td>\n",
       "      <td>0.010525</td>\n",
       "      <td>2</td>\n",
       "      <td>2020</td>\n",
       "      <td>08</td>\n",
       "      <td>13</td>\n",
       "    </tr>\n",
       "    <tr>\n",
       "      <th>23183120</th>\n",
       "      <td>1c049d2f4ea081b96343fb7bce10b9f041ca05bd24f8f0...</td>\n",
       "      <td>160442007</td>\n",
       "      <td>0.012492</td>\n",
       "      <td>2</td>\n",
       "      <td>2020</td>\n",
       "      <td>03</td>\n",
       "      <td>08</td>\n",
       "    </tr>\n",
       "    <tr>\n",
       "      <th>3837766</th>\n",
       "      <td>3abbc76fa17ee76fdaaa224f2e01a483994fc0e3eef146...</td>\n",
       "      <td>682520001</td>\n",
       "      <td>0.044051</td>\n",
       "      <td>1</td>\n",
       "      <td>2018</td>\n",
       "      <td>12</td>\n",
       "      <td>18</td>\n",
       "    </tr>\n",
       "  </tbody>\n",
       "</table>\n",
       "</div>"
      ],
      "text/plain": [
       "                                                customer_id  article_id  \\\n",
       "30359303  bc3808440a540efaa0919b417a5e5ea7598cedc4c72c06...   767255001   \n",
       "20055374  2a3d1c360abaf1291fc67c41610c7ba418f41f324a4d67...   570003070   \n",
       "30305376  45cfe632a4901088fb566eca50a4b0f8d69203ac24f446...   915015001   \n",
       "23183120  1c049d2f4ea081b96343fb7bce10b9f041ca05bd24f8f0...   160442007   \n",
       "3837766   3abbc76fa17ee76fdaaa224f2e01a483994fc0e3eef146...   682520001   \n",
       "\n",
       "             price  sales_channel_id txn_year txn_mth txn_day  \n",
       "30359303  0.013034                 2     2020      08      14  \n",
       "20055374  0.013542                 1     2019      12      12  \n",
       "30305376  0.010525                 2     2020      08      13  \n",
       "23183120  0.012492                 2     2020      03      08  \n",
       "3837766   0.044051                 1     2018      12      18  "
      ]
     },
     "execution_count": 100,
     "metadata": {},
     "output_type": "execute_result"
    }
   ],
   "source": [
    "df_HM_CustTrxn.head()"
   ]
  },
  {
   "cell_type": "code",
   "execution_count": 101,
   "metadata": {},
   "outputs": [
    {
     "data": {
      "text/plain": [
       "customer_id          object\n",
       "article_id            int64\n",
       "price               float64\n",
       "sales_channel_id      int64\n",
       "txn_year             object\n",
       "txn_mth              object\n",
       "txn_day              object\n",
       "dtype: object"
      ]
     },
     "execution_count": 101,
     "metadata": {},
     "output_type": "execute_result"
    }
   ],
   "source": [
    "df_HM_CustTrxn.dtypes"
   ]
  },
  {
   "cell_type": "code",
   "execution_count": 102,
   "metadata": {},
   "outputs": [
    {
     "name": "stdout",
     "output_type": "stream",
     "text": [
      "Any Null Values in the Trxn (sample) dataframe? \n",
      " customer_id         False\n",
      "article_id          False\n",
      "price               False\n",
      "sales_channel_id    False\n",
      "txn_year            False\n",
      "txn_mth             False\n",
      "txn_day             False\n",
      "dtype: bool\n"
     ]
    },
    {
     "data": {
      "text/plain": [
       "[None]"
      ]
     },
     "execution_count": 102,
     "metadata": {},
     "output_type": "execute_result"
    }
   ],
   "source": [
    "# Check for null values in the Transaction Dataframe\n",
    "[print('Any Null Values in the Trxn (sample) dataframe?','\\n' ,df_HM_CustTrxn.isnull().any())]"
   ]
  },
  {
   "cell_type": "markdown",
   "metadata": {},
   "source": [
    "#### Data Preparation / Feature Enrichment with Customer Data (sample)"
   ]
  },
  {
   "cell_type": "code",
   "execution_count": 103,
   "metadata": {},
   "outputs": [
    {
     "data": {
      "text/plain": [
       "(31788, 7)"
      ]
     },
     "execution_count": 103,
     "metadata": {},
     "output_type": "execute_result"
    }
   ],
   "source": [
    "# Confirm dimensions of Trxn (sample) dataframe BEFORE merging with Customer data\n",
    "df_HM_CustTrxn.shape"
   ]
  },
  {
   "cell_type": "markdown",
   "metadata": {},
   "source": [
    "#### Merge Customer Attributes into the Trxn (Sample) Dataframe. <a class=\"tocSkip\">"
   ]
  },
  {
   "cell_type": "code",
   "execution_count": 104,
   "metadata": {},
   "outputs": [],
   "source": [
    "# Merge Customer atributes from the Customer dataset based on a join with the 'customer_id' field\n",
    "df_HM_CustTrxn = pd.merge(df_HM_CustTrxn, df_customers_sample, how=\"left\", on=[\"customer_id\"])"
   ]
  },
  {
   "cell_type": "code",
   "execution_count": 105,
   "metadata": {},
   "outputs": [
    {
     "data": {
      "text/plain": [
       "(31788, 13)"
      ]
     },
     "execution_count": 105,
     "metadata": {},
     "output_type": "execute_result"
    }
   ],
   "source": [
    "# Confirm dimensions of Trxn (sample) dataframe AFTER merging with Customer data\n",
    "df_HM_CustTrxn.shape"
   ]
  },
  {
   "cell_type": "code",
   "execution_count": 106,
   "metadata": {},
   "outputs": [
    {
     "data": {
      "text/html": [
       "<div>\n",
       "<style scoped>\n",
       "    .dataframe tbody tr th:only-of-type {\n",
       "        vertical-align: middle;\n",
       "    }\n",
       "\n",
       "    .dataframe tbody tr th {\n",
       "        vertical-align: top;\n",
       "    }\n",
       "\n",
       "    .dataframe thead th {\n",
       "        text-align: right;\n",
       "    }\n",
       "</style>\n",
       "<table border=\"1\" class=\"dataframe\">\n",
       "  <thead>\n",
       "    <tr style=\"text-align: right;\">\n",
       "      <th></th>\n",
       "      <th>customer_id</th>\n",
       "      <th>article_id</th>\n",
       "      <th>price</th>\n",
       "      <th>sales_channel_id</th>\n",
       "      <th>txn_year</th>\n",
       "      <th>txn_mth</th>\n",
       "      <th>txn_day</th>\n",
       "      <th>FN</th>\n",
       "      <th>Active</th>\n",
       "      <th>club_member_status</th>\n",
       "      <th>fashion_news_frequency</th>\n",
       "      <th>age</th>\n",
       "      <th>postal_code</th>\n",
       "    </tr>\n",
       "  </thead>\n",
       "  <tbody>\n",
       "    <tr>\n",
       "      <th>0</th>\n",
       "      <td>bc3808440a540efaa0919b417a5e5ea7598cedc4c72c06...</td>\n",
       "      <td>767255001</td>\n",
       "      <td>0.013034</td>\n",
       "      <td>2</td>\n",
       "      <td>2020</td>\n",
       "      <td>08</td>\n",
       "      <td>14</td>\n",
       "      <td>NaN</td>\n",
       "      <td>NaN</td>\n",
       "      <td>ACTIVE</td>\n",
       "      <td>NONE</td>\n",
       "      <td>40.0</td>\n",
       "      <td>3add71dc80aee09ae992664829cdf0eedf6fec3f777ca4...</td>\n",
       "    </tr>\n",
       "    <tr>\n",
       "      <th>1</th>\n",
       "      <td>2a3d1c360abaf1291fc67c41610c7ba418f41f324a4d67...</td>\n",
       "      <td>570003070</td>\n",
       "      <td>0.013542</td>\n",
       "      <td>1</td>\n",
       "      <td>2019</td>\n",
       "      <td>12</td>\n",
       "      <td>12</td>\n",
       "      <td>1.0</td>\n",
       "      <td>1.0</td>\n",
       "      <td>ACTIVE</td>\n",
       "      <td>Regularly</td>\n",
       "      <td>55.0</td>\n",
       "      <td>1c3a326ca42b0f98d28c70b8c42d48d6bd70420c76cd2b...</td>\n",
       "    </tr>\n",
       "    <tr>\n",
       "      <th>2</th>\n",
       "      <td>45cfe632a4901088fb566eca50a4b0f8d69203ac24f446...</td>\n",
       "      <td>915015001</td>\n",
       "      <td>0.010525</td>\n",
       "      <td>2</td>\n",
       "      <td>2020</td>\n",
       "      <td>08</td>\n",
       "      <td>13</td>\n",
       "      <td>1.0</td>\n",
       "      <td>1.0</td>\n",
       "      <td>ACTIVE</td>\n",
       "      <td>Regularly</td>\n",
       "      <td>27.0</td>\n",
       "      <td>ba297225cbc5b04bb4ebc9bc080cdd47f998fecaa5ed60...</td>\n",
       "    </tr>\n",
       "    <tr>\n",
       "      <th>3</th>\n",
       "      <td>1c049d2f4ea081b96343fb7bce10b9f041ca05bd24f8f0...</td>\n",
       "      <td>160442007</td>\n",
       "      <td>0.012492</td>\n",
       "      <td>2</td>\n",
       "      <td>2020</td>\n",
       "      <td>03</td>\n",
       "      <td>08</td>\n",
       "      <td>1.0</td>\n",
       "      <td>1.0</td>\n",
       "      <td>ACTIVE</td>\n",
       "      <td>Regularly</td>\n",
       "      <td>53.0</td>\n",
       "      <td>300ddf111872faf3d78487821b1f154834445f719948a1...</td>\n",
       "    </tr>\n",
       "    <tr>\n",
       "      <th>4</th>\n",
       "      <td>3abbc76fa17ee76fdaaa224f2e01a483994fc0e3eef146...</td>\n",
       "      <td>682520001</td>\n",
       "      <td>0.044051</td>\n",
       "      <td>1</td>\n",
       "      <td>2018</td>\n",
       "      <td>12</td>\n",
       "      <td>18</td>\n",
       "      <td>1.0</td>\n",
       "      <td>1.0</td>\n",
       "      <td>ACTIVE</td>\n",
       "      <td>Regularly</td>\n",
       "      <td>46.0</td>\n",
       "      <td>3e2b21f81e0e680a9e29c6958bf6acb0733dd1e8788f27...</td>\n",
       "    </tr>\n",
       "  </tbody>\n",
       "</table>\n",
       "</div>"
      ],
      "text/plain": [
       "                                         customer_id  article_id     price  \\\n",
       "0  bc3808440a540efaa0919b417a5e5ea7598cedc4c72c06...   767255001  0.013034   \n",
       "1  2a3d1c360abaf1291fc67c41610c7ba418f41f324a4d67...   570003070  0.013542   \n",
       "2  45cfe632a4901088fb566eca50a4b0f8d69203ac24f446...   915015001  0.010525   \n",
       "3  1c049d2f4ea081b96343fb7bce10b9f041ca05bd24f8f0...   160442007  0.012492   \n",
       "4  3abbc76fa17ee76fdaaa224f2e01a483994fc0e3eef146...   682520001  0.044051   \n",
       "\n",
       "   sales_channel_id txn_year txn_mth txn_day   FN  Active club_member_status  \\\n",
       "0                 2     2020      08      14  NaN     NaN             ACTIVE   \n",
       "1                 1     2019      12      12  1.0     1.0             ACTIVE   \n",
       "2                 2     2020      08      13  1.0     1.0             ACTIVE   \n",
       "3                 2     2020      03      08  1.0     1.0             ACTIVE   \n",
       "4                 1     2018      12      18  1.0     1.0             ACTIVE   \n",
       "\n",
       "  fashion_news_frequency   age  \\\n",
       "0                   NONE  40.0   \n",
       "1              Regularly  55.0   \n",
       "2              Regularly  27.0   \n",
       "3              Regularly  53.0   \n",
       "4              Regularly  46.0   \n",
       "\n",
       "                                         postal_code  \n",
       "0  3add71dc80aee09ae992664829cdf0eedf6fec3f777ca4...  \n",
       "1  1c3a326ca42b0f98d28c70b8c42d48d6bd70420c76cd2b...  \n",
       "2  ba297225cbc5b04bb4ebc9bc080cdd47f998fecaa5ed60...  \n",
       "3  300ddf111872faf3d78487821b1f154834445f719948a1...  \n",
       "4  3e2b21f81e0e680a9e29c6958bf6acb0733dd1e8788f27...  "
      ]
     },
     "execution_count": 106,
     "metadata": {},
     "output_type": "execute_result"
    }
   ],
   "source": [
    "df_HM_CustTrxn.head()"
   ]
  },
  {
   "cell_type": "code",
   "execution_count": 107,
   "metadata": {},
   "outputs": [],
   "source": [
    "# Filter out other Customer specific attributes apart from; age + fashion_news_frequency + club_member_status + postal code\n",
    "# There are very many missing values in the other Customer dataset columns, so these will be ignored\n",
    "df_HM_CustTrxn = df_HM_CustTrxn.iloc[:, [0, 1, 2, 3, 4, 5, 6, 9, 10, 11, 12]]"
   ]
  },
  {
   "cell_type": "code",
   "execution_count": 108,
   "metadata": {},
   "outputs": [
    {
     "data": {
      "text/html": [
       "<div>\n",
       "<style scoped>\n",
       "    .dataframe tbody tr th:only-of-type {\n",
       "        vertical-align: middle;\n",
       "    }\n",
       "\n",
       "    .dataframe tbody tr th {\n",
       "        vertical-align: top;\n",
       "    }\n",
       "\n",
       "    .dataframe thead th {\n",
       "        text-align: right;\n",
       "    }\n",
       "</style>\n",
       "<table border=\"1\" class=\"dataframe\">\n",
       "  <thead>\n",
       "    <tr style=\"text-align: right;\">\n",
       "      <th></th>\n",
       "      <th>customer_id</th>\n",
       "      <th>article_id</th>\n",
       "      <th>price</th>\n",
       "      <th>sales_channel_id</th>\n",
       "      <th>txn_year</th>\n",
       "      <th>txn_mth</th>\n",
       "      <th>txn_day</th>\n",
       "      <th>club_member_status</th>\n",
       "      <th>fashion_news_frequency</th>\n",
       "      <th>age</th>\n",
       "      <th>postal_code</th>\n",
       "    </tr>\n",
       "  </thead>\n",
       "  <tbody>\n",
       "    <tr>\n",
       "      <th>0</th>\n",
       "      <td>bc3808440a540efaa0919b417a5e5ea7598cedc4c72c06...</td>\n",
       "      <td>767255001</td>\n",
       "      <td>0.013034</td>\n",
       "      <td>2</td>\n",
       "      <td>2020</td>\n",
       "      <td>08</td>\n",
       "      <td>14</td>\n",
       "      <td>ACTIVE</td>\n",
       "      <td>NONE</td>\n",
       "      <td>40.0</td>\n",
       "      <td>3add71dc80aee09ae992664829cdf0eedf6fec3f777ca4...</td>\n",
       "    </tr>\n",
       "    <tr>\n",
       "      <th>1</th>\n",
       "      <td>2a3d1c360abaf1291fc67c41610c7ba418f41f324a4d67...</td>\n",
       "      <td>570003070</td>\n",
       "      <td>0.013542</td>\n",
       "      <td>1</td>\n",
       "      <td>2019</td>\n",
       "      <td>12</td>\n",
       "      <td>12</td>\n",
       "      <td>ACTIVE</td>\n",
       "      <td>Regularly</td>\n",
       "      <td>55.0</td>\n",
       "      <td>1c3a326ca42b0f98d28c70b8c42d48d6bd70420c76cd2b...</td>\n",
       "    </tr>\n",
       "    <tr>\n",
       "      <th>2</th>\n",
       "      <td>45cfe632a4901088fb566eca50a4b0f8d69203ac24f446...</td>\n",
       "      <td>915015001</td>\n",
       "      <td>0.010525</td>\n",
       "      <td>2</td>\n",
       "      <td>2020</td>\n",
       "      <td>08</td>\n",
       "      <td>13</td>\n",
       "      <td>ACTIVE</td>\n",
       "      <td>Regularly</td>\n",
       "      <td>27.0</td>\n",
       "      <td>ba297225cbc5b04bb4ebc9bc080cdd47f998fecaa5ed60...</td>\n",
       "    </tr>\n",
       "    <tr>\n",
       "      <th>3</th>\n",
       "      <td>1c049d2f4ea081b96343fb7bce10b9f041ca05bd24f8f0...</td>\n",
       "      <td>160442007</td>\n",
       "      <td>0.012492</td>\n",
       "      <td>2</td>\n",
       "      <td>2020</td>\n",
       "      <td>03</td>\n",
       "      <td>08</td>\n",
       "      <td>ACTIVE</td>\n",
       "      <td>Regularly</td>\n",
       "      <td>53.0</td>\n",
       "      <td>300ddf111872faf3d78487821b1f154834445f719948a1...</td>\n",
       "    </tr>\n",
       "    <tr>\n",
       "      <th>4</th>\n",
       "      <td>3abbc76fa17ee76fdaaa224f2e01a483994fc0e3eef146...</td>\n",
       "      <td>682520001</td>\n",
       "      <td>0.044051</td>\n",
       "      <td>1</td>\n",
       "      <td>2018</td>\n",
       "      <td>12</td>\n",
       "      <td>18</td>\n",
       "      <td>ACTIVE</td>\n",
       "      <td>Regularly</td>\n",
       "      <td>46.0</td>\n",
       "      <td>3e2b21f81e0e680a9e29c6958bf6acb0733dd1e8788f27...</td>\n",
       "    </tr>\n",
       "  </tbody>\n",
       "</table>\n",
       "</div>"
      ],
      "text/plain": [
       "                                         customer_id  article_id     price  \\\n",
       "0  bc3808440a540efaa0919b417a5e5ea7598cedc4c72c06...   767255001  0.013034   \n",
       "1  2a3d1c360abaf1291fc67c41610c7ba418f41f324a4d67...   570003070  0.013542   \n",
       "2  45cfe632a4901088fb566eca50a4b0f8d69203ac24f446...   915015001  0.010525   \n",
       "3  1c049d2f4ea081b96343fb7bce10b9f041ca05bd24f8f0...   160442007  0.012492   \n",
       "4  3abbc76fa17ee76fdaaa224f2e01a483994fc0e3eef146...   682520001  0.044051   \n",
       "\n",
       "   sales_channel_id txn_year txn_mth txn_day club_member_status  \\\n",
       "0                 2     2020      08      14             ACTIVE   \n",
       "1                 1     2019      12      12             ACTIVE   \n",
       "2                 2     2020      08      13             ACTIVE   \n",
       "3                 2     2020      03      08             ACTIVE   \n",
       "4                 1     2018      12      18             ACTIVE   \n",
       "\n",
       "  fashion_news_frequency   age  \\\n",
       "0                   NONE  40.0   \n",
       "1              Regularly  55.0   \n",
       "2              Regularly  27.0   \n",
       "3              Regularly  53.0   \n",
       "4              Regularly  46.0   \n",
       "\n",
       "                                         postal_code  \n",
       "0  3add71dc80aee09ae992664829cdf0eedf6fec3f777ca4...  \n",
       "1  1c3a326ca42b0f98d28c70b8c42d48d6bd70420c76cd2b...  \n",
       "2  ba297225cbc5b04bb4ebc9bc080cdd47f998fecaa5ed60...  \n",
       "3  300ddf111872faf3d78487821b1f154834445f719948a1...  \n",
       "4  3e2b21f81e0e680a9e29c6958bf6acb0733dd1e8788f27...  "
      ]
     },
     "execution_count": 108,
     "metadata": {},
     "output_type": "execute_result"
    }
   ],
   "source": [
    "df_HM_CustTrxn.head()"
   ]
  },
  {
   "cell_type": "code",
   "execution_count": 109,
   "metadata": {},
   "outputs": [
    {
     "data": {
      "text/plain": [
       "(31788, 11)"
      ]
     },
     "execution_count": 109,
     "metadata": {},
     "output_type": "execute_result"
    }
   ],
   "source": [
    "df_HM_CustTrxn.shape"
   ]
  },
  {
   "cell_type": "code",
   "execution_count": 110,
   "metadata": {},
   "outputs": [],
   "source": [
    "### Check for nulls and missing - remove them - see WWD "
   ]
  },
  {
   "cell_type": "code",
   "execution_count": 111,
   "metadata": {},
   "outputs": [
    {
     "name": "stdout",
     "output_type": "stream",
     "text": [
      "Any Null Values in the merged Trxn/Customer dataframe? \n",
      " customer_id               False\n",
      "article_id                False\n",
      "price                     False\n",
      "sales_channel_id          False\n",
      "txn_year                  False\n",
      "txn_mth                   False\n",
      "txn_day                   False\n",
      "club_member_status         True\n",
      "fashion_news_frequency     True\n",
      "age                        True\n",
      "postal_code               False\n",
      "dtype: bool\n"
     ]
    },
    {
     "data": {
      "text/plain": [
       "[None]"
      ]
     },
     "execution_count": 111,
     "metadata": {},
     "output_type": "execute_result"
    }
   ],
   "source": [
    "# Check for null values in the merged Trxn/Customer dataframe\n",
    "[print('Any Null Values in the merged Trxn/Customer dataframe?','\\n' ,df_HM_CustTrxn.isnull().any())]"
   ]
  },
  {
   "cell_type": "markdown",
   "metadata": {},
   "source": [
    "#### Remove Rows with Missing Club Member Status Attributes. <a class=\"tocSkip\">"
   ]
  },
  {
   "cell_type": "code",
   "execution_count": 117,
   "metadata": {},
   "outputs": [
    {
     "name": "stdout",
     "output_type": "stream",
     "text": [
      "Numbers of rows with missing club member status? \n",
      " 0\n",
      "Precentage of total rows missing \n",
      " 0.0 %\n",
      "003.14\n",
      "\n",
      "Current Number of Rows/Columns in Trxn/Customer dataframe - missing club mem status values removed \n",
      " (31724, 11)\n"
     ]
    },
    {
     "data": {
      "text/plain": [
       "[None]"
      ]
     },
     "execution_count": 117,
     "metadata": {},
     "output_type": "execute_result"
    }
   ],
   "source": [
    "# Check missing values in the club_member_status column  \n",
    "df_null_club_member_status = df_HM_CustTrxn.loc[(df_HM_CustTrxn[\"club_member_status\"].isnull())]\n",
    "\n",
    "[print('Numbers of rows with missing club member status?','\\n' ,len(df_null_club_member_status.index))]\n",
    "[print('Precentage of total rows missing','\\n' ,(len(df_null_club_member_status.index)/len(df_HM_CustTrxn.index))*100,\"%\")]\n",
    "\n",
    "\n",
    "[print('{:06.2f}'.format(3.141592653589793))]\n",
    "\n",
    "# For simplicity the rows with missing values in the club member status will be ignored\n",
    "# Re-Build Txn/Customer Dataframe with no missing values in the club member status\n",
    "df_HM_CustTrxn = df_HM_CustTrxn.loc[(df_HM_CustTrxn[\"club_member_status\"].notnull())]\n",
    "\n",
    "# Confirm dimensions of Trxn (sample) dataframe AFTER removing rows with missing values in the club member status column\n",
    "[print('\\nCurrent Number of Rows/Columns in Trxn/Customer dataframe - missing club mem status values removed','\\n' ,\n",
    "                                                                                                   df_HM_CustTrxn.shape)]\n"
   ]
  },
  {
   "cell_type": "markdown",
   "metadata": {},
   "source": [
    "#### Remove Rows with Missing Fashion News Frequency Attributes. <a class=\"tocSkip\">"
   ]
  },
  {
   "cell_type": "code",
   "execution_count": 46,
   "metadata": {},
   "outputs": [
    {
     "name": "stdout",
     "output_type": "stream",
     "text": [
      "Numbers of rows with missing fashion_news_frequency values? \n",
      " 136\n",
      "\n",
      "Current Number of Rows/Columns in Trxn/Customer dataframe - missing Fash News Freq values removed \n",
      " (31588, 11)\n"
     ]
    },
    {
     "data": {
      "text/plain": [
       "[None]"
      ]
     },
     "execution_count": 46,
     "metadata": {},
     "output_type": "execute_result"
    }
   ],
   "source": [
    "# Check missing values in the club_member_status column  \n",
    "df_null_fn_freq = df_HM_CustTrxn.loc[(df_HM_CustTrxn[\"fashion_news_frequency\"].isnull())]\n",
    "\n",
    "[print('Numbers of rows with missing fashion_news_frequency values?','\\n' ,len(df_null_fn_freq.index))]\n",
    "\n",
    "# For simplicity the rows with missing values in the fashion_news_frequency column will be ignored\n",
    "# Re-Build Txn/Customer Dataframe with no missing values in the fashion_news_frequency column\n",
    "df_HM_CustTrxn = df_HM_CustTrxn.loc[(df_HM_CustTrxn[\"fashion_news_frequency\"].notnull())]\n",
    "\n",
    "# Confirm dimensions of Trxn (sample) dataframe AFTER removing rows with missing values in the fashion_news_frequency column\n",
    "[print('\\nCurrent Number of Rows/Columns in Trxn/Customer dataframe - missing Fash News Freq values removed','\\n' ,\n",
    "                                                                                                   df_HM_CustTrxn.shape)]"
   ]
  },
  {
   "cell_type": "markdown",
   "metadata": {},
   "source": [
    "#### Remove Rows with Missing Age Attributes. <a class=\"tocSkip\">"
   ]
  },
  {
   "cell_type": "code",
   "execution_count": 47,
   "metadata": {},
   "outputs": [
    {
     "name": "stdout",
     "output_type": "stream",
     "text": [
      "Numbers of rows with missing age values? \n",
      " 139\n",
      "\n",
      "Current Number of Rows/Columns in Trxn/Customer dataframe - missing ages removed \n",
      " (31449, 11)\n"
     ]
    },
    {
     "data": {
      "text/plain": [
       "[None]"
      ]
     },
     "execution_count": 47,
     "metadata": {},
     "output_type": "execute_result"
    }
   ],
   "source": [
    "# Check missing values in the age column  \n",
    "df_null_age = df_HM_CustTrxn.loc[(df_HM_CustTrxn[\"age\"].isnull())]\n",
    "\n",
    "[print('Numbers of rows with missing age values?','\\n' ,len(df_null_age.index))]\n",
    "\n",
    "# Re-Build Txn/Customer Dataframe with no missing values in the age column\n",
    "df_HM_CustTrxn = df_HM_CustTrxn.loc[(df_HM_CustTrxn[\"age\"].notnull())]\n",
    "\n",
    "\n",
    "# Confirm dimensions of Trxn (sample) dataframe AFTER removing rows with missing values in the age column\n",
    "[print('\\nCurrent Number of Rows/Columns in Trxn/Customer dataframe - missing ages removed','\\n' ,df_HM_CustTrxn.shape)]"
   ]
  },
  {
   "cell_type": "code",
   "execution_count": 48,
   "metadata": {},
   "outputs": [],
   "source": [
    "### Encode the club_member_status + fashion_news_frequency"
   ]
  },
  {
   "cell_type": "code",
   "execution_count": 49,
   "metadata": {},
   "outputs": [],
   "source": [
    "df_encoded_member_stats = pd.get_dummies(df_HM_CustTrxn['club_member_status'])"
   ]
  },
  {
   "cell_type": "code",
   "execution_count": 50,
   "metadata": {},
   "outputs": [
    {
     "data": {
      "text/html": [
       "<div>\n",
       "<style scoped>\n",
       "    .dataframe tbody tr th:only-of-type {\n",
       "        vertical-align: middle;\n",
       "    }\n",
       "\n",
       "    .dataframe tbody tr th {\n",
       "        vertical-align: top;\n",
       "    }\n",
       "\n",
       "    .dataframe thead th {\n",
       "        text-align: right;\n",
       "    }\n",
       "</style>\n",
       "<table border=\"1\" class=\"dataframe\">\n",
       "  <thead>\n",
       "    <tr style=\"text-align: right;\">\n",
       "      <th></th>\n",
       "      <th>ACTIVE</th>\n",
       "      <th>LEFT CLUB</th>\n",
       "      <th>PRE-CREATE</th>\n",
       "    </tr>\n",
       "  </thead>\n",
       "  <tbody>\n",
       "    <tr>\n",
       "      <th>0</th>\n",
       "      <td>1</td>\n",
       "      <td>0</td>\n",
       "      <td>0</td>\n",
       "    </tr>\n",
       "    <tr>\n",
       "      <th>1</th>\n",
       "      <td>1</td>\n",
       "      <td>0</td>\n",
       "      <td>0</td>\n",
       "    </tr>\n",
       "    <tr>\n",
       "      <th>2</th>\n",
       "      <td>1</td>\n",
       "      <td>0</td>\n",
       "      <td>0</td>\n",
       "    </tr>\n",
       "    <tr>\n",
       "      <th>3</th>\n",
       "      <td>1</td>\n",
       "      <td>0</td>\n",
       "      <td>0</td>\n",
       "    </tr>\n",
       "    <tr>\n",
       "      <th>4</th>\n",
       "      <td>1</td>\n",
       "      <td>0</td>\n",
       "      <td>0</td>\n",
       "    </tr>\n",
       "    <tr>\n",
       "      <th>...</th>\n",
       "      <td>...</td>\n",
       "      <td>...</td>\n",
       "      <td>...</td>\n",
       "    </tr>\n",
       "    <tr>\n",
       "      <th>31783</th>\n",
       "      <td>1</td>\n",
       "      <td>0</td>\n",
       "      <td>0</td>\n",
       "    </tr>\n",
       "    <tr>\n",
       "      <th>31784</th>\n",
       "      <td>1</td>\n",
       "      <td>0</td>\n",
       "      <td>0</td>\n",
       "    </tr>\n",
       "    <tr>\n",
       "      <th>31785</th>\n",
       "      <td>1</td>\n",
       "      <td>0</td>\n",
       "      <td>0</td>\n",
       "    </tr>\n",
       "    <tr>\n",
       "      <th>31786</th>\n",
       "      <td>1</td>\n",
       "      <td>0</td>\n",
       "      <td>0</td>\n",
       "    </tr>\n",
       "    <tr>\n",
       "      <th>31787</th>\n",
       "      <td>1</td>\n",
       "      <td>0</td>\n",
       "      <td>0</td>\n",
       "    </tr>\n",
       "  </tbody>\n",
       "</table>\n",
       "<p>31449 rows × 3 columns</p>\n",
       "</div>"
      ],
      "text/plain": [
       "       ACTIVE  LEFT CLUB  PRE-CREATE\n",
       "0           1          0           0\n",
       "1           1          0           0\n",
       "2           1          0           0\n",
       "3           1          0           0\n",
       "4           1          0           0\n",
       "...       ...        ...         ...\n",
       "31783       1          0           0\n",
       "31784       1          0           0\n",
       "31785       1          0           0\n",
       "31786       1          0           0\n",
       "31787       1          0           0\n",
       "\n",
       "[31449 rows x 3 columns]"
      ]
     },
     "execution_count": 50,
     "metadata": {},
     "output_type": "execute_result"
    }
   ],
   "source": [
    "df_encoded_member_stats"
   ]
  },
  {
   "cell_type": "code",
   "execution_count": 51,
   "metadata": {},
   "outputs": [],
   "source": [
    "df_HM_CustTrxn = df_HM_CustTrxn.join(df_encoded_member_stats)"
   ]
  },
  {
   "cell_type": "code",
   "execution_count": 52,
   "metadata": {},
   "outputs": [
    {
     "data": {
      "text/html": [
       "<div>\n",
       "<style scoped>\n",
       "    .dataframe tbody tr th:only-of-type {\n",
       "        vertical-align: middle;\n",
       "    }\n",
       "\n",
       "    .dataframe tbody tr th {\n",
       "        vertical-align: top;\n",
       "    }\n",
       "\n",
       "    .dataframe thead th {\n",
       "        text-align: right;\n",
       "    }\n",
       "</style>\n",
       "<table border=\"1\" class=\"dataframe\">\n",
       "  <thead>\n",
       "    <tr style=\"text-align: right;\">\n",
       "      <th></th>\n",
       "      <th>customer_id</th>\n",
       "      <th>article_id</th>\n",
       "      <th>price</th>\n",
       "      <th>sales_channel_id</th>\n",
       "      <th>txn_year</th>\n",
       "      <th>txn_mth</th>\n",
       "      <th>txn_day</th>\n",
       "      <th>club_member_status</th>\n",
       "      <th>fashion_news_frequency</th>\n",
       "      <th>age</th>\n",
       "      <th>postal_code</th>\n",
       "      <th>ACTIVE</th>\n",
       "      <th>LEFT CLUB</th>\n",
       "      <th>PRE-CREATE</th>\n",
       "    </tr>\n",
       "  </thead>\n",
       "  <tbody>\n",
       "    <tr>\n",
       "      <th>0</th>\n",
       "      <td>bc3808440a540efaa0919b417a5e5ea7598cedc4c72c06...</td>\n",
       "      <td>767255001</td>\n",
       "      <td>0.013034</td>\n",
       "      <td>2</td>\n",
       "      <td>2020</td>\n",
       "      <td>08</td>\n",
       "      <td>14</td>\n",
       "      <td>ACTIVE</td>\n",
       "      <td>NONE</td>\n",
       "      <td>40.0</td>\n",
       "      <td>3add71dc80aee09ae992664829cdf0eedf6fec3f777ca4...</td>\n",
       "      <td>1</td>\n",
       "      <td>0</td>\n",
       "      <td>0</td>\n",
       "    </tr>\n",
       "    <tr>\n",
       "      <th>1</th>\n",
       "      <td>2a3d1c360abaf1291fc67c41610c7ba418f41f324a4d67...</td>\n",
       "      <td>570003070</td>\n",
       "      <td>0.013542</td>\n",
       "      <td>1</td>\n",
       "      <td>2019</td>\n",
       "      <td>12</td>\n",
       "      <td>12</td>\n",
       "      <td>ACTIVE</td>\n",
       "      <td>Regularly</td>\n",
       "      <td>55.0</td>\n",
       "      <td>1c3a326ca42b0f98d28c70b8c42d48d6bd70420c76cd2b...</td>\n",
       "      <td>1</td>\n",
       "      <td>0</td>\n",
       "      <td>0</td>\n",
       "    </tr>\n",
       "    <tr>\n",
       "      <th>2</th>\n",
       "      <td>45cfe632a4901088fb566eca50a4b0f8d69203ac24f446...</td>\n",
       "      <td>915015001</td>\n",
       "      <td>0.010525</td>\n",
       "      <td>2</td>\n",
       "      <td>2020</td>\n",
       "      <td>08</td>\n",
       "      <td>13</td>\n",
       "      <td>ACTIVE</td>\n",
       "      <td>Regularly</td>\n",
       "      <td>27.0</td>\n",
       "      <td>ba297225cbc5b04bb4ebc9bc080cdd47f998fecaa5ed60...</td>\n",
       "      <td>1</td>\n",
       "      <td>0</td>\n",
       "      <td>0</td>\n",
       "    </tr>\n",
       "    <tr>\n",
       "      <th>3</th>\n",
       "      <td>1c049d2f4ea081b96343fb7bce10b9f041ca05bd24f8f0...</td>\n",
       "      <td>160442007</td>\n",
       "      <td>0.012492</td>\n",
       "      <td>2</td>\n",
       "      <td>2020</td>\n",
       "      <td>03</td>\n",
       "      <td>08</td>\n",
       "      <td>ACTIVE</td>\n",
       "      <td>Regularly</td>\n",
       "      <td>53.0</td>\n",
       "      <td>300ddf111872faf3d78487821b1f154834445f719948a1...</td>\n",
       "      <td>1</td>\n",
       "      <td>0</td>\n",
       "      <td>0</td>\n",
       "    </tr>\n",
       "    <tr>\n",
       "      <th>4</th>\n",
       "      <td>3abbc76fa17ee76fdaaa224f2e01a483994fc0e3eef146...</td>\n",
       "      <td>682520001</td>\n",
       "      <td>0.044051</td>\n",
       "      <td>1</td>\n",
       "      <td>2018</td>\n",
       "      <td>12</td>\n",
       "      <td>18</td>\n",
       "      <td>ACTIVE</td>\n",
       "      <td>Regularly</td>\n",
       "      <td>46.0</td>\n",
       "      <td>3e2b21f81e0e680a9e29c6958bf6acb0733dd1e8788f27...</td>\n",
       "      <td>1</td>\n",
       "      <td>0</td>\n",
       "      <td>0</td>\n",
       "    </tr>\n",
       "  </tbody>\n",
       "</table>\n",
       "</div>"
      ],
      "text/plain": [
       "                                         customer_id  article_id     price  \\\n",
       "0  bc3808440a540efaa0919b417a5e5ea7598cedc4c72c06...   767255001  0.013034   \n",
       "1  2a3d1c360abaf1291fc67c41610c7ba418f41f324a4d67...   570003070  0.013542   \n",
       "2  45cfe632a4901088fb566eca50a4b0f8d69203ac24f446...   915015001  0.010525   \n",
       "3  1c049d2f4ea081b96343fb7bce10b9f041ca05bd24f8f0...   160442007  0.012492   \n",
       "4  3abbc76fa17ee76fdaaa224f2e01a483994fc0e3eef146...   682520001  0.044051   \n",
       "\n",
       "   sales_channel_id txn_year txn_mth txn_day club_member_status  \\\n",
       "0                 2     2020      08      14             ACTIVE   \n",
       "1                 1     2019      12      12             ACTIVE   \n",
       "2                 2     2020      08      13             ACTIVE   \n",
       "3                 2     2020      03      08             ACTIVE   \n",
       "4                 1     2018      12      18             ACTIVE   \n",
       "\n",
       "  fashion_news_frequency   age  \\\n",
       "0                   NONE  40.0   \n",
       "1              Regularly  55.0   \n",
       "2              Regularly  27.0   \n",
       "3              Regularly  53.0   \n",
       "4              Regularly  46.0   \n",
       "\n",
       "                                         postal_code  ACTIVE  LEFT CLUB  \\\n",
       "0  3add71dc80aee09ae992664829cdf0eedf6fec3f777ca4...       1          0   \n",
       "1  1c3a326ca42b0f98d28c70b8c42d48d6bd70420c76cd2b...       1          0   \n",
       "2  ba297225cbc5b04bb4ebc9bc080cdd47f998fecaa5ed60...       1          0   \n",
       "3  300ddf111872faf3d78487821b1f154834445f719948a1...       1          0   \n",
       "4  3e2b21f81e0e680a9e29c6958bf6acb0733dd1e8788f27...       1          0   \n",
       "\n",
       "   PRE-CREATE  \n",
       "0           0  \n",
       "1           0  \n",
       "2           0  \n",
       "3           0  \n",
       "4           0  "
      ]
     },
     "execution_count": 52,
     "metadata": {},
     "output_type": "execute_result"
    }
   ],
   "source": [
    "df_HM_CustTrxn.head()"
   ]
  },
  {
   "cell_type": "code",
   "execution_count": 53,
   "metadata": {},
   "outputs": [],
   "source": [
    "df_encoded_fn_freq = pd.get_dummies(df_HM_CustTrxn['fashion_news_frequency'])"
   ]
  },
  {
   "cell_type": "code",
   "execution_count": 54,
   "metadata": {},
   "outputs": [
    {
     "data": {
      "text/html": [
       "<div>\n",
       "<style scoped>\n",
       "    .dataframe tbody tr th:only-of-type {\n",
       "        vertical-align: middle;\n",
       "    }\n",
       "\n",
       "    .dataframe tbody tr th {\n",
       "        vertical-align: top;\n",
       "    }\n",
       "\n",
       "    .dataframe thead th {\n",
       "        text-align: right;\n",
       "    }\n",
       "</style>\n",
       "<table border=\"1\" class=\"dataframe\">\n",
       "  <thead>\n",
       "    <tr style=\"text-align: right;\">\n",
       "      <th></th>\n",
       "      <th>Monthly</th>\n",
       "      <th>NONE</th>\n",
       "      <th>Regularly</th>\n",
       "    </tr>\n",
       "  </thead>\n",
       "  <tbody>\n",
       "    <tr>\n",
       "      <th>0</th>\n",
       "      <td>0</td>\n",
       "      <td>1</td>\n",
       "      <td>0</td>\n",
       "    </tr>\n",
       "    <tr>\n",
       "      <th>1</th>\n",
       "      <td>0</td>\n",
       "      <td>0</td>\n",
       "      <td>1</td>\n",
       "    </tr>\n",
       "    <tr>\n",
       "      <th>2</th>\n",
       "      <td>0</td>\n",
       "      <td>0</td>\n",
       "      <td>1</td>\n",
       "    </tr>\n",
       "    <tr>\n",
       "      <th>3</th>\n",
       "      <td>0</td>\n",
       "      <td>0</td>\n",
       "      <td>1</td>\n",
       "    </tr>\n",
       "    <tr>\n",
       "      <th>4</th>\n",
       "      <td>0</td>\n",
       "      <td>0</td>\n",
       "      <td>1</td>\n",
       "    </tr>\n",
       "    <tr>\n",
       "      <th>...</th>\n",
       "      <td>...</td>\n",
       "      <td>...</td>\n",
       "      <td>...</td>\n",
       "    </tr>\n",
       "    <tr>\n",
       "      <th>31783</th>\n",
       "      <td>0</td>\n",
       "      <td>0</td>\n",
       "      <td>1</td>\n",
       "    </tr>\n",
       "    <tr>\n",
       "      <th>31784</th>\n",
       "      <td>0</td>\n",
       "      <td>0</td>\n",
       "      <td>1</td>\n",
       "    </tr>\n",
       "    <tr>\n",
       "      <th>31785</th>\n",
       "      <td>0</td>\n",
       "      <td>0</td>\n",
       "      <td>1</td>\n",
       "    </tr>\n",
       "    <tr>\n",
       "      <th>31786</th>\n",
       "      <td>0</td>\n",
       "      <td>0</td>\n",
       "      <td>1</td>\n",
       "    </tr>\n",
       "    <tr>\n",
       "      <th>31787</th>\n",
       "      <td>0</td>\n",
       "      <td>1</td>\n",
       "      <td>0</td>\n",
       "    </tr>\n",
       "  </tbody>\n",
       "</table>\n",
       "<p>31449 rows × 3 columns</p>\n",
       "</div>"
      ],
      "text/plain": [
       "       Monthly  NONE  Regularly\n",
       "0            0     1          0\n",
       "1            0     0          1\n",
       "2            0     0          1\n",
       "3            0     0          1\n",
       "4            0     0          1\n",
       "...        ...   ...        ...\n",
       "31783        0     0          1\n",
       "31784        0     0          1\n",
       "31785        0     0          1\n",
       "31786        0     0          1\n",
       "31787        0     1          0\n",
       "\n",
       "[31449 rows x 3 columns]"
      ]
     },
     "execution_count": 54,
     "metadata": {},
     "output_type": "execute_result"
    }
   ],
   "source": [
    "df_encoded_fn_freq"
   ]
  },
  {
   "cell_type": "code",
   "execution_count": 55,
   "metadata": {},
   "outputs": [],
   "source": [
    "df_HM_CustTrxn = df_HM_CustTrxn.join(df_encoded_fn_freq)"
   ]
  },
  {
   "cell_type": "code",
   "execution_count": 56,
   "metadata": {},
   "outputs": [
    {
     "data": {
      "text/html": [
       "<div>\n",
       "<style scoped>\n",
       "    .dataframe tbody tr th:only-of-type {\n",
       "        vertical-align: middle;\n",
       "    }\n",
       "\n",
       "    .dataframe tbody tr th {\n",
       "        vertical-align: top;\n",
       "    }\n",
       "\n",
       "    .dataframe thead th {\n",
       "        text-align: right;\n",
       "    }\n",
       "</style>\n",
       "<table border=\"1\" class=\"dataframe\">\n",
       "  <thead>\n",
       "    <tr style=\"text-align: right;\">\n",
       "      <th></th>\n",
       "      <th>customer_id</th>\n",
       "      <th>article_id</th>\n",
       "      <th>price</th>\n",
       "      <th>sales_channel_id</th>\n",
       "      <th>txn_year</th>\n",
       "      <th>txn_mth</th>\n",
       "      <th>txn_day</th>\n",
       "      <th>club_member_status</th>\n",
       "      <th>fashion_news_frequency</th>\n",
       "      <th>age</th>\n",
       "      <th>postal_code</th>\n",
       "      <th>ACTIVE</th>\n",
       "      <th>LEFT CLUB</th>\n",
       "      <th>PRE-CREATE</th>\n",
       "      <th>Monthly</th>\n",
       "      <th>NONE</th>\n",
       "      <th>Regularly</th>\n",
       "    </tr>\n",
       "  </thead>\n",
       "  <tbody>\n",
       "    <tr>\n",
       "      <th>0</th>\n",
       "      <td>bc3808440a540efaa0919b417a5e5ea7598cedc4c72c06...</td>\n",
       "      <td>767255001</td>\n",
       "      <td>0.013034</td>\n",
       "      <td>2</td>\n",
       "      <td>2020</td>\n",
       "      <td>08</td>\n",
       "      <td>14</td>\n",
       "      <td>ACTIVE</td>\n",
       "      <td>NONE</td>\n",
       "      <td>40.0</td>\n",
       "      <td>3add71dc80aee09ae992664829cdf0eedf6fec3f777ca4...</td>\n",
       "      <td>1</td>\n",
       "      <td>0</td>\n",
       "      <td>0</td>\n",
       "      <td>0</td>\n",
       "      <td>1</td>\n",
       "      <td>0</td>\n",
       "    </tr>\n",
       "    <tr>\n",
       "      <th>1</th>\n",
       "      <td>2a3d1c360abaf1291fc67c41610c7ba418f41f324a4d67...</td>\n",
       "      <td>570003070</td>\n",
       "      <td>0.013542</td>\n",
       "      <td>1</td>\n",
       "      <td>2019</td>\n",
       "      <td>12</td>\n",
       "      <td>12</td>\n",
       "      <td>ACTIVE</td>\n",
       "      <td>Regularly</td>\n",
       "      <td>55.0</td>\n",
       "      <td>1c3a326ca42b0f98d28c70b8c42d48d6bd70420c76cd2b...</td>\n",
       "      <td>1</td>\n",
       "      <td>0</td>\n",
       "      <td>0</td>\n",
       "      <td>0</td>\n",
       "      <td>0</td>\n",
       "      <td>1</td>\n",
       "    </tr>\n",
       "    <tr>\n",
       "      <th>2</th>\n",
       "      <td>45cfe632a4901088fb566eca50a4b0f8d69203ac24f446...</td>\n",
       "      <td>915015001</td>\n",
       "      <td>0.010525</td>\n",
       "      <td>2</td>\n",
       "      <td>2020</td>\n",
       "      <td>08</td>\n",
       "      <td>13</td>\n",
       "      <td>ACTIVE</td>\n",
       "      <td>Regularly</td>\n",
       "      <td>27.0</td>\n",
       "      <td>ba297225cbc5b04bb4ebc9bc080cdd47f998fecaa5ed60...</td>\n",
       "      <td>1</td>\n",
       "      <td>0</td>\n",
       "      <td>0</td>\n",
       "      <td>0</td>\n",
       "      <td>0</td>\n",
       "      <td>1</td>\n",
       "    </tr>\n",
       "    <tr>\n",
       "      <th>3</th>\n",
       "      <td>1c049d2f4ea081b96343fb7bce10b9f041ca05bd24f8f0...</td>\n",
       "      <td>160442007</td>\n",
       "      <td>0.012492</td>\n",
       "      <td>2</td>\n",
       "      <td>2020</td>\n",
       "      <td>03</td>\n",
       "      <td>08</td>\n",
       "      <td>ACTIVE</td>\n",
       "      <td>Regularly</td>\n",
       "      <td>53.0</td>\n",
       "      <td>300ddf111872faf3d78487821b1f154834445f719948a1...</td>\n",
       "      <td>1</td>\n",
       "      <td>0</td>\n",
       "      <td>0</td>\n",
       "      <td>0</td>\n",
       "      <td>0</td>\n",
       "      <td>1</td>\n",
       "    </tr>\n",
       "    <tr>\n",
       "      <th>4</th>\n",
       "      <td>3abbc76fa17ee76fdaaa224f2e01a483994fc0e3eef146...</td>\n",
       "      <td>682520001</td>\n",
       "      <td>0.044051</td>\n",
       "      <td>1</td>\n",
       "      <td>2018</td>\n",
       "      <td>12</td>\n",
       "      <td>18</td>\n",
       "      <td>ACTIVE</td>\n",
       "      <td>Regularly</td>\n",
       "      <td>46.0</td>\n",
       "      <td>3e2b21f81e0e680a9e29c6958bf6acb0733dd1e8788f27...</td>\n",
       "      <td>1</td>\n",
       "      <td>0</td>\n",
       "      <td>0</td>\n",
       "      <td>0</td>\n",
       "      <td>0</td>\n",
       "      <td>1</td>\n",
       "    </tr>\n",
       "  </tbody>\n",
       "</table>\n",
       "</div>"
      ],
      "text/plain": [
       "                                         customer_id  article_id     price  \\\n",
       "0  bc3808440a540efaa0919b417a5e5ea7598cedc4c72c06...   767255001  0.013034   \n",
       "1  2a3d1c360abaf1291fc67c41610c7ba418f41f324a4d67...   570003070  0.013542   \n",
       "2  45cfe632a4901088fb566eca50a4b0f8d69203ac24f446...   915015001  0.010525   \n",
       "3  1c049d2f4ea081b96343fb7bce10b9f041ca05bd24f8f0...   160442007  0.012492   \n",
       "4  3abbc76fa17ee76fdaaa224f2e01a483994fc0e3eef146...   682520001  0.044051   \n",
       "\n",
       "   sales_channel_id txn_year txn_mth txn_day club_member_status  \\\n",
       "0                 2     2020      08      14             ACTIVE   \n",
       "1                 1     2019      12      12             ACTIVE   \n",
       "2                 2     2020      08      13             ACTIVE   \n",
       "3                 2     2020      03      08             ACTIVE   \n",
       "4                 1     2018      12      18             ACTIVE   \n",
       "\n",
       "  fashion_news_frequency   age  \\\n",
       "0                   NONE  40.0   \n",
       "1              Regularly  55.0   \n",
       "2              Regularly  27.0   \n",
       "3              Regularly  53.0   \n",
       "4              Regularly  46.0   \n",
       "\n",
       "                                         postal_code  ACTIVE  LEFT CLUB  \\\n",
       "0  3add71dc80aee09ae992664829cdf0eedf6fec3f777ca4...       1          0   \n",
       "1  1c3a326ca42b0f98d28c70b8c42d48d6bd70420c76cd2b...       1          0   \n",
       "2  ba297225cbc5b04bb4ebc9bc080cdd47f998fecaa5ed60...       1          0   \n",
       "3  300ddf111872faf3d78487821b1f154834445f719948a1...       1          0   \n",
       "4  3e2b21f81e0e680a9e29c6958bf6acb0733dd1e8788f27...       1          0   \n",
       "\n",
       "   PRE-CREATE  Monthly  NONE  Regularly  \n",
       "0           0        0     1          0  \n",
       "1           0        0     0          1  \n",
       "2           0        0     0          1  \n",
       "3           0        0     0          1  \n",
       "4           0        0     0          1  "
      ]
     },
     "execution_count": 56,
     "metadata": {},
     "output_type": "execute_result"
    }
   ],
   "source": [
    "df_HM_CustTrxn.head()"
   ]
  },
  {
   "cell_type": "code",
   "execution_count": 57,
   "metadata": {},
   "outputs": [],
   "source": [
    "# Remove the Categorical columns from the Trxn/Customer dataframe\n",
    "# The 'inplace' parameter confirms that the drop operation takes place in the same dataframe (a new one is not created)\n",
    "df_HM_CustTrxn.drop(\"club_member_status\", axis=1, inplace=True)\n",
    "df_HM_CustTrxn.drop(\"fashion_news_frequency\", axis=1, inplace=True)"
   ]
  },
  {
   "cell_type": "code",
   "execution_count": 58,
   "metadata": {},
   "outputs": [
    {
     "data": {
      "text/html": [
       "<div>\n",
       "<style scoped>\n",
       "    .dataframe tbody tr th:only-of-type {\n",
       "        vertical-align: middle;\n",
       "    }\n",
       "\n",
       "    .dataframe tbody tr th {\n",
       "        vertical-align: top;\n",
       "    }\n",
       "\n",
       "    .dataframe thead th {\n",
       "        text-align: right;\n",
       "    }\n",
       "</style>\n",
       "<table border=\"1\" class=\"dataframe\">\n",
       "  <thead>\n",
       "    <tr style=\"text-align: right;\">\n",
       "      <th></th>\n",
       "      <th>customer_id</th>\n",
       "      <th>article_id</th>\n",
       "      <th>price</th>\n",
       "      <th>sales_channel_id</th>\n",
       "      <th>txn_year</th>\n",
       "      <th>txn_mth</th>\n",
       "      <th>txn_day</th>\n",
       "      <th>age</th>\n",
       "      <th>postal_code</th>\n",
       "      <th>ACTIVE</th>\n",
       "      <th>LEFT CLUB</th>\n",
       "      <th>PRE-CREATE</th>\n",
       "      <th>Monthly</th>\n",
       "      <th>NONE</th>\n",
       "      <th>Regularly</th>\n",
       "    </tr>\n",
       "  </thead>\n",
       "  <tbody>\n",
       "    <tr>\n",
       "      <th>0</th>\n",
       "      <td>bc3808440a540efaa0919b417a5e5ea7598cedc4c72c06...</td>\n",
       "      <td>767255001</td>\n",
       "      <td>0.013034</td>\n",
       "      <td>2</td>\n",
       "      <td>2020</td>\n",
       "      <td>08</td>\n",
       "      <td>14</td>\n",
       "      <td>40.0</td>\n",
       "      <td>3add71dc80aee09ae992664829cdf0eedf6fec3f777ca4...</td>\n",
       "      <td>1</td>\n",
       "      <td>0</td>\n",
       "      <td>0</td>\n",
       "      <td>0</td>\n",
       "      <td>1</td>\n",
       "      <td>0</td>\n",
       "    </tr>\n",
       "    <tr>\n",
       "      <th>1</th>\n",
       "      <td>2a3d1c360abaf1291fc67c41610c7ba418f41f324a4d67...</td>\n",
       "      <td>570003070</td>\n",
       "      <td>0.013542</td>\n",
       "      <td>1</td>\n",
       "      <td>2019</td>\n",
       "      <td>12</td>\n",
       "      <td>12</td>\n",
       "      <td>55.0</td>\n",
       "      <td>1c3a326ca42b0f98d28c70b8c42d48d6bd70420c76cd2b...</td>\n",
       "      <td>1</td>\n",
       "      <td>0</td>\n",
       "      <td>0</td>\n",
       "      <td>0</td>\n",
       "      <td>0</td>\n",
       "      <td>1</td>\n",
       "    </tr>\n",
       "    <tr>\n",
       "      <th>2</th>\n",
       "      <td>45cfe632a4901088fb566eca50a4b0f8d69203ac24f446...</td>\n",
       "      <td>915015001</td>\n",
       "      <td>0.010525</td>\n",
       "      <td>2</td>\n",
       "      <td>2020</td>\n",
       "      <td>08</td>\n",
       "      <td>13</td>\n",
       "      <td>27.0</td>\n",
       "      <td>ba297225cbc5b04bb4ebc9bc080cdd47f998fecaa5ed60...</td>\n",
       "      <td>1</td>\n",
       "      <td>0</td>\n",
       "      <td>0</td>\n",
       "      <td>0</td>\n",
       "      <td>0</td>\n",
       "      <td>1</td>\n",
       "    </tr>\n",
       "    <tr>\n",
       "      <th>3</th>\n",
       "      <td>1c049d2f4ea081b96343fb7bce10b9f041ca05bd24f8f0...</td>\n",
       "      <td>160442007</td>\n",
       "      <td>0.012492</td>\n",
       "      <td>2</td>\n",
       "      <td>2020</td>\n",
       "      <td>03</td>\n",
       "      <td>08</td>\n",
       "      <td>53.0</td>\n",
       "      <td>300ddf111872faf3d78487821b1f154834445f719948a1...</td>\n",
       "      <td>1</td>\n",
       "      <td>0</td>\n",
       "      <td>0</td>\n",
       "      <td>0</td>\n",
       "      <td>0</td>\n",
       "      <td>1</td>\n",
       "    </tr>\n",
       "    <tr>\n",
       "      <th>4</th>\n",
       "      <td>3abbc76fa17ee76fdaaa224f2e01a483994fc0e3eef146...</td>\n",
       "      <td>682520001</td>\n",
       "      <td>0.044051</td>\n",
       "      <td>1</td>\n",
       "      <td>2018</td>\n",
       "      <td>12</td>\n",
       "      <td>18</td>\n",
       "      <td>46.0</td>\n",
       "      <td>3e2b21f81e0e680a9e29c6958bf6acb0733dd1e8788f27...</td>\n",
       "      <td>1</td>\n",
       "      <td>0</td>\n",
       "      <td>0</td>\n",
       "      <td>0</td>\n",
       "      <td>0</td>\n",
       "      <td>1</td>\n",
       "    </tr>\n",
       "  </tbody>\n",
       "</table>\n",
       "</div>"
      ],
      "text/plain": [
       "                                         customer_id  article_id     price  \\\n",
       "0  bc3808440a540efaa0919b417a5e5ea7598cedc4c72c06...   767255001  0.013034   \n",
       "1  2a3d1c360abaf1291fc67c41610c7ba418f41f324a4d67...   570003070  0.013542   \n",
       "2  45cfe632a4901088fb566eca50a4b0f8d69203ac24f446...   915015001  0.010525   \n",
       "3  1c049d2f4ea081b96343fb7bce10b9f041ca05bd24f8f0...   160442007  0.012492   \n",
       "4  3abbc76fa17ee76fdaaa224f2e01a483994fc0e3eef146...   682520001  0.044051   \n",
       "\n",
       "   sales_channel_id txn_year txn_mth txn_day   age  \\\n",
       "0                 2     2020      08      14  40.0   \n",
       "1                 1     2019      12      12  55.0   \n",
       "2                 2     2020      08      13  27.0   \n",
       "3                 2     2020      03      08  53.0   \n",
       "4                 1     2018      12      18  46.0   \n",
       "\n",
       "                                         postal_code  ACTIVE  LEFT CLUB  \\\n",
       "0  3add71dc80aee09ae992664829cdf0eedf6fec3f777ca4...       1          0   \n",
       "1  1c3a326ca42b0f98d28c70b8c42d48d6bd70420c76cd2b...       1          0   \n",
       "2  ba297225cbc5b04bb4ebc9bc080cdd47f998fecaa5ed60...       1          0   \n",
       "3  300ddf111872faf3d78487821b1f154834445f719948a1...       1          0   \n",
       "4  3e2b21f81e0e680a9e29c6958bf6acb0733dd1e8788f27...       1          0   \n",
       "\n",
       "   PRE-CREATE  Monthly  NONE  Regularly  \n",
       "0           0        0     1          0  \n",
       "1           0        0     0          1  \n",
       "2           0        0     0          1  \n",
       "3           0        0     0          1  \n",
       "4           0        0     0          1  "
      ]
     },
     "execution_count": 58,
     "metadata": {},
     "output_type": "execute_result"
    }
   ],
   "source": [
    "df_HM_CustTrxn.head()"
   ]
  },
  {
   "cell_type": "code",
   "execution_count": 59,
   "metadata": {},
   "outputs": [
    {
     "data": {
      "text/plain": [
       "customer_id          object\n",
       "article_id            int64\n",
       "price               float64\n",
       "sales_channel_id      int64\n",
       "txn_year             object\n",
       "txn_mth              object\n",
       "txn_day              object\n",
       "age                 float64\n",
       "postal_code          object\n",
       "ACTIVE                uint8\n",
       "LEFT CLUB             uint8\n",
       "PRE-CREATE            uint8\n",
       "Monthly               uint8\n",
       "NONE                  uint8\n",
       "Regularly             uint8\n",
       "dtype: object"
      ]
     },
     "execution_count": 59,
     "metadata": {},
     "output_type": "execute_result"
    }
   ],
   "source": [
    "df_HM_CustTrxn.dtypes"
   ]
  },
  {
   "cell_type": "code",
   "execution_count": 60,
   "metadata": {},
   "outputs": [
    {
     "name": "stdout",
     "output_type": "stream",
     "text": [
      "\n",
      "Current Number of Rows/Columns in Trxn/Customer dataframe - encoding of categorical values completed \n",
      " (31449, 15)\n"
     ]
    },
    {
     "data": {
      "text/plain": [
       "[None]"
      ]
     },
     "execution_count": 60,
     "metadata": {},
     "output_type": "execute_result"
    }
   ],
   "source": [
    "# Confirm dimensions of Trxn (sample) dataframe AFTER encoding Categorical Values\n",
    "[print('\\nCurrent Number of Rows/Columns in Trxn/Customer dataframe - encoding of categorical values completed','\\n' ,\n",
    "                                                                                                   df_HM_CustTrxn.shape)]"
   ]
  },
  {
   "cell_type": "code",
   "execution_count": 61,
   "metadata": {},
   "outputs": [
    {
     "name": "stdout",
     "output_type": "stream",
     "text": [
      "Any Null Values in the merged Trxn/Customer (sample) dataframe? \n",
      " customer_id         False\n",
      "article_id          False\n",
      "price               False\n",
      "sales_channel_id    False\n",
      "txn_year            False\n",
      "txn_mth             False\n",
      "txn_day             False\n",
      "age                 False\n",
      "postal_code         False\n",
      "ACTIVE              False\n",
      "LEFT CLUB           False\n",
      "PRE-CREATE          False\n",
      "Monthly             False\n",
      "NONE                False\n",
      "Regularly           False\n",
      "dtype: bool\n"
     ]
    },
    {
     "data": {
      "text/plain": [
       "[None]"
      ]
     },
     "execution_count": 61,
     "metadata": {},
     "output_type": "execute_result"
    }
   ],
   "source": [
    "# Check for null values in the Transaction Dataframe\n",
    "[print('Any Null Values in the merged Trxn/Customer (sample) dataframe?','\\n' ,df_HM_CustTrxn.isnull().any())]"
   ]
  },
  {
   "cell_type": "code",
   "execution_count": 62,
   "metadata": {},
   "outputs": [],
   "source": [
    "# Pick up here next..."
   ]
  },
  {
   "cell_type": "code",
   "execution_count": 63,
   "metadata": {},
   "outputs": [],
   "source": [
    "### Move onto Articles..."
   ]
  },
  {
   "cell_type": "markdown",
   "metadata": {},
   "source": [
    "#### Data Preparation / Feature Enrichment with Articles Data (sample)"
   ]
  },
  {
   "cell_type": "code",
   "execution_count": 64,
   "metadata": {},
   "outputs": [],
   "source": [
    "### Stuff here"
   ]
  },
  {
   "cell_type": "markdown",
   "metadata": {},
   "source": [
    "#### Final Data Preparation Steps"
   ]
  },
  {
   "cell_type": "markdown",
   "metadata": {},
   "source": [
    "#### Remove Any Duplicates in Final Merged Dataframe. <a class=\"tocSkip\">"
   ]
  },
  {
   "cell_type": "code",
   "execution_count": 65,
   "metadata": {},
   "outputs": [
    {
     "name": "stdout",
     "output_type": "stream",
     "text": [
      "Numbers of duplicated rows in the final merged Trxn/Customer/Articles dataframe? \n",
      " 8\n"
     ]
    },
    {
     "data": {
      "text/plain": [
       "[None]"
      ]
     },
     "execution_count": 65,
     "metadata": {},
     "output_type": "execute_result"
    }
   ],
   "source": [
    "# run a check to see if any duplicate entires exist in the merged Trxn/Customer/Articles dataframe\n",
    "[print('Numbers of duplicated rows in the final merged Trxn/Customer/Articles dataframe?','\\n' \n",
    "                                                                       ,df_HM_CustTrxn.duplicated().sum())]"
   ]
  },
  {
   "cell_type": "code",
   "execution_count": 66,
   "metadata": {},
   "outputs": [],
   "source": [
    "# Find duplicate rows across all columns\n",
    "duplicateRows = df_HM_CustTrxn[df_HM_CustTrxn.duplicated()]"
   ]
  },
  {
   "cell_type": "code",
   "execution_count": 67,
   "metadata": {},
   "outputs": [
    {
     "data": {
      "text/html": [
       "<div>\n",
       "<style scoped>\n",
       "    .dataframe tbody tr th:only-of-type {\n",
       "        vertical-align: middle;\n",
       "    }\n",
       "\n",
       "    .dataframe tbody tr th {\n",
       "        vertical-align: top;\n",
       "    }\n",
       "\n",
       "    .dataframe thead th {\n",
       "        text-align: right;\n",
       "    }\n",
       "</style>\n",
       "<table border=\"1\" class=\"dataframe\">\n",
       "  <thead>\n",
       "    <tr style=\"text-align: right;\">\n",
       "      <th></th>\n",
       "      <th>customer_id</th>\n",
       "      <th>article_id</th>\n",
       "      <th>price</th>\n",
       "      <th>sales_channel_id</th>\n",
       "      <th>txn_year</th>\n",
       "      <th>txn_mth</th>\n",
       "      <th>txn_day</th>\n",
       "      <th>age</th>\n",
       "      <th>postal_code</th>\n",
       "      <th>ACTIVE</th>\n",
       "      <th>LEFT CLUB</th>\n",
       "      <th>PRE-CREATE</th>\n",
       "      <th>Monthly</th>\n",
       "      <th>NONE</th>\n",
       "      <th>Regularly</th>\n",
       "    </tr>\n",
       "  </thead>\n",
       "  <tbody>\n",
       "    <tr>\n",
       "      <th>11911</th>\n",
       "      <td>a65abf2daf44aa5210d6e9c6412b1ca27b04123316e9b8...</td>\n",
       "      <td>554772003</td>\n",
       "      <td>0.008458</td>\n",
       "      <td>2</td>\n",
       "      <td>2019</td>\n",
       "      <td>04</td>\n",
       "      <td>28</td>\n",
       "      <td>23.0</td>\n",
       "      <td>eab6050aae1d26d18b91e33c9d568699a63a333d272874...</td>\n",
       "      <td>1</td>\n",
       "      <td>0</td>\n",
       "      <td>0</td>\n",
       "      <td>0</td>\n",
       "      <td>0</td>\n",
       "      <td>1</td>\n",
       "    </tr>\n",
       "    <tr>\n",
       "      <th>13286</th>\n",
       "      <td>dfcfbe457660d7bd8de6ccbd584c1e7065565542f03044...</td>\n",
       "      <td>720137001</td>\n",
       "      <td>0.003373</td>\n",
       "      <td>1</td>\n",
       "      <td>2019</td>\n",
       "      <td>07</td>\n",
       "      <td>11</td>\n",
       "      <td>38.0</td>\n",
       "      <td>f8d916c98f29ee500e3c5a212a7fac98c72c2851d4c0d8...</td>\n",
       "      <td>1</td>\n",
       "      <td>0</td>\n",
       "      <td>0</td>\n",
       "      <td>0</td>\n",
       "      <td>0</td>\n",
       "      <td>1</td>\n",
       "    </tr>\n",
       "    <tr>\n",
       "      <th>19018</th>\n",
       "      <td>af63bf6c3164d56e81ade4e43e44c1f5952976774af9a1...</td>\n",
       "      <td>864309001</td>\n",
       "      <td>0.013542</td>\n",
       "      <td>2</td>\n",
       "      <td>2020</td>\n",
       "      <td>05</td>\n",
       "      <td>19</td>\n",
       "      <td>31.0</td>\n",
       "      <td>39158cb5e4a5d0368a922ef51c7b8362ec3327f7dfaff2...</td>\n",
       "      <td>1</td>\n",
       "      <td>0</td>\n",
       "      <td>0</td>\n",
       "      <td>0</td>\n",
       "      <td>0</td>\n",
       "      <td>1</td>\n",
       "    </tr>\n",
       "    <tr>\n",
       "      <th>22809</th>\n",
       "      <td>fece3608cd9ccea19fc2ac85db9d7f64d73d40b4771f9f...</td>\n",
       "      <td>695632002</td>\n",
       "      <td>0.033881</td>\n",
       "      <td>1</td>\n",
       "      <td>2020</td>\n",
       "      <td>01</td>\n",
       "      <td>31</td>\n",
       "      <td>28.0</td>\n",
       "      <td>e747d6d7e07893f4926d98ff81ad7939b66a5815ea3201...</td>\n",
       "      <td>1</td>\n",
       "      <td>0</td>\n",
       "      <td>0</td>\n",
       "      <td>0</td>\n",
       "      <td>0</td>\n",
       "      <td>1</td>\n",
       "    </tr>\n",
       "    <tr>\n",
       "      <th>23066</th>\n",
       "      <td>7e59bf9dec35483519c42440787023ccb33d124779b81e...</td>\n",
       "      <td>372008001</td>\n",
       "      <td>0.006763</td>\n",
       "      <td>2</td>\n",
       "      <td>2019</td>\n",
       "      <td>07</td>\n",
       "      <td>01</td>\n",
       "      <td>23.0</td>\n",
       "      <td>358a9762e62b3463f022f44da8363c227499b042d6fab6...</td>\n",
       "      <td>1</td>\n",
       "      <td>0</td>\n",
       "      <td>0</td>\n",
       "      <td>0</td>\n",
       "      <td>0</td>\n",
       "      <td>1</td>\n",
       "    </tr>\n",
       "    <tr>\n",
       "      <th>23728</th>\n",
       "      <td>6f56291b459392ee00180b3ed91cc87e20a2823e7502f8...</td>\n",
       "      <td>610776001</td>\n",
       "      <td>0.008458</td>\n",
       "      <td>2</td>\n",
       "      <td>2019</td>\n",
       "      <td>05</td>\n",
       "      <td>29</td>\n",
       "      <td>23.0</td>\n",
       "      <td>10d589ab2a334f4490e73c80383f62cf4a7dff3b88bbb1...</td>\n",
       "      <td>1</td>\n",
       "      <td>0</td>\n",
       "      <td>0</td>\n",
       "      <td>0</td>\n",
       "      <td>1</td>\n",
       "      <td>0</td>\n",
       "    </tr>\n",
       "    <tr>\n",
       "      <th>24791</th>\n",
       "      <td>65cfafc787940d99b7240ef083ff823bbd368ca10e1d9e...</td>\n",
       "      <td>822203005</td>\n",
       "      <td>0.022017</td>\n",
       "      <td>2</td>\n",
       "      <td>2020</td>\n",
       "      <td>06</td>\n",
       "      <td>26</td>\n",
       "      <td>23.0</td>\n",
       "      <td>32e96ed4d1644f1abb9386b509a3d425d37506a6f6c41c...</td>\n",
       "      <td>1</td>\n",
       "      <td>0</td>\n",
       "      <td>0</td>\n",
       "      <td>0</td>\n",
       "      <td>0</td>\n",
       "      <td>1</td>\n",
       "    </tr>\n",
       "    <tr>\n",
       "      <th>25481</th>\n",
       "      <td>ea7fb4cd2a03fab9c0f1698cd50644d5d51e9bb28011b6...</td>\n",
       "      <td>501620016</td>\n",
       "      <td>0.017610</td>\n",
       "      <td>2</td>\n",
       "      <td>2019</td>\n",
       "      <td>06</td>\n",
       "      <td>13</td>\n",
       "      <td>46.0</td>\n",
       "      <td>8db74f23ada33e61741e2bea1af42aea76bfd1db15f3ea...</td>\n",
       "      <td>1</td>\n",
       "      <td>0</td>\n",
       "      <td>0</td>\n",
       "      <td>0</td>\n",
       "      <td>0</td>\n",
       "      <td>1</td>\n",
       "    </tr>\n",
       "  </tbody>\n",
       "</table>\n",
       "</div>"
      ],
      "text/plain": [
       "                                             customer_id  article_id  \\\n",
       "11911  a65abf2daf44aa5210d6e9c6412b1ca27b04123316e9b8...   554772003   \n",
       "13286  dfcfbe457660d7bd8de6ccbd584c1e7065565542f03044...   720137001   \n",
       "19018  af63bf6c3164d56e81ade4e43e44c1f5952976774af9a1...   864309001   \n",
       "22809  fece3608cd9ccea19fc2ac85db9d7f64d73d40b4771f9f...   695632002   \n",
       "23066  7e59bf9dec35483519c42440787023ccb33d124779b81e...   372008001   \n",
       "23728  6f56291b459392ee00180b3ed91cc87e20a2823e7502f8...   610776001   \n",
       "24791  65cfafc787940d99b7240ef083ff823bbd368ca10e1d9e...   822203005   \n",
       "25481  ea7fb4cd2a03fab9c0f1698cd50644d5d51e9bb28011b6...   501620016   \n",
       "\n",
       "          price  sales_channel_id txn_year txn_mth txn_day   age  \\\n",
       "11911  0.008458                 2     2019      04      28  23.0   \n",
       "13286  0.003373                 1     2019      07      11  38.0   \n",
       "19018  0.013542                 2     2020      05      19  31.0   \n",
       "22809  0.033881                 1     2020      01      31  28.0   \n",
       "23066  0.006763                 2     2019      07      01  23.0   \n",
       "23728  0.008458                 2     2019      05      29  23.0   \n",
       "24791  0.022017                 2     2020      06      26  23.0   \n",
       "25481  0.017610                 2     2019      06      13  46.0   \n",
       "\n",
       "                                             postal_code  ACTIVE  LEFT CLUB  \\\n",
       "11911  eab6050aae1d26d18b91e33c9d568699a63a333d272874...       1          0   \n",
       "13286  f8d916c98f29ee500e3c5a212a7fac98c72c2851d4c0d8...       1          0   \n",
       "19018  39158cb5e4a5d0368a922ef51c7b8362ec3327f7dfaff2...       1          0   \n",
       "22809  e747d6d7e07893f4926d98ff81ad7939b66a5815ea3201...       1          0   \n",
       "23066  358a9762e62b3463f022f44da8363c227499b042d6fab6...       1          0   \n",
       "23728  10d589ab2a334f4490e73c80383f62cf4a7dff3b88bbb1...       1          0   \n",
       "24791  32e96ed4d1644f1abb9386b509a3d425d37506a6f6c41c...       1          0   \n",
       "25481  8db74f23ada33e61741e2bea1af42aea76bfd1db15f3ea...       1          0   \n",
       "\n",
       "       PRE-CREATE  Monthly  NONE  Regularly  \n",
       "11911           0        0     0          1  \n",
       "13286           0        0     0          1  \n",
       "19018           0        0     0          1  \n",
       "22809           0        0     0          1  \n",
       "23066           0        0     0          1  \n",
       "23728           0        0     1          0  \n",
       "24791           0        0     0          1  \n",
       "25481           0        0     0          1  "
      ]
     },
     "execution_count": 67,
     "metadata": {},
     "output_type": "execute_result"
    }
   ],
   "source": [
    "duplicateRows"
   ]
  },
  {
   "cell_type": "code",
   "execution_count": 68,
   "metadata": {},
   "outputs": [],
   "source": [
    "# Drop duplicate rows in the merged Trxn/Customer/Articles dataframe\n",
    "df_HM_CustTrxn = df_HM_CustTrxn.drop_duplicates()"
   ]
  },
  {
   "cell_type": "code",
   "execution_count": 69,
   "metadata": {},
   "outputs": [],
   "source": [
    "# Re-check: Find duplicate rows across all columns\n",
    "duplicateRows = df_HM_CustTrxn[df_HM_CustTrxn.duplicated()]"
   ]
  },
  {
   "cell_type": "code",
   "execution_count": 70,
   "metadata": {},
   "outputs": [
    {
     "data": {
      "text/html": [
       "<div>\n",
       "<style scoped>\n",
       "    .dataframe tbody tr th:only-of-type {\n",
       "        vertical-align: middle;\n",
       "    }\n",
       "\n",
       "    .dataframe tbody tr th {\n",
       "        vertical-align: top;\n",
       "    }\n",
       "\n",
       "    .dataframe thead th {\n",
       "        text-align: right;\n",
       "    }\n",
       "</style>\n",
       "<table border=\"1\" class=\"dataframe\">\n",
       "  <thead>\n",
       "    <tr style=\"text-align: right;\">\n",
       "      <th></th>\n",
       "      <th>customer_id</th>\n",
       "      <th>article_id</th>\n",
       "      <th>price</th>\n",
       "      <th>sales_channel_id</th>\n",
       "      <th>txn_year</th>\n",
       "      <th>txn_mth</th>\n",
       "      <th>txn_day</th>\n",
       "      <th>age</th>\n",
       "      <th>postal_code</th>\n",
       "      <th>ACTIVE</th>\n",
       "      <th>LEFT CLUB</th>\n",
       "      <th>PRE-CREATE</th>\n",
       "      <th>Monthly</th>\n",
       "      <th>NONE</th>\n",
       "      <th>Regularly</th>\n",
       "    </tr>\n",
       "  </thead>\n",
       "  <tbody>\n",
       "  </tbody>\n",
       "</table>\n",
       "</div>"
      ],
      "text/plain": [
       "Empty DataFrame\n",
       "Columns: [customer_id, article_id, price, sales_channel_id, txn_year, txn_mth, txn_day, age, postal_code, ACTIVE, LEFT CLUB, PRE-CREATE, Monthly, NONE, Regularly]\n",
       "Index: []"
      ]
     },
     "execution_count": 70,
     "metadata": {},
     "output_type": "execute_result"
    }
   ],
   "source": [
    "duplicateRows"
   ]
  },
  {
   "cell_type": "code",
   "execution_count": 71,
   "metadata": {},
   "outputs": [
    {
     "name": "stdout",
     "output_type": "stream",
     "text": [
      "\n",
      "Current Number of Rows/Columns in Trxn/Customer/Articles dataframe - duplicates removed \n",
      " (31441, 15)\n"
     ]
    },
    {
     "data": {
      "text/plain": [
       "[None]"
      ]
     },
     "execution_count": 71,
     "metadata": {},
     "output_type": "execute_result"
    }
   ],
   "source": [
    "# Confirm dimensions of Trxn/Customer/Articles (sample) dataframe AFTER removing duplicate rows\n",
    "[print('\\nCurrent Number of Rows/Columns in Trxn/Customer/Articles dataframe - duplicates removed','\\n' ,df_HM_CustTrxn.shape)]"
   ]
  },
  {
   "cell_type": "code",
   "execution_count": 72,
   "metadata": {},
   "outputs": [],
   "source": [
    "### See if there is a way to check the integrity of the customer merging.."
   ]
  },
  {
   "cell_type": "markdown",
   "metadata": {},
   "source": [
    "###### "
   ]
  },
  {
   "cell_type": "markdown",
   "metadata": {},
   "source": [
    "###### "
   ]
  },
  {
   "cell_type": "markdown",
   "metadata": {},
   "source": [
    "###### "
   ]
  },
  {
   "cell_type": "markdown",
   "metadata": {},
   "source": [
    "## References"
   ]
  },
  {
   "cell_type": "markdown",
   "metadata": {},
   "source": [
    "#### <a class=\"tocSkip\">"
   ]
  }
 ],
 "metadata": {
  "kernelspec": {
   "display_name": "Python 3",
   "language": "python",
   "name": "python3"
  },
  "language_info": {
   "codemirror_mode": {
    "name": "ipython",
    "version": 3
   },
   "file_extension": ".py",
   "mimetype": "text/x-python",
   "name": "python",
   "nbconvert_exporter": "python",
   "pygments_lexer": "ipython3",
   "version": "3.8.5"
  },
  "toc": {
   "base_numbering": 1,
   "nav_menu": {},
   "number_sections": true,
   "sideBar": true,
   "skip_h1_title": true,
   "title_cell": "Table of Contents",
   "title_sidebar": "Contents",
   "toc_cell": true,
   "toc_position": {
    "height": "659px",
    "left": "0px",
    "right": "1227.5px",
    "top": "87px",
    "width": "341.5px"
   },
   "toc_section_display": "block",
   "toc_window_display": true
  }
 },
 "nbformat": 4,
 "nbformat_minor": 2
}
