{
 "cells": [
  {
   "cell_type": "markdown",
   "metadata": {},
   "source": [
    "# Machine Learning - Continuous Assessment - Class Group: TU060 <a class=\"tocSkip\">"
   ]
  },
  {
   "cell_type": "markdown",
   "metadata": {},
   "source": [
    "# MSc in Computer Science - Data Science (Part Time) <a class=\"tocSkip\">"
   ]
  },
  {
   "cell_type": "markdown",
   "metadata": {},
   "source": [
    "# Student Name: Ciaran Finnegan  <a class=\"tocSkip\">"
   ]
  },
  {
   "cell_type": "markdown",
   "metadata": {},
   "source": [
    "# Student No: D21124026 <a class=\"tocSkip\">"
   ]
  },
  {
   "cell_type": "markdown",
   "metadata": {},
   "source": [
    "#### Student EMail: D21124026@mytudublin.ie <a class=\"tocSkip\">"
   ]
  },
  {
   "cell_type": "markdown",
   "metadata": {},
   "source": [
    "## May 2022<a class=\"tocSkip\">"
   ]
  },
  {
   "cell_type": "markdown",
   "metadata": {},
   "source": [
    "# "
   ]
  },
  {
   "cell_type": "markdown",
   "metadata": {},
   "source": [
    "# H&M Personalised Fashion Recommendations <a class=\"tocSkip\">\n"
   ]
  },
  {
   "cell_type": "markdown",
   "metadata": {},
   "source": [
    "#### This project takes the datasets provided by Kaggle for the H&M Personalised Fashion Recommendations competition.  <a class=\"tocSkip\">\n",
    "\n",
    "Ipso forum..."
   ]
  },
  {
   "cell_type": "markdown",
   "metadata": {},
   "source": [
    "## <a class=\"tocSkip\">"
   ]
  },
  {
   "cell_type": "markdown",
   "metadata": {},
   "source": [
    "#### The CA follows a n-part structure. <a class=\"tocSkip\">\n",
    "\n",
    "Section 1: Ipso forum...\n",
    "\n",
    "Section 2: Ipso forum...\n",
    "\n",
    "Section 3: Ipso forum...\n"
   ]
  },
  {
   "cell_type": "markdown",
   "metadata": {},
   "source": [
    "### <a class=\"tocSkip\">"
   ]
  },
  {
   "cell_type": "markdown",
   "metadata": {
    "toc": true
   },
   "source": [
    "<h1>Table of Contents<span class=\"tocSkip\"></span></h1>\n",
    "<div class=\"toc\"><ul class=\"toc-item\"><li><span><a href=\"#Jupyter-Notebook-Set-Up\" data-toc-modified-id=\"Jupyter-Notebook-Set-Up-1\"><span class=\"toc-item-num\">1&nbsp;&nbsp;</span>Jupyter Notebook Set Up</a></span><ul class=\"toc-item\"><li><span><a href=\"#Import-Libraries\" data-toc-modified-id=\"Import-Libraries-1.1\"><span class=\"toc-item-num\">1.1&nbsp;&nbsp;</span>Import Libraries</a></span><ul class=\"toc-item\"><li><span><a href=\"#General-Utility-Libraries\" data-toc-modified-id=\"General-Utility-Libraries-1.1.1\"><span class=\"toc-item-num\">1.1.1&nbsp;&nbsp;</span>General Utility Libraries</a></span></li><li><span><a href=\"#Panda-+-Numpy\" data-toc-modified-id=\"Panda-+-Numpy-1.1.2\"><span class=\"toc-item-num\">1.1.2&nbsp;&nbsp;</span>Panda + Numpy</a></span></li><li><span><a href=\"#Matplotlib-Library\" data-toc-modified-id=\"Matplotlib-Library-1.1.3\"><span class=\"toc-item-num\">1.1.3&nbsp;&nbsp;</span>Matplotlib Library</a></span></li><li><span><a href=\"#Plotly-Libraries\" data-toc-modified-id=\"Plotly-Libraries-1.1.4\"><span class=\"toc-item-num\">1.1.4&nbsp;&nbsp;</span>Plotly Libraries</a></span></li></ul></li></ul></li><li><span><a href=\"#Project-Data-Import,-Analysis-and-Preparation\" data-toc-modified-id=\"Project-Data-Import,-Analysis-and-Preparation-2\"><span class=\"toc-item-num\">2&nbsp;&nbsp;</span>Project Data Import, Analysis and Preparation</a></span><ul class=\"toc-item\"><li><span><a href=\"#Load-and-Sample-Kaggle-H&amp;M-Datasets\" data-toc-modified-id=\"Load-and-Sample-Kaggle-H&amp;M-Datasets-2.1\"><span class=\"toc-item-num\">2.1&nbsp;&nbsp;</span>Load and Sample Kaggle H&amp;M Datasets</a></span><ul class=\"toc-item\"><li><span><a href=\"#Set-Up-File-Paths\" data-toc-modified-id=\"Set-Up-File-Paths-2.1.1\"><span class=\"toc-item-num\">2.1.1&nbsp;&nbsp;</span>Set Up File Paths</a></span></li><li><span><a href=\"#H&amp;M-Transaction-Dataset\" data-toc-modified-id=\"H&amp;M-Transaction-Dataset-2.1.2\"><span class=\"toc-item-num\">2.1.2&nbsp;&nbsp;</span>H&amp;M Transaction Dataset</a></span></li><li><span><a href=\"#H&amp;M-Articles-Dataset\" data-toc-modified-id=\"H&amp;M-Articles-Dataset-2.1.3\"><span class=\"toc-item-num\">2.1.3&nbsp;&nbsp;</span>H&amp;M Articles Dataset</a></span></li><li><span><a href=\"#H&amp;M-Customers-Dataset\" data-toc-modified-id=\"H&amp;M-Customers-Dataset-2.1.4\"><span class=\"toc-item-num\">2.1.4&nbsp;&nbsp;</span>H&amp;M Customers Dataset</a></span></li></ul></li><li><span><a href=\"#Exploratory-Data-Analysis\" data-toc-modified-id=\"Exploratory-Data-Analysis-2.2\"><span class=\"toc-item-num\">2.2&nbsp;&nbsp;</span>Exploratory Data Analysis</a></span><ul class=\"toc-item\"><li><span><a href=\"#H&amp;M-Sampled-Transaction-Dataset\" data-toc-modified-id=\"H&amp;M-Sampled-Transaction-Dataset-2.2.1\"><span class=\"toc-item-num\">2.2.1&nbsp;&nbsp;</span>H&amp;M Sampled Transaction Dataset</a></span></li><li><span><a href=\"#H&amp;M-Sampled-Customer-Dataset\" data-toc-modified-id=\"H&amp;M-Sampled-Customer-Dataset-2.2.2\"><span class=\"toc-item-num\">2.2.2&nbsp;&nbsp;</span>H&amp;M Sampled Customer Dataset</a></span></li><li><span><a href=\"#H&amp;M-Sampled-Articles-Dataset\" data-toc-modified-id=\"H&amp;M-Sampled-Articles-Dataset-2.2.3\"><span class=\"toc-item-num\">2.2.3&nbsp;&nbsp;</span>H&amp;M Sampled Articles Dataset</a></span></li></ul></li><li><span><a href=\"#Data-Preparation-and-Feature-Enrichment\" data-toc-modified-id=\"Data-Preparation-and-Feature-Enrichment-2.3\"><span class=\"toc-item-num\">2.3&nbsp;&nbsp;</span>Data Preparation and Feature Enrichment</a></span><ul class=\"toc-item\"><li><span><a href=\"#Transaction-Data-Feature-Enrichment-(Sample)\" data-toc-modified-id=\"Transaction-Data-Feature-Enrichment-(Sample)-2.3.1\"><span class=\"toc-item-num\">2.3.1&nbsp;&nbsp;</span>Transaction Data Feature Enrichment (Sample)</a></span></li><li><span><a href=\"#Extend-Dataframe-with-Customer-Data\" data-toc-modified-id=\"Extend-Dataframe-with-Customer-Data-2.3.2\"><span class=\"toc-item-num\">2.3.2&nbsp;&nbsp;</span>Extend Dataframe with Customer Data</a></span></li><li><span><a href=\"#Extend-Dataframe-with-Articles-Data\" data-toc-modified-id=\"Extend-Dataframe-with-Articles-Data-2.3.3\"><span class=\"toc-item-num\">2.3.3&nbsp;&nbsp;</span>Extend Dataframe with Articles Data</a></span></li><li><span><a href=\"#Final-Data-Preparation-Steps\" data-toc-modified-id=\"Final-Data-Preparation-Steps-2.3.4\"><span class=\"toc-item-num\">2.3.4&nbsp;&nbsp;</span>Final Data Preparation Steps</a></span></li></ul></li></ul></li><li><span><a href=\"#Mark-Data-:-Train-and-Test-Sets\" data-toc-modified-id=\"Mark-Data-:-Train-and-Test-Sets-3\"><span class=\"toc-item-num\">3&nbsp;&nbsp;</span>Mark Data : Train and Test Sets</a></span><ul class=\"toc-item\"><li><span><a href=\"#Display-Data-Analysis-of-Merged-Dataset\" data-toc-modified-id=\"Display-Data-Analysis-of-Merged-Dataset-3.1\"><span class=\"toc-item-num\">3.1&nbsp;&nbsp;</span>Display Data Analysis of Merged Dataset</a></span></li><li><span><a href=\"#Create-Training-Set-Based-on-Date-Rane-(-2-Wk-to--4-Wk)\" data-toc-modified-id=\"Create-Training-Set-Based-on-Date-Rane-(-2-Wk-to--4-Wk)-3.2\"><span class=\"toc-item-num\">3.2&nbsp;&nbsp;</span>Create Training Set Based on Date Rane (-2 Wk to -4 Wk)</a></span></li><li><span><a href=\"#Create-Test-Set-Based-on-Date-Range-(-1-Wk)\" data-toc-modified-id=\"Create-Test-Set-Based-on-Date-Range-(-1-Wk)-3.3\"><span class=\"toc-item-num\">3.3&nbsp;&nbsp;</span>Create Test Set Based on Date Range (-1 Wk)</a></span></li><li><span><a href=\"#Verify-Date-Ranges-in-Train/Test-Sets\" data-toc-modified-id=\"Verify-Date-Ranges-in-Train/Test-Sets-3.4\"><span class=\"toc-item-num\">3.4&nbsp;&nbsp;</span>Verify Date Ranges in Train/Test Sets</a></span></li><li><span><a href=\"#Set-up-Train/Test-Sets\" data-toc-modified-id=\"Set-up-Train/Test-Sets-3.5\"><span class=\"toc-item-num\">3.5&nbsp;&nbsp;</span>Set up Train/Test Sets</a></span><ul class=\"toc-item\"><li><span><a href=\"#Mark-Date-Filtered-Dataframes\" data-toc-modified-id=\"Mark-Date-Filtered-Dataframes-3.5.1\"><span class=\"toc-item-num\">3.5.1&nbsp;&nbsp;</span>Mark Date Filtered Dataframes</a></span></li><li><span><a href=\"#Concatenate-to-Combine-Date-Filtered-Dataframes\" data-toc-modified-id=\"Concatenate-to-Combine-Date-Filtered-Dataframes-3.5.2\"><span class=\"toc-item-num\">3.5.2&nbsp;&nbsp;</span>Concatenate to Combine Date Filtered Dataframes</a></span></li></ul></li></ul></li><li><span><a href=\"#Scale-and-Split-Data:-Train-and-Test-Sets\" data-toc-modified-id=\"Scale-and-Split-Data:-Train-and-Test-Sets-4\"><span class=\"toc-item-num\">4&nbsp;&nbsp;</span>Scale and Split Data: Train and Test Sets</a></span><ul class=\"toc-item\"><li><span><a href=\"#Scale-Date-Filtered-Transactions\" data-toc-modified-id=\"Scale-Date-Filtered-Transactions-4.1\"><span class=\"toc-item-num\">4.1&nbsp;&nbsp;</span>Scale Date Filtered Transactions</a></span></li><li><span><a href=\"#Split-Date-Filtered-Transactions:-Train-and-Test-Data\" data-toc-modified-id=\"Split-Date-Filtered-Transactions:-Train-and-Test-Data-4.2\"><span class=\"toc-item-num\">4.2&nbsp;&nbsp;</span>Split Date Filtered Transactions: Train and Test Data</a></span></li></ul></li><li><span><a href=\"#K-Nearest-Neighbour-Operations\" data-toc-modified-id=\"K-Nearest-Neighbour-Operations-5\"><span class=\"toc-item-num\">5&nbsp;&nbsp;</span>K Nearest Neighbour Operations</a></span><ul class=\"toc-item\"><li><span><a href=\"#Set-Up-the-Columns-to-be-Input-to-KNN\" data-toc-modified-id=\"Set-Up-the-Columns-to-be-Input-to-KNN-5.1\"><span class=\"toc-item-num\">5.1&nbsp;&nbsp;</span>Set Up the Columns to be Input to KNN</a></span></li><li><span><a href=\"#Create-Functions-for-NN-Analysis\" data-toc-modified-id=\"Create-Functions-for-NN-Analysis-5.2\"><span class=\"toc-item-num\">5.2&nbsp;&nbsp;</span>Create Functions for NN Analysis</a></span><ul class=\"toc-item\"><li><span><a href=\"#Set-up-function-to-Build-Nearest-Neighbours-Model\" data-toc-modified-id=\"Set-up-function-to-Build-Nearest-Neighbours-Model-5.2.1\"><span class=\"toc-item-num\">5.2.1&nbsp;&nbsp;</span>Set up function to Build Nearest Neighbours Model</a></span></li><li><span><a href=\"#Set-up-function-to--Nearest-Neighbours-(+-Articles-bought)-for-a-Customer\" data-toc-modified-id=\"Set-up-function-to--Nearest-Neighbours-(+-Articles-bought)-for-a-Customer-5.2.2\"><span class=\"toc-item-num\">5.2.2&nbsp;&nbsp;</span>Set up function to  Nearest Neighbours (+ Articles bought) for a Customer</a></span></li><li><span><a href=\"#Find-Top-Selling-Products-in-'Neighbourhood'-for-a-Customer\" data-toc-modified-id=\"Find-Top-Selling-Products-in-'Neighbourhood'-for-a-Customer-5.2.3\"><span class=\"toc-item-num\">5.2.3&nbsp;&nbsp;</span>Find Top Selling Products in 'Neighbourhood' for a Customer</a></span></li><li><span><a href=\"#Invoke-Function-to-Build-KNN-Model\" data-toc-modified-id=\"Invoke-Function-to-Build-KNN-Model-5.2.4\"><span class=\"toc-item-num\">5.2.4&nbsp;&nbsp;</span>Invoke Function to Build KNN Model</a></span></li></ul></li></ul></li><li><span><a href=\"#Evaluate-Model\" data-toc-modified-id=\"Evaluate-Model-6\"><span class=\"toc-item-num\">6&nbsp;&nbsp;</span>Evaluate Model</a></span><ul class=\"toc-item\"><li><span><a href=\"#Define-Functions-to-Extract-Customer-IDs-and-Article-Predictions-from-Test-Data\" data-toc-modified-id=\"Define-Functions-to-Extract-Customer-IDs-and-Article-Predictions-from-Test-Data-6.1\"><span class=\"toc-item-num\">6.1&nbsp;&nbsp;</span>Define Functions to Extract Customer IDs and Article Predictions from Test Data</a></span><ul class=\"toc-item\"><li><span><a href=\"#Define-Function-to-read-Customer-IDs-from-Submission-File\" data-toc-modified-id=\"Define-Function-to-read-Customer-IDs-from-Submission-File-6.1.1\"><span class=\"toc-item-num\">6.1.1&nbsp;&nbsp;</span>Define Function to read Customer IDs from Submission File</a></span></li><li><span><a href=\"#Define-Function-to-Obtain-Customer-Transactions\" data-toc-modified-id=\"Define-Function-to-Obtain-Customer-Transactions-6.1.2\"><span class=\"toc-item-num\">6.1.2&nbsp;&nbsp;</span>Define Function to Obtain Customer Transactions</a></span></li><li><span><a href=\"#Define-Function-to-Obtain-Customer-Features\" data-toc-modified-id=\"Define-Function-to-Obtain-Customer-Features-6.1.3\"><span class=\"toc-item-num\">6.1.3&nbsp;&nbsp;</span>Define Function to Obtain Customer Features</a></span></li><li><span><a href=\"#Define-Function-to-Obtain-Article-Features\" data-toc-modified-id=\"Define-Function-to-Obtain-Article-Features-6.1.4\"><span class=\"toc-item-num\">6.1.4&nbsp;&nbsp;</span>Define Function to Obtain Article Features</a></span></li><li><span><a href=\"#Define-Function-to-Obtain-Article-Predictions\" data-toc-modified-id=\"Define-Function-to-Obtain-Article-Predictions-6.1.5\"><span class=\"toc-item-num\">6.1.5&nbsp;&nbsp;</span>Define Function to Obtain Article Predictions</a></span></li><li><span><a href=\"#Define-Functions-to-Parse-Article-Predictions-for-Kaggle-Submission\" data-toc-modified-id=\"Define-Functions-to-Parse-Article-Predictions-for-Kaggle-Submission-6.1.6\"><span class=\"toc-item-num\">6.1.6&nbsp;&nbsp;</span>Define Functions to Parse Article Predictions for Kaggle Submission</a></span></li></ul></li><li><span><a href=\"#Define-Functions-to-Evaluate-Model-Predictions-aginst-Test-Data\" data-toc-modified-id=\"Define-Functions-to-Evaluate-Model-Predictions-aginst-Test-Data-6.2\"><span class=\"toc-item-num\">6.2&nbsp;&nbsp;</span>Define Functions to Evaluate Model Predictions aginst Test Data</a></span><ul class=\"toc-item\"><li><span><a href=\"#Set-up-function-to-return-latest-Customer-transactions-in-the-Test-Data\" data-toc-modified-id=\"Set-up-function-to-return-latest-Customer-transactions-in-the-Test-Data-6.2.1\"><span class=\"toc-item-num\">6.2.1&nbsp;&nbsp;</span>Set up function to return latest Customer transactions in the Test Data</a></span></li><li><span><a href=\"#Define-Function-to-Return-Evaluation-Score\" data-toc-modified-id=\"Define-Function-to-Return-Evaluation-Score-6.2.2\"><span class=\"toc-item-num\">6.2.2&nbsp;&nbsp;</span>Define Function to Return Evaluation Score</a></span></li><li><span><a href=\"#Iterate-Through-Test-Data-and-Generate-Predictions\" data-toc-modified-id=\"Iterate-Through-Test-Data-and-Generate-Predictions-6.2.3\"><span class=\"toc-item-num\">6.2.3&nbsp;&nbsp;</span>Iterate Through Test Data and Generate Predictions</a></span></li><li><span><a href=\"#Present-Accuracy-of-Predictions\" data-toc-modified-id=\"Present-Accuracy-of-Predictions-6.2.4\"><span class=\"toc-item-num\">6.2.4&nbsp;&nbsp;</span>Present Accuracy of Predictions</a></span></li></ul></li></ul></li><li><span><a href=\"#Build-Submission\" data-toc-modified-id=\"Build-Submission-7\"><span class=\"toc-item-num\">7&nbsp;&nbsp;</span>Build Submission</a></span><ul class=\"toc-item\"><li><span><a href=\"#Read-Sample-Submission-File\" data-toc-modified-id=\"Read-Sample-Submission-File-7.1\"><span class=\"toc-item-num\">7.1&nbsp;&nbsp;</span>Read Sample Submission File</a></span></li><li><span><a href=\"#Iterate-Through-Submission-File-to-Generate-Article-Predictions\" data-toc-modified-id=\"Iterate-Through-Submission-File-to-Generate-Article-Predictions-7.2\"><span class=\"toc-item-num\">7.2&nbsp;&nbsp;</span>Iterate Through Submission File to Generate Article Predictions</a></span></li><li><span><a href=\"#Write-Predictions-Submission-File-to-CSV\" data-toc-modified-id=\"Write-Predictions-Submission-File-to-CSV-7.3\"><span class=\"toc-item-num\">7.3&nbsp;&nbsp;</span>Write Predictions Submission File to CSV</a></span><ul class=\"toc-item\"><li><span><a href=\"#SetUp-Disk-Directory-for-Submission-File\" data-toc-modified-id=\"SetUp-Disk-Directory-for-Submission-File-7.3.1\"><span class=\"toc-item-num\">7.3.1&nbsp;&nbsp;</span>SetUp Disk Directory for Submission File</a></span></li><li><span><a href=\"#Create-Submission-.CSV-File\" data-toc-modified-id=\"Create-Submission-.CSV-File-7.3.2\"><span class=\"toc-item-num\">7.3.2&nbsp;&nbsp;</span>Create Submission .CSV File</a></span></li></ul></li></ul></li><li><span><a href=\"#References\" data-toc-modified-id=\"References-8\"><span class=\"toc-item-num\">8&nbsp;&nbsp;</span>References</a></span></li></ul></div>"
   ]
  },
  {
   "cell_type": "markdown",
   "metadata": {},
   "source": [
    "## Jupyter Notebook Set Up"
   ]
  },
  {
   "cell_type": "markdown",
   "metadata": {},
   "source": [
    "### Import Libraries"
   ]
  },
  {
   "cell_type": "markdown",
   "metadata": {},
   "source": [
    "Note: It is assumed that the matplotlib and plotly library has been installed on the user's machine before it is available for import.\n",
    "\n",
    "```bash\n",
    "> pip install matplotlib\n",
    "> pip install plotly\n",
    "```\n"
   ]
  },
  {
   "cell_type": "markdown",
   "metadata": {},
   "source": [
    "#### General Utility Libraries"
   ]
  },
  {
   "cell_type": "code",
   "execution_count": 1,
   "metadata": {},
   "outputs": [],
   "source": [
    "import os"
   ]
  },
  {
   "cell_type": "markdown",
   "metadata": {},
   "source": [
    "#### Panda + Numpy"
   ]
  },
  {
   "cell_type": "code",
   "execution_count": 2,
   "metadata": {},
   "outputs": [],
   "source": [
    "# Python libraries for data manipulation\n",
    "import numpy as np\n",
    "import pandas as pd\n",
    "from sklearn.preprocessing import MinMaxScaler\n",
    "from sklearn.model_selection import train_test_split\n",
    "from sklearn.neighbors import NearestNeighbors\n",
    "#from sklearn.preprocessing import StandardScaler"
   ]
  },
  {
   "cell_type": "markdown",
   "metadata": {},
   "source": [
    "Set up additional libraries for graphical presentations. A number of earlier graphs use Matplotlib. In later sections, Plotly graphs are used."
   ]
  },
  {
   "cell_type": "markdown",
   "metadata": {},
   "source": [
    "#### Matplotlib Library"
   ]
  },
  {
   "cell_type": "code",
   "execution_count": 3,
   "metadata": {},
   "outputs": [],
   "source": [
    "#import matplotlib.pyplot as plt"
   ]
  },
  {
   "cell_type": "markdown",
   "metadata": {},
   "source": [
    "#### Plotly Libraries"
   ]
  },
  {
   "cell_type": "code",
   "execution_count": 4,
   "metadata": {},
   "outputs": [],
   "source": [
    "# For interactive graphics and global displays\n",
    "#import plotly.express as px\n",
    "#import plotly.graph_objects as go"
   ]
  },
  {
   "cell_type": "markdown",
   "metadata": {},
   "source": [
    "### <a class=\"tocSkip\">"
   ]
  },
  {
   "cell_type": "code",
   "execution_count": 5,
   "metadata": {},
   "outputs": [],
   "source": [
    "import warnings\n",
    "warnings.filterwarnings(\"ignore\")"
   ]
  },
  {
   "cell_type": "markdown",
   "metadata": {},
   "source": [
    "### <a class=\"tocSkip\">"
   ]
  },
  {
   "cell_type": "markdown",
   "metadata": {},
   "source": [
    "## Project Data Import, Analysis and Preparation"
   ]
  },
  {
   "cell_type": "markdown",
   "metadata": {},
   "source": [
    "### Load and Sample Kaggle H&M Datasets"
   ]
  },
  {
   "cell_type": "markdown",
   "metadata": {},
   "source": [
    "### The assignment starts with a Kaggle H&M Personalised Fashion Recommendations datasets. <a class=\"tocSkip\">"
   ]
  },
  {
   "cell_type": "markdown",
   "metadata": {},
   "source": [
    "#### Set Up File Paths "
   ]
  },
  {
   "cell_type": "code",
   "execution_count": 6,
   "metadata": {},
   "outputs": [],
   "source": [
    "# Set up a Global path file variable to use when loading each dataset\n",
    "Path_To_Inputs = '../input'"
   ]
  },
  {
   "cell_type": "markdown",
   "metadata": {},
   "source": [
    "#### H&M Transaction Dataset "
   ]
  },
  {
   "cell_type": "code",
   "execution_count": 7,
   "metadata": {},
   "outputs": [],
   "source": [
    "# Load H&M Transaction dataset\n",
    "df_trxns = pd.read_csv(os.path.join(Path_To_Inputs,'transactions_train.csv'))"
   ]
  },
  {
   "cell_type": "code",
   "execution_count": 8,
   "metadata": {},
   "outputs": [
    {
     "data": {
      "text/plain": [
       "(31788324, 5)"
      ]
     },
     "execution_count": 8,
     "metadata": {},
     "output_type": "execute_result"
    }
   ],
   "source": [
    "# Display Number of Rows, Number of Columns in Transaction dataset prior to Sampling\n",
    "df_trxns.shape"
   ]
  },
  {
   "cell_type": "code",
   "execution_count": 9,
   "metadata": {},
   "outputs": [],
   "source": [
    "# Extract random sample of Transactions (without replacement) - 1% of records\n",
    "df_trxns_sample = df_trxns.sample(frac=0.01, replace=False)"
   ]
  },
  {
   "cell_type": "code",
   "execution_count": 10,
   "metadata": {},
   "outputs": [
    {
     "data": {
      "text/plain": [
       "(317883, 5)"
      ]
     },
     "execution_count": 10,
     "metadata": {},
     "output_type": "execute_result"
    }
   ],
   "source": [
    "# Display Number of Rows, Number of Columns in Transaction dataset after Sampling\n",
    "df_trxns_sample.shape"
   ]
  },
  {
   "cell_type": "code",
   "execution_count": 11,
   "metadata": {},
   "outputs": [
    {
     "data": {
      "text/html": [
       "<div>\n",
       "<style scoped>\n",
       "    .dataframe tbody tr th:only-of-type {\n",
       "        vertical-align: middle;\n",
       "    }\n",
       "\n",
       "    .dataframe tbody tr th {\n",
       "        vertical-align: top;\n",
       "    }\n",
       "\n",
       "    .dataframe thead th {\n",
       "        text-align: right;\n",
       "    }\n",
       "</style>\n",
       "<table border=\"1\" class=\"dataframe\">\n",
       "  <thead>\n",
       "    <tr style=\"text-align: right;\">\n",
       "      <th></th>\n",
       "      <th>t_dat</th>\n",
       "      <th>customer_id</th>\n",
       "      <th>article_id</th>\n",
       "      <th>price</th>\n",
       "      <th>sales_channel_id</th>\n",
       "    </tr>\n",
       "  </thead>\n",
       "  <tbody>\n",
       "    <tr>\n",
       "      <th>23777471</th>\n",
       "      <td>2020-03-27</td>\n",
       "      <td>5bd6a7fe864299db9dfb14abd64bb7ff1a458efa1bc577...</td>\n",
       "      <td>754404006</td>\n",
       "      <td>0.025407</td>\n",
       "      <td>2</td>\n",
       "    </tr>\n",
       "    <tr>\n",
       "      <th>23220435</th>\n",
       "      <td>2020-03-09</td>\n",
       "      <td>0df4fe521cc1bf5e785375ef6aa8025387f5fe60f8ad7a...</td>\n",
       "      <td>599580052</td>\n",
       "      <td>0.016932</td>\n",
       "      <td>2</td>\n",
       "    </tr>\n",
       "    <tr>\n",
       "      <th>11054520</th>\n",
       "      <td>2019-05-30</td>\n",
       "      <td>78852784471bc2699c356d5a9d8ccec313f75d2e40368d...</td>\n",
       "      <td>599719021</td>\n",
       "      <td>0.033881</td>\n",
       "      <td>2</td>\n",
       "    </tr>\n",
       "    <tr>\n",
       "      <th>16542322</th>\n",
       "      <td>2019-09-12</td>\n",
       "      <td>acdcabf58d4145344e4a3074967641b76d0d2a182ddb39...</td>\n",
       "      <td>315795004</td>\n",
       "      <td>0.016322</td>\n",
       "      <td>1</td>\n",
       "    </tr>\n",
       "    <tr>\n",
       "      <th>24182769</th>\n",
       "      <td>2020-04-05</td>\n",
       "      <td>efdd57e583b75a75217a2f180f87e3f35d540f2d83fea4...</td>\n",
       "      <td>856109003</td>\n",
       "      <td>0.016186</td>\n",
       "      <td>2</td>\n",
       "    </tr>\n",
       "  </tbody>\n",
       "</table>\n",
       "</div>"
      ],
      "text/plain": [
       "               t_dat                                        customer_id  \\\n",
       "23777471  2020-03-27  5bd6a7fe864299db9dfb14abd64bb7ff1a458efa1bc577...   \n",
       "23220435  2020-03-09  0df4fe521cc1bf5e785375ef6aa8025387f5fe60f8ad7a...   \n",
       "11054520  2019-05-30  78852784471bc2699c356d5a9d8ccec313f75d2e40368d...   \n",
       "16542322  2019-09-12  acdcabf58d4145344e4a3074967641b76d0d2a182ddb39...   \n",
       "24182769  2020-04-05  efdd57e583b75a75217a2f180f87e3f35d540f2d83fea4...   \n",
       "\n",
       "          article_id     price  sales_channel_id  \n",
       "23777471   754404006  0.025407                 2  \n",
       "23220435   599580052  0.016932                 2  \n",
       "11054520   599719021  0.033881                 2  \n",
       "16542322   315795004  0.016322                 1  \n",
       "24182769   856109003  0.016186                 2  "
      ]
     },
     "execution_count": 11,
     "metadata": {},
     "output_type": "execute_result"
    }
   ],
   "source": [
    "# Check out the index\n",
    "df_trxns_sample.head()"
   ]
  },
  {
   "cell_type": "markdown",
   "metadata": {},
   "source": [
    "#### H&M Articles Dataset "
   ]
  },
  {
   "cell_type": "code",
   "execution_count": 12,
   "metadata": {},
   "outputs": [],
   "source": [
    "# Read file, located in 'input' folder above this notebook, for articles data - containing meta data on purchasable items.\n",
    "df_Articles = pd.read_csv(os.path.join(Path_To_Inputs,'articles.csv'))"
   ]
  },
  {
   "cell_type": "code",
   "execution_count": 13,
   "metadata": {},
   "outputs": [
    {
     "data": {
      "text/plain": [
       "(105542, 25)"
      ]
     },
     "execution_count": 13,
     "metadata": {},
     "output_type": "execute_result"
    }
   ],
   "source": [
    "# Display Number of Rows, Number of Columns in Articles dataset\n",
    "df_Articles.shape"
   ]
  },
  {
   "cell_type": "code",
   "execution_count": 14,
   "metadata": {},
   "outputs": [],
   "source": [
    "# Extract only the H&M articles contained in the sample Transaction dataset \n",
    "articleIDs_in_Trxn_Sample  = set(df_trxns_sample[\"article_id\"])"
   ]
  },
  {
   "cell_type": "code",
   "execution_count": 15,
   "metadata": {},
   "outputs": [],
   "source": [
    "# Create dataset that only contains H&M articles in the sample Transaction dataset\n",
    "df_articles_sample = df_Articles[df_Articles[\"article_id\"].isin(articleIDs_in_Trxn_Sample)]"
   ]
  },
  {
   "cell_type": "code",
   "execution_count": 16,
   "metadata": {},
   "outputs": [
    {
     "data": {
      "text/plain": [
       "(53680, 25)"
      ]
     },
     "execution_count": 16,
     "metadata": {},
     "output_type": "execute_result"
    }
   ],
   "source": [
    "# Display Number of Rows, Number of Columns in Sample Articles dataset\n",
    "df_articles_sample.shape"
   ]
  },
  {
   "cell_type": "markdown",
   "metadata": {},
   "source": [
    "#### H&M Customers Dataset "
   ]
  },
  {
   "cell_type": "code",
   "execution_count": 17,
   "metadata": {},
   "outputs": [],
   "source": [
    "# Load H&M Customer dataset\n",
    "df_customers = pd.read_csv(os.path.join(Path_To_Inputs,'customers.csv'))"
   ]
  },
  {
   "cell_type": "code",
   "execution_count": 18,
   "metadata": {},
   "outputs": [
    {
     "data": {
      "text/plain": [
       "(1371980, 7)"
      ]
     },
     "execution_count": 18,
     "metadata": {},
     "output_type": "execute_result"
    }
   ],
   "source": [
    "# Display Number of Rows, Number of Columns in Customers dataset prior to Sampling\n",
    "df_customers.shape"
   ]
  },
  {
   "cell_type": "code",
   "execution_count": 19,
   "metadata": {},
   "outputs": [],
   "source": [
    "# Extract only the H&M Customers contained in the sample Transaction dataset \n",
    "custIDs_in_Trxn_Sample  = set(df_trxns_sample[\"customer_id\"])"
   ]
  },
  {
   "cell_type": "code",
   "execution_count": 20,
   "metadata": {},
   "outputs": [
    {
     "data": {
      "text/plain": [
       "230065"
      ]
     },
     "execution_count": 20,
     "metadata": {},
     "output_type": "execute_result"
    }
   ],
   "source": [
    "#Count Customer Ids in Transaction Sample\n",
    "len(custIDs_in_Trxn_Sample)"
   ]
  },
  {
   "cell_type": "code",
   "execution_count": 21,
   "metadata": {},
   "outputs": [],
   "source": [
    "# Create dataset that only contains H&M Customers from the sample Transaction dataset\n",
    "df_customers_sample = df_customers[df_customers[\"customer_id\"].isin(custIDs_in_Trxn_Sample)]"
   ]
  },
  {
   "cell_type": "code",
   "execution_count": 22,
   "metadata": {},
   "outputs": [
    {
     "data": {
      "text/plain": [
       "(230065, 7)"
      ]
     },
     "execution_count": 22,
     "metadata": {},
     "output_type": "execute_result"
    }
   ],
   "source": [
    "# Display Number of Rows, Number of Columns in Sample Customers dataset\n",
    "df_customers_sample.shape"
   ]
  },
  {
   "cell_type": "markdown",
   "metadata": {},
   "source": [
    "###### "
   ]
  },
  {
   "cell_type": "markdown",
   "metadata": {},
   "source": [
    "### Exploratory Data Analysis"
   ]
  },
  {
   "cell_type": "markdown",
   "metadata": {},
   "source": [
    "### Display key data attributes and distributions in Sampled H&M datasets. <a class=\"tocSkip\">"
   ]
  },
  {
   "cell_type": "markdown",
   "metadata": {},
   "source": [
    "#### H&M Sampled Transaction Dataset "
   ]
  },
  {
   "cell_type": "code",
   "execution_count": 23,
   "metadata": {},
   "outputs": [
    {
     "data": {
      "text/html": [
       "<div>\n",
       "<style scoped>\n",
       "    .dataframe tbody tr th:only-of-type {\n",
       "        vertical-align: middle;\n",
       "    }\n",
       "\n",
       "    .dataframe tbody tr th {\n",
       "        vertical-align: top;\n",
       "    }\n",
       "\n",
       "    .dataframe thead th {\n",
       "        text-align: right;\n",
       "    }\n",
       "</style>\n",
       "<table border=\"1\" class=\"dataframe\">\n",
       "  <thead>\n",
       "    <tr style=\"text-align: right;\">\n",
       "      <th></th>\n",
       "      <th>t_dat</th>\n",
       "      <th>customer_id</th>\n",
       "      <th>article_id</th>\n",
       "      <th>price</th>\n",
       "      <th>sales_channel_id</th>\n",
       "    </tr>\n",
       "  </thead>\n",
       "  <tbody>\n",
       "    <tr>\n",
       "      <th>23777471</th>\n",
       "      <td>2020-03-27</td>\n",
       "      <td>5bd6a7fe864299db9dfb14abd64bb7ff1a458efa1bc577...</td>\n",
       "      <td>754404006</td>\n",
       "      <td>0.025407</td>\n",
       "      <td>2</td>\n",
       "    </tr>\n",
       "    <tr>\n",
       "      <th>23220435</th>\n",
       "      <td>2020-03-09</td>\n",
       "      <td>0df4fe521cc1bf5e785375ef6aa8025387f5fe60f8ad7a...</td>\n",
       "      <td>599580052</td>\n",
       "      <td>0.016932</td>\n",
       "      <td>2</td>\n",
       "    </tr>\n",
       "    <tr>\n",
       "      <th>11054520</th>\n",
       "      <td>2019-05-30</td>\n",
       "      <td>78852784471bc2699c356d5a9d8ccec313f75d2e40368d...</td>\n",
       "      <td>599719021</td>\n",
       "      <td>0.033881</td>\n",
       "      <td>2</td>\n",
       "    </tr>\n",
       "    <tr>\n",
       "      <th>16542322</th>\n",
       "      <td>2019-09-12</td>\n",
       "      <td>acdcabf58d4145344e4a3074967641b76d0d2a182ddb39...</td>\n",
       "      <td>315795004</td>\n",
       "      <td>0.016322</td>\n",
       "      <td>1</td>\n",
       "    </tr>\n",
       "    <tr>\n",
       "      <th>24182769</th>\n",
       "      <td>2020-04-05</td>\n",
       "      <td>efdd57e583b75a75217a2f180f87e3f35d540f2d83fea4...</td>\n",
       "      <td>856109003</td>\n",
       "      <td>0.016186</td>\n",
       "      <td>2</td>\n",
       "    </tr>\n",
       "  </tbody>\n",
       "</table>\n",
       "</div>"
      ],
      "text/plain": [
       "               t_dat                                        customer_id  \\\n",
       "23777471  2020-03-27  5bd6a7fe864299db9dfb14abd64bb7ff1a458efa1bc577...   \n",
       "23220435  2020-03-09  0df4fe521cc1bf5e785375ef6aa8025387f5fe60f8ad7a...   \n",
       "11054520  2019-05-30  78852784471bc2699c356d5a9d8ccec313f75d2e40368d...   \n",
       "16542322  2019-09-12  acdcabf58d4145344e4a3074967641b76d0d2a182ddb39...   \n",
       "24182769  2020-04-05  efdd57e583b75a75217a2f180f87e3f35d540f2d83fea4...   \n",
       "\n",
       "          article_id     price  sales_channel_id  \n",
       "23777471   754404006  0.025407                 2  \n",
       "23220435   599580052  0.016932                 2  \n",
       "11054520   599719021  0.033881                 2  \n",
       "16542322   315795004  0.016322                 1  \n",
       "24182769   856109003  0.016186                 2  "
      ]
     },
     "execution_count": 23,
     "metadata": {},
     "output_type": "execute_result"
    }
   ],
   "source": [
    "# Display basic column information for the initial Kaggle 'transaction_train' datatset - after Sampling of original dataset\n",
    "df_trxns_sample.head()"
   ]
  },
  {
   "cell_type": "code",
   "execution_count": 24,
   "metadata": {},
   "outputs": [
    {
     "data": {
      "text/plain": [
       "t_dat                object\n",
       "customer_id          object\n",
       "article_id            int64\n",
       "price               float64\n",
       "sales_channel_id      int64\n",
       "dtype: object"
      ]
     },
     "execution_count": 24,
     "metadata": {},
     "output_type": "execute_result"
    }
   ],
   "source": [
    "# Display datatype of colums in original H&M Transaction dataset\n",
    "df_trxns_sample.dtypes"
   ]
  },
  {
   "cell_type": "markdown",
   "metadata": {},
   "source": [
    "#### H&M Sampled Customer Dataset "
   ]
  },
  {
   "cell_type": "code",
   "execution_count": 25,
   "metadata": {},
   "outputs": [
    {
     "data": {
      "text/html": [
       "<div>\n",
       "<style scoped>\n",
       "    .dataframe tbody tr th:only-of-type {\n",
       "        vertical-align: middle;\n",
       "    }\n",
       "\n",
       "    .dataframe tbody tr th {\n",
       "        vertical-align: top;\n",
       "    }\n",
       "\n",
       "    .dataframe thead th {\n",
       "        text-align: right;\n",
       "    }\n",
       "</style>\n",
       "<table border=\"1\" class=\"dataframe\">\n",
       "  <thead>\n",
       "    <tr style=\"text-align: right;\">\n",
       "      <th></th>\n",
       "      <th>customer_id</th>\n",
       "      <th>FN</th>\n",
       "      <th>Active</th>\n",
       "      <th>club_member_status</th>\n",
       "      <th>fashion_news_frequency</th>\n",
       "      <th>age</th>\n",
       "      <th>postal_code</th>\n",
       "    </tr>\n",
       "  </thead>\n",
       "  <tbody>\n",
       "    <tr>\n",
       "      <th>0</th>\n",
       "      <td>00000dbacae5abe5e23885899a1fa44253a17956c6d1c3...</td>\n",
       "      <td>NaN</td>\n",
       "      <td>NaN</td>\n",
       "      <td>ACTIVE</td>\n",
       "      <td>NONE</td>\n",
       "      <td>49.0</td>\n",
       "      <td>52043ee2162cf5aa7ee79974281641c6f11a68d276429a...</td>\n",
       "    </tr>\n",
       "    <tr>\n",
       "      <th>2</th>\n",
       "      <td>000058a12d5b43e67d225668fa1f8d618c13dc232df0ca...</td>\n",
       "      <td>NaN</td>\n",
       "      <td>NaN</td>\n",
       "      <td>ACTIVE</td>\n",
       "      <td>NONE</td>\n",
       "      <td>24.0</td>\n",
       "      <td>64f17e6a330a85798e4998f62d0930d14db8db1c054af6...</td>\n",
       "    </tr>\n",
       "    <tr>\n",
       "      <th>20</th>\n",
       "      <td>0000e9a4db2da4e9c68558ad1e7df570d02767b213ec6b...</td>\n",
       "      <td>1.0</td>\n",
       "      <td>1.0</td>\n",
       "      <td>ACTIVE</td>\n",
       "      <td>Regularly</td>\n",
       "      <td>27.0</td>\n",
       "      <td>de497104dda880ac040e1476cfa3587c405ceb6f53dc53...</td>\n",
       "    </tr>\n",
       "    <tr>\n",
       "      <th>21</th>\n",
       "      <td>0000f1c71aafe5963c3d195cf273f7bfd50bbf17761c91...</td>\n",
       "      <td>1.0</td>\n",
       "      <td>1.0</td>\n",
       "      <td>ACTIVE</td>\n",
       "      <td>Regularly</td>\n",
       "      <td>30.0</td>\n",
       "      <td>7c902dca60ee0bd0f9030eefd445d11146e8d24835738a...</td>\n",
       "    </tr>\n",
       "    <tr>\n",
       "      <th>22</th>\n",
       "      <td>0000f2ea26b7f0a9175f428c8cf7743e9e10e193465ecd...</td>\n",
       "      <td>NaN</td>\n",
       "      <td>NaN</td>\n",
       "      <td>ACTIVE</td>\n",
       "      <td>NONE</td>\n",
       "      <td>48.0</td>\n",
       "      <td>11404208b30249e22baed5c16782671d46b5e5e0690ab7...</td>\n",
       "    </tr>\n",
       "  </tbody>\n",
       "</table>\n",
       "</div>"
      ],
      "text/plain": [
       "                                          customer_id   FN  Active  \\\n",
       "0   00000dbacae5abe5e23885899a1fa44253a17956c6d1c3...  NaN     NaN   \n",
       "2   000058a12d5b43e67d225668fa1f8d618c13dc232df0ca...  NaN     NaN   \n",
       "20  0000e9a4db2da4e9c68558ad1e7df570d02767b213ec6b...  1.0     1.0   \n",
       "21  0000f1c71aafe5963c3d195cf273f7bfd50bbf17761c91...  1.0     1.0   \n",
       "22  0000f2ea26b7f0a9175f428c8cf7743e9e10e193465ecd...  NaN     NaN   \n",
       "\n",
       "   club_member_status fashion_news_frequency   age  \\\n",
       "0              ACTIVE                   NONE  49.0   \n",
       "2              ACTIVE                   NONE  24.0   \n",
       "20             ACTIVE              Regularly  27.0   \n",
       "21             ACTIVE              Regularly  30.0   \n",
       "22             ACTIVE                   NONE  48.0   \n",
       "\n",
       "                                          postal_code  \n",
       "0   52043ee2162cf5aa7ee79974281641c6f11a68d276429a...  \n",
       "2   64f17e6a330a85798e4998f62d0930d14db8db1c054af6...  \n",
       "20  de497104dda880ac040e1476cfa3587c405ceb6f53dc53...  \n",
       "21  7c902dca60ee0bd0f9030eefd445d11146e8d24835738a...  \n",
       "22  11404208b30249e22baed5c16782671d46b5e5e0690ab7...  "
      ]
     },
     "execution_count": 25,
     "metadata": {},
     "output_type": "execute_result"
    }
   ],
   "source": [
    "# Display basic column information for the initial Kaggle 'customers' datatset - after Sampling of original dataset\n",
    "df_customers_sample.head()"
   ]
  },
  {
   "cell_type": "code",
   "execution_count": 26,
   "metadata": {},
   "outputs": [
    {
     "data": {
      "text/plain": [
       "customer_id                object\n",
       "FN                        float64\n",
       "Active                    float64\n",
       "club_member_status         object\n",
       "fashion_news_frequency     object\n",
       "age                       float64\n",
       "postal_code                object\n",
       "dtype: object"
      ]
     },
     "execution_count": 26,
     "metadata": {},
     "output_type": "execute_result"
    }
   ],
   "source": [
    "df_customers_sample.dtypes"
   ]
  },
  {
   "cell_type": "markdown",
   "metadata": {},
   "source": [
    "#### H&M Sampled Articles Dataset "
   ]
  },
  {
   "cell_type": "code",
   "execution_count": 27,
   "metadata": {},
   "outputs": [
    {
     "data": {
      "text/html": [
       "<div>\n",
       "<style scoped>\n",
       "    .dataframe tbody tr th:only-of-type {\n",
       "        vertical-align: middle;\n",
       "    }\n",
       "\n",
       "    .dataframe tbody tr th {\n",
       "        vertical-align: top;\n",
       "    }\n",
       "\n",
       "    .dataframe thead th {\n",
       "        text-align: right;\n",
       "    }\n",
       "</style>\n",
       "<table border=\"1\" class=\"dataframe\">\n",
       "  <thead>\n",
       "    <tr style=\"text-align: right;\">\n",
       "      <th></th>\n",
       "      <th>article_id</th>\n",
       "      <th>product_code</th>\n",
       "      <th>prod_name</th>\n",
       "      <th>product_type_no</th>\n",
       "      <th>product_type_name</th>\n",
       "      <th>product_group_name</th>\n",
       "      <th>graphical_appearance_no</th>\n",
       "      <th>graphical_appearance_name</th>\n",
       "      <th>colour_group_code</th>\n",
       "      <th>colour_group_name</th>\n",
       "      <th>...</th>\n",
       "      <th>department_name</th>\n",
       "      <th>index_code</th>\n",
       "      <th>index_name</th>\n",
       "      <th>index_group_no</th>\n",
       "      <th>index_group_name</th>\n",
       "      <th>section_no</th>\n",
       "      <th>section_name</th>\n",
       "      <th>garment_group_no</th>\n",
       "      <th>garment_group_name</th>\n",
       "      <th>detail_desc</th>\n",
       "    </tr>\n",
       "  </thead>\n",
       "  <tbody>\n",
       "    <tr>\n",
       "      <th>0</th>\n",
       "      <td>108775015</td>\n",
       "      <td>108775</td>\n",
       "      <td>Strap top</td>\n",
       "      <td>253</td>\n",
       "      <td>Vest top</td>\n",
       "      <td>Garment Upper body</td>\n",
       "      <td>1010016</td>\n",
       "      <td>Solid</td>\n",
       "      <td>9</td>\n",
       "      <td>Black</td>\n",
       "      <td>...</td>\n",
       "      <td>Jersey Basic</td>\n",
       "      <td>A</td>\n",
       "      <td>Ladieswear</td>\n",
       "      <td>1</td>\n",
       "      <td>Ladieswear</td>\n",
       "      <td>16</td>\n",
       "      <td>Womens Everyday Basics</td>\n",
       "      <td>1002</td>\n",
       "      <td>Jersey Basic</td>\n",
       "      <td>Jersey top with narrow shoulder straps.</td>\n",
       "    </tr>\n",
       "    <tr>\n",
       "      <th>1</th>\n",
       "      <td>108775044</td>\n",
       "      <td>108775</td>\n",
       "      <td>Strap top</td>\n",
       "      <td>253</td>\n",
       "      <td>Vest top</td>\n",
       "      <td>Garment Upper body</td>\n",
       "      <td>1010016</td>\n",
       "      <td>Solid</td>\n",
       "      <td>10</td>\n",
       "      <td>White</td>\n",
       "      <td>...</td>\n",
       "      <td>Jersey Basic</td>\n",
       "      <td>A</td>\n",
       "      <td>Ladieswear</td>\n",
       "      <td>1</td>\n",
       "      <td>Ladieswear</td>\n",
       "      <td>16</td>\n",
       "      <td>Womens Everyday Basics</td>\n",
       "      <td>1002</td>\n",
       "      <td>Jersey Basic</td>\n",
       "      <td>Jersey top with narrow shoulder straps.</td>\n",
       "    </tr>\n",
       "    <tr>\n",
       "      <th>2</th>\n",
       "      <td>108775051</td>\n",
       "      <td>108775</td>\n",
       "      <td>Strap top (1)</td>\n",
       "      <td>253</td>\n",
       "      <td>Vest top</td>\n",
       "      <td>Garment Upper body</td>\n",
       "      <td>1010017</td>\n",
       "      <td>Stripe</td>\n",
       "      <td>11</td>\n",
       "      <td>Off White</td>\n",
       "      <td>...</td>\n",
       "      <td>Jersey Basic</td>\n",
       "      <td>A</td>\n",
       "      <td>Ladieswear</td>\n",
       "      <td>1</td>\n",
       "      <td>Ladieswear</td>\n",
       "      <td>16</td>\n",
       "      <td>Womens Everyday Basics</td>\n",
       "      <td>1002</td>\n",
       "      <td>Jersey Basic</td>\n",
       "      <td>Jersey top with narrow shoulder straps.</td>\n",
       "    </tr>\n",
       "    <tr>\n",
       "      <th>3</th>\n",
       "      <td>110065001</td>\n",
       "      <td>110065</td>\n",
       "      <td>OP T-shirt (Idro)</td>\n",
       "      <td>306</td>\n",
       "      <td>Bra</td>\n",
       "      <td>Underwear</td>\n",
       "      <td>1010016</td>\n",
       "      <td>Solid</td>\n",
       "      <td>9</td>\n",
       "      <td>Black</td>\n",
       "      <td>...</td>\n",
       "      <td>Clean Lingerie</td>\n",
       "      <td>B</td>\n",
       "      <td>Lingeries/Tights</td>\n",
       "      <td>1</td>\n",
       "      <td>Ladieswear</td>\n",
       "      <td>61</td>\n",
       "      <td>Womens Lingerie</td>\n",
       "      <td>1017</td>\n",
       "      <td>Under-, Nightwear</td>\n",
       "      <td>Microfibre T-shirt bra with underwired, moulde...</td>\n",
       "    </tr>\n",
       "    <tr>\n",
       "      <th>4</th>\n",
       "      <td>110065002</td>\n",
       "      <td>110065</td>\n",
       "      <td>OP T-shirt (Idro)</td>\n",
       "      <td>306</td>\n",
       "      <td>Bra</td>\n",
       "      <td>Underwear</td>\n",
       "      <td>1010016</td>\n",
       "      <td>Solid</td>\n",
       "      <td>10</td>\n",
       "      <td>White</td>\n",
       "      <td>...</td>\n",
       "      <td>Clean Lingerie</td>\n",
       "      <td>B</td>\n",
       "      <td>Lingeries/Tights</td>\n",
       "      <td>1</td>\n",
       "      <td>Ladieswear</td>\n",
       "      <td>61</td>\n",
       "      <td>Womens Lingerie</td>\n",
       "      <td>1017</td>\n",
       "      <td>Under-, Nightwear</td>\n",
       "      <td>Microfibre T-shirt bra with underwired, moulde...</td>\n",
       "    </tr>\n",
       "  </tbody>\n",
       "</table>\n",
       "<p>5 rows × 25 columns</p>\n",
       "</div>"
      ],
      "text/plain": [
       "   article_id  product_code          prod_name  product_type_no  \\\n",
       "0   108775015        108775          Strap top              253   \n",
       "1   108775044        108775          Strap top              253   \n",
       "2   108775051        108775      Strap top (1)              253   \n",
       "3   110065001        110065  OP T-shirt (Idro)              306   \n",
       "4   110065002        110065  OP T-shirt (Idro)              306   \n",
       "\n",
       "  product_type_name  product_group_name  graphical_appearance_no  \\\n",
       "0          Vest top  Garment Upper body                  1010016   \n",
       "1          Vest top  Garment Upper body                  1010016   \n",
       "2          Vest top  Garment Upper body                  1010017   \n",
       "3               Bra           Underwear                  1010016   \n",
       "4               Bra           Underwear                  1010016   \n",
       "\n",
       "  graphical_appearance_name  colour_group_code colour_group_name  ...  \\\n",
       "0                     Solid                  9             Black  ...   \n",
       "1                     Solid                 10             White  ...   \n",
       "2                    Stripe                 11         Off White  ...   \n",
       "3                     Solid                  9             Black  ...   \n",
       "4                     Solid                 10             White  ...   \n",
       "\n",
       "   department_name index_code        index_name index_group_no  \\\n",
       "0     Jersey Basic          A        Ladieswear              1   \n",
       "1     Jersey Basic          A        Ladieswear              1   \n",
       "2     Jersey Basic          A        Ladieswear              1   \n",
       "3   Clean Lingerie          B  Lingeries/Tights              1   \n",
       "4   Clean Lingerie          B  Lingeries/Tights              1   \n",
       "\n",
       "   index_group_name section_no            section_name garment_group_no  \\\n",
       "0        Ladieswear         16  Womens Everyday Basics             1002   \n",
       "1        Ladieswear         16  Womens Everyday Basics             1002   \n",
       "2        Ladieswear         16  Womens Everyday Basics             1002   \n",
       "3        Ladieswear         61         Womens Lingerie             1017   \n",
       "4        Ladieswear         61         Womens Lingerie             1017   \n",
       "\n",
       "   garment_group_name                                        detail_desc  \n",
       "0        Jersey Basic            Jersey top with narrow shoulder straps.  \n",
       "1        Jersey Basic            Jersey top with narrow shoulder straps.  \n",
       "2        Jersey Basic            Jersey top with narrow shoulder straps.  \n",
       "3   Under-, Nightwear  Microfibre T-shirt bra with underwired, moulde...  \n",
       "4   Under-, Nightwear  Microfibre T-shirt bra with underwired, moulde...  \n",
       "\n",
       "[5 rows x 25 columns]"
      ]
     },
     "execution_count": 27,
     "metadata": {},
     "output_type": "execute_result"
    }
   ],
   "source": [
    "# Display basic column information for the initial Kaggle 'article' datatset - after Sampling of original dataset\n",
    "df_articles_sample.head()"
   ]
  },
  {
   "cell_type": "code",
   "execution_count": 28,
   "metadata": {},
   "outputs": [
    {
     "data": {
      "text/plain": [
       "article_id                       int64\n",
       "product_code                     int64\n",
       "prod_name                       object\n",
       "product_type_no                  int64\n",
       "product_type_name               object\n",
       "product_group_name              object\n",
       "graphical_appearance_no          int64\n",
       "graphical_appearance_name       object\n",
       "colour_group_code                int64\n",
       "colour_group_name               object\n",
       "perceived_colour_value_id        int64\n",
       "perceived_colour_value_name     object\n",
       "perceived_colour_master_id       int64\n",
       "perceived_colour_master_name    object\n",
       "department_no                    int64\n",
       "department_name                 object\n",
       "index_code                      object\n",
       "index_name                      object\n",
       "index_group_no                   int64\n",
       "index_group_name                object\n",
       "section_no                       int64\n",
       "section_name                    object\n",
       "garment_group_no                 int64\n",
       "garment_group_name              object\n",
       "detail_desc                     object\n",
       "dtype: object"
      ]
     },
     "execution_count": 28,
     "metadata": {},
     "output_type": "execute_result"
    }
   ],
   "source": [
    "df_articles_sample.dtypes"
   ]
  },
  {
   "cell_type": "markdown",
   "metadata": {},
   "source": [
    "###### "
   ]
  },
  {
   "cell_type": "markdown",
   "metadata": {},
   "source": [
    "### Data Preparation and Feature Enrichment"
   ]
  },
  {
   "cell_type": "markdown",
   "metadata": {},
   "source": [
    "### Construct a dataset upon which to build ML models. <a class=\"tocSkip\">"
   ]
  },
  {
   "cell_type": "markdown",
   "metadata": {},
   "source": [
    "### Begin with Transaction Dataset (sampled) and merge in customer and article data. <a class=\"tocSkip\">"
   ]
  },
  {
   "cell_type": "markdown",
   "metadata": {},
   "source": [
    "#### Transaction Data Feature Enrichment (Sample)"
   ]
  },
  {
   "cell_type": "code",
   "execution_count": 29,
   "metadata": {},
   "outputs": [],
   "source": [
    "# Create new dataset for modelling. Initial basis for new dataset is the sampled transaction dataset.\n",
    "df_HM_CustTrxn = df_trxns_sample"
   ]
  },
  {
   "cell_type": "code",
   "execution_count": 30,
   "metadata": {},
   "outputs": [
    {
     "data": {
      "text/html": [
       "<div>\n",
       "<style scoped>\n",
       "    .dataframe tbody tr th:only-of-type {\n",
       "        vertical-align: middle;\n",
       "    }\n",
       "\n",
       "    .dataframe tbody tr th {\n",
       "        vertical-align: top;\n",
       "    }\n",
       "\n",
       "    .dataframe thead th {\n",
       "        text-align: right;\n",
       "    }\n",
       "</style>\n",
       "<table border=\"1\" class=\"dataframe\">\n",
       "  <thead>\n",
       "    <tr style=\"text-align: right;\">\n",
       "      <th></th>\n",
       "      <th>t_dat</th>\n",
       "      <th>customer_id</th>\n",
       "      <th>article_id</th>\n",
       "      <th>price</th>\n",
       "      <th>sales_channel_id</th>\n",
       "    </tr>\n",
       "  </thead>\n",
       "  <tbody>\n",
       "    <tr>\n",
       "      <th>23777471</th>\n",
       "      <td>2020-03-27</td>\n",
       "      <td>5bd6a7fe864299db9dfb14abd64bb7ff1a458efa1bc577...</td>\n",
       "      <td>754404006</td>\n",
       "      <td>0.025407</td>\n",
       "      <td>2</td>\n",
       "    </tr>\n",
       "    <tr>\n",
       "      <th>23220435</th>\n",
       "      <td>2020-03-09</td>\n",
       "      <td>0df4fe521cc1bf5e785375ef6aa8025387f5fe60f8ad7a...</td>\n",
       "      <td>599580052</td>\n",
       "      <td>0.016932</td>\n",
       "      <td>2</td>\n",
       "    </tr>\n",
       "    <tr>\n",
       "      <th>11054520</th>\n",
       "      <td>2019-05-30</td>\n",
       "      <td>78852784471bc2699c356d5a9d8ccec313f75d2e40368d...</td>\n",
       "      <td>599719021</td>\n",
       "      <td>0.033881</td>\n",
       "      <td>2</td>\n",
       "    </tr>\n",
       "    <tr>\n",
       "      <th>16542322</th>\n",
       "      <td>2019-09-12</td>\n",
       "      <td>acdcabf58d4145344e4a3074967641b76d0d2a182ddb39...</td>\n",
       "      <td>315795004</td>\n",
       "      <td>0.016322</td>\n",
       "      <td>1</td>\n",
       "    </tr>\n",
       "    <tr>\n",
       "      <th>24182769</th>\n",
       "      <td>2020-04-05</td>\n",
       "      <td>efdd57e583b75a75217a2f180f87e3f35d540f2d83fea4...</td>\n",
       "      <td>856109003</td>\n",
       "      <td>0.016186</td>\n",
       "      <td>2</td>\n",
       "    </tr>\n",
       "  </tbody>\n",
       "</table>\n",
       "</div>"
      ],
      "text/plain": [
       "               t_dat                                        customer_id  \\\n",
       "23777471  2020-03-27  5bd6a7fe864299db9dfb14abd64bb7ff1a458efa1bc577...   \n",
       "23220435  2020-03-09  0df4fe521cc1bf5e785375ef6aa8025387f5fe60f8ad7a...   \n",
       "11054520  2019-05-30  78852784471bc2699c356d5a9d8ccec313f75d2e40368d...   \n",
       "16542322  2019-09-12  acdcabf58d4145344e4a3074967641b76d0d2a182ddb39...   \n",
       "24182769  2020-04-05  efdd57e583b75a75217a2f180f87e3f35d540f2d83fea4...   \n",
       "\n",
       "          article_id     price  sales_channel_id  \n",
       "23777471   754404006  0.025407                 2  \n",
       "23220435   599580052  0.016932                 2  \n",
       "11054520   599719021  0.033881                 2  \n",
       "16542322   315795004  0.016322                 1  \n",
       "24182769   856109003  0.016186                 2  "
      ]
     },
     "execution_count": 30,
     "metadata": {},
     "output_type": "execute_result"
    }
   ],
   "source": [
    "df_HM_CustTrxn.head()"
   ]
  },
  {
   "cell_type": "code",
   "execution_count": 31,
   "metadata": {},
   "outputs": [],
   "source": [
    "# Decompose Datetime information \n",
    "df_HM_CustTrxn['t_dat'] = pd.to_datetime(df_HM_CustTrxn['t_dat'], format=\"%Y-%m-%d\")\n",
    "\n",
    "# Add Column for Transaction Year and convert to integer value\n",
    "df_HM_CustTrxn['txn_year'] = df_HM_CustTrxn['t_dat'].dt.strftime('%Y')\n",
    "df_HM_CustTrxn['txn_year'] = df_HM_CustTrxn['txn_year'].astype(str).astype(int)\n",
    "\n",
    "# Add Column for Transaction Month and convert to integer value\n",
    "df_HM_CustTrxn['txn_mth'] = df_HM_CustTrxn['t_dat'].dt.strftime('%m')\n",
    "df_HM_CustTrxn['txn_mth'] = df_HM_CustTrxn['txn_mth'].astype(str).astype(int)\n",
    "\n",
    "# Add Column for Transaction Day and convert to integer value\n",
    "df_HM_CustTrxn['txn_day'] = df_HM_CustTrxn['t_dat'].dt.strftime('%d')\n",
    "df_HM_CustTrxn['txn_day'] = df_HM_CustTrxn['txn_day'].astype(str).astype(int)"
   ]
  },
  {
   "cell_type": "code",
   "execution_count": 32,
   "metadata": {},
   "outputs": [],
   "source": [
    "# Filter out column to drop timestamp attribute\n",
    "# df_HM_CustTrxn = df_HM_CustTrxn.iloc[:,1:8]"
   ]
  },
  {
   "cell_type": "code",
   "execution_count": 33,
   "metadata": {},
   "outputs": [
    {
     "data": {
      "text/html": [
       "<div>\n",
       "<style scoped>\n",
       "    .dataframe tbody tr th:only-of-type {\n",
       "        vertical-align: middle;\n",
       "    }\n",
       "\n",
       "    .dataframe tbody tr th {\n",
       "        vertical-align: top;\n",
       "    }\n",
       "\n",
       "    .dataframe thead th {\n",
       "        text-align: right;\n",
       "    }\n",
       "</style>\n",
       "<table border=\"1\" class=\"dataframe\">\n",
       "  <thead>\n",
       "    <tr style=\"text-align: right;\">\n",
       "      <th></th>\n",
       "      <th>t_dat</th>\n",
       "      <th>customer_id</th>\n",
       "      <th>article_id</th>\n",
       "      <th>price</th>\n",
       "      <th>sales_channel_id</th>\n",
       "      <th>txn_year</th>\n",
       "      <th>txn_mth</th>\n",
       "      <th>txn_day</th>\n",
       "    </tr>\n",
       "  </thead>\n",
       "  <tbody>\n",
       "    <tr>\n",
       "      <th>23777471</th>\n",
       "      <td>2020-03-27</td>\n",
       "      <td>5bd6a7fe864299db9dfb14abd64bb7ff1a458efa1bc577...</td>\n",
       "      <td>754404006</td>\n",
       "      <td>0.025407</td>\n",
       "      <td>2</td>\n",
       "      <td>2020</td>\n",
       "      <td>3</td>\n",
       "      <td>27</td>\n",
       "    </tr>\n",
       "    <tr>\n",
       "      <th>23220435</th>\n",
       "      <td>2020-03-09</td>\n",
       "      <td>0df4fe521cc1bf5e785375ef6aa8025387f5fe60f8ad7a...</td>\n",
       "      <td>599580052</td>\n",
       "      <td>0.016932</td>\n",
       "      <td>2</td>\n",
       "      <td>2020</td>\n",
       "      <td>3</td>\n",
       "      <td>9</td>\n",
       "    </tr>\n",
       "    <tr>\n",
       "      <th>11054520</th>\n",
       "      <td>2019-05-30</td>\n",
       "      <td>78852784471bc2699c356d5a9d8ccec313f75d2e40368d...</td>\n",
       "      <td>599719021</td>\n",
       "      <td>0.033881</td>\n",
       "      <td>2</td>\n",
       "      <td>2019</td>\n",
       "      <td>5</td>\n",
       "      <td>30</td>\n",
       "    </tr>\n",
       "    <tr>\n",
       "      <th>16542322</th>\n",
       "      <td>2019-09-12</td>\n",
       "      <td>acdcabf58d4145344e4a3074967641b76d0d2a182ddb39...</td>\n",
       "      <td>315795004</td>\n",
       "      <td>0.016322</td>\n",
       "      <td>1</td>\n",
       "      <td>2019</td>\n",
       "      <td>9</td>\n",
       "      <td>12</td>\n",
       "    </tr>\n",
       "    <tr>\n",
       "      <th>24182769</th>\n",
       "      <td>2020-04-05</td>\n",
       "      <td>efdd57e583b75a75217a2f180f87e3f35d540f2d83fea4...</td>\n",
       "      <td>856109003</td>\n",
       "      <td>0.016186</td>\n",
       "      <td>2</td>\n",
       "      <td>2020</td>\n",
       "      <td>4</td>\n",
       "      <td>5</td>\n",
       "    </tr>\n",
       "  </tbody>\n",
       "</table>\n",
       "</div>"
      ],
      "text/plain": [
       "              t_dat                                        customer_id  \\\n",
       "23777471 2020-03-27  5bd6a7fe864299db9dfb14abd64bb7ff1a458efa1bc577...   \n",
       "23220435 2020-03-09  0df4fe521cc1bf5e785375ef6aa8025387f5fe60f8ad7a...   \n",
       "11054520 2019-05-30  78852784471bc2699c356d5a9d8ccec313f75d2e40368d...   \n",
       "16542322 2019-09-12  acdcabf58d4145344e4a3074967641b76d0d2a182ddb39...   \n",
       "24182769 2020-04-05  efdd57e583b75a75217a2f180f87e3f35d540f2d83fea4...   \n",
       "\n",
       "          article_id     price  sales_channel_id  txn_year  txn_mth  txn_day  \n",
       "23777471   754404006  0.025407                 2      2020        3       27  \n",
       "23220435   599580052  0.016932                 2      2020        3        9  \n",
       "11054520   599719021  0.033881                 2      2019        5       30  \n",
       "16542322   315795004  0.016322                 1      2019        9       12  \n",
       "24182769   856109003  0.016186                 2      2020        4        5  "
      ]
     },
     "execution_count": 33,
     "metadata": {},
     "output_type": "execute_result"
    }
   ],
   "source": [
    "df_HM_CustTrxn.head()"
   ]
  },
  {
   "cell_type": "code",
   "execution_count": 34,
   "metadata": {},
   "outputs": [
    {
     "name": "stdout",
     "output_type": "stream",
     "text": [
      "Any Null Values in the Trxn (sample) dataframe? \n",
      " t_dat               False\n",
      "customer_id         False\n",
      "article_id          False\n",
      "price               False\n",
      "sales_channel_id    False\n",
      "txn_year            False\n",
      "txn_mth             False\n",
      "txn_day             False\n",
      "dtype: bool\n"
     ]
    },
    {
     "data": {
      "text/plain": [
       "[None]"
      ]
     },
     "execution_count": 34,
     "metadata": {},
     "output_type": "execute_result"
    }
   ],
   "source": [
    "# Check for null values in the Transaction Dataframe\n",
    "[print('Any Null Values in the Trxn (sample) dataframe?','\\n' ,df_HM_CustTrxn.isnull().any())]"
   ]
  },
  {
   "cell_type": "markdown",
   "metadata": {},
   "source": [
    "#### Extend Dataframe with Customer Data"
   ]
  },
  {
   "cell_type": "code",
   "execution_count": 35,
   "metadata": {},
   "outputs": [
    {
     "data": {
      "text/plain": [
       "(317883, 8)"
      ]
     },
     "execution_count": 35,
     "metadata": {},
     "output_type": "execute_result"
    }
   ],
   "source": [
    "# Confirm dimensions of Trxn (sample) dataframe BEFORE merging with Customer data\n",
    "df_HM_CustTrxn.shape"
   ]
  },
  {
   "cell_type": "markdown",
   "metadata": {},
   "source": [
    "#### Merge Customer Attributes into the Trxn (Sample) Dataframe. <a class=\"tocSkip\">"
   ]
  },
  {
   "cell_type": "code",
   "execution_count": 36,
   "metadata": {},
   "outputs": [],
   "source": [
    "# Merge Customer atributes from the Customer dataset based on a join with the 'customer_id' field\n",
    "df_HM_CustTrxn = pd.merge(df_HM_CustTrxn, df_customers_sample, how=\"left\", on=[\"customer_id\"])"
   ]
  },
  {
   "cell_type": "code",
   "execution_count": 37,
   "metadata": {},
   "outputs": [
    {
     "data": {
      "text/plain": [
       "(317883, 14)"
      ]
     },
     "execution_count": 37,
     "metadata": {},
     "output_type": "execute_result"
    }
   ],
   "source": [
    "# Confirm dimensions of Trxn (sample) dataframe AFTER merging with Customer data\n",
    "df_HM_CustTrxn.shape"
   ]
  },
  {
   "cell_type": "code",
   "execution_count": 38,
   "metadata": {},
   "outputs": [
    {
     "data": {
      "text/html": [
       "<div>\n",
       "<style scoped>\n",
       "    .dataframe tbody tr th:only-of-type {\n",
       "        vertical-align: middle;\n",
       "    }\n",
       "\n",
       "    .dataframe tbody tr th {\n",
       "        vertical-align: top;\n",
       "    }\n",
       "\n",
       "    .dataframe thead th {\n",
       "        text-align: right;\n",
       "    }\n",
       "</style>\n",
       "<table border=\"1\" class=\"dataframe\">\n",
       "  <thead>\n",
       "    <tr style=\"text-align: right;\">\n",
       "      <th></th>\n",
       "      <th>t_dat</th>\n",
       "      <th>customer_id</th>\n",
       "      <th>article_id</th>\n",
       "      <th>price</th>\n",
       "      <th>sales_channel_id</th>\n",
       "      <th>txn_year</th>\n",
       "      <th>txn_mth</th>\n",
       "      <th>txn_day</th>\n",
       "      <th>FN</th>\n",
       "      <th>Active</th>\n",
       "      <th>club_member_status</th>\n",
       "      <th>fashion_news_frequency</th>\n",
       "      <th>age</th>\n",
       "      <th>postal_code</th>\n",
       "    </tr>\n",
       "  </thead>\n",
       "  <tbody>\n",
       "    <tr>\n",
       "      <th>0</th>\n",
       "      <td>2020-03-27</td>\n",
       "      <td>5bd6a7fe864299db9dfb14abd64bb7ff1a458efa1bc577...</td>\n",
       "      <td>754404006</td>\n",
       "      <td>0.025407</td>\n",
       "      <td>2</td>\n",
       "      <td>2020</td>\n",
       "      <td>3</td>\n",
       "      <td>27</td>\n",
       "      <td>1.0</td>\n",
       "      <td>1.0</td>\n",
       "      <td>ACTIVE</td>\n",
       "      <td>Regularly</td>\n",
       "      <td>20.0</td>\n",
       "      <td>58471373bb1a82166c377f60ee37a09527d548300b9bec...</td>\n",
       "    </tr>\n",
       "    <tr>\n",
       "      <th>1</th>\n",
       "      <td>2020-03-09</td>\n",
       "      <td>0df4fe521cc1bf5e785375ef6aa8025387f5fe60f8ad7a...</td>\n",
       "      <td>599580052</td>\n",
       "      <td>0.016932</td>\n",
       "      <td>2</td>\n",
       "      <td>2020</td>\n",
       "      <td>3</td>\n",
       "      <td>9</td>\n",
       "      <td>NaN</td>\n",
       "      <td>NaN</td>\n",
       "      <td>ACTIVE</td>\n",
       "      <td>NONE</td>\n",
       "      <td>26.0</td>\n",
       "      <td>37f7829f2d48512b2d97bb54dfd2c95de510288a3fec09...</td>\n",
       "    </tr>\n",
       "    <tr>\n",
       "      <th>2</th>\n",
       "      <td>2019-05-30</td>\n",
       "      <td>78852784471bc2699c356d5a9d8ccec313f75d2e40368d...</td>\n",
       "      <td>599719021</td>\n",
       "      <td>0.033881</td>\n",
       "      <td>2</td>\n",
       "      <td>2019</td>\n",
       "      <td>5</td>\n",
       "      <td>30</td>\n",
       "      <td>1.0</td>\n",
       "      <td>1.0</td>\n",
       "      <td>ACTIVE</td>\n",
       "      <td>Regularly</td>\n",
       "      <td>46.0</td>\n",
       "      <td>4ce77a93aa976dd2cb4200a9cd7867def78a929bb47466...</td>\n",
       "    </tr>\n",
       "    <tr>\n",
       "      <th>3</th>\n",
       "      <td>2019-09-12</td>\n",
       "      <td>acdcabf58d4145344e4a3074967641b76d0d2a182ddb39...</td>\n",
       "      <td>315795004</td>\n",
       "      <td>0.016322</td>\n",
       "      <td>1</td>\n",
       "      <td>2019</td>\n",
       "      <td>9</td>\n",
       "      <td>12</td>\n",
       "      <td>NaN</td>\n",
       "      <td>NaN</td>\n",
       "      <td>ACTIVE</td>\n",
       "      <td>NONE</td>\n",
       "      <td>28.0</td>\n",
       "      <td>c9d00ded73424ac93a74b782740280270535efdb52c43d...</td>\n",
       "    </tr>\n",
       "    <tr>\n",
       "      <th>4</th>\n",
       "      <td>2020-04-05</td>\n",
       "      <td>efdd57e583b75a75217a2f180f87e3f35d540f2d83fea4...</td>\n",
       "      <td>856109003</td>\n",
       "      <td>0.016186</td>\n",
       "      <td>2</td>\n",
       "      <td>2020</td>\n",
       "      <td>4</td>\n",
       "      <td>5</td>\n",
       "      <td>NaN</td>\n",
       "      <td>NaN</td>\n",
       "      <td>ACTIVE</td>\n",
       "      <td>NONE</td>\n",
       "      <td>54.0</td>\n",
       "      <td>784a92678dd535f4029eb5ec58cb93c3e0712da83c8777...</td>\n",
       "    </tr>\n",
       "  </tbody>\n",
       "</table>\n",
       "</div>"
      ],
      "text/plain": [
       "       t_dat                                        customer_id  article_id  \\\n",
       "0 2020-03-27  5bd6a7fe864299db9dfb14abd64bb7ff1a458efa1bc577...   754404006   \n",
       "1 2020-03-09  0df4fe521cc1bf5e785375ef6aa8025387f5fe60f8ad7a...   599580052   \n",
       "2 2019-05-30  78852784471bc2699c356d5a9d8ccec313f75d2e40368d...   599719021   \n",
       "3 2019-09-12  acdcabf58d4145344e4a3074967641b76d0d2a182ddb39...   315795004   \n",
       "4 2020-04-05  efdd57e583b75a75217a2f180f87e3f35d540f2d83fea4...   856109003   \n",
       "\n",
       "      price  sales_channel_id  txn_year  txn_mth  txn_day   FN  Active  \\\n",
       "0  0.025407                 2      2020        3       27  1.0     1.0   \n",
       "1  0.016932                 2      2020        3        9  NaN     NaN   \n",
       "2  0.033881                 2      2019        5       30  1.0     1.0   \n",
       "3  0.016322                 1      2019        9       12  NaN     NaN   \n",
       "4  0.016186                 2      2020        4        5  NaN     NaN   \n",
       "\n",
       "  club_member_status fashion_news_frequency   age  \\\n",
       "0             ACTIVE              Regularly  20.0   \n",
       "1             ACTIVE                   NONE  26.0   \n",
       "2             ACTIVE              Regularly  46.0   \n",
       "3             ACTIVE                   NONE  28.0   \n",
       "4             ACTIVE                   NONE  54.0   \n",
       "\n",
       "                                         postal_code  \n",
       "0  58471373bb1a82166c377f60ee37a09527d548300b9bec...  \n",
       "1  37f7829f2d48512b2d97bb54dfd2c95de510288a3fec09...  \n",
       "2  4ce77a93aa976dd2cb4200a9cd7867def78a929bb47466...  \n",
       "3  c9d00ded73424ac93a74b782740280270535efdb52c43d...  \n",
       "4  784a92678dd535f4029eb5ec58cb93c3e0712da83c8777...  "
      ]
     },
     "execution_count": 38,
     "metadata": {},
     "output_type": "execute_result"
    }
   ],
   "source": [
    "df_HM_CustTrxn.head()"
   ]
  },
  {
   "cell_type": "code",
   "execution_count": 39,
   "metadata": {},
   "outputs": [],
   "source": [
    "# Filter out other Customer specific attributes apart from; age + fashion_news_frequency + club_member_status + postal code\n",
    "# There are very many missing values in the other Customer dataset columns, so these will be ignored\n",
    "#df_HM_CustTrxn = df_HM_CustTrxn.iloc[:, [0, 1, 2, 3, 4, 5, 6, 9, 10, 11, 12]]\n",
    "df_HM_CustTrxn.drop([\"FN\", \"Active\"], axis=1, inplace=True)"
   ]
  },
  {
   "cell_type": "code",
   "execution_count": 40,
   "metadata": {},
   "outputs": [
    {
     "data": {
      "text/html": [
       "<div>\n",
       "<style scoped>\n",
       "    .dataframe tbody tr th:only-of-type {\n",
       "        vertical-align: middle;\n",
       "    }\n",
       "\n",
       "    .dataframe tbody tr th {\n",
       "        vertical-align: top;\n",
       "    }\n",
       "\n",
       "    .dataframe thead th {\n",
       "        text-align: right;\n",
       "    }\n",
       "</style>\n",
       "<table border=\"1\" class=\"dataframe\">\n",
       "  <thead>\n",
       "    <tr style=\"text-align: right;\">\n",
       "      <th></th>\n",
       "      <th>t_dat</th>\n",
       "      <th>customer_id</th>\n",
       "      <th>article_id</th>\n",
       "      <th>price</th>\n",
       "      <th>sales_channel_id</th>\n",
       "      <th>txn_year</th>\n",
       "      <th>txn_mth</th>\n",
       "      <th>txn_day</th>\n",
       "      <th>club_member_status</th>\n",
       "      <th>fashion_news_frequency</th>\n",
       "      <th>age</th>\n",
       "      <th>postal_code</th>\n",
       "    </tr>\n",
       "  </thead>\n",
       "  <tbody>\n",
       "    <tr>\n",
       "      <th>0</th>\n",
       "      <td>2020-03-27</td>\n",
       "      <td>5bd6a7fe864299db9dfb14abd64bb7ff1a458efa1bc577...</td>\n",
       "      <td>754404006</td>\n",
       "      <td>0.025407</td>\n",
       "      <td>2</td>\n",
       "      <td>2020</td>\n",
       "      <td>3</td>\n",
       "      <td>27</td>\n",
       "      <td>ACTIVE</td>\n",
       "      <td>Regularly</td>\n",
       "      <td>20.0</td>\n",
       "      <td>58471373bb1a82166c377f60ee37a09527d548300b9bec...</td>\n",
       "    </tr>\n",
       "    <tr>\n",
       "      <th>1</th>\n",
       "      <td>2020-03-09</td>\n",
       "      <td>0df4fe521cc1bf5e785375ef6aa8025387f5fe60f8ad7a...</td>\n",
       "      <td>599580052</td>\n",
       "      <td>0.016932</td>\n",
       "      <td>2</td>\n",
       "      <td>2020</td>\n",
       "      <td>3</td>\n",
       "      <td>9</td>\n",
       "      <td>ACTIVE</td>\n",
       "      <td>NONE</td>\n",
       "      <td>26.0</td>\n",
       "      <td>37f7829f2d48512b2d97bb54dfd2c95de510288a3fec09...</td>\n",
       "    </tr>\n",
       "    <tr>\n",
       "      <th>2</th>\n",
       "      <td>2019-05-30</td>\n",
       "      <td>78852784471bc2699c356d5a9d8ccec313f75d2e40368d...</td>\n",
       "      <td>599719021</td>\n",
       "      <td>0.033881</td>\n",
       "      <td>2</td>\n",
       "      <td>2019</td>\n",
       "      <td>5</td>\n",
       "      <td>30</td>\n",
       "      <td>ACTIVE</td>\n",
       "      <td>Regularly</td>\n",
       "      <td>46.0</td>\n",
       "      <td>4ce77a93aa976dd2cb4200a9cd7867def78a929bb47466...</td>\n",
       "    </tr>\n",
       "    <tr>\n",
       "      <th>3</th>\n",
       "      <td>2019-09-12</td>\n",
       "      <td>acdcabf58d4145344e4a3074967641b76d0d2a182ddb39...</td>\n",
       "      <td>315795004</td>\n",
       "      <td>0.016322</td>\n",
       "      <td>1</td>\n",
       "      <td>2019</td>\n",
       "      <td>9</td>\n",
       "      <td>12</td>\n",
       "      <td>ACTIVE</td>\n",
       "      <td>NONE</td>\n",
       "      <td>28.0</td>\n",
       "      <td>c9d00ded73424ac93a74b782740280270535efdb52c43d...</td>\n",
       "    </tr>\n",
       "    <tr>\n",
       "      <th>4</th>\n",
       "      <td>2020-04-05</td>\n",
       "      <td>efdd57e583b75a75217a2f180f87e3f35d540f2d83fea4...</td>\n",
       "      <td>856109003</td>\n",
       "      <td>0.016186</td>\n",
       "      <td>2</td>\n",
       "      <td>2020</td>\n",
       "      <td>4</td>\n",
       "      <td>5</td>\n",
       "      <td>ACTIVE</td>\n",
       "      <td>NONE</td>\n",
       "      <td>54.0</td>\n",
       "      <td>784a92678dd535f4029eb5ec58cb93c3e0712da83c8777...</td>\n",
       "    </tr>\n",
       "  </tbody>\n",
       "</table>\n",
       "</div>"
      ],
      "text/plain": [
       "       t_dat                                        customer_id  article_id  \\\n",
       "0 2020-03-27  5bd6a7fe864299db9dfb14abd64bb7ff1a458efa1bc577...   754404006   \n",
       "1 2020-03-09  0df4fe521cc1bf5e785375ef6aa8025387f5fe60f8ad7a...   599580052   \n",
       "2 2019-05-30  78852784471bc2699c356d5a9d8ccec313f75d2e40368d...   599719021   \n",
       "3 2019-09-12  acdcabf58d4145344e4a3074967641b76d0d2a182ddb39...   315795004   \n",
       "4 2020-04-05  efdd57e583b75a75217a2f180f87e3f35d540f2d83fea4...   856109003   \n",
       "\n",
       "      price  sales_channel_id  txn_year  txn_mth  txn_day club_member_status  \\\n",
       "0  0.025407                 2      2020        3       27             ACTIVE   \n",
       "1  0.016932                 2      2020        3        9             ACTIVE   \n",
       "2  0.033881                 2      2019        5       30             ACTIVE   \n",
       "3  0.016322                 1      2019        9       12             ACTIVE   \n",
       "4  0.016186                 2      2020        4        5             ACTIVE   \n",
       "\n",
       "  fashion_news_frequency   age  \\\n",
       "0              Regularly  20.0   \n",
       "1                   NONE  26.0   \n",
       "2              Regularly  46.0   \n",
       "3                   NONE  28.0   \n",
       "4                   NONE  54.0   \n",
       "\n",
       "                                         postal_code  \n",
       "0  58471373bb1a82166c377f60ee37a09527d548300b9bec...  \n",
       "1  37f7829f2d48512b2d97bb54dfd2c95de510288a3fec09...  \n",
       "2  4ce77a93aa976dd2cb4200a9cd7867def78a929bb47466...  \n",
       "3  c9d00ded73424ac93a74b782740280270535efdb52c43d...  \n",
       "4  784a92678dd535f4029eb5ec58cb93c3e0712da83c8777...  "
      ]
     },
     "execution_count": 40,
     "metadata": {},
     "output_type": "execute_result"
    }
   ],
   "source": [
    "df_HM_CustTrxn.head()"
   ]
  },
  {
   "cell_type": "code",
   "execution_count": 41,
   "metadata": {},
   "outputs": [
    {
     "data": {
      "text/plain": [
       "(317883, 12)"
      ]
     },
     "execution_count": 41,
     "metadata": {},
     "output_type": "execute_result"
    }
   ],
   "source": [
    "df_HM_CustTrxn.shape"
   ]
  },
  {
   "cell_type": "code",
   "execution_count": 42,
   "metadata": {},
   "outputs": [
    {
     "name": "stdout",
     "output_type": "stream",
     "text": [
      "Any Null Values in the merged Trxn/Customer dataframe? \n",
      " t_dat                     False\n",
      "customer_id               False\n",
      "article_id                False\n",
      "price                     False\n",
      "sales_channel_id          False\n",
      "txn_year                  False\n",
      "txn_mth                   False\n",
      "txn_day                   False\n",
      "club_member_status         True\n",
      "fashion_news_frequency     True\n",
      "age                        True\n",
      "postal_code               False\n",
      "dtype: bool\n"
     ]
    },
    {
     "data": {
      "text/plain": [
       "[None]"
      ]
     },
     "execution_count": 42,
     "metadata": {},
     "output_type": "execute_result"
    }
   ],
   "source": [
    "# Check for null values in the merged Trxn/Customer dataframe\n",
    "[print('Any Null Values in the merged Trxn/Customer dataframe?','\\n' ,df_HM_CustTrxn.isnull().any())]"
   ]
  },
  {
   "cell_type": "markdown",
   "metadata": {},
   "source": [
    "#### Remove Rows with Missing Club Member Status Attributes. <a class=\"tocSkip\">"
   ]
  },
  {
   "cell_type": "code",
   "execution_count": 43,
   "metadata": {},
   "outputs": [
    {
     "name": "stdout",
     "output_type": "stream",
     "text": [
      "Numbers of rows with missing club member status? \n",
      " 633\n",
      "\n",
      "Precentage of total rows in Trxn dataframe with missing club member status attributes?\n",
      "00.199%\n",
      "\n",
      "Current Number of Rows/Columns in Trxn/Customer dataframe - with missing club mem status values removed \n",
      " (317250, 12)\n"
     ]
    },
    {
     "data": {
      "text/plain": [
       "[None]"
      ]
     },
     "execution_count": 43,
     "metadata": {},
     "output_type": "execute_result"
    }
   ],
   "source": [
    "# Check missing values in the club_member_status column  \n",
    "df_null_club_member_status = df_HM_CustTrxn.loc[(df_HM_CustTrxn[\"club_member_status\"].isnull())]\n",
    "\n",
    "[print('Numbers of rows with missing club member status?','\\n' ,len(df_null_club_member_status.index))]\n",
    "[print('\\nPrecentage of total rows in Trxn dataframe with missing club member status attributes?\\n{:06.3f}%'\n",
    "                               .format((len(df_null_club_member_status.index)/len(df_HM_CustTrxn.index))*100))]\n",
    "\n",
    "\n",
    "# For simplicity the rows with missing values in the club member status will be ignored\n",
    "# Re-Build Txn/Customer Dataframe with no missing values in the club member status\n",
    "df_HM_CustTrxn = df_HM_CustTrxn.loc[(df_HM_CustTrxn[\"club_member_status\"].notnull())]\n",
    "\n",
    "# Confirm dimensions of Trxn (sample) dataframe AFTER removing rows with missing values in the club member status column\n",
    "[print('\\nCurrent Number of Rows/Columns in Trxn/Customer dataframe - with missing club mem status values removed','\\n' ,\n",
    "                                                                                                   df_HM_CustTrxn.shape)]\n"
   ]
  },
  {
   "cell_type": "markdown",
   "metadata": {},
   "source": [
    "#### Remove Rows with Missing Fashion News Frequency Attributes. <a class=\"tocSkip\">"
   ]
  },
  {
   "cell_type": "code",
   "execution_count": 44,
   "metadata": {},
   "outputs": [
    {
     "name": "stdout",
     "output_type": "stream",
     "text": [
      "Numbers of rows with missing fashion_news_frequency values? \n",
      " 1294\n",
      "\n",
      "Precentage of total rows in Trxn dataframe with missing fashion_news_frequency attributes?\n",
      "00.408%\n",
      "\n",
      "Current Number of Rows/Columns in Trxn/Customer dataframe - missing Fash News Freq values removed \n",
      " (315956, 12)\n"
     ]
    },
    {
     "data": {
      "text/plain": [
       "[None]"
      ]
     },
     "execution_count": 44,
     "metadata": {},
     "output_type": "execute_result"
    }
   ],
   "source": [
    "# Check missing values in the club_member_status column  \n",
    "df_null_fn_freq = df_HM_CustTrxn.loc[(df_HM_CustTrxn[\"fashion_news_frequency\"].isnull())]\n",
    "\n",
    "[print('Numbers of rows with missing fashion_news_frequency values?','\\n' ,len(df_null_fn_freq.index))]\n",
    "[print('\\nPrecentage of total rows in Trxn dataframe with missing fashion_news_frequency attributes?\\n{:06.3f}%'\n",
    "                               .format((len(df_null_fn_freq.index)/len(df_HM_CustTrxn.index))*100))]\n",
    "\n",
    "# For simplicity the rows with missing values in the fashion_news_frequency column will be ignored\n",
    "# Re-Build Txn/Customer Dataframe with no missing values in the fashion_news_frequency column\n",
    "df_HM_CustTrxn = df_HM_CustTrxn.loc[(df_HM_CustTrxn[\"fashion_news_frequency\"].notnull())]\n",
    "\n",
    "# Confirm dimensions of Trxn (sample) dataframe AFTER removing rows with missing values in the fashion_news_frequency column\n",
    "[print('\\nCurrent Number of Rows/Columns in Trxn/Customer dataframe - missing Fash News Freq values removed','\\n' ,\n",
    "                                                                                                   df_HM_CustTrxn.shape)]"
   ]
  },
  {
   "cell_type": "markdown",
   "metadata": {},
   "source": [
    "#### Remove Rows with Missing Age Attributes. <a class=\"tocSkip\">"
   ]
  },
  {
   "cell_type": "code",
   "execution_count": 45,
   "metadata": {},
   "outputs": [
    {
     "name": "stdout",
     "output_type": "stream",
     "text": [
      "Numbers of rows with missing age values? \n",
      " 1244\n",
      "\n",
      "Precentage of total rows in Trxn dataframe with missing age attributes?\n",
      "00.394%\n",
      "\n",
      "Current Number of Rows/Columns in Trxn/Customer dataframe - missing ages removed \n",
      " (314712, 12)\n"
     ]
    },
    {
     "data": {
      "text/plain": [
       "[None]"
      ]
     },
     "execution_count": 45,
     "metadata": {},
     "output_type": "execute_result"
    }
   ],
   "source": [
    "# Check missing values in the age column  \n",
    "df_null_age = df_HM_CustTrxn.loc[(df_HM_CustTrxn[\"age\"].isnull())]\n",
    "\n",
    "[print('Numbers of rows with missing age values?','\\n' ,len(df_null_age.index))]\n",
    "[print('\\nPrecentage of total rows in Trxn dataframe with missing age attributes?\\n{:06.3f}%'\n",
    "                               .format((len(df_null_age.index)/len(df_HM_CustTrxn.index))*100))]\n",
    "\n",
    "# Re-Build Txn/Customer Dataframe with no missing values in the age column\n",
    "df_HM_CustTrxn = df_HM_CustTrxn.loc[(df_HM_CustTrxn[\"age\"].notnull())]\n",
    "\n",
    "\n",
    "# Confirm dimensions of Trxn (sample) dataframe AFTER removing rows with missing values in the age column\n",
    "[print('\\nCurrent Number of Rows/Columns in Trxn/Customer dataframe - missing ages removed','\\n' ,df_HM_CustTrxn.shape)]"
   ]
  },
  {
   "cell_type": "markdown",
   "metadata": {},
   "source": [
    "#### Encode the club_member_status + fashion_news_frequency attributes <a class=\"tocSkip\">"
   ]
  },
  {
   "cell_type": "code",
   "execution_count": 46,
   "metadata": {},
   "outputs": [
    {
     "data": {
      "text/html": [
       "<div>\n",
       "<style scoped>\n",
       "    .dataframe tbody tr th:only-of-type {\n",
       "        vertical-align: middle;\n",
       "    }\n",
       "\n",
       "    .dataframe tbody tr th {\n",
       "        vertical-align: top;\n",
       "    }\n",
       "\n",
       "    .dataframe thead th {\n",
       "        text-align: right;\n",
       "    }\n",
       "</style>\n",
       "<table border=\"1\" class=\"dataframe\">\n",
       "  <thead>\n",
       "    <tr style=\"text-align: right;\">\n",
       "      <th></th>\n",
       "      <th>t_dat</th>\n",
       "      <th>customer_id</th>\n",
       "      <th>article_id</th>\n",
       "      <th>price</th>\n",
       "      <th>sales_channel_id</th>\n",
       "      <th>txn_year</th>\n",
       "      <th>txn_mth</th>\n",
       "      <th>txn_day</th>\n",
       "      <th>club_member_status</th>\n",
       "      <th>fashion_news_frequency</th>\n",
       "      <th>age</th>\n",
       "      <th>postal_code</th>\n",
       "    </tr>\n",
       "  </thead>\n",
       "  <tbody>\n",
       "    <tr>\n",
       "      <th>0</th>\n",
       "      <td>2020-03-27</td>\n",
       "      <td>5bd6a7fe864299db9dfb14abd64bb7ff1a458efa1bc577...</td>\n",
       "      <td>754404006</td>\n",
       "      <td>0.025407</td>\n",
       "      <td>2</td>\n",
       "      <td>2020</td>\n",
       "      <td>3</td>\n",
       "      <td>27</td>\n",
       "      <td>ACTIVE</td>\n",
       "      <td>Regularly</td>\n",
       "      <td>20.0</td>\n",
       "      <td>58471373bb1a82166c377f60ee37a09527d548300b9bec...</td>\n",
       "    </tr>\n",
       "    <tr>\n",
       "      <th>1</th>\n",
       "      <td>2020-03-09</td>\n",
       "      <td>0df4fe521cc1bf5e785375ef6aa8025387f5fe60f8ad7a...</td>\n",
       "      <td>599580052</td>\n",
       "      <td>0.016932</td>\n",
       "      <td>2</td>\n",
       "      <td>2020</td>\n",
       "      <td>3</td>\n",
       "      <td>9</td>\n",
       "      <td>ACTIVE</td>\n",
       "      <td>NONE</td>\n",
       "      <td>26.0</td>\n",
       "      <td>37f7829f2d48512b2d97bb54dfd2c95de510288a3fec09...</td>\n",
       "    </tr>\n",
       "    <tr>\n",
       "      <th>2</th>\n",
       "      <td>2019-05-30</td>\n",
       "      <td>78852784471bc2699c356d5a9d8ccec313f75d2e40368d...</td>\n",
       "      <td>599719021</td>\n",
       "      <td>0.033881</td>\n",
       "      <td>2</td>\n",
       "      <td>2019</td>\n",
       "      <td>5</td>\n",
       "      <td>30</td>\n",
       "      <td>ACTIVE</td>\n",
       "      <td>Regularly</td>\n",
       "      <td>46.0</td>\n",
       "      <td>4ce77a93aa976dd2cb4200a9cd7867def78a929bb47466...</td>\n",
       "    </tr>\n",
       "    <tr>\n",
       "      <th>3</th>\n",
       "      <td>2019-09-12</td>\n",
       "      <td>acdcabf58d4145344e4a3074967641b76d0d2a182ddb39...</td>\n",
       "      <td>315795004</td>\n",
       "      <td>0.016322</td>\n",
       "      <td>1</td>\n",
       "      <td>2019</td>\n",
       "      <td>9</td>\n",
       "      <td>12</td>\n",
       "      <td>ACTIVE</td>\n",
       "      <td>NONE</td>\n",
       "      <td>28.0</td>\n",
       "      <td>c9d00ded73424ac93a74b782740280270535efdb52c43d...</td>\n",
       "    </tr>\n",
       "    <tr>\n",
       "      <th>4</th>\n",
       "      <td>2020-04-05</td>\n",
       "      <td>efdd57e583b75a75217a2f180f87e3f35d540f2d83fea4...</td>\n",
       "      <td>856109003</td>\n",
       "      <td>0.016186</td>\n",
       "      <td>2</td>\n",
       "      <td>2020</td>\n",
       "      <td>4</td>\n",
       "      <td>5</td>\n",
       "      <td>ACTIVE</td>\n",
       "      <td>NONE</td>\n",
       "      <td>54.0</td>\n",
       "      <td>784a92678dd535f4029eb5ec58cb93c3e0712da83c8777...</td>\n",
       "    </tr>\n",
       "  </tbody>\n",
       "</table>\n",
       "</div>"
      ],
      "text/plain": [
       "       t_dat                                        customer_id  article_id  \\\n",
       "0 2020-03-27  5bd6a7fe864299db9dfb14abd64bb7ff1a458efa1bc577...   754404006   \n",
       "1 2020-03-09  0df4fe521cc1bf5e785375ef6aa8025387f5fe60f8ad7a...   599580052   \n",
       "2 2019-05-30  78852784471bc2699c356d5a9d8ccec313f75d2e40368d...   599719021   \n",
       "3 2019-09-12  acdcabf58d4145344e4a3074967641b76d0d2a182ddb39...   315795004   \n",
       "4 2020-04-05  efdd57e583b75a75217a2f180f87e3f35d540f2d83fea4...   856109003   \n",
       "\n",
       "      price  sales_channel_id  txn_year  txn_mth  txn_day club_member_status  \\\n",
       "0  0.025407                 2      2020        3       27             ACTIVE   \n",
       "1  0.016932                 2      2020        3        9             ACTIVE   \n",
       "2  0.033881                 2      2019        5       30             ACTIVE   \n",
       "3  0.016322                 1      2019        9       12             ACTIVE   \n",
       "4  0.016186                 2      2020        4        5             ACTIVE   \n",
       "\n",
       "  fashion_news_frequency   age  \\\n",
       "0              Regularly  20.0   \n",
       "1                   NONE  26.0   \n",
       "2              Regularly  46.0   \n",
       "3                   NONE  28.0   \n",
       "4                   NONE  54.0   \n",
       "\n",
       "                                         postal_code  \n",
       "0  58471373bb1a82166c377f60ee37a09527d548300b9bec...  \n",
       "1  37f7829f2d48512b2d97bb54dfd2c95de510288a3fec09...  \n",
       "2  4ce77a93aa976dd2cb4200a9cd7867def78a929bb47466...  \n",
       "3  c9d00ded73424ac93a74b782740280270535efdb52c43d...  \n",
       "4  784a92678dd535f4029eb5ec58cb93c3e0712da83c8777...  "
      ]
     },
     "execution_count": 46,
     "metadata": {},
     "output_type": "execute_result"
    }
   ],
   "source": [
    "df_HM_CustTrxn.head()"
   ]
  },
  {
   "cell_type": "code",
   "execution_count": 47,
   "metadata": {},
   "outputs": [],
   "source": [
    "def encode_Categor_Features(df, col_name):\n",
    "       \n",
    "    # The categorical values in dataframe must be encoded to numberical values\n",
    "    df_encoded_cols = pd.get_dummies(df[col_name])\n",
    "    df_encoded      = df.join(df_encoded_cols)\n",
    "    \n",
    "    # Remove the prior Categorical column from the Articles dataframe\n",
    "    df_encoded.drop([col_name], axis=1, inplace=True)\n",
    "    \n",
    "    # Return the dataframe with encoded columsn added\n",
    "    return df_encoded"
   ]
  },
  {
   "cell_type": "code",
   "execution_count": 48,
   "metadata": {},
   "outputs": [],
   "source": [
    "cust_cols_to_encode = [\"club_member_status\",\"fashion_news_frequency\"]\n",
    "for column_name in cust_cols_to_encode:\n",
    "    df_HM_CustTrxn = encode_Categor_Features(df_HM_CustTrxn, column_name)"
   ]
  },
  {
   "cell_type": "code",
   "execution_count": 49,
   "metadata": {},
   "outputs": [],
   "source": [
    "# Drop Postal Code - a non numerical value that is not easily converted\n",
    "df_HM_CustTrxn.drop([\"postal_code\"], axis=1, inplace=True)"
   ]
  },
  {
   "cell_type": "code",
   "execution_count": 50,
   "metadata": {},
   "outputs": [
    {
     "data": {
      "text/html": [
       "<div>\n",
       "<style scoped>\n",
       "    .dataframe tbody tr th:only-of-type {\n",
       "        vertical-align: middle;\n",
       "    }\n",
       "\n",
       "    .dataframe tbody tr th {\n",
       "        vertical-align: top;\n",
       "    }\n",
       "\n",
       "    .dataframe thead th {\n",
       "        text-align: right;\n",
       "    }\n",
       "</style>\n",
       "<table border=\"1\" class=\"dataframe\">\n",
       "  <thead>\n",
       "    <tr style=\"text-align: right;\">\n",
       "      <th></th>\n",
       "      <th>t_dat</th>\n",
       "      <th>customer_id</th>\n",
       "      <th>article_id</th>\n",
       "      <th>price</th>\n",
       "      <th>sales_channel_id</th>\n",
       "      <th>txn_year</th>\n",
       "      <th>txn_mth</th>\n",
       "      <th>txn_day</th>\n",
       "      <th>age</th>\n",
       "      <th>ACTIVE</th>\n",
       "      <th>LEFT CLUB</th>\n",
       "      <th>PRE-CREATE</th>\n",
       "      <th>Monthly</th>\n",
       "      <th>NONE</th>\n",
       "      <th>Regularly</th>\n",
       "    </tr>\n",
       "  </thead>\n",
       "  <tbody>\n",
       "    <tr>\n",
       "      <th>0</th>\n",
       "      <td>2020-03-27</td>\n",
       "      <td>5bd6a7fe864299db9dfb14abd64bb7ff1a458efa1bc577...</td>\n",
       "      <td>754404006</td>\n",
       "      <td>0.025407</td>\n",
       "      <td>2</td>\n",
       "      <td>2020</td>\n",
       "      <td>3</td>\n",
       "      <td>27</td>\n",
       "      <td>20.0</td>\n",
       "      <td>1</td>\n",
       "      <td>0</td>\n",
       "      <td>0</td>\n",
       "      <td>0</td>\n",
       "      <td>0</td>\n",
       "      <td>1</td>\n",
       "    </tr>\n",
       "    <tr>\n",
       "      <th>1</th>\n",
       "      <td>2020-03-09</td>\n",
       "      <td>0df4fe521cc1bf5e785375ef6aa8025387f5fe60f8ad7a...</td>\n",
       "      <td>599580052</td>\n",
       "      <td>0.016932</td>\n",
       "      <td>2</td>\n",
       "      <td>2020</td>\n",
       "      <td>3</td>\n",
       "      <td>9</td>\n",
       "      <td>26.0</td>\n",
       "      <td>1</td>\n",
       "      <td>0</td>\n",
       "      <td>0</td>\n",
       "      <td>0</td>\n",
       "      <td>1</td>\n",
       "      <td>0</td>\n",
       "    </tr>\n",
       "    <tr>\n",
       "      <th>2</th>\n",
       "      <td>2019-05-30</td>\n",
       "      <td>78852784471bc2699c356d5a9d8ccec313f75d2e40368d...</td>\n",
       "      <td>599719021</td>\n",
       "      <td>0.033881</td>\n",
       "      <td>2</td>\n",
       "      <td>2019</td>\n",
       "      <td>5</td>\n",
       "      <td>30</td>\n",
       "      <td>46.0</td>\n",
       "      <td>1</td>\n",
       "      <td>0</td>\n",
       "      <td>0</td>\n",
       "      <td>0</td>\n",
       "      <td>0</td>\n",
       "      <td>1</td>\n",
       "    </tr>\n",
       "    <tr>\n",
       "      <th>3</th>\n",
       "      <td>2019-09-12</td>\n",
       "      <td>acdcabf58d4145344e4a3074967641b76d0d2a182ddb39...</td>\n",
       "      <td>315795004</td>\n",
       "      <td>0.016322</td>\n",
       "      <td>1</td>\n",
       "      <td>2019</td>\n",
       "      <td>9</td>\n",
       "      <td>12</td>\n",
       "      <td>28.0</td>\n",
       "      <td>1</td>\n",
       "      <td>0</td>\n",
       "      <td>0</td>\n",
       "      <td>0</td>\n",
       "      <td>1</td>\n",
       "      <td>0</td>\n",
       "    </tr>\n",
       "    <tr>\n",
       "      <th>4</th>\n",
       "      <td>2020-04-05</td>\n",
       "      <td>efdd57e583b75a75217a2f180f87e3f35d540f2d83fea4...</td>\n",
       "      <td>856109003</td>\n",
       "      <td>0.016186</td>\n",
       "      <td>2</td>\n",
       "      <td>2020</td>\n",
       "      <td>4</td>\n",
       "      <td>5</td>\n",
       "      <td>54.0</td>\n",
       "      <td>1</td>\n",
       "      <td>0</td>\n",
       "      <td>0</td>\n",
       "      <td>0</td>\n",
       "      <td>1</td>\n",
       "      <td>0</td>\n",
       "    </tr>\n",
       "  </tbody>\n",
       "</table>\n",
       "</div>"
      ],
      "text/plain": [
       "       t_dat                                        customer_id  article_id  \\\n",
       "0 2020-03-27  5bd6a7fe864299db9dfb14abd64bb7ff1a458efa1bc577...   754404006   \n",
       "1 2020-03-09  0df4fe521cc1bf5e785375ef6aa8025387f5fe60f8ad7a...   599580052   \n",
       "2 2019-05-30  78852784471bc2699c356d5a9d8ccec313f75d2e40368d...   599719021   \n",
       "3 2019-09-12  acdcabf58d4145344e4a3074967641b76d0d2a182ddb39...   315795004   \n",
       "4 2020-04-05  efdd57e583b75a75217a2f180f87e3f35d540f2d83fea4...   856109003   \n",
       "\n",
       "      price  sales_channel_id  txn_year  txn_mth  txn_day   age  ACTIVE  \\\n",
       "0  0.025407                 2      2020        3       27  20.0       1   \n",
       "1  0.016932                 2      2020        3        9  26.0       1   \n",
       "2  0.033881                 2      2019        5       30  46.0       1   \n",
       "3  0.016322                 1      2019        9       12  28.0       1   \n",
       "4  0.016186                 2      2020        4        5  54.0       1   \n",
       "\n",
       "   LEFT CLUB  PRE-CREATE  Monthly  NONE  Regularly  \n",
       "0          0           0        0     0          1  \n",
       "1          0           0        0     1          0  \n",
       "2          0           0        0     0          1  \n",
       "3          0           0        0     1          0  \n",
       "4          0           0        0     1          0  "
      ]
     },
     "execution_count": 50,
     "metadata": {},
     "output_type": "execute_result"
    }
   ],
   "source": [
    "# Display basic column information for the initial Kaggle 'article' datatset - after Sampling of original dataset\n",
    "df_HM_CustTrxn.head()"
   ]
  },
  {
   "cell_type": "code",
   "execution_count": 51,
   "metadata": {},
   "outputs": [
    {
     "name": "stdout",
     "output_type": "stream",
     "text": [
      "\n",
      "Current Number of Rows/Columns in Trxn/Customer dataframe - after encoding of categorical values completed \n",
      " (314712, 15)\n"
     ]
    },
    {
     "data": {
      "text/plain": [
       "[None]"
      ]
     },
     "execution_count": 51,
     "metadata": {},
     "output_type": "execute_result"
    }
   ],
   "source": [
    "# Confirm dimensions of Trxn (sample) dataframe AFTER encoding Categorical Values\n",
    "[print('\\nCurrent Number of Rows/Columns in Trxn/Customer dataframe - after encoding of categorical values completed','\\n' ,\n",
    "                                                                                                   df_HM_CustTrxn.shape)]"
   ]
  },
  {
   "cell_type": "code",
   "execution_count": 52,
   "metadata": {},
   "outputs": [
    {
     "name": "stdout",
     "output_type": "stream",
     "text": [
      "Any Null Values in the merged Trxn/Customer (sample) dataframe? \n",
      " t_dat               False\n",
      "customer_id         False\n",
      "article_id          False\n",
      "price               False\n",
      "sales_channel_id    False\n",
      "txn_year            False\n",
      "txn_mth             False\n",
      "txn_day             False\n",
      "age                 False\n",
      "ACTIVE              False\n",
      "LEFT CLUB           False\n",
      "PRE-CREATE          False\n",
      "Monthly             False\n",
      "NONE                False\n",
      "Regularly           False\n",
      "dtype: bool\n"
     ]
    },
    {
     "data": {
      "text/plain": [
       "[None]"
      ]
     },
     "execution_count": 52,
     "metadata": {},
     "output_type": "execute_result"
    }
   ],
   "source": [
    "# Check for null values in the Transaction Dataframe\n",
    "[print('Any Null Values in the merged Trxn/Customer (sample) dataframe?','\\n' ,df_HM_CustTrxn.isnull().any())]"
   ]
  },
  {
   "cell_type": "markdown",
   "metadata": {},
   "source": [
    "#### Extend Dataframe with Articles Data"
   ]
  },
  {
   "cell_type": "markdown",
   "metadata": {},
   "source": [
    "#### Remove 'Redundant' Categorical Columns in Articles (sample) Dataframe. <a class=\"tocSkip\">"
   ]
  },
  {
   "cell_type": "code",
   "execution_count": 53,
   "metadata": {},
   "outputs": [
    {
     "data": {
      "text/html": [
       "<div>\n",
       "<style scoped>\n",
       "    .dataframe tbody tr th:only-of-type {\n",
       "        vertical-align: middle;\n",
       "    }\n",
       "\n",
       "    .dataframe tbody tr th {\n",
       "        vertical-align: top;\n",
       "    }\n",
       "\n",
       "    .dataframe thead th {\n",
       "        text-align: right;\n",
       "    }\n",
       "</style>\n",
       "<table border=\"1\" class=\"dataframe\">\n",
       "  <thead>\n",
       "    <tr style=\"text-align: right;\">\n",
       "      <th></th>\n",
       "      <th>article_id</th>\n",
       "      <th>product_code</th>\n",
       "      <th>prod_name</th>\n",
       "      <th>product_type_no</th>\n",
       "      <th>product_type_name</th>\n",
       "      <th>product_group_name</th>\n",
       "      <th>graphical_appearance_no</th>\n",
       "      <th>graphical_appearance_name</th>\n",
       "      <th>colour_group_code</th>\n",
       "      <th>colour_group_name</th>\n",
       "      <th>...</th>\n",
       "      <th>department_name</th>\n",
       "      <th>index_code</th>\n",
       "      <th>index_name</th>\n",
       "      <th>index_group_no</th>\n",
       "      <th>index_group_name</th>\n",
       "      <th>section_no</th>\n",
       "      <th>section_name</th>\n",
       "      <th>garment_group_no</th>\n",
       "      <th>garment_group_name</th>\n",
       "      <th>detail_desc</th>\n",
       "    </tr>\n",
       "  </thead>\n",
       "  <tbody>\n",
       "    <tr>\n",
       "      <th>0</th>\n",
       "      <td>108775015</td>\n",
       "      <td>108775</td>\n",
       "      <td>Strap top</td>\n",
       "      <td>253</td>\n",
       "      <td>Vest top</td>\n",
       "      <td>Garment Upper body</td>\n",
       "      <td>1010016</td>\n",
       "      <td>Solid</td>\n",
       "      <td>9</td>\n",
       "      <td>Black</td>\n",
       "      <td>...</td>\n",
       "      <td>Jersey Basic</td>\n",
       "      <td>A</td>\n",
       "      <td>Ladieswear</td>\n",
       "      <td>1</td>\n",
       "      <td>Ladieswear</td>\n",
       "      <td>16</td>\n",
       "      <td>Womens Everyday Basics</td>\n",
       "      <td>1002</td>\n",
       "      <td>Jersey Basic</td>\n",
       "      <td>Jersey top with narrow shoulder straps.</td>\n",
       "    </tr>\n",
       "    <tr>\n",
       "      <th>1</th>\n",
       "      <td>108775044</td>\n",
       "      <td>108775</td>\n",
       "      <td>Strap top</td>\n",
       "      <td>253</td>\n",
       "      <td>Vest top</td>\n",
       "      <td>Garment Upper body</td>\n",
       "      <td>1010016</td>\n",
       "      <td>Solid</td>\n",
       "      <td>10</td>\n",
       "      <td>White</td>\n",
       "      <td>...</td>\n",
       "      <td>Jersey Basic</td>\n",
       "      <td>A</td>\n",
       "      <td>Ladieswear</td>\n",
       "      <td>1</td>\n",
       "      <td>Ladieswear</td>\n",
       "      <td>16</td>\n",
       "      <td>Womens Everyday Basics</td>\n",
       "      <td>1002</td>\n",
       "      <td>Jersey Basic</td>\n",
       "      <td>Jersey top with narrow shoulder straps.</td>\n",
       "    </tr>\n",
       "    <tr>\n",
       "      <th>2</th>\n",
       "      <td>108775051</td>\n",
       "      <td>108775</td>\n",
       "      <td>Strap top (1)</td>\n",
       "      <td>253</td>\n",
       "      <td>Vest top</td>\n",
       "      <td>Garment Upper body</td>\n",
       "      <td>1010017</td>\n",
       "      <td>Stripe</td>\n",
       "      <td>11</td>\n",
       "      <td>Off White</td>\n",
       "      <td>...</td>\n",
       "      <td>Jersey Basic</td>\n",
       "      <td>A</td>\n",
       "      <td>Ladieswear</td>\n",
       "      <td>1</td>\n",
       "      <td>Ladieswear</td>\n",
       "      <td>16</td>\n",
       "      <td>Womens Everyday Basics</td>\n",
       "      <td>1002</td>\n",
       "      <td>Jersey Basic</td>\n",
       "      <td>Jersey top with narrow shoulder straps.</td>\n",
       "    </tr>\n",
       "    <tr>\n",
       "      <th>3</th>\n",
       "      <td>110065001</td>\n",
       "      <td>110065</td>\n",
       "      <td>OP T-shirt (Idro)</td>\n",
       "      <td>306</td>\n",
       "      <td>Bra</td>\n",
       "      <td>Underwear</td>\n",
       "      <td>1010016</td>\n",
       "      <td>Solid</td>\n",
       "      <td>9</td>\n",
       "      <td>Black</td>\n",
       "      <td>...</td>\n",
       "      <td>Clean Lingerie</td>\n",
       "      <td>B</td>\n",
       "      <td>Lingeries/Tights</td>\n",
       "      <td>1</td>\n",
       "      <td>Ladieswear</td>\n",
       "      <td>61</td>\n",
       "      <td>Womens Lingerie</td>\n",
       "      <td>1017</td>\n",
       "      <td>Under-, Nightwear</td>\n",
       "      <td>Microfibre T-shirt bra with underwired, moulde...</td>\n",
       "    </tr>\n",
       "    <tr>\n",
       "      <th>4</th>\n",
       "      <td>110065002</td>\n",
       "      <td>110065</td>\n",
       "      <td>OP T-shirt (Idro)</td>\n",
       "      <td>306</td>\n",
       "      <td>Bra</td>\n",
       "      <td>Underwear</td>\n",
       "      <td>1010016</td>\n",
       "      <td>Solid</td>\n",
       "      <td>10</td>\n",
       "      <td>White</td>\n",
       "      <td>...</td>\n",
       "      <td>Clean Lingerie</td>\n",
       "      <td>B</td>\n",
       "      <td>Lingeries/Tights</td>\n",
       "      <td>1</td>\n",
       "      <td>Ladieswear</td>\n",
       "      <td>61</td>\n",
       "      <td>Womens Lingerie</td>\n",
       "      <td>1017</td>\n",
       "      <td>Under-, Nightwear</td>\n",
       "      <td>Microfibre T-shirt bra with underwired, moulde...</td>\n",
       "    </tr>\n",
       "  </tbody>\n",
       "</table>\n",
       "<p>5 rows × 25 columns</p>\n",
       "</div>"
      ],
      "text/plain": [
       "   article_id  product_code          prod_name  product_type_no  \\\n",
       "0   108775015        108775          Strap top              253   \n",
       "1   108775044        108775          Strap top              253   \n",
       "2   108775051        108775      Strap top (1)              253   \n",
       "3   110065001        110065  OP T-shirt (Idro)              306   \n",
       "4   110065002        110065  OP T-shirt (Idro)              306   \n",
       "\n",
       "  product_type_name  product_group_name  graphical_appearance_no  \\\n",
       "0          Vest top  Garment Upper body                  1010016   \n",
       "1          Vest top  Garment Upper body                  1010016   \n",
       "2          Vest top  Garment Upper body                  1010017   \n",
       "3               Bra           Underwear                  1010016   \n",
       "4               Bra           Underwear                  1010016   \n",
       "\n",
       "  graphical_appearance_name  colour_group_code colour_group_name  ...  \\\n",
       "0                     Solid                  9             Black  ...   \n",
       "1                     Solid                 10             White  ...   \n",
       "2                    Stripe                 11         Off White  ...   \n",
       "3                     Solid                  9             Black  ...   \n",
       "4                     Solid                 10             White  ...   \n",
       "\n",
       "   department_name index_code        index_name index_group_no  \\\n",
       "0     Jersey Basic          A        Ladieswear              1   \n",
       "1     Jersey Basic          A        Ladieswear              1   \n",
       "2     Jersey Basic          A        Ladieswear              1   \n",
       "3   Clean Lingerie          B  Lingeries/Tights              1   \n",
       "4   Clean Lingerie          B  Lingeries/Tights              1   \n",
       "\n",
       "   index_group_name section_no            section_name garment_group_no  \\\n",
       "0        Ladieswear         16  Womens Everyday Basics             1002   \n",
       "1        Ladieswear         16  Womens Everyday Basics             1002   \n",
       "2        Ladieswear         16  Womens Everyday Basics             1002   \n",
       "3        Ladieswear         61         Womens Lingerie             1017   \n",
       "4        Ladieswear         61         Womens Lingerie             1017   \n",
       "\n",
       "   garment_group_name                                        detail_desc  \n",
       "0        Jersey Basic            Jersey top with narrow shoulder straps.  \n",
       "1        Jersey Basic            Jersey top with narrow shoulder straps.  \n",
       "2        Jersey Basic            Jersey top with narrow shoulder straps.  \n",
       "3   Under-, Nightwear  Microfibre T-shirt bra with underwired, moulde...  \n",
       "4   Under-, Nightwear  Microfibre T-shirt bra with underwired, moulde...  \n",
       "\n",
       "[5 rows x 25 columns]"
      ]
     },
     "execution_count": 53,
     "metadata": {},
     "output_type": "execute_result"
    }
   ],
   "source": [
    "# Display basic column information for the initial Kaggle 'article' datatset - after Sampling of original dataset\n",
    "df_articles_sample.head()"
   ]
  },
  {
   "cell_type": "code",
   "execution_count": 54,
   "metadata": {},
   "outputs": [],
   "source": [
    "# Remove 'redundant' categotical columns from Articles (sample) dataframe\n",
    "# Consider a categorical column redundant when is 'partnered' with a numerical code \n",
    "\n",
    "redundo_catcols_to_drop =  [\"prod_name\", \n",
    "                            \"product_type_name\", \n",
    "                            \"graphical_appearance_name\",\n",
    "                            \"colour_group_name\",\n",
    "                            \"perceived_colour_value_name\",\n",
    "                            \"perceived_colour_master_name\",\n",
    "                            \"department_name\",\n",
    "                            \"index_name\",\n",
    "                            \"index_group_name\",\n",
    "                            \"section_name\",\n",
    "                            \"garment_group_name\",\n",
    "                            \"detail_desc\"]\n",
    "\n",
    "\n",
    "df_articles_sample.drop(redundo_catcols_to_drop, axis=1, inplace=True)"
   ]
  },
  {
   "cell_type": "code",
   "execution_count": 55,
   "metadata": {},
   "outputs": [
    {
     "data": {
      "text/html": [
       "<div>\n",
       "<style scoped>\n",
       "    .dataframe tbody tr th:only-of-type {\n",
       "        vertical-align: middle;\n",
       "    }\n",
       "\n",
       "    .dataframe tbody tr th {\n",
       "        vertical-align: top;\n",
       "    }\n",
       "\n",
       "    .dataframe thead th {\n",
       "        text-align: right;\n",
       "    }\n",
       "</style>\n",
       "<table border=\"1\" class=\"dataframe\">\n",
       "  <thead>\n",
       "    <tr style=\"text-align: right;\">\n",
       "      <th></th>\n",
       "      <th>article_id</th>\n",
       "      <th>product_code</th>\n",
       "      <th>product_type_no</th>\n",
       "      <th>product_group_name</th>\n",
       "      <th>graphical_appearance_no</th>\n",
       "      <th>colour_group_code</th>\n",
       "      <th>perceived_colour_value_id</th>\n",
       "      <th>perceived_colour_master_id</th>\n",
       "      <th>department_no</th>\n",
       "      <th>index_code</th>\n",
       "      <th>index_group_no</th>\n",
       "      <th>section_no</th>\n",
       "      <th>garment_group_no</th>\n",
       "    </tr>\n",
       "  </thead>\n",
       "  <tbody>\n",
       "    <tr>\n",
       "      <th>0</th>\n",
       "      <td>108775015</td>\n",
       "      <td>108775</td>\n",
       "      <td>253</td>\n",
       "      <td>Garment Upper body</td>\n",
       "      <td>1010016</td>\n",
       "      <td>9</td>\n",
       "      <td>4</td>\n",
       "      <td>5</td>\n",
       "      <td>1676</td>\n",
       "      <td>A</td>\n",
       "      <td>1</td>\n",
       "      <td>16</td>\n",
       "      <td>1002</td>\n",
       "    </tr>\n",
       "    <tr>\n",
       "      <th>1</th>\n",
       "      <td>108775044</td>\n",
       "      <td>108775</td>\n",
       "      <td>253</td>\n",
       "      <td>Garment Upper body</td>\n",
       "      <td>1010016</td>\n",
       "      <td>10</td>\n",
       "      <td>3</td>\n",
       "      <td>9</td>\n",
       "      <td>1676</td>\n",
       "      <td>A</td>\n",
       "      <td>1</td>\n",
       "      <td>16</td>\n",
       "      <td>1002</td>\n",
       "    </tr>\n",
       "    <tr>\n",
       "      <th>2</th>\n",
       "      <td>108775051</td>\n",
       "      <td>108775</td>\n",
       "      <td>253</td>\n",
       "      <td>Garment Upper body</td>\n",
       "      <td>1010017</td>\n",
       "      <td>11</td>\n",
       "      <td>1</td>\n",
       "      <td>9</td>\n",
       "      <td>1676</td>\n",
       "      <td>A</td>\n",
       "      <td>1</td>\n",
       "      <td>16</td>\n",
       "      <td>1002</td>\n",
       "    </tr>\n",
       "    <tr>\n",
       "      <th>3</th>\n",
       "      <td>110065001</td>\n",
       "      <td>110065</td>\n",
       "      <td>306</td>\n",
       "      <td>Underwear</td>\n",
       "      <td>1010016</td>\n",
       "      <td>9</td>\n",
       "      <td>4</td>\n",
       "      <td>5</td>\n",
       "      <td>1339</td>\n",
       "      <td>B</td>\n",
       "      <td>1</td>\n",
       "      <td>61</td>\n",
       "      <td>1017</td>\n",
       "    </tr>\n",
       "    <tr>\n",
       "      <th>4</th>\n",
       "      <td>110065002</td>\n",
       "      <td>110065</td>\n",
       "      <td>306</td>\n",
       "      <td>Underwear</td>\n",
       "      <td>1010016</td>\n",
       "      <td>10</td>\n",
       "      <td>3</td>\n",
       "      <td>9</td>\n",
       "      <td>1339</td>\n",
       "      <td>B</td>\n",
       "      <td>1</td>\n",
       "      <td>61</td>\n",
       "      <td>1017</td>\n",
       "    </tr>\n",
       "  </tbody>\n",
       "</table>\n",
       "</div>"
      ],
      "text/plain": [
       "   article_id  product_code  product_type_no  product_group_name  \\\n",
       "0   108775015        108775              253  Garment Upper body   \n",
       "1   108775044        108775              253  Garment Upper body   \n",
       "2   108775051        108775              253  Garment Upper body   \n",
       "3   110065001        110065              306           Underwear   \n",
       "4   110065002        110065              306           Underwear   \n",
       "\n",
       "   graphical_appearance_no  colour_group_code  perceived_colour_value_id  \\\n",
       "0                  1010016                  9                          4   \n",
       "1                  1010016                 10                          3   \n",
       "2                  1010017                 11                          1   \n",
       "3                  1010016                  9                          4   \n",
       "4                  1010016                 10                          3   \n",
       "\n",
       "   perceived_colour_master_id  department_no index_code  index_group_no  \\\n",
       "0                           5           1676          A               1   \n",
       "1                           9           1676          A               1   \n",
       "2                           9           1676          A               1   \n",
       "3                           5           1339          B               1   \n",
       "4                           9           1339          B               1   \n",
       "\n",
       "   section_no  garment_group_no  \n",
       "0          16              1002  \n",
       "1          16              1002  \n",
       "2          16              1002  \n",
       "3          61              1017  \n",
       "4          61              1017  "
      ]
     },
     "execution_count": 55,
     "metadata": {},
     "output_type": "execute_result"
    }
   ],
   "source": [
    "# Display basic column information for the initial Kaggle 'article' datatset - after Sampling of original dataset\n",
    "df_articles_sample.head()"
   ]
  },
  {
   "cell_type": "markdown",
   "metadata": {},
   "source": [
    "#### Use One-Hot-Encoding on remaining categorical columns. <a class=\"tocSkip\">"
   ]
  },
  {
   "cell_type": "code",
   "execution_count": 56,
   "metadata": {},
   "outputs": [],
   "source": [
    "article_cols_to_encode =['product_group_name', 'index_code']\n",
    "for column_name in article_cols_to_encode:\n",
    "    df_articles_sample = encode_Categor_Features(df_articles_sample, column_name)"
   ]
  },
  {
   "cell_type": "code",
   "execution_count": 57,
   "metadata": {},
   "outputs": [
    {
     "data": {
      "text/plain": [
       "(53680, 38)"
      ]
     },
     "execution_count": 57,
     "metadata": {},
     "output_type": "execute_result"
    }
   ],
   "source": [
    "df_articles_sample.shape"
   ]
  },
  {
   "cell_type": "code",
   "execution_count": 58,
   "metadata": {},
   "outputs": [
    {
     "data": {
      "text/html": [
       "<div>\n",
       "<style scoped>\n",
       "    .dataframe tbody tr th:only-of-type {\n",
       "        vertical-align: middle;\n",
       "    }\n",
       "\n",
       "    .dataframe tbody tr th {\n",
       "        vertical-align: top;\n",
       "    }\n",
       "\n",
       "    .dataframe thead th {\n",
       "        text-align: right;\n",
       "    }\n",
       "</style>\n",
       "<table border=\"1\" class=\"dataframe\">\n",
       "  <thead>\n",
       "    <tr style=\"text-align: right;\">\n",
       "      <th></th>\n",
       "      <th>article_id</th>\n",
       "      <th>product_code</th>\n",
       "      <th>product_type_no</th>\n",
       "      <th>graphical_appearance_no</th>\n",
       "      <th>colour_group_code</th>\n",
       "      <th>perceived_colour_value_id</th>\n",
       "      <th>perceived_colour_master_id</th>\n",
       "      <th>department_no</th>\n",
       "      <th>index_group_no</th>\n",
       "      <th>section_no</th>\n",
       "      <th>...</th>\n",
       "      <th>A</th>\n",
       "      <th>B</th>\n",
       "      <th>C</th>\n",
       "      <th>D</th>\n",
       "      <th>F</th>\n",
       "      <th>G</th>\n",
       "      <th>H</th>\n",
       "      <th>I</th>\n",
       "      <th>J</th>\n",
       "      <th>S</th>\n",
       "    </tr>\n",
       "  </thead>\n",
       "  <tbody>\n",
       "    <tr>\n",
       "      <th>0</th>\n",
       "      <td>108775015</td>\n",
       "      <td>108775</td>\n",
       "      <td>253</td>\n",
       "      <td>1010016</td>\n",
       "      <td>9</td>\n",
       "      <td>4</td>\n",
       "      <td>5</td>\n",
       "      <td>1676</td>\n",
       "      <td>1</td>\n",
       "      <td>16</td>\n",
       "      <td>...</td>\n",
       "      <td>1</td>\n",
       "      <td>0</td>\n",
       "      <td>0</td>\n",
       "      <td>0</td>\n",
       "      <td>0</td>\n",
       "      <td>0</td>\n",
       "      <td>0</td>\n",
       "      <td>0</td>\n",
       "      <td>0</td>\n",
       "      <td>0</td>\n",
       "    </tr>\n",
       "    <tr>\n",
       "      <th>1</th>\n",
       "      <td>108775044</td>\n",
       "      <td>108775</td>\n",
       "      <td>253</td>\n",
       "      <td>1010016</td>\n",
       "      <td>10</td>\n",
       "      <td>3</td>\n",
       "      <td>9</td>\n",
       "      <td>1676</td>\n",
       "      <td>1</td>\n",
       "      <td>16</td>\n",
       "      <td>...</td>\n",
       "      <td>1</td>\n",
       "      <td>0</td>\n",
       "      <td>0</td>\n",
       "      <td>0</td>\n",
       "      <td>0</td>\n",
       "      <td>0</td>\n",
       "      <td>0</td>\n",
       "      <td>0</td>\n",
       "      <td>0</td>\n",
       "      <td>0</td>\n",
       "    </tr>\n",
       "    <tr>\n",
       "      <th>2</th>\n",
       "      <td>108775051</td>\n",
       "      <td>108775</td>\n",
       "      <td>253</td>\n",
       "      <td>1010017</td>\n",
       "      <td>11</td>\n",
       "      <td>1</td>\n",
       "      <td>9</td>\n",
       "      <td>1676</td>\n",
       "      <td>1</td>\n",
       "      <td>16</td>\n",
       "      <td>...</td>\n",
       "      <td>1</td>\n",
       "      <td>0</td>\n",
       "      <td>0</td>\n",
       "      <td>0</td>\n",
       "      <td>0</td>\n",
       "      <td>0</td>\n",
       "      <td>0</td>\n",
       "      <td>0</td>\n",
       "      <td>0</td>\n",
       "      <td>0</td>\n",
       "    </tr>\n",
       "    <tr>\n",
       "      <th>3</th>\n",
       "      <td>110065001</td>\n",
       "      <td>110065</td>\n",
       "      <td>306</td>\n",
       "      <td>1010016</td>\n",
       "      <td>9</td>\n",
       "      <td>4</td>\n",
       "      <td>5</td>\n",
       "      <td>1339</td>\n",
       "      <td>1</td>\n",
       "      <td>61</td>\n",
       "      <td>...</td>\n",
       "      <td>0</td>\n",
       "      <td>1</td>\n",
       "      <td>0</td>\n",
       "      <td>0</td>\n",
       "      <td>0</td>\n",
       "      <td>0</td>\n",
       "      <td>0</td>\n",
       "      <td>0</td>\n",
       "      <td>0</td>\n",
       "      <td>0</td>\n",
       "    </tr>\n",
       "    <tr>\n",
       "      <th>4</th>\n",
       "      <td>110065002</td>\n",
       "      <td>110065</td>\n",
       "      <td>306</td>\n",
       "      <td>1010016</td>\n",
       "      <td>10</td>\n",
       "      <td>3</td>\n",
       "      <td>9</td>\n",
       "      <td>1339</td>\n",
       "      <td>1</td>\n",
       "      <td>61</td>\n",
       "      <td>...</td>\n",
       "      <td>0</td>\n",
       "      <td>1</td>\n",
       "      <td>0</td>\n",
       "      <td>0</td>\n",
       "      <td>0</td>\n",
       "      <td>0</td>\n",
       "      <td>0</td>\n",
       "      <td>0</td>\n",
       "      <td>0</td>\n",
       "      <td>0</td>\n",
       "    </tr>\n",
       "  </tbody>\n",
       "</table>\n",
       "<p>5 rows × 38 columns</p>\n",
       "</div>"
      ],
      "text/plain": [
       "   article_id  product_code  product_type_no  graphical_appearance_no  \\\n",
       "0   108775015        108775              253                  1010016   \n",
       "1   108775044        108775              253                  1010016   \n",
       "2   108775051        108775              253                  1010017   \n",
       "3   110065001        110065              306                  1010016   \n",
       "4   110065002        110065              306                  1010016   \n",
       "\n",
       "   colour_group_code  perceived_colour_value_id  perceived_colour_master_id  \\\n",
       "0                  9                          4                           5   \n",
       "1                 10                          3                           9   \n",
       "2                 11                          1                           9   \n",
       "3                  9                          4                           5   \n",
       "4                 10                          3                           9   \n",
       "\n",
       "   department_no  index_group_no  section_no  ...  A  B  C  D  F  G  H  I  J  \\\n",
       "0           1676               1          16  ...  1  0  0  0  0  0  0  0  0   \n",
       "1           1676               1          16  ...  1  0  0  0  0  0  0  0  0   \n",
       "2           1676               1          16  ...  1  0  0  0  0  0  0  0  0   \n",
       "3           1339               1          61  ...  0  1  0  0  0  0  0  0  0   \n",
       "4           1339               1          61  ...  0  1  0  0  0  0  0  0  0   \n",
       "\n",
       "   S  \n",
       "0  0  \n",
       "1  0  \n",
       "2  0  \n",
       "3  0  \n",
       "4  0  \n",
       "\n",
       "[5 rows x 38 columns]"
      ]
     },
     "execution_count": 58,
     "metadata": {},
     "output_type": "execute_result"
    }
   ],
   "source": [
    "# Display basic column information for sampled articles dataframe after encoding\n",
    "df_articles_sample.head()"
   ]
  },
  {
   "cell_type": "markdown",
   "metadata": {},
   "source": [
    "#### Merge Trxn/Customers Dataframe with Articles Dataframe (sample). <a class=\"tocSkip\">"
   ]
  },
  {
   "cell_type": "code",
   "execution_count": 59,
   "metadata": {},
   "outputs": [],
   "source": [
    "# Merge Articles atributes from the Articles dataset based on a join with the 'article_id' field\n",
    "df_HM_CustTrxnArtcls = pd.merge(df_HM_CustTrxn, df_articles_sample, how=\"left\", on=[\"article_id\"])"
   ]
  },
  {
   "cell_type": "code",
   "execution_count": 60,
   "metadata": {},
   "outputs": [
    {
     "data": {
      "text/plain": [
       "(314712, 52)"
      ]
     },
     "execution_count": 60,
     "metadata": {},
     "output_type": "execute_result"
    }
   ],
   "source": [
    "# Confirm dimensions of Trxn (sample) dataframe AFTER merging with Articles data\n",
    "df_HM_CustTrxnArtcls.shape"
   ]
  },
  {
   "cell_type": "code",
   "execution_count": 61,
   "metadata": {},
   "outputs": [
    {
     "data": {
      "text/html": [
       "<div>\n",
       "<style scoped>\n",
       "    .dataframe tbody tr th:only-of-type {\n",
       "        vertical-align: middle;\n",
       "    }\n",
       "\n",
       "    .dataframe tbody tr th {\n",
       "        vertical-align: top;\n",
       "    }\n",
       "\n",
       "    .dataframe thead th {\n",
       "        text-align: right;\n",
       "    }\n",
       "</style>\n",
       "<table border=\"1\" class=\"dataframe\">\n",
       "  <thead>\n",
       "    <tr style=\"text-align: right;\">\n",
       "      <th></th>\n",
       "      <th>t_dat</th>\n",
       "      <th>customer_id</th>\n",
       "      <th>article_id</th>\n",
       "      <th>price</th>\n",
       "      <th>sales_channel_id</th>\n",
       "      <th>txn_year</th>\n",
       "      <th>txn_mth</th>\n",
       "      <th>txn_day</th>\n",
       "      <th>age</th>\n",
       "      <th>ACTIVE</th>\n",
       "      <th>...</th>\n",
       "      <th>A</th>\n",
       "      <th>B</th>\n",
       "      <th>C</th>\n",
       "      <th>D</th>\n",
       "      <th>F</th>\n",
       "      <th>G</th>\n",
       "      <th>H</th>\n",
       "      <th>I</th>\n",
       "      <th>J</th>\n",
       "      <th>S</th>\n",
       "    </tr>\n",
       "  </thead>\n",
       "  <tbody>\n",
       "    <tr>\n",
       "      <th>0</th>\n",
       "      <td>2020-03-27</td>\n",
       "      <td>5bd6a7fe864299db9dfb14abd64bb7ff1a458efa1bc577...</td>\n",
       "      <td>754404006</td>\n",
       "      <td>0.025407</td>\n",
       "      <td>2</td>\n",
       "      <td>2020</td>\n",
       "      <td>3</td>\n",
       "      <td>27</td>\n",
       "      <td>20.0</td>\n",
       "      <td>1</td>\n",
       "      <td>...</td>\n",
       "      <td>0</td>\n",
       "      <td>1</td>\n",
       "      <td>0</td>\n",
       "      <td>0</td>\n",
       "      <td>0</td>\n",
       "      <td>0</td>\n",
       "      <td>0</td>\n",
       "      <td>0</td>\n",
       "      <td>0</td>\n",
       "      <td>0</td>\n",
       "    </tr>\n",
       "    <tr>\n",
       "      <th>1</th>\n",
       "      <td>2020-03-09</td>\n",
       "      <td>0df4fe521cc1bf5e785375ef6aa8025387f5fe60f8ad7a...</td>\n",
       "      <td>599580052</td>\n",
       "      <td>0.016932</td>\n",
       "      <td>2</td>\n",
       "      <td>2020</td>\n",
       "      <td>3</td>\n",
       "      <td>9</td>\n",
       "      <td>26.0</td>\n",
       "      <td>1</td>\n",
       "      <td>...</td>\n",
       "      <td>0</td>\n",
       "      <td>1</td>\n",
       "      <td>0</td>\n",
       "      <td>0</td>\n",
       "      <td>0</td>\n",
       "      <td>0</td>\n",
       "      <td>0</td>\n",
       "      <td>0</td>\n",
       "      <td>0</td>\n",
       "      <td>0</td>\n",
       "    </tr>\n",
       "    <tr>\n",
       "      <th>2</th>\n",
       "      <td>2019-05-30</td>\n",
       "      <td>78852784471bc2699c356d5a9d8ccec313f75d2e40368d...</td>\n",
       "      <td>599719021</td>\n",
       "      <td>0.033881</td>\n",
       "      <td>2</td>\n",
       "      <td>2019</td>\n",
       "      <td>5</td>\n",
       "      <td>30</td>\n",
       "      <td>46.0</td>\n",
       "      <td>1</td>\n",
       "      <td>...</td>\n",
       "      <td>1</td>\n",
       "      <td>0</td>\n",
       "      <td>0</td>\n",
       "      <td>0</td>\n",
       "      <td>0</td>\n",
       "      <td>0</td>\n",
       "      <td>0</td>\n",
       "      <td>0</td>\n",
       "      <td>0</td>\n",
       "      <td>0</td>\n",
       "    </tr>\n",
       "    <tr>\n",
       "      <th>3</th>\n",
       "      <td>2019-09-12</td>\n",
       "      <td>acdcabf58d4145344e4a3074967641b76d0d2a182ddb39...</td>\n",
       "      <td>315795004</td>\n",
       "      <td>0.016322</td>\n",
       "      <td>1</td>\n",
       "      <td>2019</td>\n",
       "      <td>9</td>\n",
       "      <td>12</td>\n",
       "      <td>28.0</td>\n",
       "      <td>1</td>\n",
       "      <td>...</td>\n",
       "      <td>0</td>\n",
       "      <td>0</td>\n",
       "      <td>0</td>\n",
       "      <td>0</td>\n",
       "      <td>1</td>\n",
       "      <td>0</td>\n",
       "      <td>0</td>\n",
       "      <td>0</td>\n",
       "      <td>0</td>\n",
       "      <td>0</td>\n",
       "    </tr>\n",
       "    <tr>\n",
       "      <th>4</th>\n",
       "      <td>2020-04-05</td>\n",
       "      <td>efdd57e583b75a75217a2f180f87e3f35d540f2d83fea4...</td>\n",
       "      <td>856109003</td>\n",
       "      <td>0.016186</td>\n",
       "      <td>2</td>\n",
       "      <td>2020</td>\n",
       "      <td>4</td>\n",
       "      <td>5</td>\n",
       "      <td>54.0</td>\n",
       "      <td>1</td>\n",
       "      <td>...</td>\n",
       "      <td>1</td>\n",
       "      <td>0</td>\n",
       "      <td>0</td>\n",
       "      <td>0</td>\n",
       "      <td>0</td>\n",
       "      <td>0</td>\n",
       "      <td>0</td>\n",
       "      <td>0</td>\n",
       "      <td>0</td>\n",
       "      <td>0</td>\n",
       "    </tr>\n",
       "  </tbody>\n",
       "</table>\n",
       "<p>5 rows × 52 columns</p>\n",
       "</div>"
      ],
      "text/plain": [
       "       t_dat                                        customer_id  article_id  \\\n",
       "0 2020-03-27  5bd6a7fe864299db9dfb14abd64bb7ff1a458efa1bc577...   754404006   \n",
       "1 2020-03-09  0df4fe521cc1bf5e785375ef6aa8025387f5fe60f8ad7a...   599580052   \n",
       "2 2019-05-30  78852784471bc2699c356d5a9d8ccec313f75d2e40368d...   599719021   \n",
       "3 2019-09-12  acdcabf58d4145344e4a3074967641b76d0d2a182ddb39...   315795004   \n",
       "4 2020-04-05  efdd57e583b75a75217a2f180f87e3f35d540f2d83fea4...   856109003   \n",
       "\n",
       "      price  sales_channel_id  txn_year  txn_mth  txn_day   age  ACTIVE  ...  \\\n",
       "0  0.025407                 2      2020        3       27  20.0       1  ...   \n",
       "1  0.016932                 2      2020        3        9  26.0       1  ...   \n",
       "2  0.033881                 2      2019        5       30  46.0       1  ...   \n",
       "3  0.016322                 1      2019        9       12  28.0       1  ...   \n",
       "4  0.016186                 2      2020        4        5  54.0       1  ...   \n",
       "\n",
       "   A  B  C  D  F  G  H  I  J  S  \n",
       "0  0  1  0  0  0  0  0  0  0  0  \n",
       "1  0  1  0  0  0  0  0  0  0  0  \n",
       "2  1  0  0  0  0  0  0  0  0  0  \n",
       "3  0  0  0  0  1  0  0  0  0  0  \n",
       "4  1  0  0  0  0  0  0  0  0  0  \n",
       "\n",
       "[5 rows x 52 columns]"
      ]
     },
     "execution_count": 61,
     "metadata": {},
     "output_type": "execute_result"
    }
   ],
   "source": [
    "# Display basic column information for the initial Kaggle 'transaction_train' datatset - AFTER merging with Articles data\n",
    "df_HM_CustTrxnArtcls.head()"
   ]
  },
  {
   "cell_type": "code",
   "execution_count": 62,
   "metadata": {},
   "outputs": [
    {
     "name": "stdout",
     "output_type": "stream",
     "text": [
      "Any Null Values in the merged Trxn/Customer/Articles dataframe? \n",
      " t_dat                         False\n",
      "customer_id                   False\n",
      "article_id                    False\n",
      "price                         False\n",
      "sales_channel_id              False\n",
      "txn_year                      False\n",
      "txn_mth                       False\n",
      "txn_day                       False\n",
      "age                           False\n",
      "ACTIVE                        False\n",
      "LEFT CLUB                     False\n",
      "PRE-CREATE                    False\n",
      "Monthly                       False\n",
      "NONE                          False\n",
      "Regularly                     False\n",
      "product_code                  False\n",
      "product_type_no               False\n",
      "graphical_appearance_no       False\n",
      "colour_group_code             False\n",
      "perceived_colour_value_id     False\n",
      "perceived_colour_master_id    False\n",
      "department_no                 False\n",
      "index_group_no                False\n",
      "section_no                    False\n",
      "garment_group_no              False\n",
      "Accessories                   False\n",
      "Bags                          False\n",
      "Cosmetic                      False\n",
      "Furniture                     False\n",
      "Garment Full body             False\n",
      "Garment Lower body            False\n",
      "Garment Upper body            False\n",
      "Garment and Shoe care         False\n",
      "Items                         False\n",
      "Nightwear                     False\n",
      "Shoes                         False\n",
      "Socks & Tights                False\n",
      "Stationery                    False\n",
      "Swimwear                      False\n",
      "Underwear                     False\n",
      "Underwear/nightwear           False\n",
      "Unknown                       False\n",
      "A                             False\n",
      "B                             False\n",
      "C                             False\n",
      "D                             False\n",
      "F                             False\n",
      "G                             False\n",
      "H                             False\n",
      "I                             False\n",
      "J                             False\n",
      "S                             False\n",
      "dtype: bool\n"
     ]
    },
    {
     "data": {
      "text/plain": [
       "[None]"
      ]
     },
     "execution_count": 62,
     "metadata": {},
     "output_type": "execute_result"
    }
   ],
   "source": [
    "# Check for null values in the merged Trxn/Customer/Articles dataframe\n",
    "[print('Any Null Values in the merged Trxn/Customer/Articles dataframe?','\\n' ,df_HM_CustTrxnArtcls.isnull().any())]"
   ]
  },
  {
   "cell_type": "markdown",
   "metadata": {},
   "source": [
    "#### Final Data Preparation Steps"
   ]
  },
  {
   "cell_type": "markdown",
   "metadata": {},
   "source": [
    "#### Remove Any Duplicates in Final Merged Dataframe. <a class=\"tocSkip\">"
   ]
  },
  {
   "cell_type": "code",
   "execution_count": 63,
   "metadata": {},
   "outputs": [
    {
     "name": "stdout",
     "output_type": "stream",
     "text": [
      "Numbers of duplicated rows in the final merged Trxn/Customer/Articles dataframe? \n",
      " 397\n"
     ]
    },
    {
     "data": {
      "text/plain": [
       "[None]"
      ]
     },
     "execution_count": 63,
     "metadata": {},
     "output_type": "execute_result"
    }
   ],
   "source": [
    "# run a check to see if any duplicate entires exist in the merged Trxn/Customer/Articles dataframe\n",
    "[print('Numbers of duplicated rows in the final merged Trxn/Customer/Articles dataframe?','\\n' \n",
    "                                                                       ,df_HM_CustTrxnArtcls.duplicated().sum())]"
   ]
  },
  {
   "cell_type": "code",
   "execution_count": 64,
   "metadata": {},
   "outputs": [],
   "source": [
    "# Drop duplicate rows in the merged Trxn/Customer/Articles dataframe\n",
    "df_HM_CustTrxnArtcls = df_HM_CustTrxnArtcls.drop_duplicates()"
   ]
  },
  {
   "cell_type": "code",
   "execution_count": 65,
   "metadata": {},
   "outputs": [],
   "source": [
    "# Re-check: Find duplicate rows across all columns\n",
    "duplicateRows = df_HM_CustTrxnArtcls[df_HM_CustTrxnArtcls.duplicated()]"
   ]
  },
  {
   "cell_type": "code",
   "execution_count": 66,
   "metadata": {},
   "outputs": [
    {
     "name": "stdout",
     "output_type": "stream",
     "text": [
      "Success! Duplicate Rows Removed from merged Trxn/Customer/Articles dataframe\n"
     ]
    }
   ],
   "source": [
    "# This code will advise if duplicates are successfully removed.\n",
    "if duplicateRows.shape[0] < 1:\n",
    "    [print('Success! Duplicate Rows Removed from merged Trxn/Customer/Articles dataframe')]\n",
    "else:\n",
    "    [print('Warning! Duplicate Rows Remain in merged Trxn/Customer/Articles dataframe')] "
   ]
  },
  {
   "cell_type": "code",
   "execution_count": 67,
   "metadata": {},
   "outputs": [
    {
     "name": "stdout",
     "output_type": "stream",
     "text": [
      "\n",
      "Current Number of Rows/Columns in merged Trxn/Customer/Articles dataframe - duplicates removed \n",
      " (314315, 52)\n"
     ]
    },
    {
     "data": {
      "text/plain": [
       "[None]"
      ]
     },
     "execution_count": 67,
     "metadata": {},
     "output_type": "execute_result"
    }
   ],
   "source": [
    "# Confirm dimensions of Trxn/Customer/Articles (sample) dataframe AFTER removing duplicate rows\n",
    "[print('\\nCurrent Number of Rows/Columns in merged Trxn/Customer/Articles dataframe - duplicates removed','\\n' ,\n",
    "                                                                                           df_HM_CustTrxnArtcls.shape)]"
   ]
  },
  {
   "cell_type": "code",
   "execution_count": 68,
   "metadata": {},
   "outputs": [],
   "source": [
    "### See if there is a way to check the integrity of the customer merging.."
   ]
  },
  {
   "cell_type": "code",
   "execution_count": 69,
   "metadata": {},
   "outputs": [
    {
     "data": {
      "text/plain": [
       "t_dat                         datetime64[ns]\n",
       "customer_id                           object\n",
       "article_id                             int64\n",
       "price                                float64\n",
       "sales_channel_id                       int64\n",
       "txn_year                               int32\n",
       "txn_mth                                int32\n",
       "txn_day                                int32\n",
       "age                                  float64\n",
       "ACTIVE                                 uint8\n",
       "LEFT CLUB                              uint8\n",
       "PRE-CREATE                             uint8\n",
       "Monthly                                uint8\n",
       "NONE                                   uint8\n",
       "Regularly                              uint8\n",
       "product_code                           int64\n",
       "product_type_no                        int64\n",
       "graphical_appearance_no                int64\n",
       "colour_group_code                      int64\n",
       "perceived_colour_value_id              int64\n",
       "perceived_colour_master_id             int64\n",
       "department_no                          int64\n",
       "index_group_no                         int64\n",
       "section_no                             int64\n",
       "garment_group_no                       int64\n",
       "Accessories                            uint8\n",
       "Bags                                   uint8\n",
       "Cosmetic                               uint8\n",
       "Furniture                              uint8\n",
       "Garment Full body                      uint8\n",
       "Garment Lower body                     uint8\n",
       "Garment Upper body                     uint8\n",
       "Garment and Shoe care                  uint8\n",
       "Items                                  uint8\n",
       "Nightwear                              uint8\n",
       "Shoes                                  uint8\n",
       "Socks & Tights                         uint8\n",
       "Stationery                             uint8\n",
       "Swimwear                               uint8\n",
       "Underwear                              uint8\n",
       "Underwear/nightwear                    uint8\n",
       "Unknown                                uint8\n",
       "A                                      uint8\n",
       "B                                      uint8\n",
       "C                                      uint8\n",
       "D                                      uint8\n",
       "F                                      uint8\n",
       "G                                      uint8\n",
       "H                                      uint8\n",
       "I                                      uint8\n",
       "J                                      uint8\n",
       "S                                      uint8\n",
       "dtype: object"
      ]
     },
     "execution_count": 69,
     "metadata": {},
     "output_type": "execute_result"
    }
   ],
   "source": [
    "df_HM_CustTrxnArtcls.dtypes"
   ]
  },
  {
   "cell_type": "markdown",
   "metadata": {},
   "source": [
    "###### "
   ]
  },
  {
   "cell_type": "markdown",
   "metadata": {},
   "source": [
    "## Mark Data : Train and Test Sets"
   ]
  },
  {
   "cell_type": "code",
   "execution_count": 70,
   "metadata": {},
   "outputs": [],
   "source": [
    "# Split the data into train and test set\n",
    "# Parameter set to 30% for size of Test set\n",
    "# Given that there is ordering in the dataset, the 'shuffle' parameter is set to 'True'\n",
    "# train, test = train_test_split(df_HM_CustTrxnArtcls, test_size=0.3, random_state=101, shuffle=True)"
   ]
  },
  {
   "cell_type": "markdown",
   "metadata": {},
   "source": [
    "### Display Data Analysis of Merged Dataset"
   ]
  },
  {
   "cell_type": "code",
   "execution_count": 71,
   "metadata": {},
   "outputs": [
    {
     "data": {
      "text/plain": [
       "(314315, 52)"
      ]
     },
     "execution_count": 71,
     "metadata": {},
     "output_type": "execute_result"
    }
   ],
   "source": [
    "df_HM_CustTrxnArtcls.shape"
   ]
  },
  {
   "cell_type": "code",
   "execution_count": 72,
   "metadata": {},
   "outputs": [
    {
     "data": {
      "text/html": [
       "<div>\n",
       "<style scoped>\n",
       "    .dataframe tbody tr th:only-of-type {\n",
       "        vertical-align: middle;\n",
       "    }\n",
       "\n",
       "    .dataframe tbody tr th {\n",
       "        vertical-align: top;\n",
       "    }\n",
       "\n",
       "    .dataframe thead th {\n",
       "        text-align: right;\n",
       "    }\n",
       "</style>\n",
       "<table border=\"1\" class=\"dataframe\">\n",
       "  <thead>\n",
       "    <tr style=\"text-align: right;\">\n",
       "      <th></th>\n",
       "      <th>t_dat</th>\n",
       "      <th>customer_id</th>\n",
       "      <th>article_id</th>\n",
       "      <th>price</th>\n",
       "      <th>sales_channel_id</th>\n",
       "      <th>txn_year</th>\n",
       "      <th>txn_mth</th>\n",
       "      <th>txn_day</th>\n",
       "      <th>age</th>\n",
       "      <th>ACTIVE</th>\n",
       "      <th>...</th>\n",
       "      <th>A</th>\n",
       "      <th>B</th>\n",
       "      <th>C</th>\n",
       "      <th>D</th>\n",
       "      <th>F</th>\n",
       "      <th>G</th>\n",
       "      <th>H</th>\n",
       "      <th>I</th>\n",
       "      <th>J</th>\n",
       "      <th>S</th>\n",
       "    </tr>\n",
       "  </thead>\n",
       "  <tbody>\n",
       "    <tr>\n",
       "      <th>41259</th>\n",
       "      <td>2020-09-22</td>\n",
       "      <td>c70596ab68acdfeb18f672688ab1d128c39f9fed6359c9...</td>\n",
       "      <td>799365002</td>\n",
       "      <td>0.050831</td>\n",
       "      <td>2</td>\n",
       "      <td>2020</td>\n",
       "      <td>9</td>\n",
       "      <td>22</td>\n",
       "      <td>27.0</td>\n",
       "      <td>1</td>\n",
       "      <td>...</td>\n",
       "      <td>0</td>\n",
       "      <td>0</td>\n",
       "      <td>0</td>\n",
       "      <td>1</td>\n",
       "      <td>0</td>\n",
       "      <td>0</td>\n",
       "      <td>0</td>\n",
       "      <td>0</td>\n",
       "      <td>0</td>\n",
       "      <td>0</td>\n",
       "    </tr>\n",
       "    <tr>\n",
       "      <th>219829</th>\n",
       "      <td>2020-09-22</td>\n",
       "      <td>fa8768c322a8f6cfbdfddd7ac7b013dd6cd87aec022ee8...</td>\n",
       "      <td>800691008</td>\n",
       "      <td>0.011847</td>\n",
       "      <td>1</td>\n",
       "      <td>2020</td>\n",
       "      <td>9</td>\n",
       "      <td>22</td>\n",
       "      <td>25.0</td>\n",
       "      <td>1</td>\n",
       "      <td>...</td>\n",
       "      <td>1</td>\n",
       "      <td>0</td>\n",
       "      <td>0</td>\n",
       "      <td>0</td>\n",
       "      <td>0</td>\n",
       "      <td>0</td>\n",
       "      <td>0</td>\n",
       "      <td>0</td>\n",
       "      <td>0</td>\n",
       "      <td>0</td>\n",
       "    </tr>\n",
       "    <tr>\n",
       "      <th>52132</th>\n",
       "      <td>2020-09-22</td>\n",
       "      <td>1dfb610125973cf55d753101b42506b9994888f7416d80...</td>\n",
       "      <td>910449003</td>\n",
       "      <td>0.033881</td>\n",
       "      <td>2</td>\n",
       "      <td>2020</td>\n",
       "      <td>9</td>\n",
       "      <td>22</td>\n",
       "      <td>53.0</td>\n",
       "      <td>1</td>\n",
       "      <td>...</td>\n",
       "      <td>1</td>\n",
       "      <td>0</td>\n",
       "      <td>0</td>\n",
       "      <td>0</td>\n",
       "      <td>0</td>\n",
       "      <td>0</td>\n",
       "      <td>0</td>\n",
       "      <td>0</td>\n",
       "      <td>0</td>\n",
       "      <td>0</td>\n",
       "    </tr>\n",
       "    <tr>\n",
       "      <th>41432</th>\n",
       "      <td>2020-09-22</td>\n",
       "      <td>adf4f63b40a456d841107b6969970282c9e73d78239b13...</td>\n",
       "      <td>803685001</td>\n",
       "      <td>0.041475</td>\n",
       "      <td>2</td>\n",
       "      <td>2020</td>\n",
       "      <td>9</td>\n",
       "      <td>22</td>\n",
       "      <td>24.0</td>\n",
       "      <td>1</td>\n",
       "      <td>...</td>\n",
       "      <td>0</td>\n",
       "      <td>0</td>\n",
       "      <td>0</td>\n",
       "      <td>0</td>\n",
       "      <td>0</td>\n",
       "      <td>0</td>\n",
       "      <td>0</td>\n",
       "      <td>0</td>\n",
       "      <td>0</td>\n",
       "      <td>1</td>\n",
       "    </tr>\n",
       "    <tr>\n",
       "      <th>21396</th>\n",
       "      <td>2020-09-22</td>\n",
       "      <td>7444da10aabe0a925531c459e582a9bb0a2397bc066ba4...</td>\n",
       "      <td>903926001</td>\n",
       "      <td>0.050831</td>\n",
       "      <td>2</td>\n",
       "      <td>2020</td>\n",
       "      <td>9</td>\n",
       "      <td>22</td>\n",
       "      <td>51.0</td>\n",
       "      <td>1</td>\n",
       "      <td>...</td>\n",
       "      <td>1</td>\n",
       "      <td>0</td>\n",
       "      <td>0</td>\n",
       "      <td>0</td>\n",
       "      <td>0</td>\n",
       "      <td>0</td>\n",
       "      <td>0</td>\n",
       "      <td>0</td>\n",
       "      <td>0</td>\n",
       "      <td>0</td>\n",
       "    </tr>\n",
       "  </tbody>\n",
       "</table>\n",
       "<p>5 rows × 52 columns</p>\n",
       "</div>"
      ],
      "text/plain": [
       "            t_dat                                        customer_id  \\\n",
       "41259  2020-09-22  c70596ab68acdfeb18f672688ab1d128c39f9fed6359c9...   \n",
       "219829 2020-09-22  fa8768c322a8f6cfbdfddd7ac7b013dd6cd87aec022ee8...   \n",
       "52132  2020-09-22  1dfb610125973cf55d753101b42506b9994888f7416d80...   \n",
       "41432  2020-09-22  adf4f63b40a456d841107b6969970282c9e73d78239b13...   \n",
       "21396  2020-09-22  7444da10aabe0a925531c459e582a9bb0a2397bc066ba4...   \n",
       "\n",
       "        article_id     price  sales_channel_id  txn_year  txn_mth  txn_day  \\\n",
       "41259    799365002  0.050831                 2      2020        9       22   \n",
       "219829   800691008  0.011847                 1      2020        9       22   \n",
       "52132    910449003  0.033881                 2      2020        9       22   \n",
       "41432    803685001  0.041475                 2      2020        9       22   \n",
       "21396    903926001  0.050831                 2      2020        9       22   \n",
       "\n",
       "         age  ACTIVE  ...  A  B  C  D  F  G  H  I  J  S  \n",
       "41259   27.0       1  ...  0  0  0  1  0  0  0  0  0  0  \n",
       "219829  25.0       1  ...  1  0  0  0  0  0  0  0  0  0  \n",
       "52132   53.0       1  ...  1  0  0  0  0  0  0  0  0  0  \n",
       "41432   24.0       1  ...  0  0  0  0  0  0  0  0  0  1  \n",
       "21396   51.0       1  ...  1  0  0  0  0  0  0  0  0  0  \n",
       "\n",
       "[5 rows x 52 columns]"
      ]
     },
     "execution_count": 72,
     "metadata": {},
     "output_type": "execute_result"
    }
   ],
   "source": [
    "df_HM_CustTrxnArtcls.sort_values('t_dat', ascending=False).head()"
   ]
  },
  {
   "cell_type": "markdown",
   "metadata": {},
   "source": [
    "### Create Training Set Based on Date Rane (-2 Wk to -4 Wk)"
   ]
  },
  {
   "cell_type": "markdown",
   "metadata": {},
   "source": [
    "#### Transaction data runs up to 20th Sep 2020.  <a class=\"tocSkip\">"
   ]
  },
  {
   "cell_type": "markdown",
   "metadata": {},
   "source": [
    "#### Given that the objective is to predict purchases for a following week, the Test data is taken from the last week of transactions for each year, and the Training dats is based on the previous three weeks for each year.  <a class=\"tocSkip\">"
   ]
  },
  {
   "cell_type": "markdown",
   "metadata": {},
   "source": [
    "#### Training Data is split based on the August 23rd to September 14th period for each year in Transaction Data.  <a class=\"tocSkip\">"
   ]
  },
  {
   "cell_type": "code",
   "execution_count": 73,
   "metadata": {},
   "outputs": [],
   "source": [
    "# Select rows from the merged Transaction/Customer/Articles dataframe for the Training Data period - all years\n",
    "df_train_Wk321 = df_HM_CustTrxnArtcls.loc[  (\n",
    "                                               (df_HM_CustTrxnArtcls['txn_mth'] == 9)  \n",
    "                                             & (df_HM_CustTrxnArtcls['txn_day'] <= 14) # September 1 - 14\n",
    "                                             \n",
    "                                             )\n",
    "                                          |\n",
    "                                            (\n",
    "                                                (df_HM_CustTrxnArtcls['txn_mth'] == 8)\n",
    "                                              & (df_HM_CustTrxnArtcls['txn_day'] >= 23) # August 23 - 31\n",
    "                                             )\n",
    "                                          ]\n",
    "#df_train_Wk321"
   ]
  },
  {
   "cell_type": "markdown",
   "metadata": {},
   "source": [
    "### Create Test Set Based on Date Range (-1 Wk)"
   ]
  },
  {
   "cell_type": "markdown",
   "metadata": {},
   "source": [
    "#### Test Data is split based on the last week in Transaction Data (Sept 15th - 22nd) for each year.  <a class=\"tocSkip\">"
   ]
  },
  {
   "cell_type": "code",
   "execution_count": 74,
   "metadata": {},
   "outputs": [],
   "source": [
    "# Select rows from the merged Transaction/Customer/Articles dataframe for the Test Data period - all years\n",
    "df_test_LastWk = df_HM_CustTrxnArtcls.loc[  (df_HM_CustTrxnArtcls['txn_mth'] == 9)\n",
    "                                   & (df_HM_CustTrxnArtcls['txn_day'] >= 15)\n",
    "                                   & (df_HM_CustTrxnArtcls['txn_day'] <= 22)] # September 15 - 22\n",
    "#df_test_LastWk"
   ]
  },
  {
   "cell_type": "markdown",
   "metadata": {},
   "source": [
    "### Verify Date Ranges in Train/Test Sets"
   ]
  },
  {
   "cell_type": "code",
   "execution_count": 75,
   "metadata": {},
   "outputs": [
    {
     "data": {
      "text/plain": [
       "20   2020-09-14\n",
       "22   2020-09-13\n",
       "34   2020-09-12\n",
       "21   2020-09-11\n",
       "28   2020-09-10\n",
       "19   2020-09-09\n",
       "24   2020-09-08\n",
       "42   2020-09-07\n",
       "7    2020-09-06\n",
       "14   2020-09-05\n",
       "15   2020-09-04\n",
       "44   2020-09-03\n",
       "25   2020-09-02\n",
       "41   2020-09-01\n",
       "37   2020-08-31\n",
       "23   2020-08-30\n",
       "35   2020-08-29\n",
       "5    2020-08-28\n",
       "16   2020-08-27\n",
       "12   2020-08-26\n",
       "33   2020-08-25\n",
       "26   2020-08-24\n",
       "32   2020-08-23\n",
       "2    2019-09-14\n",
       "30   2019-09-13\n",
       "0    2019-09-12\n",
       "36   2019-09-11\n",
       "10   2019-09-10\n",
       "18   2019-09-09\n",
       "1    2019-09-08\n",
       "4    2019-09-07\n",
       "38   2019-09-06\n",
       "13   2019-09-05\n",
       "3    2019-09-04\n",
       "39   2019-09-03\n",
       "45   2019-09-02\n",
       "17   2019-09-01\n",
       "43   2019-08-31\n",
       "29   2019-08-30\n",
       "8    2019-08-29\n",
       "6    2019-08-28\n",
       "27   2019-08-27\n",
       "11   2019-08-26\n",
       "9    2019-08-25\n",
       "31   2019-08-24\n",
       "40   2019-08-23\n",
       "dtype: datetime64[ns]"
      ]
     },
     "execution_count": 75,
     "metadata": {},
     "output_type": "execute_result"
    }
   ],
   "source": [
    "# Set up a temp dataframe to display check the date ranges extracted for Training dataset\n",
    "df_chkTraindf = pd.Series(df_train_Wk321['t_dat'].unique()).sort_values(ascending=False).head(200)\n",
    "\n",
    "df_chkTraindf"
   ]
  },
  {
   "cell_type": "code",
   "execution_count": 76,
   "metadata": {},
   "outputs": [
    {
     "data": {
      "text/plain": [
       "5    2020-09-22\n",
       "10   2020-09-21\n",
       "17   2020-09-20\n",
       "0    2020-09-19\n",
       "9    2020-09-18\n",
       "12   2020-09-17\n",
       "13   2020-09-16\n",
       "1    2020-09-15\n",
       "3    2019-09-22\n",
       "18   2019-09-21\n",
       "8    2019-09-20\n",
       "11   2019-09-19\n",
       "2    2019-09-18\n",
       "16   2019-09-17\n",
       "7    2019-09-16\n",
       "4    2019-09-15\n",
       "6    2018-09-22\n",
       "14   2018-09-21\n",
       "15   2018-09-20\n",
       "dtype: datetime64[ns]"
      ]
     },
     "execution_count": 76,
     "metadata": {},
     "output_type": "execute_result"
    }
   ],
   "source": [
    "# Set up a temp dataframe to display check the date ranges extracted for Test dataset\n",
    "df_chkTestdf = pd.Series(df_test_LastWk['t_dat'].unique()).sort_values(ascending=False).head(100)\n",
    "\n",
    "df_chkTestdf"
   ]
  },
  {
   "cell_type": "markdown",
   "metadata": {},
   "source": [
    "### Set up Train/Test Sets "
   ]
  },
  {
   "cell_type": "markdown",
   "metadata": {},
   "source": [
    "#### Mark Dataframe as 'Train' and 'Test', then Concatenate. This will allow for later Scaling and Splitting  <a class=\"tocSkip\">"
   ]
  },
  {
   "cell_type": "markdown",
   "metadata": {},
   "source": [
    "#### Mark Date Filtered Dataframes"
   ]
  },
  {
   "cell_type": "code",
   "execution_count": 77,
   "metadata": {},
   "outputs": [],
   "source": [
    "# Add 'marker' to time filtered data extracted from merged trxn dataframe to make Training dataset\n",
    "df_train_Wk321['Split'] = 'Train'"
   ]
  },
  {
   "cell_type": "code",
   "execution_count": 78,
   "metadata": {},
   "outputs": [],
   "source": [
    "# Add 'marker' to time filtered data extracted from merged trxn dataframe to make Test dataset\n",
    "df_test_LastWk['Split'] = 'Test'"
   ]
  },
  {
   "cell_type": "code",
   "execution_count": 79,
   "metadata": {},
   "outputs": [
    {
     "data": {
      "text/html": [
       "<div>\n",
       "<style scoped>\n",
       "    .dataframe tbody tr th:only-of-type {\n",
       "        vertical-align: middle;\n",
       "    }\n",
       "\n",
       "    .dataframe tbody tr th {\n",
       "        vertical-align: top;\n",
       "    }\n",
       "\n",
       "    .dataframe thead th {\n",
       "        text-align: right;\n",
       "    }\n",
       "</style>\n",
       "<table border=\"1\" class=\"dataframe\">\n",
       "  <thead>\n",
       "    <tr style=\"text-align: right;\">\n",
       "      <th></th>\n",
       "      <th>t_dat</th>\n",
       "      <th>customer_id</th>\n",
       "      <th>article_id</th>\n",
       "      <th>price</th>\n",
       "      <th>sales_channel_id</th>\n",
       "      <th>txn_year</th>\n",
       "      <th>txn_mth</th>\n",
       "      <th>txn_day</th>\n",
       "      <th>age</th>\n",
       "      <th>ACTIVE</th>\n",
       "      <th>...</th>\n",
       "      <th>B</th>\n",
       "      <th>C</th>\n",
       "      <th>D</th>\n",
       "      <th>F</th>\n",
       "      <th>G</th>\n",
       "      <th>H</th>\n",
       "      <th>I</th>\n",
       "      <th>J</th>\n",
       "      <th>S</th>\n",
       "      <th>Split</th>\n",
       "    </tr>\n",
       "  </thead>\n",
       "  <tbody>\n",
       "    <tr>\n",
       "      <th>3</th>\n",
       "      <td>2019-09-12</td>\n",
       "      <td>acdcabf58d4145344e4a3074967641b76d0d2a182ddb39...</td>\n",
       "      <td>315795004</td>\n",
       "      <td>0.016322</td>\n",
       "      <td>1</td>\n",
       "      <td>2019</td>\n",
       "      <td>9</td>\n",
       "      <td>12</td>\n",
       "      <td>28.0</td>\n",
       "      <td>1</td>\n",
       "      <td>...</td>\n",
       "      <td>0</td>\n",
       "      <td>0</td>\n",
       "      <td>0</td>\n",
       "      <td>1</td>\n",
       "      <td>0</td>\n",
       "      <td>0</td>\n",
       "      <td>0</td>\n",
       "      <td>0</td>\n",
       "      <td>0</td>\n",
       "      <td>Train</td>\n",
       "    </tr>\n",
       "    <tr>\n",
       "      <th>19</th>\n",
       "      <td>2019-09-08</td>\n",
       "      <td>1abc6b529cdcd5141f58b2023310e815783f63e871543a...</td>\n",
       "      <td>741297002</td>\n",
       "      <td>0.033881</td>\n",
       "      <td>2</td>\n",
       "      <td>2019</td>\n",
       "      <td>9</td>\n",
       "      <td>8</td>\n",
       "      <td>25.0</td>\n",
       "      <td>0</td>\n",
       "      <td>...</td>\n",
       "      <td>1</td>\n",
       "      <td>0</td>\n",
       "      <td>0</td>\n",
       "      <td>0</td>\n",
       "      <td>0</td>\n",
       "      <td>0</td>\n",
       "      <td>0</td>\n",
       "      <td>0</td>\n",
       "      <td>0</td>\n",
       "      <td>Train</td>\n",
       "    </tr>\n",
       "  </tbody>\n",
       "</table>\n",
       "<p>2 rows × 53 columns</p>\n",
       "</div>"
      ],
      "text/plain": [
       "        t_dat                                        customer_id  article_id  \\\n",
       "3  2019-09-12  acdcabf58d4145344e4a3074967641b76d0d2a182ddb39...   315795004   \n",
       "19 2019-09-08  1abc6b529cdcd5141f58b2023310e815783f63e871543a...   741297002   \n",
       "\n",
       "       price  sales_channel_id  txn_year  txn_mth  txn_day   age  ACTIVE  ...  \\\n",
       "3   0.016322                 1      2019        9       12  28.0       1  ...   \n",
       "19  0.033881                 2      2019        9        8  25.0       0  ...   \n",
       "\n",
       "    B  C  D  F  G  H  I  J  S  Split  \n",
       "3   0  0  0  1  0  0  0  0  0  Train  \n",
       "19  1  0  0  0  0  0  0  0  0  Train  \n",
       "\n",
       "[2 rows x 53 columns]"
      ]
     },
     "execution_count": 79,
     "metadata": {},
     "output_type": "execute_result"
    }
   ],
   "source": [
    "df_train_Wk321.head(2)"
   ]
  },
  {
   "cell_type": "code",
   "execution_count": 80,
   "metadata": {},
   "outputs": [
    {
     "data": {
      "text/html": [
       "<div>\n",
       "<style scoped>\n",
       "    .dataframe tbody tr th:only-of-type {\n",
       "        vertical-align: middle;\n",
       "    }\n",
       "\n",
       "    .dataframe tbody tr th {\n",
       "        vertical-align: top;\n",
       "    }\n",
       "\n",
       "    .dataframe thead th {\n",
       "        text-align: right;\n",
       "    }\n",
       "</style>\n",
       "<table border=\"1\" class=\"dataframe\">\n",
       "  <thead>\n",
       "    <tr style=\"text-align: right;\">\n",
       "      <th></th>\n",
       "      <th>t_dat</th>\n",
       "      <th>customer_id</th>\n",
       "      <th>article_id</th>\n",
       "      <th>price</th>\n",
       "      <th>sales_channel_id</th>\n",
       "      <th>txn_year</th>\n",
       "      <th>txn_mth</th>\n",
       "      <th>txn_day</th>\n",
       "      <th>age</th>\n",
       "      <th>ACTIVE</th>\n",
       "      <th>...</th>\n",
       "      <th>B</th>\n",
       "      <th>C</th>\n",
       "      <th>D</th>\n",
       "      <th>F</th>\n",
       "      <th>G</th>\n",
       "      <th>H</th>\n",
       "      <th>I</th>\n",
       "      <th>J</th>\n",
       "      <th>S</th>\n",
       "      <th>Split</th>\n",
       "    </tr>\n",
       "  </thead>\n",
       "  <tbody>\n",
       "    <tr>\n",
       "      <th>33</th>\n",
       "      <td>2020-09-19</td>\n",
       "      <td>facb9d31176c8f39114f78d0d7482a60094d5254d779b9...</td>\n",
       "      <td>806847024</td>\n",
       "      <td>0.013542</td>\n",
       "      <td>1</td>\n",
       "      <td>2020</td>\n",
       "      <td>9</td>\n",
       "      <td>19</td>\n",
       "      <td>26.0</td>\n",
       "      <td>1</td>\n",
       "      <td>...</td>\n",
       "      <td>0</td>\n",
       "      <td>0</td>\n",
       "      <td>1</td>\n",
       "      <td>0</td>\n",
       "      <td>0</td>\n",
       "      <td>0</td>\n",
       "      <td>0</td>\n",
       "      <td>0</td>\n",
       "      <td>0</td>\n",
       "      <td>Test</td>\n",
       "    </tr>\n",
       "    <tr>\n",
       "      <th>83</th>\n",
       "      <td>2020-09-15</td>\n",
       "      <td>62f6e88fbfa3f01e064c5fd1f7313360dbd66f056b6d10...</td>\n",
       "      <td>850917006</td>\n",
       "      <td>0.022864</td>\n",
       "      <td>2</td>\n",
       "      <td>2020</td>\n",
       "      <td>9</td>\n",
       "      <td>15</td>\n",
       "      <td>32.0</td>\n",
       "      <td>1</td>\n",
       "      <td>...</td>\n",
       "      <td>0</td>\n",
       "      <td>0</td>\n",
       "      <td>0</td>\n",
       "      <td>0</td>\n",
       "      <td>0</td>\n",
       "      <td>0</td>\n",
       "      <td>0</td>\n",
       "      <td>0</td>\n",
       "      <td>0</td>\n",
       "      <td>Test</td>\n",
       "    </tr>\n",
       "  </tbody>\n",
       "</table>\n",
       "<p>2 rows × 53 columns</p>\n",
       "</div>"
      ],
      "text/plain": [
       "        t_dat                                        customer_id  article_id  \\\n",
       "33 2020-09-19  facb9d31176c8f39114f78d0d7482a60094d5254d779b9...   806847024   \n",
       "83 2020-09-15  62f6e88fbfa3f01e064c5fd1f7313360dbd66f056b6d10...   850917006   \n",
       "\n",
       "       price  sales_channel_id  txn_year  txn_mth  txn_day   age  ACTIVE  ...  \\\n",
       "33  0.013542                 1      2020        9       19  26.0       1  ...   \n",
       "83  0.022864                 2      2020        9       15  32.0       1  ...   \n",
       "\n",
       "    B  C  D  F  G  H  I  J  S  Split  \n",
       "33  0  0  1  0  0  0  0  0  0   Test  \n",
       "83  0  0  0  0  0  0  0  0  0   Test  \n",
       "\n",
       "[2 rows x 53 columns]"
      ]
     },
     "execution_count": 80,
     "metadata": {},
     "output_type": "execute_result"
    }
   ],
   "source": [
    "df_test_LastWk.head(2)"
   ]
  },
  {
   "cell_type": "markdown",
   "metadata": {},
   "source": [
    "#### Concatenate to Combine Date Filtered Dataframes"
   ]
  },
  {
   "cell_type": "code",
   "execution_count": 81,
   "metadata": {},
   "outputs": [],
   "source": [
    "# Show concatenated dataframe\n",
    "df_DateFilteted_Train_and_Test_Data = pd.concat([df_train_Wk321, df_test_LastWk])"
   ]
  },
  {
   "cell_type": "code",
   "execution_count": 82,
   "metadata": {},
   "outputs": [
    {
     "data": {
      "text/html": [
       "<div>\n",
       "<style scoped>\n",
       "    .dataframe tbody tr th:only-of-type {\n",
       "        vertical-align: middle;\n",
       "    }\n",
       "\n",
       "    .dataframe tbody tr th {\n",
       "        vertical-align: top;\n",
       "    }\n",
       "\n",
       "    .dataframe thead th {\n",
       "        text-align: right;\n",
       "    }\n",
       "</style>\n",
       "<table border=\"1\" class=\"dataframe\">\n",
       "  <thead>\n",
       "    <tr style=\"text-align: right;\">\n",
       "      <th></th>\n",
       "      <th>t_dat</th>\n",
       "      <th>customer_id</th>\n",
       "      <th>article_id</th>\n",
       "      <th>price</th>\n",
       "      <th>sales_channel_id</th>\n",
       "      <th>txn_year</th>\n",
       "      <th>txn_mth</th>\n",
       "      <th>txn_day</th>\n",
       "      <th>age</th>\n",
       "      <th>ACTIVE</th>\n",
       "      <th>...</th>\n",
       "      <th>B</th>\n",
       "      <th>C</th>\n",
       "      <th>D</th>\n",
       "      <th>F</th>\n",
       "      <th>G</th>\n",
       "      <th>H</th>\n",
       "      <th>I</th>\n",
       "      <th>J</th>\n",
       "      <th>S</th>\n",
       "      <th>Split</th>\n",
       "    </tr>\n",
       "  </thead>\n",
       "  <tbody>\n",
       "    <tr>\n",
       "      <th>3</th>\n",
       "      <td>2019-09-12</td>\n",
       "      <td>acdcabf58d4145344e4a3074967641b76d0d2a182ddb39...</td>\n",
       "      <td>315795004</td>\n",
       "      <td>0.016322</td>\n",
       "      <td>1</td>\n",
       "      <td>2019</td>\n",
       "      <td>9</td>\n",
       "      <td>12</td>\n",
       "      <td>28.0</td>\n",
       "      <td>1</td>\n",
       "      <td>...</td>\n",
       "      <td>0</td>\n",
       "      <td>0</td>\n",
       "      <td>0</td>\n",
       "      <td>1</td>\n",
       "      <td>0</td>\n",
       "      <td>0</td>\n",
       "      <td>0</td>\n",
       "      <td>0</td>\n",
       "      <td>0</td>\n",
       "      <td>Train</td>\n",
       "    </tr>\n",
       "    <tr>\n",
       "      <th>19</th>\n",
       "      <td>2019-09-08</td>\n",
       "      <td>1abc6b529cdcd5141f58b2023310e815783f63e871543a...</td>\n",
       "      <td>741297002</td>\n",
       "      <td>0.033881</td>\n",
       "      <td>2</td>\n",
       "      <td>2019</td>\n",
       "      <td>9</td>\n",
       "      <td>8</td>\n",
       "      <td>25.0</td>\n",
       "      <td>0</td>\n",
       "      <td>...</td>\n",
       "      <td>1</td>\n",
       "      <td>0</td>\n",
       "      <td>0</td>\n",
       "      <td>0</td>\n",
       "      <td>0</td>\n",
       "      <td>0</td>\n",
       "      <td>0</td>\n",
       "      <td>0</td>\n",
       "      <td>0</td>\n",
       "      <td>Train</td>\n",
       "    </tr>\n",
       "    <tr>\n",
       "      <th>48</th>\n",
       "      <td>2019-09-14</td>\n",
       "      <td>599bf3959377a69756b5abc3d66f1038e2fabde244a169...</td>\n",
       "      <td>774224001</td>\n",
       "      <td>0.030492</td>\n",
       "      <td>1</td>\n",
       "      <td>2019</td>\n",
       "      <td>9</td>\n",
       "      <td>14</td>\n",
       "      <td>19.0</td>\n",
       "      <td>1</td>\n",
       "      <td>...</td>\n",
       "      <td>1</td>\n",
       "      <td>0</td>\n",
       "      <td>0</td>\n",
       "      <td>0</td>\n",
       "      <td>0</td>\n",
       "      <td>0</td>\n",
       "      <td>0</td>\n",
       "      <td>0</td>\n",
       "      <td>0</td>\n",
       "      <td>Train</td>\n",
       "    </tr>\n",
       "    <tr>\n",
       "      <th>76</th>\n",
       "      <td>2019-09-12</td>\n",
       "      <td>05069d68ba4043c0f0f0786837c072f910e0d01cdcbdfb...</td>\n",
       "      <td>574109021</td>\n",
       "      <td>0.025407</td>\n",
       "      <td>1</td>\n",
       "      <td>2019</td>\n",
       "      <td>9</td>\n",
       "      <td>12</td>\n",
       "      <td>25.0</td>\n",
       "      <td>1</td>\n",
       "      <td>...</td>\n",
       "      <td>0</td>\n",
       "      <td>0</td>\n",
       "      <td>1</td>\n",
       "      <td>0</td>\n",
       "      <td>0</td>\n",
       "      <td>0</td>\n",
       "      <td>0</td>\n",
       "      <td>0</td>\n",
       "      <td>0</td>\n",
       "      <td>Train</td>\n",
       "    </tr>\n",
       "    <tr>\n",
       "      <th>120</th>\n",
       "      <td>2019-09-04</td>\n",
       "      <td>1ee4082c313a14164f77a0b16163f17da42c185c5eb26a...</td>\n",
       "      <td>693242013</td>\n",
       "      <td>0.033881</td>\n",
       "      <td>1</td>\n",
       "      <td>2019</td>\n",
       "      <td>9</td>\n",
       "      <td>4</td>\n",
       "      <td>24.0</td>\n",
       "      <td>1</td>\n",
       "      <td>...</td>\n",
       "      <td>0</td>\n",
       "      <td>0</td>\n",
       "      <td>0</td>\n",
       "      <td>0</td>\n",
       "      <td>0</td>\n",
       "      <td>0</td>\n",
       "      <td>0</td>\n",
       "      <td>0</td>\n",
       "      <td>0</td>\n",
       "      <td>Train</td>\n",
       "    </tr>\n",
       "    <tr>\n",
       "      <th>...</th>\n",
       "      <td>...</td>\n",
       "      <td>...</td>\n",
       "      <td>...</td>\n",
       "      <td>...</td>\n",
       "      <td>...</td>\n",
       "      <td>...</td>\n",
       "      <td>...</td>\n",
       "      <td>...</td>\n",
       "      <td>...</td>\n",
       "      <td>...</td>\n",
       "      <td>...</td>\n",
       "      <td>...</td>\n",
       "      <td>...</td>\n",
       "      <td>...</td>\n",
       "      <td>...</td>\n",
       "      <td>...</td>\n",
       "      <td>...</td>\n",
       "      <td>...</td>\n",
       "      <td>...</td>\n",
       "      <td>...</td>\n",
       "      <td>...</td>\n",
       "    </tr>\n",
       "    <tr>\n",
       "      <th>314540</th>\n",
       "      <td>2018-09-20</td>\n",
       "      <td>207b5296c72bb4782cb9267c78f20000dc12a807ac403a...</td>\n",
       "      <td>569974008</td>\n",
       "      <td>0.013542</td>\n",
       "      <td>2</td>\n",
       "      <td>2018</td>\n",
       "      <td>9</td>\n",
       "      <td>20</td>\n",
       "      <td>43.0</td>\n",
       "      <td>1</td>\n",
       "      <td>...</td>\n",
       "      <td>0</td>\n",
       "      <td>0</td>\n",
       "      <td>0</td>\n",
       "      <td>1</td>\n",
       "      <td>0</td>\n",
       "      <td>0</td>\n",
       "      <td>0</td>\n",
       "      <td>0</td>\n",
       "      <td>0</td>\n",
       "      <td>Test</td>\n",
       "    </tr>\n",
       "    <tr>\n",
       "      <th>314566</th>\n",
       "      <td>2020-09-15</td>\n",
       "      <td>7e888b980ecd4370b690bda7bf2ac3299137883ab421de...</td>\n",
       "      <td>910601003</td>\n",
       "      <td>0.042356</td>\n",
       "      <td>2</td>\n",
       "      <td>2020</td>\n",
       "      <td>9</td>\n",
       "      <td>15</td>\n",
       "      <td>34.0</td>\n",
       "      <td>1</td>\n",
       "      <td>...</td>\n",
       "      <td>0</td>\n",
       "      <td>0</td>\n",
       "      <td>0</td>\n",
       "      <td>0</td>\n",
       "      <td>0</td>\n",
       "      <td>0</td>\n",
       "      <td>0</td>\n",
       "      <td>0</td>\n",
       "      <td>0</td>\n",
       "      <td>Test</td>\n",
       "    </tr>\n",
       "    <tr>\n",
       "      <th>314574</th>\n",
       "      <td>2019-09-22</td>\n",
       "      <td>f3d9ff1a10453664f225957f58ec29f25df967f8054740...</td>\n",
       "      <td>788176003</td>\n",
       "      <td>0.033881</td>\n",
       "      <td>2</td>\n",
       "      <td>2019</td>\n",
       "      <td>9</td>\n",
       "      <td>22</td>\n",
       "      <td>42.0</td>\n",
       "      <td>1</td>\n",
       "      <td>...</td>\n",
       "      <td>0</td>\n",
       "      <td>0</td>\n",
       "      <td>0</td>\n",
       "      <td>0</td>\n",
       "      <td>0</td>\n",
       "      <td>0</td>\n",
       "      <td>0</td>\n",
       "      <td>0</td>\n",
       "      <td>0</td>\n",
       "      <td>Test</td>\n",
       "    </tr>\n",
       "    <tr>\n",
       "      <th>314606</th>\n",
       "      <td>2020-09-17</td>\n",
       "      <td>6207d5aafac7bb2f4df355027f41ba6fac41dab122bdcd...</td>\n",
       "      <td>569984002</td>\n",
       "      <td>0.016932</td>\n",
       "      <td>1</td>\n",
       "      <td>2020</td>\n",
       "      <td>9</td>\n",
       "      <td>17</td>\n",
       "      <td>52.0</td>\n",
       "      <td>1</td>\n",
       "      <td>...</td>\n",
       "      <td>0</td>\n",
       "      <td>0</td>\n",
       "      <td>0</td>\n",
       "      <td>1</td>\n",
       "      <td>0</td>\n",
       "      <td>0</td>\n",
       "      <td>0</td>\n",
       "      <td>0</td>\n",
       "      <td>0</td>\n",
       "      <td>Test</td>\n",
       "    </tr>\n",
       "    <tr>\n",
       "      <th>314664</th>\n",
       "      <td>2020-09-19</td>\n",
       "      <td>7fd388872221720e7f12e1fd0fb3295f8acf842330dbef...</td>\n",
       "      <td>934727001</td>\n",
       "      <td>0.067780</td>\n",
       "      <td>2</td>\n",
       "      <td>2020</td>\n",
       "      <td>9</td>\n",
       "      <td>19</td>\n",
       "      <td>21.0</td>\n",
       "      <td>1</td>\n",
       "      <td>...</td>\n",
       "      <td>0</td>\n",
       "      <td>0</td>\n",
       "      <td>0</td>\n",
       "      <td>0</td>\n",
       "      <td>0</td>\n",
       "      <td>0</td>\n",
       "      <td>0</td>\n",
       "      <td>0</td>\n",
       "      <td>0</td>\n",
       "      <td>Test</td>\n",
       "    </tr>\n",
       "  </tbody>\n",
       "</table>\n",
       "<p>23294 rows × 53 columns</p>\n",
       "</div>"
      ],
      "text/plain": [
       "            t_dat                                        customer_id  \\\n",
       "3      2019-09-12  acdcabf58d4145344e4a3074967641b76d0d2a182ddb39...   \n",
       "19     2019-09-08  1abc6b529cdcd5141f58b2023310e815783f63e871543a...   \n",
       "48     2019-09-14  599bf3959377a69756b5abc3d66f1038e2fabde244a169...   \n",
       "76     2019-09-12  05069d68ba4043c0f0f0786837c072f910e0d01cdcbdfb...   \n",
       "120    2019-09-04  1ee4082c313a14164f77a0b16163f17da42c185c5eb26a...   \n",
       "...           ...                                                ...   \n",
       "314540 2018-09-20  207b5296c72bb4782cb9267c78f20000dc12a807ac403a...   \n",
       "314566 2020-09-15  7e888b980ecd4370b690bda7bf2ac3299137883ab421de...   \n",
       "314574 2019-09-22  f3d9ff1a10453664f225957f58ec29f25df967f8054740...   \n",
       "314606 2020-09-17  6207d5aafac7bb2f4df355027f41ba6fac41dab122bdcd...   \n",
       "314664 2020-09-19  7fd388872221720e7f12e1fd0fb3295f8acf842330dbef...   \n",
       "\n",
       "        article_id     price  sales_channel_id  txn_year  txn_mth  txn_day  \\\n",
       "3        315795004  0.016322                 1      2019        9       12   \n",
       "19       741297002  0.033881                 2      2019        9        8   \n",
       "48       774224001  0.030492                 1      2019        9       14   \n",
       "76       574109021  0.025407                 1      2019        9       12   \n",
       "120      693242013  0.033881                 1      2019        9        4   \n",
       "...            ...       ...               ...       ...      ...      ...   \n",
       "314540   569974008  0.013542                 2      2018        9       20   \n",
       "314566   910601003  0.042356                 2      2020        9       15   \n",
       "314574   788176003  0.033881                 2      2019        9       22   \n",
       "314606   569984002  0.016932                 1      2020        9       17   \n",
       "314664   934727001  0.067780                 2      2020        9       19   \n",
       "\n",
       "         age  ACTIVE  ...  B  C  D  F  G  H  I  J  S  Split  \n",
       "3       28.0       1  ...  0  0  0  1  0  0  0  0  0  Train  \n",
       "19      25.0       0  ...  1  0  0  0  0  0  0  0  0  Train  \n",
       "48      19.0       1  ...  1  0  0  0  0  0  0  0  0  Train  \n",
       "76      25.0       1  ...  0  0  1  0  0  0  0  0  0  Train  \n",
       "120     24.0       1  ...  0  0  0  0  0  0  0  0  0  Train  \n",
       "...      ...     ...  ... .. .. .. .. .. .. .. .. ..    ...  \n",
       "314540  43.0       1  ...  0  0  0  1  0  0  0  0  0   Test  \n",
       "314566  34.0       1  ...  0  0  0  0  0  0  0  0  0   Test  \n",
       "314574  42.0       1  ...  0  0  0  0  0  0  0  0  0   Test  \n",
       "314606  52.0       1  ...  0  0  0  1  0  0  0  0  0   Test  \n",
       "314664  21.0       1  ...  0  0  0  0  0  0  0  0  0   Test  \n",
       "\n",
       "[23294 rows x 53 columns]"
      ]
     },
     "execution_count": 82,
     "metadata": {},
     "output_type": "execute_result"
    }
   ],
   "source": [
    "df_DateFilteted_Train_and_Test_Data"
   ]
  },
  {
   "cell_type": "markdown",
   "metadata": {},
   "source": [
    "###### "
   ]
  },
  {
   "cell_type": "markdown",
   "metadata": {},
   "source": [
    "###### "
   ]
  },
  {
   "cell_type": "markdown",
   "metadata": {},
   "source": [
    "## Scale and Split Data: Train and Test Sets"
   ]
  },
  {
   "cell_type": "markdown",
   "metadata": {},
   "source": [
    "#### Run scaling routines on numerical data before splitting into Train/Test. <a class=\"tocSkip\">"
   ]
  },
  {
   "cell_type": "markdown",
   "metadata": {},
   "source": [
    "### Scale Date Filtered Transactions"
   ]
  },
  {
   "cell_type": "code",
   "execution_count": 83,
   "metadata": {},
   "outputs": [],
   "source": [
    "# Normalizing numerical features so that each feature has a value between 0 and 1\n",
    "scaler = MinMaxScaler()"
   ]
  },
  {
   "cell_type": "code",
   "execution_count": 84,
   "metadata": {},
   "outputs": [],
   "source": [
    "# Define a function to scale numerical datatypes within a dataframe based on data type value\n",
    "def scale_trainset_features(df, dtype, no_scale):\n",
    "    for x in df.columns[df.dtypes == dtype]:\n",
    "        if x != no_scale: # Allow for one particular column to avoid scalaing\n",
    "            df[x] = scaler.fit_transform(np.array(df[x]).reshape(-1,1))    "
   ]
  },
  {
   "cell_type": "code",
   "execution_count": 85,
   "metadata": {},
   "outputs": [],
   "source": [
    "no_scale = 'article_id' # Allow for one particular colum to avoid scalaing - Article Id in this case\n",
    "\n",
    "# Set up data types in dataframe to scale\n",
    "scale_dtypes = ['int64','int32','float64']\n",
    "\n",
    "# Call function to scale the numerical values in the datafeame created from transactions/customer/article data\n",
    "for data_types in scale_dtypes:\n",
    "    scale_trainset_features(df_DateFilteted_Train_and_Test_Data, data_types, no_scale)"
   ]
  },
  {
   "cell_type": "markdown",
   "metadata": {},
   "source": [
    "### Split Date Filtered Transactions: Train and Test Data"
   ]
  },
  {
   "cell_type": "markdown",
   "metadata": {},
   "source": [
    "#### Split the Scaled Data - which is the date filtered trxn data - into Train/Test Datasets. <a class=\"tocSkip\">"
   ]
  },
  {
   "cell_type": "code",
   "execution_count": 86,
   "metadata": {},
   "outputs": [],
   "source": [
    "train = df_DateFilteted_Train_and_Test_Data.loc[(df_DateFilteted_Train_and_Test_Data['Split'] == 'Train')]"
   ]
  },
  {
   "cell_type": "code",
   "execution_count": 87,
   "metadata": {},
   "outputs": [],
   "source": [
    "test = df_DateFilteted_Train_and_Test_Data.loc[(df_DateFilteted_Train_and_Test_Data['Split'] == 'Test')]"
   ]
  },
  {
   "cell_type": "code",
   "execution_count": 88,
   "metadata": {},
   "outputs": [
    {
     "data": {
      "text/html": [
       "<div>\n",
       "<style scoped>\n",
       "    .dataframe tbody tr th:only-of-type {\n",
       "        vertical-align: middle;\n",
       "    }\n",
       "\n",
       "    .dataframe tbody tr th {\n",
       "        vertical-align: top;\n",
       "    }\n",
       "\n",
       "    .dataframe thead th {\n",
       "        text-align: right;\n",
       "    }\n",
       "</style>\n",
       "<table border=\"1\" class=\"dataframe\">\n",
       "  <thead>\n",
       "    <tr style=\"text-align: right;\">\n",
       "      <th></th>\n",
       "      <th>t_dat</th>\n",
       "      <th>customer_id</th>\n",
       "      <th>article_id</th>\n",
       "      <th>price</th>\n",
       "      <th>sales_channel_id</th>\n",
       "      <th>txn_year</th>\n",
       "      <th>txn_mth</th>\n",
       "      <th>txn_day</th>\n",
       "      <th>age</th>\n",
       "      <th>ACTIVE</th>\n",
       "      <th>...</th>\n",
       "      <th>B</th>\n",
       "      <th>C</th>\n",
       "      <th>D</th>\n",
       "      <th>F</th>\n",
       "      <th>G</th>\n",
       "      <th>H</th>\n",
       "      <th>I</th>\n",
       "      <th>J</th>\n",
       "      <th>S</th>\n",
       "      <th>Split</th>\n",
       "    </tr>\n",
       "  </thead>\n",
       "  <tbody>\n",
       "    <tr>\n",
       "      <th>3</th>\n",
       "      <td>2019-09-12</td>\n",
       "      <td>acdcabf58d4145344e4a3074967641b76d0d2a182ddb39...</td>\n",
       "      <td>315795004</td>\n",
       "      <td>0.038443</td>\n",
       "      <td>0.0</td>\n",
       "      <td>0.5</td>\n",
       "      <td>1.0</td>\n",
       "      <td>0.366667</td>\n",
       "      <td>0.144578</td>\n",
       "      <td>1</td>\n",
       "      <td>...</td>\n",
       "      <td>0</td>\n",
       "      <td>0</td>\n",
       "      <td>0</td>\n",
       "      <td>1</td>\n",
       "      <td>0</td>\n",
       "      <td>0</td>\n",
       "      <td>0</td>\n",
       "      <td>0</td>\n",
       "      <td>0</td>\n",
       "      <td>Train</td>\n",
       "    </tr>\n",
       "    <tr>\n",
       "      <th>19</th>\n",
       "      <td>2019-09-08</td>\n",
       "      <td>1abc6b529cdcd5141f58b2023310e815783f63e871543a...</td>\n",
       "      <td>741297002</td>\n",
       "      <td>0.080059</td>\n",
       "      <td>1.0</td>\n",
       "      <td>0.5</td>\n",
       "      <td>1.0</td>\n",
       "      <td>0.233333</td>\n",
       "      <td>0.108434</td>\n",
       "      <td>0</td>\n",
       "      <td>...</td>\n",
       "      <td>1</td>\n",
       "      <td>0</td>\n",
       "      <td>0</td>\n",
       "      <td>0</td>\n",
       "      <td>0</td>\n",
       "      <td>0</td>\n",
       "      <td>0</td>\n",
       "      <td>0</td>\n",
       "      <td>0</td>\n",
       "      <td>Train</td>\n",
       "    </tr>\n",
       "    <tr>\n",
       "      <th>48</th>\n",
       "      <td>2019-09-14</td>\n",
       "      <td>599bf3959377a69756b5abc3d66f1038e2fabde244a169...</td>\n",
       "      <td>774224001</td>\n",
       "      <td>0.072025</td>\n",
       "      <td>0.0</td>\n",
       "      <td>0.5</td>\n",
       "      <td>1.0</td>\n",
       "      <td>0.433333</td>\n",
       "      <td>0.036145</td>\n",
       "      <td>1</td>\n",
       "      <td>...</td>\n",
       "      <td>1</td>\n",
       "      <td>0</td>\n",
       "      <td>0</td>\n",
       "      <td>0</td>\n",
       "      <td>0</td>\n",
       "      <td>0</td>\n",
       "      <td>0</td>\n",
       "      <td>0</td>\n",
       "      <td>0</td>\n",
       "      <td>Train</td>\n",
       "    </tr>\n",
       "    <tr>\n",
       "      <th>76</th>\n",
       "      <td>2019-09-12</td>\n",
       "      <td>05069d68ba4043c0f0f0786837c072f910e0d01cdcbdfb...</td>\n",
       "      <td>574109021</td>\n",
       "      <td>0.059974</td>\n",
       "      <td>0.0</td>\n",
       "      <td>0.5</td>\n",
       "      <td>1.0</td>\n",
       "      <td>0.366667</td>\n",
       "      <td>0.108434</td>\n",
       "      <td>1</td>\n",
       "      <td>...</td>\n",
       "      <td>0</td>\n",
       "      <td>0</td>\n",
       "      <td>1</td>\n",
       "      <td>0</td>\n",
       "      <td>0</td>\n",
       "      <td>0</td>\n",
       "      <td>0</td>\n",
       "      <td>0</td>\n",
       "      <td>0</td>\n",
       "      <td>Train</td>\n",
       "    </tr>\n",
       "    <tr>\n",
       "      <th>120</th>\n",
       "      <td>2019-09-04</td>\n",
       "      <td>1ee4082c313a14164f77a0b16163f17da42c185c5eb26a...</td>\n",
       "      <td>693242013</td>\n",
       "      <td>0.080059</td>\n",
       "      <td>0.0</td>\n",
       "      <td>0.5</td>\n",
       "      <td>1.0</td>\n",
       "      <td>0.100000</td>\n",
       "      <td>0.096386</td>\n",
       "      <td>1</td>\n",
       "      <td>...</td>\n",
       "      <td>0</td>\n",
       "      <td>0</td>\n",
       "      <td>0</td>\n",
       "      <td>0</td>\n",
       "      <td>0</td>\n",
       "      <td>0</td>\n",
       "      <td>0</td>\n",
       "      <td>0</td>\n",
       "      <td>0</td>\n",
       "      <td>Train</td>\n",
       "    </tr>\n",
       "  </tbody>\n",
       "</table>\n",
       "<p>5 rows × 53 columns</p>\n",
       "</div>"
      ],
      "text/plain": [
       "         t_dat                                        customer_id  article_id  \\\n",
       "3   2019-09-12  acdcabf58d4145344e4a3074967641b76d0d2a182ddb39...   315795004   \n",
       "19  2019-09-08  1abc6b529cdcd5141f58b2023310e815783f63e871543a...   741297002   \n",
       "48  2019-09-14  599bf3959377a69756b5abc3d66f1038e2fabde244a169...   774224001   \n",
       "76  2019-09-12  05069d68ba4043c0f0f0786837c072f910e0d01cdcbdfb...   574109021   \n",
       "120 2019-09-04  1ee4082c313a14164f77a0b16163f17da42c185c5eb26a...   693242013   \n",
       "\n",
       "        price  sales_channel_id  txn_year  txn_mth   txn_day       age  \\\n",
       "3    0.038443               0.0       0.5      1.0  0.366667  0.144578   \n",
       "19   0.080059               1.0       0.5      1.0  0.233333  0.108434   \n",
       "48   0.072025               0.0       0.5      1.0  0.433333  0.036145   \n",
       "76   0.059974               0.0       0.5      1.0  0.366667  0.108434   \n",
       "120  0.080059               0.0       0.5      1.0  0.100000  0.096386   \n",
       "\n",
       "     ACTIVE  ...  B  C  D  F  G  H  I  J  S  Split  \n",
       "3         1  ...  0  0  0  1  0  0  0  0  0  Train  \n",
       "19        0  ...  1  0  0  0  0  0  0  0  0  Train  \n",
       "48        1  ...  1  0  0  0  0  0  0  0  0  Train  \n",
       "76        1  ...  0  0  1  0  0  0  0  0  0  Train  \n",
       "120       1  ...  0  0  0  0  0  0  0  0  0  Train  \n",
       "\n",
       "[5 rows x 53 columns]"
      ]
     },
     "execution_count": 88,
     "metadata": {},
     "output_type": "execute_result"
    }
   ],
   "source": [
    "train.head()"
   ]
  },
  {
   "cell_type": "code",
   "execution_count": 89,
   "metadata": {},
   "outputs": [
    {
     "data": {
      "text/html": [
       "<div>\n",
       "<style scoped>\n",
       "    .dataframe tbody tr th:only-of-type {\n",
       "        vertical-align: middle;\n",
       "    }\n",
       "\n",
       "    .dataframe tbody tr th {\n",
       "        vertical-align: top;\n",
       "    }\n",
       "\n",
       "    .dataframe thead th {\n",
       "        text-align: right;\n",
       "    }\n",
       "</style>\n",
       "<table border=\"1\" class=\"dataframe\">\n",
       "  <thead>\n",
       "    <tr style=\"text-align: right;\">\n",
       "      <th></th>\n",
       "      <th>t_dat</th>\n",
       "      <th>customer_id</th>\n",
       "      <th>article_id</th>\n",
       "      <th>price</th>\n",
       "      <th>sales_channel_id</th>\n",
       "      <th>txn_year</th>\n",
       "      <th>txn_mth</th>\n",
       "      <th>txn_day</th>\n",
       "      <th>age</th>\n",
       "      <th>ACTIVE</th>\n",
       "      <th>...</th>\n",
       "      <th>B</th>\n",
       "      <th>C</th>\n",
       "      <th>D</th>\n",
       "      <th>F</th>\n",
       "      <th>G</th>\n",
       "      <th>H</th>\n",
       "      <th>I</th>\n",
       "      <th>J</th>\n",
       "      <th>S</th>\n",
       "      <th>Split</th>\n",
       "    </tr>\n",
       "  </thead>\n",
       "  <tbody>\n",
       "    <tr>\n",
       "      <th>33</th>\n",
       "      <td>2020-09-19</td>\n",
       "      <td>facb9d31176c8f39114f78d0d7482a60094d5254d779b9...</td>\n",
       "      <td>806847024</td>\n",
       "      <td>0.031855</td>\n",
       "      <td>0.0</td>\n",
       "      <td>1.0</td>\n",
       "      <td>1.0</td>\n",
       "      <td>0.600000</td>\n",
       "      <td>0.120482</td>\n",
       "      <td>1</td>\n",
       "      <td>...</td>\n",
       "      <td>0</td>\n",
       "      <td>0</td>\n",
       "      <td>1</td>\n",
       "      <td>0</td>\n",
       "      <td>0</td>\n",
       "      <td>0</td>\n",
       "      <td>0</td>\n",
       "      <td>0</td>\n",
       "      <td>0</td>\n",
       "      <td>Test</td>\n",
       "    </tr>\n",
       "    <tr>\n",
       "      <th>83</th>\n",
       "      <td>2020-09-15</td>\n",
       "      <td>62f6e88fbfa3f01e064c5fd1f7313360dbd66f056b6d10...</td>\n",
       "      <td>850917006</td>\n",
       "      <td>0.053949</td>\n",
       "      <td>1.0</td>\n",
       "      <td>1.0</td>\n",
       "      <td>1.0</td>\n",
       "      <td>0.466667</td>\n",
       "      <td>0.192771</td>\n",
       "      <td>1</td>\n",
       "      <td>...</td>\n",
       "      <td>0</td>\n",
       "      <td>0</td>\n",
       "      <td>0</td>\n",
       "      <td>0</td>\n",
       "      <td>0</td>\n",
       "      <td>0</td>\n",
       "      <td>0</td>\n",
       "      <td>0</td>\n",
       "      <td>0</td>\n",
       "      <td>Test</td>\n",
       "    </tr>\n",
       "    <tr>\n",
       "      <th>173</th>\n",
       "      <td>2019-09-18</td>\n",
       "      <td>c2cdb3dc6f74904ce7a4ba3a94054bf4b7fb5dad74fba3...</td>\n",
       "      <td>799876001</td>\n",
       "      <td>0.160400</td>\n",
       "      <td>1.0</td>\n",
       "      <td>0.5</td>\n",
       "      <td>1.0</td>\n",
       "      <td>0.566667</td>\n",
       "      <td>0.120482</td>\n",
       "      <td>1</td>\n",
       "      <td>...</td>\n",
       "      <td>0</td>\n",
       "      <td>0</td>\n",
       "      <td>1</td>\n",
       "      <td>0</td>\n",
       "      <td>0</td>\n",
       "      <td>0</td>\n",
       "      <td>0</td>\n",
       "      <td>0</td>\n",
       "      <td>0</td>\n",
       "      <td>Test</td>\n",
       "    </tr>\n",
       "    <tr>\n",
       "      <th>299</th>\n",
       "      <td>2019-09-22</td>\n",
       "      <td>89b33417fd2804a70819b71aef1cf8fd7dee92e44a8429...</td>\n",
       "      <td>586896039</td>\n",
       "      <td>0.031855</td>\n",
       "      <td>1.0</td>\n",
       "      <td>0.5</td>\n",
       "      <td>1.0</td>\n",
       "      <td>0.700000</td>\n",
       "      <td>0.132530</td>\n",
       "      <td>1</td>\n",
       "      <td>...</td>\n",
       "      <td>1</td>\n",
       "      <td>0</td>\n",
       "      <td>0</td>\n",
       "      <td>0</td>\n",
       "      <td>0</td>\n",
       "      <td>0</td>\n",
       "      <td>0</td>\n",
       "      <td>0</td>\n",
       "      <td>0</td>\n",
       "      <td>Test</td>\n",
       "    </tr>\n",
       "    <tr>\n",
       "      <th>313</th>\n",
       "      <td>2019-09-15</td>\n",
       "      <td>7134e4dd35e6a28da34f9556f971881a57c401bcf8bb97...</td>\n",
       "      <td>765175002</td>\n",
       "      <td>0.080059</td>\n",
       "      <td>1.0</td>\n",
       "      <td>0.5</td>\n",
       "      <td>1.0</td>\n",
       "      <td>0.466667</td>\n",
       "      <td>0.277108</td>\n",
       "      <td>1</td>\n",
       "      <td>...</td>\n",
       "      <td>0</td>\n",
       "      <td>0</td>\n",
       "      <td>0</td>\n",
       "      <td>0</td>\n",
       "      <td>0</td>\n",
       "      <td>0</td>\n",
       "      <td>0</td>\n",
       "      <td>0</td>\n",
       "      <td>0</td>\n",
       "      <td>Test</td>\n",
       "    </tr>\n",
       "  </tbody>\n",
       "</table>\n",
       "<p>5 rows × 53 columns</p>\n",
       "</div>"
      ],
      "text/plain": [
       "         t_dat                                        customer_id  article_id  \\\n",
       "33  2020-09-19  facb9d31176c8f39114f78d0d7482a60094d5254d779b9...   806847024   \n",
       "83  2020-09-15  62f6e88fbfa3f01e064c5fd1f7313360dbd66f056b6d10...   850917006   \n",
       "173 2019-09-18  c2cdb3dc6f74904ce7a4ba3a94054bf4b7fb5dad74fba3...   799876001   \n",
       "299 2019-09-22  89b33417fd2804a70819b71aef1cf8fd7dee92e44a8429...   586896039   \n",
       "313 2019-09-15  7134e4dd35e6a28da34f9556f971881a57c401bcf8bb97...   765175002   \n",
       "\n",
       "        price  sales_channel_id  txn_year  txn_mth   txn_day       age  \\\n",
       "33   0.031855               0.0       1.0      1.0  0.600000  0.120482   \n",
       "83   0.053949               1.0       1.0      1.0  0.466667  0.192771   \n",
       "173  0.160400               1.0       0.5      1.0  0.566667  0.120482   \n",
       "299  0.031855               1.0       0.5      1.0  0.700000  0.132530   \n",
       "313  0.080059               1.0       0.5      1.0  0.466667  0.277108   \n",
       "\n",
       "     ACTIVE  ...  B  C  D  F  G  H  I  J  S  Split  \n",
       "33        1  ...  0  0  1  0  0  0  0  0  0   Test  \n",
       "83        1  ...  0  0  0  0  0  0  0  0  0   Test  \n",
       "173       1  ...  0  0  1  0  0  0  0  0  0   Test  \n",
       "299       1  ...  1  0  0  0  0  0  0  0  0   Test  \n",
       "313       1  ...  0  0  0  0  0  0  0  0  0   Test  \n",
       "\n",
       "[5 rows x 53 columns]"
      ]
     },
     "execution_count": 89,
     "metadata": {},
     "output_type": "execute_result"
    }
   ],
   "source": [
    "test.head()"
   ]
  },
  {
   "cell_type": "code",
   "execution_count": 90,
   "metadata": {},
   "outputs": [
    {
     "name": "stdout",
     "output_type": "stream",
     "text": [
      "\n",
      "H&M Sample Data Split Training Set Shape : \n",
      "\t\n",
      "(17079, 53)\n",
      "\n",
      "H&M Sample Data Split Test Set Shape : \n",
      "\t\n",
      "(6215, 53)\n"
     ]
    }
   ],
   "source": [
    "# Output Confirmation of data split\n",
    "dataDescription = 'H&M Sample Data Split'\n",
    "print(\"\\n{} Training Set Shape : \\n\\t\".format(dataDescription))\n",
    "print(train.shape)\n",
    "print(\"\\n{} Test Set Shape : \\n\\t\".format(dataDescription))\n",
    "print(test.shape)"
   ]
  },
  {
   "cell_type": "markdown",
   "metadata": {},
   "source": [
    "###### "
   ]
  },
  {
   "cell_type": "markdown",
   "metadata": {},
   "source": [
    "###### "
   ]
  },
  {
   "cell_type": "markdown",
   "metadata": {},
   "source": [
    "###### "
   ]
  },
  {
   "cell_type": "markdown",
   "metadata": {},
   "source": [
    "## K Nearest Neighbour Operations"
   ]
  },
  {
   "cell_type": "markdown",
   "metadata": {},
   "source": [
    "### Set Up the Columns to be Input to KNN"
   ]
  },
  {
   "cell_type": "code",
   "execution_count": 91,
   "metadata": {},
   "outputs": [],
   "source": [
    "nn_cols =    ['price',\n",
    "              'age',\n",
    "              'product_code',\n",
    "              'product_type_no',\n",
    "              'graphical_appearance_no',\n",
    "              'colour_group_code',\n",
    "              'perceived_colour_value_id',\n",
    "              'perceived_colour_master_id',\n",
    "              'department_no',\n",
    "              'index_group_no',\n",
    "              'section_no',\n",
    "              'garment_group_no',\n",
    "              'Accessories',\n",
    "              'Bags',\n",
    "              'Cosmetic',\n",
    "              'Furniture',\n",
    "              'Garment Full body',\n",
    "              'Garment Lower body',\n",
    "              'Garment Upper body',\n",
    "              'Garment and Shoe care',\n",
    "              'Items',\n",
    "              'Nightwear',\n",
    "              'Shoes',\n",
    "              'Socks & Tights',\n",
    "              'Stationery',\n",
    "              'Swimwear',\n",
    "              'Underwear',\n",
    "              'Underwear/nightwear',\n",
    "              'Unknown',\n",
    "              'A',\n",
    "              'B',\n",
    "              'C',\n",
    "              'D',\n",
    "              'F',\n",
    "              'G',\n",
    "              'H',\n",
    "              'I',\n",
    "              'J',\n",
    "              'S']"
   ]
  },
  {
   "cell_type": "markdown",
   "metadata": {},
   "source": [
    "### Create Functions for NN Analysis"
   ]
  },
  {
   "cell_type": "markdown",
   "metadata": {},
   "source": [
    "#### Set up function to Build Nearest Neighbours Model "
   ]
  },
  {
   "cell_type": "code",
   "execution_count": 92,
   "metadata": {},
   "outputs": [],
   "source": [
    "# Set up Unsupervised learner for implementing neighbour searches of Customer Transactions\n",
    "# Set default parameters for NN algorithm - these can be overwritten during optimisationphase\n",
    "def setup_NN_model(df_train, NN_metric = 'cosine', NN_algo = 'brute'):\n",
    "       \n",
    "    # Set up numerical data inputs for NearestNeighbors function\n",
    "    df_cust_articles = df_train[nn_cols]\n",
    "    \n",
    "    # Set up parameters of NearestNeighbors function\n",
    "    model_knn = NearestNeighbors(metric = NN_metric, algorithm = NN_algo)\n",
    "    \n",
    "    # Implement NearestNeighbors function on merged Trxn/Customer/Article data elements\n",
    "    model_knn.fit(df_cust_articles)\n",
    "    \n",
    "    return model_knn, df_cust_articles"
   ]
  },
  {
   "cell_type": "markdown",
   "metadata": {},
   "source": [
    "#### Set up function to  Nearest Neighbours (+ Articles bought) for a Customer "
   ]
  },
  {
   "cell_type": "code",
   "execution_count": 93,
   "metadata": {},
   "outputs": [],
   "source": [
    "# Use a function to return a list of Nearest Neighbours for a given customer.\n",
    "# Return Neighbour Customer Ids and the articles they both\n",
    "def get_CustSub_NeighbourIDs_articles(model_knn, df_cust_articles, df_train, NN_Neighbours):\n",
    "     \n",
    "    \n",
    "    # Return index values for nearest neighbours - determined by 'Num_Neighbour' parameter\n",
    "    distances, indices = model_knn.kneighbors(df_cust_articles.iloc[0].values.reshape(1, -1), \n",
    "                                              n_neighbors = NN_Neighbours)\n",
    "     \n",
    "    #print('get_CustSub_NeighbourIDs_articles\\n')\n",
    "    #print('get_CustSub_NeighbourIDs_articles - Indices: {}'.format(indices))\n",
    "    \n",
    "    # Using the Index values returned by the Nearest neighbour model\n",
    "    # Generate a list of Customer Ids and Article Ids for these neighbours\n",
    "    for i in range(0, len(distances.flatten())):\n",
    "        if i == 0:\n",
    "            customer_list = []\n",
    "            article_list  = []\n",
    "        else:\n",
    "            customer_list.append(df_train.loc[indices.flatten()[i],'customer_id'])\n",
    "            article_list.append(df_train.loc[indices.flatten()[i],'article_id'])\n",
    "        \n",
    "    df_neighbourhood = pd.DataFrame({'customer_id': customer_list, 'article_id': article_list})\n",
    "    del customer_list, article_list\n",
    "    \n",
    "    return df_neighbourhood  "
   ]
  },
  {
   "cell_type": "markdown",
   "metadata": {},
   "source": [
    "#### Find Top Selling Products in 'Neighbourhood' for a Customer "
   ]
  },
  {
   "cell_type": "code",
   "execution_count": 94,
   "metadata": {},
   "outputs": [],
   "source": [
    "# Function to return Top 12 Articles Purchased by the Customer 'Neighbourhood' Or Actual Data on Purchases\n",
    "def get_Top12_Articles_for_Cust(df, num_of_articles):\n",
    "    \n",
    "    #print('Display Total Cust Rec..')\n",
    "    #display(df)\n",
    "      \n",
    "    # Finding number of times a particular item is purchased by customers in the neighbourhood\n",
    "    temp = df.groupby(['article_id'])['customer_id'].agg('count').reset_index() \n",
    "    temp.columns = ['article_id','count']\n",
    "    \n",
    "    # Sort the articles by the number of time purchased by the 'neighbourhood' customers\n",
    "    temp = temp.sort_values('count', ascending=False)\n",
    "    \n",
    "    # Select the Top 12 - if there are duplicate just select the first entry\n",
    "    temp = temp.nlargest(num_of_articles,'count', keep='first')\n",
    "    \n",
    "    # Isolate the Article Ids\n",
    "    temp = temp['article_id']\n",
    "    \n",
    "    # Convert to dataframe and reset index\n",
    "    df_article_list = pd.DataFrame({'article_id': temp})\n",
    "    df_article_list = df_article_list.reset_index(drop=True)\n",
    "    \n",
    "    \n",
    "    # Return the list of Top 12 articles\n",
    "    return df_article_list"
   ]
  },
  {
   "cell_type": "markdown",
   "metadata": {},
   "source": [
    "#### Invoke Function to Build KNN Model  "
   ]
  },
  {
   "cell_type": "code",
   "execution_count": 95,
   "metadata": {},
   "outputs": [],
   "source": [
    "# Reset Training dataframe index - remove old one; this allows for extraction of correct index records\n",
    "# returned by the NearestNeighbors function\n",
    "train.reset_index(drop=True,inplace=True)"
   ]
  },
  {
   "cell_type": "code",
   "execution_count": 96,
   "metadata": {},
   "outputs": [],
   "source": [
    "# Call function to set up NN learner\n",
    "hm_model_knn, df_cust_articles_nn = setup_NN_model(train, NN_metric = 'cosine', NN_algo = 'brute')"
   ]
  },
  {
   "cell_type": "markdown",
   "metadata": {},
   "source": [
    "###### "
   ]
  },
  {
   "cell_type": "markdown",
   "metadata": {},
   "source": [
    "###### "
   ]
  },
  {
   "cell_type": "markdown",
   "metadata": {},
   "source": [
    "###### "
   ]
  },
  {
   "cell_type": "markdown",
   "metadata": {},
   "source": [
    "## Evaluate Model"
   ]
  },
  {
   "cell_type": "markdown",
   "metadata": {},
   "source": [
    "#### The code segments below implement functions to extract predictions and evaluate results.  <a class=\"tocSkip\">"
   ]
  },
  {
   "cell_type": "markdown",
   "metadata": {},
   "source": [
    "### Define Functions to Extract Customer IDs and Article Predictions from Test Data"
   ]
  },
  {
   "cell_type": "markdown",
   "metadata": {},
   "source": [
    "#### Define Function to read Customer IDs from Submission File"
   ]
  },
  {
   "cell_type": "code",
   "execution_count": 97,
   "metadata": {},
   "outputs": [],
   "source": [
    "# Function to return Customer Ids from sample submission file in sequence\n",
    "def get_next_SubmissionCustomer(idx):\n",
    "           \n",
    "    # Get Customer Id from Sample Sub\n",
    "    cust_id       = df_sub_sample.iloc[idx,0]\n",
    "    \n",
    "    df_cust_id = df_sub_sample.head(idx+1)\n",
    "    df_cust_id = df_cust_id.drop(['prediction'], axis = 1)\n",
    "    \n",
    "    \n",
    "    \n",
    "    # Return index of customer id in training dataframe and the customer id itself\n",
    "    return df_cust_id, cust_id"
   ]
  },
  {
   "cell_type": "markdown",
   "metadata": {},
   "source": [
    "#### Define Function to Obtain Customer Transactions"
   ]
  },
  {
   "cell_type": "code",
   "execution_count": 98,
   "metadata": {},
   "outputs": [],
   "source": [
    "def find_latest_CustomerTrxn(rec):\n",
    "    \n",
    "    # Get Next Customer Id from Submission Table\n",
    "    df_one_cust, cust_id = get_next_SubmissionCustomer(rec)\n",
    "\n",
    "    \n",
    "    # Merge Customer atributes from the Customer dataset based on a join with the 'customer_id' field\n",
    "    df_SubCust_Trxn = pd.merge(df_one_cust, df_trxns, how=\"left\", on=[\"customer_id\"])\n",
    "\n",
    "    \n",
    "    # On rare occassion that a customer has no transactions - create a dummy records to avoid a failure\n",
    "    if df_SubCust_Trxn.shape[0] == 0:\n",
    "        print('NO Transactions!')\n",
    "        # Create dummy dataframe\n",
    "        df_Dummy = pd.DataFrame([[cust_id,\n",
    "                '2016-10-25',\n",
    "                 651329001,\n",
    "                 0.021593,\n",
    "                 1]], columns=['customer_id','t_dat','article_id','price','sales_channel_id'])\n",
    "        # Stack the DataFrames on top of each other\n",
    "        df_SubCust_Trxn = pd.concat([df_SubCust_Trxn, df_Dummy], axis=0)\n",
    "        df_SubCust_Trxn.reset_index(drop=True, inplace=True)\n",
    "    \n",
    "    \n",
    "    # Use last transaction\n",
    "    df_SubCust_Trxn1 = df_SubCust_Trxn.sort_values(by=['t_dat'], ascending=False).head(1)\n",
    "    \n",
    "    \n",
    "    \n",
    "    return df_SubCust_Trxn1, cust_id"
   ]
  },
  {
   "cell_type": "markdown",
   "metadata": {},
   "source": [
    "#### Define Function to Obtain Customer Features"
   ]
  },
  {
   "cell_type": "code",
   "execution_count": 99,
   "metadata": {},
   "outputs": [],
   "source": [
    "def find_latest_CustomerAttrs(df):\n",
    "\n",
    "    \n",
    "    # Merge Customer atributes from the Customer dataset based on a join with the 'customer_id' field\n",
    "    df = pd.merge(df, df_customers, how=\"left\", on=[\"customer_id\"])\n",
    "    \n",
    "    # Filter out other Customer specific attributes apart from; age + fashion_news_frequency + club_member_status + postal code\n",
    "    # There are very many missing values in the other Customer dataset columns, so these will be ignored\n",
    "    df = df.iloc[:, [0, 1, 2, 3, 4, 7, 8, 9, 10]]\n",
    "\n",
    "    \n",
    "    \n",
    "    return df"
   ]
  },
  {
   "cell_type": "markdown",
   "metadata": {},
   "source": [
    "#### Define Function to Obtain Article Features"
   ]
  },
  {
   "cell_type": "code",
   "execution_count": 100,
   "metadata": {},
   "outputs": [],
   "source": [
    "def find_latest_ArticleAttrs(df):\n",
    "    \n",
    "    # Merge Articles atributes from the Articles dataset based on a join with the 'article_id' field\n",
    "    df = pd.merge(df, df_Articles, how=\"left\", on=[\"article_id\"])\n",
    "     \n",
    "    \n",
    "    # Remove 'redundant' categorical columns from Articles (sample) dataframe\n",
    "    # Consider a categorical column Redundant when is 'partnered' with a numerical code    \n",
    "    df.drop(redundo_catcols_to_drop, axis=1, inplace=True)\n",
    "\n",
    "    # Encode Categorical Values\n",
    "    for column_name in article_cols_to_encode:\n",
    "        df = encode_Categor_Features(df, column_name)\n",
    "    \n",
    "    \n",
    "    return df    "
   ]
  },
  {
   "cell_type": "markdown",
   "metadata": {},
   "source": [
    "#### Define Function to Obtain Article Predictions"
   ]
  },
  {
   "cell_type": "code",
   "execution_count": 101,
   "metadata": {},
   "outputs": [],
   "source": [
    "def get_ArticlePredictions(knn_mdl, df, iNum_of_neighbours, TopN):\n",
    "        \n",
    "    #print('get_ArticlePredictions')\n",
    "    #print('display(df)')\n",
    "    #display(df)\n",
    "    #display(df.iloc[0].values.reshape(1, -1))\n",
    "    \n",
    "    # Call function to find nearest neighbour Customer Ids and Article Ids\n",
    "    # Pass in index, parameters for Nearest Neighbour function, and the number of neighbours to retrun\n",
    "    df_neighbours = get_CustSub_NeighbourIDs_articles(knn_mdl, df, train, iNum_of_neighbours)\n",
    "    \n",
    "    # Call function to return list of the most popular Articles in terms of the \n",
    "    # purchases made by the customers neighbourhood\n",
    "    df_cust_preds = get_Top12_Articles_for_Cust(df_neighbours, TopN)\n",
    "\n",
    "    \n",
    "    return df_cust_preds    "
   ]
  },
  {
   "cell_type": "markdown",
   "metadata": {},
   "source": [
    "#### Define Functions to Parse Article Predictions for Kaggle Submission"
   ]
  },
  {
   "cell_type": "code",
   "execution_count": 102,
   "metadata": {},
   "outputs": [],
   "source": [
    "# Function to return Article Id Predictions in String format required for Kaggle competition\n",
    "def get_str_Article_Predictions(df):\n",
    "    \n",
    "    article_pred = df['article_id'].values.tolist()\n",
    "    \n",
    "    article_pred = ['0' + str(article_id) for article_id in article_pred]\n",
    "    article_pred_str =  ' '.join(article_pred)\n",
    "    \n",
    "    str_article_preds = article_pred_str\n",
    "    \n",
    "    return str_article_preds"
   ]
  },
  {
   "cell_type": "code",
   "execution_count": 103,
   "metadata": {},
   "outputs": [],
   "source": [
    "# Function to Build up dataframe for submission\n",
    "def build_up_submission_df(cust, str_preds, custid_str, last_col):\n",
    "    \n",
    "    lst = [[cust, str_preds]]    \n",
    "    #df = pd.DataFrame(lst, columns =['customer_id', 'prediction'])\n",
    "    df = pd.DataFrame(lst, columns =[custid_str, last_col])\n",
    "    final_df =df\n",
    "    \n",
    "    \n",
    "    return final_df"
   ]
  },
  {
   "cell_type": "markdown",
   "metadata": {},
   "source": [
    "### Define Functions to Evaluate Model Predictions aginst Test Data"
   ]
  },
  {
   "cell_type": "code",
   "execution_count": 104,
   "metadata": {},
   "outputs": [],
   "source": [
    "# Set up column layout for dataframe that will score match accuracy of the KNN model against Test Data\n",
    "eval_Cols = ['customer_id', 'prediction_accuracy','Num_Act_Test_Purchases','Num_Pred_Purchases', 'Num_Act_Purch_Pred']"
   ]
  },
  {
   "cell_type": "markdown",
   "metadata": {},
   "source": [
    "#### Set up function to return latest Customer transactions in the Test Data "
   ]
  },
  {
   "cell_type": "code",
   "execution_count": 105,
   "metadata": {},
   "outputs": [],
   "source": [
    "#test.sort_values('t_dat', ascending=False).groupby('customer_id').head(1)"
   ]
  },
  {
   "cell_type": "code",
   "execution_count": 106,
   "metadata": {},
   "outputs": [],
   "source": [
    "# Get list of unique customers in Test Data\n",
    "def get_Latest_CustTxn_in_TestData():\n",
    "        \n",
    "    df = test.sort_values('t_dat', ascending=False).groupby('customer_id').head(1)\n",
    "    \n",
    "    return df"
   ]
  },
  {
   "cell_type": "markdown",
   "metadata": {},
   "source": [
    "#### Define Function to Return Evaluation Score"
   ]
  },
  {
   "cell_type": "code",
   "execution_count": 107,
   "metadata": {},
   "outputs": [],
   "source": [
    "def return_Cust_Prediction_Score(cust_id, df_pred, df_actual, df_score):  \n",
    "\n",
    "    #\"\"\"Returns just the rows from the new dataframe that differ from the source dataframe\"\"\"\n",
    "    merged_df = df_pred.merge(df_actual, indicator=True, how='outer')\n",
    " \n",
    "    #print('\\nmerged_df...')\n",
    "    #display(merged_df)\n",
    "    \n",
    "    \n",
    "    matched_rows_df = merged_df[merged_df['_merge'] == 'both']\n",
    "     \n",
    "    #print('\\nmatched_rows_df...')\n",
    "    #display(matched_rows_df)\n",
    "    \n",
    "\n",
    "    df_no_pred_match = matched_rows_df.drop('_merge', axis=1)\n",
    "\n",
    "    \n",
    "    \n",
    "    #print('\\ndf_actual...')\n",
    "    #display(df_actual)\n",
    "    \n",
    "    #print('\\ndf_pred...')\n",
    "    #display(df_pred)\n",
    "    \n",
    "    #print('\\ndf_no_pred_match...')\n",
    "    #display(df_no_pred_match)\n",
    "    \n",
    "    pred_scr = ( len(df_no_pred_match) / len(df_actual) )\n",
    "    \n",
    "    lst = [[cust_id, pred_scr, len(df_actual), len(df_pred), len(df_no_pred_match)]]    \n",
    "    df = pd.DataFrame(lst, columns = eval_Cols)\n",
    "\n",
    "    # df_score = df\n",
    "    \n",
    "    # Stack the DataFrames on top of each other\n",
    "    # df_Submission_Stack = pd.concat([df_Submission_Stack, df_NextCust_Preds], axis=0)\n",
    "    df_score = pd.concat([df_score, df], axis=0)\n",
    "    \n",
    "    \n",
    "    return df_score"
   ]
  },
  {
   "cell_type": "markdown",
   "metadata": {},
   "source": [
    "#### Iterate Through Test Data and Generate Predictions"
   ]
  },
  {
   "cell_type": "code",
   "execution_count": 300,
   "metadata": {},
   "outputs": [],
   "source": [
    "# Creating an empty Dataframe with column names only - will be filled with each predicton evaluation\n",
    "df_ModelEvalResults_Stack = pd.DataFrame(columns= eval_Cols)"
   ]
  },
  {
   "cell_type": "code",
   "execution_count": 301,
   "metadata": {},
   "outputs": [
    {
     "name": "stdout",
     "output_type": "stream",
     "text": [
      "Number of customers in Test Data is: 6005\n",
      "\n"
     ]
    }
   ],
   "source": [
    "## Work Through Test Data to obtain prediction list of Articles\n",
    "\n",
    "df_Testdata_Customers_LastTrxn = get_Latest_CustTxn_in_TestData()\n",
    "[print('Number of customers in Test Data is: {}\\n'.format(len(df_Testdata_Customers_LastTrxn)))]\n",
    "\n",
    "customer_records = (len(df_Testdata_Customers_LastTrxn))\n",
    "\n",
    "customer_records = 250\n",
    "\n",
    "# Generate article predictions for each customer write to a new submission file\n",
    "for cust_rec in range(0, customer_records):\n",
    "    \n",
    "    #print('cust_rec is...  {}\\n'.format(df_Testdata_Customers_LastTrxn.iloc[cust_rec]))\n",
    "       \n",
    "    index_list = [cust_rec]\n",
    "    df_CustRec = df_Testdata_Customers_LastTrxn.loc[df_Testdata_Customers_LastTrxn.index[index_list]]      \n",
    "    df_CustTestNNVectors  = df_CustRec[nn_cols]\n",
    "    \n",
    "    \n",
    "    C_Id = df_CustRec.iloc[0]['customer_id']\n",
    "    \n",
    "    df_CustRecId = df_CustRec[['customer_id']].copy()\n",
    "        \n",
    "    \n",
    "    #print('Display: C_Id')\n",
    "    #display(C_Id)\n",
    "    \n",
    "    #print('Display: df_CustRec')\n",
    "    #display(df_CustRec)\n",
    "    \n",
    "    #print('Display: df_CustRecId')\n",
    "    #display(df_CustRecId)\n",
    "    \n",
    "\n",
    "    #for data_types in scale_dtypes:\n",
    "    #    scale_trainset_features(train, data_types, no_scale)\n",
    "    \n",
    "    \n",
    "    #print('display(df_CustTestNNVectors)')\n",
    "    #display(df_CustTestNNVectors)\n",
    "    #display(df_CustTestNNVectors.iloc[0].values.reshape(1, -1))\n",
    "    \n",
    "    iNeighbours       = 15 # Number of Neighbours parameter for KNN model - 45\n",
    "    TopN              = 12  # Number of Artcile predictions to return\n",
    "    \n",
    "    df_TestCust_Preds     = get_ArticlePredictions(hm_model_knn, df_CustTestNNVectors, iNeighbours, TopN)\n",
    "    \n",
    "        \n",
    "    # Create a dataframe of all transactions by the customer in the Test Data\n",
    "    df_test = test.loc[test[\"customer_id\"] == C_Id]\n",
    "    #print('Display ...loc condition dataframe of all transactions by the customer in the Test Data')\n",
    "    #display(df_test)\n",
    "    \n",
    "    \n",
    "    df_TestCust_ActualPurchases = get_Top12_Articles_for_Cust(df_test, TopN)\n",
    "    \n",
    "    #print('display(df_TestCust_Preds)')\n",
    "    #display(df_TestCust_Preds)\n",
    "    #print('display(df_TestCust_ActualPurchases)')\n",
    "    #display(df_TestCust_ActualPurchases)\n",
    "    \n",
    "    #for aa in range(0, len(df_TestCust_ActualPurchases)):\n",
    "    for aa in range(0, 0):  # Skip for now\n",
    "        p = df_TestCust_ActualPurchases.iloc[aa]['article_id']\n",
    "        print('Number: {} p: ACTUAL article_id: {}\\n'.format(aa,p))\n",
    "        act_item    = df_Articles.loc[df_Articles['article_id'].eq(p), 'detail_desc']\n",
    "        prdnm_item  = df_Articles.loc[df_Articles['article_id'].eq(p), 'product_group_name']\n",
    "        grm_gnm_item  = df_Articles.loc[df_Articles['article_id'].eq(p), 'garment_group_name']\n",
    "        indxnm_item = df_Articles.loc[df_Articles['article_id'].eq(p), 'index_name']\n",
    "        print('Pred Item: Item: Prod Name {} {} {} {} \\n'.format(prdnm_item, indxnm_item, grm_gnm_item, act_item))\n",
    "    \n",
    "    \n",
    "    #for pa in range(0, len(df_TestCust_Preds)):\n",
    "    for pa in range(0, 0): # Skip for now\n",
    "        p = df_TestCust_Preds.iloc[pa]['article_id']\n",
    "        print('Number: {} p: PREDICTED article_id: {}\\n'.format(pa,p))\n",
    "        pred_item = df_Articles.loc[df_Articles['article_id'].eq(p), 'detail_desc']\n",
    "        pr_prdnm_item  = df_Articles.loc[df_Articles['article_id'].eq(p), 'product_group_name']\n",
    "        pr_grm_gnm_item  = df_Articles.loc[df_Articles['article_id'].eq(p), 'garment_group_name']\n",
    "        pr_indxnm_item = df_Articles.loc[df_Articles['article_id'].eq(p), 'index_name']\n",
    "        print('Pred Item: Prod Name {} {} {} {}\\n'.format(pr_prdnm_item, pr_indxnm_item, pr_grm_gnm_item, pred_item))\n",
    "    \n",
    "\n",
    "        \n",
    "    \n",
    "    df_ModelEvalResults_Stack = return_Cust_Prediction_Score(df_CustRecId['customer_id'], \n",
    "                                                             df_TestCust_Preds, \n",
    "                                                             df_TestCust_ActualPurchases,\n",
    "                                                             df_ModelEvalResults_Stack)\n",
    "        "
   ]
  },
  {
   "cell_type": "markdown",
   "metadata": {},
   "source": [
    "#### Present Accuracy of Predictions"
   ]
  },
  {
   "cell_type": "code",
   "execution_count": 302,
   "metadata": {},
   "outputs": [],
   "source": [
    "df_ModelEvalResults_Stack.reset_index(drop=True,inplace=True)"
   ]
  },
  {
   "cell_type": "code",
   "execution_count": 303,
   "metadata": {},
   "outputs": [],
   "source": [
    "# Sum all results to present an overall accuracy\n",
    "df_test_eval = df_ModelEvalResults_Stack.drop('customer_id', axis=1)\n",
    "df_test_eval = pd.DataFrame(np.sum(df_test_eval.values, axis=0), columns=['sum'])\n",
    "df_test_eval_T = df_test_eval.T # call transpose() function"
   ]
  },
  {
   "cell_type": "code",
   "execution_count": 304,
   "metadata": {},
   "outputs": [],
   "source": [
    "# Add column to capture total numbers of customers\n",
    "df_test_eval_T['tc'] = customer_records"
   ]
  },
  {
   "cell_type": "code",
   "execution_count": 305,
   "metadata": {},
   "outputs": [],
   "source": [
    "# Rename columns for ease of understanding\n",
    "df_test_eval_T.columns = ['Sum Prediction Accuracies', 'Actual Test Purchases', 'Predicted Purchases', \n",
    "                          'Matching Predictions', 'Total Customers']"
   ]
  },
  {
   "cell_type": "code",
   "execution_count": 306,
   "metadata": {},
   "outputs": [
    {
     "data": {
      "text/html": [
       "<div>\n",
       "<style scoped>\n",
       "    .dataframe tbody tr th:only-of-type {\n",
       "        vertical-align: middle;\n",
       "    }\n",
       "\n",
       "    .dataframe tbody tr th {\n",
       "        vertical-align: top;\n",
       "    }\n",
       "\n",
       "    .dataframe thead th {\n",
       "        text-align: right;\n",
       "    }\n",
       "</style>\n",
       "<table border=\"1\" class=\"dataframe\">\n",
       "  <thead>\n",
       "    <tr style=\"text-align: right;\">\n",
       "      <th></th>\n",
       "      <th>Sum Prediction Accuracies</th>\n",
       "      <th>Actual Test Purchases</th>\n",
       "      <th>Predicted Purchases</th>\n",
       "      <th>Matching Predictions</th>\n",
       "      <th>Total Customers</th>\n",
       "    </tr>\n",
       "  </thead>\n",
       "  <tbody>\n",
       "    <tr>\n",
       "      <th>sum</th>\n",
       "      <td>104.5</td>\n",
       "      <td>258</td>\n",
       "      <td>2380</td>\n",
       "      <td>105</td>\n",
       "      <td>250</td>\n",
       "    </tr>\n",
       "  </tbody>\n",
       "</table>\n",
       "</div>"
      ],
      "text/plain": [
       "    Sum Prediction Accuracies Actual Test Purchases Predicted Purchases  \\\n",
       "sum                     104.5                   258                2380   \n",
       "\n",
       "    Matching Predictions  Total Customers  \n",
       "sum                  105              250  "
      ]
     },
     "execution_count": 306,
     "metadata": {},
     "output_type": "execute_result"
    }
   ],
   "source": [
    "df_test_eval_T"
   ]
  },
  {
   "cell_type": "code",
   "execution_count": 307,
   "metadata": {},
   "outputs": [
    {
     "name": "stdout",
     "output_type": "stream",
     "text": [
      "Overall Accuracy Prediction with Test Data is: 41.8%\n",
      "\n"
     ]
    },
    {
     "data": {
      "text/plain": [
       "[None]"
      ]
     },
     "execution_count": 307,
     "metadata": {},
     "output_type": "execute_result"
    }
   ],
   "source": [
    "[print('Overall Accuracy Prediction with Test Data is: {:04.1f}%\\n'\n",
    "       .format( ((df_test_eval_T.iloc[0]['Sum Prediction Accuracies']/df_test_eval_T.iloc[0]['Total Customers'])*100) ))]"
   ]
  },
  {
   "cell_type": "markdown",
   "metadata": {},
   "source": [
    "###### "
   ]
  },
  {
   "cell_type": "markdown",
   "metadata": {},
   "source": [
    "###### "
   ]
  },
  {
   "cell_type": "markdown",
   "metadata": {},
   "source": [
    "## Build Submission"
   ]
  },
  {
   "cell_type": "markdown",
   "metadata": {},
   "source": [
    "#### The solution file to have 1371980 prediction rows - use Sample Submission to construct  <a class=\"tocSkip\">"
   ]
  },
  {
   "cell_type": "markdown",
   "metadata": {},
   "source": [
    "### Read Sample Submission File"
   ]
  },
  {
   "cell_type": "code",
   "execution_count": 308,
   "metadata": {},
   "outputs": [],
   "source": [
    "# Read in Full Sample Submission File\n",
    "df_sub  = pd.read_csv('../input/sample_submission.csv', dtype={'customer_id': 'string'})"
   ]
  },
  {
   "cell_type": "code",
   "execution_count": 309,
   "metadata": {},
   "outputs": [],
   "source": [
    "# Temp code to build submission framework based on a smaller fraction of the Sample Submission file\n",
    "df_sub_sample = df_sub.sample(frac=0.001, replace=False)  "
   ]
  },
  {
   "cell_type": "code",
   "execution_count": 310,
   "metadata": {},
   "outputs": [
    {
     "data": {
      "text/html": [
       "<div>\n",
       "<style scoped>\n",
       "    .dataframe tbody tr th:only-of-type {\n",
       "        vertical-align: middle;\n",
       "    }\n",
       "\n",
       "    .dataframe tbody tr th {\n",
       "        vertical-align: top;\n",
       "    }\n",
       "\n",
       "    .dataframe thead th {\n",
       "        text-align: right;\n",
       "    }\n",
       "</style>\n",
       "<table border=\"1\" class=\"dataframe\">\n",
       "  <thead>\n",
       "    <tr style=\"text-align: right;\">\n",
       "      <th></th>\n",
       "      <th>customer_id</th>\n",
       "      <th>prediction</th>\n",
       "    </tr>\n",
       "  </thead>\n",
       "  <tbody>\n",
       "    <tr>\n",
       "      <th>913103</th>\n",
       "      <td>aa61a17a2e27481f7ff58e26da71cfa4072390ae78518e...</td>\n",
       "      <td>0706016001 0706016002 0372860001 0610776002 07...</td>\n",
       "    </tr>\n",
       "    <tr>\n",
       "      <th>1227475</th>\n",
       "      <td>e5103b24a32b84090138f779925c5e695a77e56efa6e1c...</td>\n",
       "      <td>0706016001 0706016002 0372860001 0610776002 07...</td>\n",
       "    </tr>\n",
       "    <tr>\n",
       "      <th>986229</th>\n",
       "      <td>b7ff9213ac1a32731ec6449662205d55286ab55e2aea03...</td>\n",
       "      <td>0706016001 0706016002 0372860001 0610776002 07...</td>\n",
       "    </tr>\n",
       "    <tr>\n",
       "      <th>528862</th>\n",
       "      <td>62be90439a01031163878d57ddff45b9cfc0f48dfeeeb4...</td>\n",
       "      <td>0706016001 0706016002 0372860001 0610776002 07...</td>\n",
       "    </tr>\n",
       "    <tr>\n",
       "      <th>938144</th>\n",
       "      <td>af0972bdf7cf932aa1cfe8f2cf7253ab8e943299cae91a...</td>\n",
       "      <td>0706016001 0706016002 0372860001 0610776002 07...</td>\n",
       "    </tr>\n",
       "  </tbody>\n",
       "</table>\n",
       "</div>"
      ],
      "text/plain": [
       "                                               customer_id  \\\n",
       "913103   aa61a17a2e27481f7ff58e26da71cfa4072390ae78518e...   \n",
       "1227475  e5103b24a32b84090138f779925c5e695a77e56efa6e1c...   \n",
       "986229   b7ff9213ac1a32731ec6449662205d55286ab55e2aea03...   \n",
       "528862   62be90439a01031163878d57ddff45b9cfc0f48dfeeeb4...   \n",
       "938144   af0972bdf7cf932aa1cfe8f2cf7253ab8e943299cae91a...   \n",
       "\n",
       "                                                prediction  \n",
       "913103   0706016001 0706016002 0372860001 0610776002 07...  \n",
       "1227475  0706016001 0706016002 0372860001 0610776002 07...  \n",
       "986229   0706016001 0706016002 0372860001 0610776002 07...  \n",
       "528862   0706016001 0706016002 0372860001 0610776002 07...  \n",
       "938144   0706016001 0706016002 0372860001 0610776002 07...  "
      ]
     },
     "execution_count": 310,
     "metadata": {},
     "output_type": "execute_result"
    }
   ],
   "source": [
    "# Temp code to check dataframe matches file output\n",
    "df_sub_sample.head()"
   ]
  },
  {
   "cell_type": "markdown",
   "metadata": {},
   "source": [
    "#### Record record size of file for later validation.  <a class=\"tocSkip\">"
   ]
  },
  {
   "cell_type": "code",
   "execution_count": 311,
   "metadata": {},
   "outputs": [],
   "source": [
    "numCustomers = df_sub.shape[0]"
   ]
  },
  {
   "cell_type": "markdown",
   "metadata": {},
   "source": [
    "### Iterate Through Submission File to Generate Article Predictions"
   ]
  },
  {
   "cell_type": "code",
   "execution_count": 312,
   "metadata": {},
   "outputs": [],
   "source": [
    "# Creating an empty Dataframe with column names only - will be filled with each Customer and their set of predictions\n",
    "df_Submission_Stack = pd.DataFrame(columns=['customer_id', 'prediction'])"
   ]
  },
  {
   "cell_type": "code",
   "execution_count": 313,
   "metadata": {},
   "outputs": [],
   "source": [
    "# Set up loop based on Submission file size\n",
    "customer_records = 0 # Skip this processing if zero\n",
    "\n",
    "\n",
    "# Generate article predictions for each customer write to a new submission file\n",
    "for cust_rec in range(0, customer_records):\n",
    "    \n",
    "    print('cust_rec is... ' + str(cust_rec) +'\\n')\n",
    "    \n",
    "    df_SubCust_Trxn1, cust_id  = find_latest_CustomerTrxn(cust_rec)\n",
    "    \n",
    "    df_SubCust_Trxn1  = find_latest_CustomerAttrs(df_SubCust_Trxn1)\n",
    "    \n",
    "    df_SubCust_Trxn1  = find_latest_ArticleAttrs(df_SubCust_Trxn1)\n",
    "    \n",
    "    df_CustNNVectors  = df_SubCust_Trxn1[nn_cols]\n",
    "    \n",
    "    display(df_CustNNVectors)\n",
    "        \n",
    "    iNeighbours       = 550 # Number of Neighbours parameter for KNN model\n",
    "    TopN              = 12  # Number of Article predictions to return\n",
    "    df_cust_preds     = get_ArticlePredictions(hm_model_knn, df_CustNNVectors, iNeighbours, TopN)\n",
    "    \n",
    "    # Get a string output of Customer Article Predicitons - format as required for Kaggle competition\n",
    "    str_articles_predictions = get_str_Article_Predictions(df_cust_preds)\n",
    "    \n",
    "    # Format Customer ID and list of Article predictions - add to dataframe to be used for CSV output\n",
    "    df_NextCust_Preds = build_up_submission_df(cust_id, str_articles_predictions,'customer_id','prediction')\n",
    "    \n",
    "    \n",
    "    # Stack the DataFrames on top of each other\n",
    "    df_Submission_Stack = pd.concat([df_Submission_Stack, df_NextCust_Preds], axis=0)\n",
    "     \n",
    "    "
   ]
  },
  {
   "cell_type": "markdown",
   "metadata": {},
   "source": [
    "### Write Predictions Submission File to CSV"
   ]
  },
  {
   "cell_type": "markdown",
   "metadata": {},
   "source": [
    "#### SetUp Disk Directory for Submission File"
   ]
  },
  {
   "cell_type": "code",
   "execution_count": 314,
   "metadata": {},
   "outputs": [],
   "source": [
    "# Set up folder for submission file with predictions\n",
    "submission_path = '../submission'"
   ]
  },
  {
   "cell_type": "code",
   "execution_count": 315,
   "metadata": {},
   "outputs": [],
   "source": [
    "# Create folder above project directory\n",
    "os.makedirs(submission_path, exist_ok=True)  "
   ]
  },
  {
   "cell_type": "markdown",
   "metadata": {},
   "source": [
    "#### Create Submission .CSV File"
   ]
  },
  {
   "cell_type": "code",
   "execution_count": 316,
   "metadata": {},
   "outputs": [],
   "source": [
    "df_Submission_Stack = df_Submission_Stack.reset_index(drop=True)"
   ]
  },
  {
   "cell_type": "code",
   "execution_count": 317,
   "metadata": {},
   "outputs": [],
   "source": [
    "# Write pre-test submission file to disk\n",
    "df_Submission_Stack.to_csv(submission_path+'/submission_pretest.csv',index=False)"
   ]
  },
  {
   "cell_type": "code",
   "execution_count": 318,
   "metadata": {},
   "outputs": [
    {
     "name": "stdout",
     "output_type": "stream",
     "text": [
      "Matching the number of dfSub rows to the correct submission size. \n",
      "Submission Row: 0 v Expected Rows: 1371980\n"
     ]
    },
    {
     "data": {
      "text/plain": [
       "[None]"
      ]
     },
     "execution_count": 318,
     "metadata": {},
     "output_type": "execute_result"
    }
   ],
   "source": [
    "dfTempFinal  = pd.read_csv(submission_path+'/submission_pretest.csv')\n",
    "\n",
    "[print(\"Matching the number of dfSub rows to the correct submission size. \\nSubmission Row: {} v Expected Rows: {}\"\n",
    "                                                                                   .format(dfTempFinal.shape[0],numCustomers))]"
   ]
  },
  {
   "cell_type": "code",
   "execution_count": 319,
   "metadata": {},
   "outputs": [
    {
     "data": {
      "text/html": [
       "<div>\n",
       "<style scoped>\n",
       "    .dataframe tbody tr th:only-of-type {\n",
       "        vertical-align: middle;\n",
       "    }\n",
       "\n",
       "    .dataframe tbody tr th {\n",
       "        vertical-align: top;\n",
       "    }\n",
       "\n",
       "    .dataframe thead th {\n",
       "        text-align: right;\n",
       "    }\n",
       "</style>\n",
       "<table border=\"1\" class=\"dataframe\">\n",
       "  <thead>\n",
       "    <tr style=\"text-align: right;\">\n",
       "      <th></th>\n",
       "      <th>customer_id</th>\n",
       "      <th>prediction</th>\n",
       "    </tr>\n",
       "  </thead>\n",
       "  <tbody>\n",
       "  </tbody>\n",
       "</table>\n",
       "</div>"
      ],
      "text/plain": [
       "Empty DataFrame\n",
       "Columns: [customer_id, prediction]\n",
       "Index: []"
      ]
     },
     "execution_count": 319,
     "metadata": {},
     "output_type": "execute_result"
    }
   ],
   "source": [
    "# Check format of final submission file\n",
    "dfTempFinal.head()"
   ]
  },
  {
   "cell_type": "code",
   "execution_count": 320,
   "metadata": {},
   "outputs": [],
   "source": [
    "# Write final submission file to disk\n",
    "dfTempFinal.to_csv(submission_path+'/submission.csv',index=False)"
   ]
  },
  {
   "cell_type": "markdown",
   "metadata": {},
   "source": [
    "###### "
   ]
  },
  {
   "cell_type": "markdown",
   "metadata": {},
   "source": [
    "###### "
   ]
  },
  {
   "cell_type": "markdown",
   "metadata": {},
   "source": [
    "## References"
   ]
  },
  {
   "cell_type": "markdown",
   "metadata": {},
   "source": [
    "#### <a class=\"tocSkip\">"
   ]
  }
 ],
 "metadata": {
  "kernelspec": {
   "display_name": "Python 3",
   "language": "python",
   "name": "python3"
  },
  "language_info": {
   "codemirror_mode": {
    "name": "ipython",
    "version": 3
   },
   "file_extension": ".py",
   "mimetype": "text/x-python",
   "name": "python",
   "nbconvert_exporter": "python",
   "pygments_lexer": "ipython3",
   "version": "3.8.5"
  },
  "toc": {
   "base_numbering": 1,
   "nav_menu": {},
   "number_sections": true,
   "sideBar": true,
   "skip_h1_title": true,
   "title_cell": "Table of Contents",
   "title_sidebar": "Contents",
   "toc_cell": true,
   "toc_position": {
    "height": "659px",
    "left": "0px",
    "right": "1227.5px",
    "top": "87px",
    "width": "341.5px"
   },
   "toc_section_display": "block",
   "toc_window_display": true
  }
 },
 "nbformat": 4,
 "nbformat_minor": 2
}
