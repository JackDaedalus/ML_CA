{
 "cells": [
  {
   "cell_type": "markdown",
   "metadata": {},
   "source": [
    "# Machine Learning - Continuous Assessment - Class Group: TU060 <a class=\"tocSkip\">"
   ]
  },
  {
   "cell_type": "markdown",
   "metadata": {},
   "source": [
    "# MSc in Computer Science - Data Science (Part Time) <a class=\"tocSkip\">"
   ]
  },
  {
   "cell_type": "markdown",
   "metadata": {},
   "source": [
    "# Student Name: Ciaran Finnegan  <a class=\"tocSkip\">"
   ]
  },
  {
   "cell_type": "markdown",
   "metadata": {},
   "source": [
    "# Student No: D21124026 <a class=\"tocSkip\">"
   ]
  },
  {
   "cell_type": "markdown",
   "metadata": {},
   "source": [
    "#### Student EMail: D21124026@mytudublin.ie <a class=\"tocSkip\">"
   ]
  },
  {
   "cell_type": "markdown",
   "metadata": {},
   "source": [
    "## May 2022<a class=\"tocSkip\">"
   ]
  },
  {
   "cell_type": "markdown",
   "metadata": {},
   "source": [
    "# "
   ]
  },
  {
   "cell_type": "markdown",
   "metadata": {},
   "source": [
    "# H&M Personalised Fashion Recommendations <a class=\"tocSkip\">\n"
   ]
  },
  {
   "cell_type": "markdown",
   "metadata": {},
   "source": [
    "#### This project takes the datasets provided by Kaggle for the H&M Personalised Fashion Recommendations competition.  <a class=\"tocSkip\">\n",
    "\n",
    "Ipso forum..."
   ]
  },
  {
   "cell_type": "markdown",
   "metadata": {},
   "source": [
    "## <a class=\"tocSkip\">"
   ]
  },
  {
   "cell_type": "markdown",
   "metadata": {},
   "source": [
    "#### The CA follows a n-part structure. <a class=\"tocSkip\">\n",
    "\n",
    "Section 1: Ipso forum...\n",
    "\n",
    "Section 2: Ipso forum...\n",
    "\n",
    "Section 3: Ipso forum...\n"
   ]
  },
  {
   "cell_type": "markdown",
   "metadata": {},
   "source": [
    "### <a class=\"tocSkip\">"
   ]
  },
  {
   "cell_type": "markdown",
   "metadata": {
    "toc": true
   },
   "source": [
    "<h1>Table of Contents<span class=\"tocSkip\"></span></h1>\n",
    "<div class=\"toc\"><ul class=\"toc-item\"><li><span><a href=\"#Jupyter-Notebook-Set-Up\" data-toc-modified-id=\"Jupyter-Notebook-Set-Up-1\"><span class=\"toc-item-num\">1&nbsp;&nbsp;</span>Jupyter Notebook Set Up</a></span><ul class=\"toc-item\"><li><span><a href=\"#Import-Libraries\" data-toc-modified-id=\"Import-Libraries-1.1\"><span class=\"toc-item-num\">1.1&nbsp;&nbsp;</span>Import Libraries</a></span><ul class=\"toc-item\"><li><span><a href=\"#General-Utility-Libraries\" data-toc-modified-id=\"General-Utility-Libraries-1.1.1\"><span class=\"toc-item-num\">1.1.1&nbsp;&nbsp;</span>General Utility Libraries</a></span></li><li><span><a href=\"#Panda-+-Numpy\" data-toc-modified-id=\"Panda-+-Numpy-1.1.2\"><span class=\"toc-item-num\">1.1.2&nbsp;&nbsp;</span>Panda + Numpy</a></span></li><li><span><a href=\"#Matplotlib-Library\" data-toc-modified-id=\"Matplotlib-Library-1.1.3\"><span class=\"toc-item-num\">1.1.3&nbsp;&nbsp;</span>Matplotlib Library</a></span></li><li><span><a href=\"#Plotly-Libraries\" data-toc-modified-id=\"Plotly-Libraries-1.1.4\"><span class=\"toc-item-num\">1.1.4&nbsp;&nbsp;</span>Plotly Libraries</a></span></li></ul></li></ul></li><li><span><a href=\"#Project-Data-Import,-Analysis-and-Preparation\" data-toc-modified-id=\"Project-Data-Import,-Analysis-and-Preparation-2\"><span class=\"toc-item-num\">2&nbsp;&nbsp;</span>Project Data Import, Analysis and Preparation</a></span><ul class=\"toc-item\"><li><span><a href=\"#Load-and-Sample-Kaggle-H&amp;M-Datasets\" data-toc-modified-id=\"Load-and-Sample-Kaggle-H&amp;M-Datasets-2.1\"><span class=\"toc-item-num\">2.1&nbsp;&nbsp;</span>Load and Sample Kaggle H&amp;M Datasets</a></span><ul class=\"toc-item\"><li><span><a href=\"#Set-Up-File-Paths\" data-toc-modified-id=\"Set-Up-File-Paths-2.1.1\"><span class=\"toc-item-num\">2.1.1&nbsp;&nbsp;</span>Set Up File Paths</a></span></li><li><span><a href=\"#H&amp;M-Transaction-Dataset\" data-toc-modified-id=\"H&amp;M-Transaction-Dataset-2.1.2\"><span class=\"toc-item-num\">2.1.2&nbsp;&nbsp;</span>H&amp;M Transaction Dataset</a></span></li><li><span><a href=\"#H&amp;M-Articles-Dataset\" data-toc-modified-id=\"H&amp;M-Articles-Dataset-2.1.3\"><span class=\"toc-item-num\">2.1.3&nbsp;&nbsp;</span>H&amp;M Articles Dataset</a></span></li><li><span><a href=\"#H&amp;M-Customers-Dataset\" data-toc-modified-id=\"H&amp;M-Customers-Dataset-2.1.4\"><span class=\"toc-item-num\">2.1.4&nbsp;&nbsp;</span>H&amp;M Customers Dataset</a></span></li></ul></li><li><span><a href=\"#Exploratory-Data-Analysis\" data-toc-modified-id=\"Exploratory-Data-Analysis-2.2\"><span class=\"toc-item-num\">2.2&nbsp;&nbsp;</span>Exploratory Data Analysis</a></span><ul class=\"toc-item\"><li><span><a href=\"#H&amp;M-Sampled-Transaction-Dataset\" data-toc-modified-id=\"H&amp;M-Sampled-Transaction-Dataset-2.2.1\"><span class=\"toc-item-num\">2.2.1&nbsp;&nbsp;</span>H&amp;M Sampled Transaction Dataset</a></span></li><li><span><a href=\"#H&amp;M-Sampled-Customer-Dataset\" data-toc-modified-id=\"H&amp;M-Sampled-Customer-Dataset-2.2.2\"><span class=\"toc-item-num\">2.2.2&nbsp;&nbsp;</span>H&amp;M Sampled Customer Dataset</a></span></li><li><span><a href=\"#H&amp;M-Sampled-Articles-Dataset\" data-toc-modified-id=\"H&amp;M-Sampled-Articles-Dataset-2.2.3\"><span class=\"toc-item-num\">2.2.3&nbsp;&nbsp;</span>H&amp;M Sampled Articles Dataset</a></span></li></ul></li><li><span><a href=\"#Data-Preparation-and-Feature-Enrichment\" data-toc-modified-id=\"Data-Preparation-and-Feature-Enrichment-2.3\"><span class=\"toc-item-num\">2.3&nbsp;&nbsp;</span>Data Preparation and Feature Enrichment</a></span><ul class=\"toc-item\"><li><span><a href=\"#Transaction-Data-Feature-Enrichment-(Sample)\" data-toc-modified-id=\"Transaction-Data-Feature-Enrichment-(Sample)-2.3.1\"><span class=\"toc-item-num\">2.3.1&nbsp;&nbsp;</span>Transaction Data Feature Enrichment (Sample)</a></span></li><li><span><a href=\"#Extend-Dataframe-with-Customer-Data\" data-toc-modified-id=\"Extend-Dataframe-with-Customer-Data-2.3.2\"><span class=\"toc-item-num\">2.3.2&nbsp;&nbsp;</span>Extend Dataframe with Customer Data</a></span></li><li><span><a href=\"#Extend-Dataframe-with-Articles-Data\" data-toc-modified-id=\"Extend-Dataframe-with-Articles-Data-2.3.3\"><span class=\"toc-item-num\">2.3.3&nbsp;&nbsp;</span>Extend Dataframe with Articles Data</a></span></li><li><span><a href=\"#Final-Data-Preparation-Steps\" data-toc-modified-id=\"Final-Data-Preparation-Steps-2.3.4\"><span class=\"toc-item-num\">2.3.4&nbsp;&nbsp;</span>Final Data Preparation Steps</a></span></li></ul></li></ul></li><li><span><a href=\"#Split-Data:-Train-and-Test-Sets\" data-toc-modified-id=\"Split-Data:-Train-and-Test-Sets-3\"><span class=\"toc-item-num\">3&nbsp;&nbsp;</span>Split Data: Train and Test Sets</a></span></li><li><span><a href=\"#Model-Preparation\" data-toc-modified-id=\"Model-Preparation-4\"><span class=\"toc-item-num\">4&nbsp;&nbsp;</span>Model Preparation</a></span><ul class=\"toc-item\"><li><span><a href=\"#Set-Up-the-Scaling-Algorithm\" data-toc-modified-id=\"Set-Up-the-Scaling-Algorithm-4.1\"><span class=\"toc-item-num\">4.1&nbsp;&nbsp;</span>Set Up the Scaling Algorithm</a></span></li><li><span><a href=\"#Set-Up-the-Columns-to-be-Scaled\" data-toc-modified-id=\"Set-Up-the-Columns-to-be-Scaled-4.2\"><span class=\"toc-item-num\">4.2&nbsp;&nbsp;</span>Set Up the Columns to be Scaled</a></span></li><li><span><a href=\"#Scale-the-Training-Dataset\" data-toc-modified-id=\"Scale-the-Training-Dataset-4.3\"><span class=\"toc-item-num\">4.3&nbsp;&nbsp;</span>Scale the Training Dataset</a></span></li></ul></li><li><span><a href=\"#K-Nearest-Neighbour-Operations\" data-toc-modified-id=\"K-Nearest-Neighbour-Operations-5\"><span class=\"toc-item-num\">5&nbsp;&nbsp;</span>K Nearest Neighbour Operations</a></span><ul class=\"toc-item\"><li><span><a href=\"#Create-Functions-for-NN-Analysis\" data-toc-modified-id=\"Create-Functions-for-NN-Analysis-5.1\"><span class=\"toc-item-num\">5.1&nbsp;&nbsp;</span>Create Functions for NN Analysis</a></span><ul class=\"toc-item\"><li><span><a href=\"#Set-up-function-to-Build-Nearest-Neighbours-Model\" data-toc-modified-id=\"Set-up-function-to-Build-Nearest-Neighbours-Model-5.1.1\"><span class=\"toc-item-num\">5.1.1&nbsp;&nbsp;</span>Set up function to Build Nearest Neighbours Model</a></span></li><li><span><a href=\"#Set-up-function-to--Nearest-Neighbours-(+-Articles-bought)-for-a-Customer\" data-toc-modified-id=\"Set-up-function-to--Nearest-Neighbours-(+-Articles-bought)-for-a-Customer-5.1.2\"><span class=\"toc-item-num\">5.1.2&nbsp;&nbsp;</span>Set up function to  Nearest Neighbours (+ Articles bought) for a Customer</a></span></li><li><span><a href=\"#Find-Top-Selling-Products-in-'Neighbourhood'-for-a-Customer\" data-toc-modified-id=\"Find-Top-Selling-Products-in-'Neighbourhood'-for-a-Customer-5.1.3\"><span class=\"toc-item-num\">5.1.3&nbsp;&nbsp;</span>Find Top Selling Products in 'Neighbourhood' for a Customer</a></span></li><li><span><a href=\"#Invoke-Function-to-Build-KNN-Model\" data-toc-modified-id=\"Invoke-Function-to-Build-KNN-Model-5.1.4\"><span class=\"toc-item-num\">5.1.4&nbsp;&nbsp;</span>Invoke Function to Build KNN Model</a></span></li></ul></li></ul></li><li><span><a href=\"#Build-Submission\" data-toc-modified-id=\"Build-Submission-6\"><span class=\"toc-item-num\">6&nbsp;&nbsp;</span>Build Submission</a></span><ul class=\"toc-item\"><li><span><a href=\"#Read-Sample-Submission-File\" data-toc-modified-id=\"Read-Sample-Submission-File-6.1\"><span class=\"toc-item-num\">6.1&nbsp;&nbsp;</span>Read Sample Submission File</a></span></li><li><span><a href=\"#Define-Function-to-read-Customer-IDs-from-Submission-File\" data-toc-modified-id=\"Define-Function-to-read-Customer-IDs-from-Submission-File-6.2\"><span class=\"toc-item-num\">6.2&nbsp;&nbsp;</span>Define Function to read Customer IDs from Submission File</a></span></li><li><span><a href=\"#Extract-Customer-IDs-from-Submission-File-and-Find-Article-Predictions\" data-toc-modified-id=\"Extract-Customer-IDs-from-Submission-File-and-Find-Article-Predictions-6.3\"><span class=\"toc-item-num\">6.3&nbsp;&nbsp;</span>Extract Customer IDs from Submission File and Find Article Predictions</a></span><ul class=\"toc-item\"><li><span><a href=\"#Define-Function-to-Obtain-Customer-Transactions\" data-toc-modified-id=\"Define-Function-to-Obtain-Customer-Transactions-6.3.1\"><span class=\"toc-item-num\">6.3.1&nbsp;&nbsp;</span>Define Function to Obtain Customer Transactions</a></span></li><li><span><a href=\"#Define-Function-to-Obtain-Customer-Features\" data-toc-modified-id=\"Define-Function-to-Obtain-Customer-Features-6.3.2\"><span class=\"toc-item-num\">6.3.2&nbsp;&nbsp;</span>Define Function to Obtain Customer Features</a></span></li><li><span><a href=\"#Define-Function-to-Obtain-Article-Features\" data-toc-modified-id=\"Define-Function-to-Obtain-Article-Features-6.3.3\"><span class=\"toc-item-num\">6.3.3&nbsp;&nbsp;</span>Define Function to Obtain Article Features</a></span></li><li><span><a href=\"#Define-Function-to-Obtain-Article-Predictions\" data-toc-modified-id=\"Define-Function-to-Obtain-Article-Predictions-6.3.4\"><span class=\"toc-item-num\">6.3.4&nbsp;&nbsp;</span>Define Function to Obtain Article Predictions</a></span></li><li><span><a href=\"#Define-Functions-to-Parse-Article-Predictions-for-Kaggle-Submission\" data-toc-modified-id=\"Define-Functions-to-Parse-Article-Predictions-for-Kaggle-Submission-6.3.5\"><span class=\"toc-item-num\">6.3.5&nbsp;&nbsp;</span>Define Functions to Parse Article Predictions for Kaggle Submission</a></span></li><li><span><a href=\"#Iterate-Through-Submission-File-to-Generate-Article-Predictions\" data-toc-modified-id=\"Iterate-Through-Submission-File-to-Generate-Article-Predictions-6.3.6\"><span class=\"toc-item-num\">6.3.6&nbsp;&nbsp;</span>Iterate Through Submission File to Generate Article Predictions</a></span></li></ul></li><li><span><a href=\"#Write-Predictions-Submission-File-to-CSV\" data-toc-modified-id=\"Write-Predictions-Submission-File-to-CSV-6.4\"><span class=\"toc-item-num\">6.4&nbsp;&nbsp;</span>Write Predictions Submission File to CSV</a></span><ul class=\"toc-item\"><li><span><a href=\"#SetUp-Disk-Directory-for-Submission-File\" data-toc-modified-id=\"SetUp-Disk-Directory-for-Submission-File-6.4.1\"><span class=\"toc-item-num\">6.4.1&nbsp;&nbsp;</span>SetUp Disk Directory for Submission File</a></span></li><li><span><a href=\"#Create-Submission-.CSV-File\" data-toc-modified-id=\"Create-Submission-.CSV-File-6.4.2\"><span class=\"toc-item-num\">6.4.2&nbsp;&nbsp;</span>Create Submission .CSV File</a></span></li></ul></li></ul></li><li><span><a href=\"#References\" data-toc-modified-id=\"References-7\"><span class=\"toc-item-num\">7&nbsp;&nbsp;</span>References</a></span></li></ul></div>"
   ]
  },
  {
   "cell_type": "markdown",
   "metadata": {},
   "source": [
    "## Jupyter Notebook Set Up"
   ]
  },
  {
   "cell_type": "markdown",
   "metadata": {},
   "source": [
    "### Import Libraries"
   ]
  },
  {
   "cell_type": "markdown",
   "metadata": {},
   "source": [
    "Note: It is assumed that the matplotlib and plotly library has been installed on the user's machine before it is available for import.\n",
    "\n",
    "```bash\n",
    "> pip install matplotlib\n",
    "> pip install plotly\n",
    "```\n"
   ]
  },
  {
   "cell_type": "markdown",
   "metadata": {},
   "source": [
    "#### General Utility Libraries"
   ]
  },
  {
   "cell_type": "code",
   "execution_count": 1,
   "metadata": {},
   "outputs": [],
   "source": [
    "import os"
   ]
  },
  {
   "cell_type": "markdown",
   "metadata": {},
   "source": [
    "#### Panda + Numpy"
   ]
  },
  {
   "cell_type": "code",
   "execution_count": 2,
   "metadata": {},
   "outputs": [],
   "source": [
    "# Python libraries for data manipulation\n",
    "import numpy as np\n",
    "import pandas as pd\n",
    "from sklearn.model_selection import train_test_split\n",
    "from sklearn.preprocessing import StandardScaler\n",
    "from sklearn.neighbors import NearestNeighbors"
   ]
  },
  {
   "cell_type": "markdown",
   "metadata": {},
   "source": [
    "Set up additional libraries for graphical presentations. A number of earlier graphs use Matplotlib. In later sections, Plotly graphs are used."
   ]
  },
  {
   "cell_type": "markdown",
   "metadata": {},
   "source": [
    "#### Matplotlib Library"
   ]
  },
  {
   "cell_type": "code",
   "execution_count": 3,
   "metadata": {},
   "outputs": [],
   "source": [
    "#import matplotlib.pyplot as plt"
   ]
  },
  {
   "cell_type": "markdown",
   "metadata": {},
   "source": [
    "#### Plotly Libraries"
   ]
  },
  {
   "cell_type": "code",
   "execution_count": 4,
   "metadata": {},
   "outputs": [],
   "source": [
    "# For interactive graphics and global displays\n",
    "#import plotly.express as px\n",
    "#import plotly.graph_objects as go"
   ]
  },
  {
   "cell_type": "markdown",
   "metadata": {},
   "source": [
    "### <a class=\"tocSkip\">"
   ]
  },
  {
   "cell_type": "code",
   "execution_count": 5,
   "metadata": {},
   "outputs": [],
   "source": [
    "import warnings\n",
    "warnings.filterwarnings(\"ignore\")"
   ]
  },
  {
   "cell_type": "markdown",
   "metadata": {},
   "source": [
    "### <a class=\"tocSkip\">"
   ]
  },
  {
   "cell_type": "markdown",
   "metadata": {},
   "source": [
    "## Project Data Import, Analysis and Preparation"
   ]
  },
  {
   "cell_type": "markdown",
   "metadata": {},
   "source": [
    "### Load and Sample Kaggle H&M Datasets"
   ]
  },
  {
   "cell_type": "markdown",
   "metadata": {},
   "source": [
    "### The assignment starts with a Kaggle H&M Personalised Fashion Recommendations datasets. <a class=\"tocSkip\">"
   ]
  },
  {
   "cell_type": "markdown",
   "metadata": {},
   "source": [
    "#### Set Up File Paths "
   ]
  },
  {
   "cell_type": "code",
   "execution_count": 6,
   "metadata": {},
   "outputs": [],
   "source": [
    "# Set up a Global path file variable to use when loading each dataset\n",
    "Path_To_Inputs = '../input'"
   ]
  },
  {
   "cell_type": "markdown",
   "metadata": {},
   "source": [
    "#### H&M Transaction Dataset "
   ]
  },
  {
   "cell_type": "code",
   "execution_count": 7,
   "metadata": {},
   "outputs": [],
   "source": [
    "# Load H&M Transaction dataset\n",
    "df_trxns = pd.read_csv(os.path.join(Path_To_Inputs,'transactions_train.csv'))"
   ]
  },
  {
   "cell_type": "code",
   "execution_count": 8,
   "metadata": {},
   "outputs": [
    {
     "data": {
      "text/plain": [
       "(31788324, 5)"
      ]
     },
     "execution_count": 8,
     "metadata": {},
     "output_type": "execute_result"
    }
   ],
   "source": [
    "# Display Number of Rows, Number of Columns in Transaction dataset prior to Sampling\n",
    "df_trxns.shape"
   ]
  },
  {
   "cell_type": "code",
   "execution_count": 9,
   "metadata": {},
   "outputs": [],
   "source": [
    "# Extract random sample of Transactions (without replacement) - 0.1% of records\n",
    "df_trxns_sample = df_trxns.sample(frac=0.05, replace=False)"
   ]
  },
  {
   "cell_type": "code",
   "execution_count": 10,
   "metadata": {},
   "outputs": [
    {
     "data": {
      "text/plain": [
       "(1589416, 5)"
      ]
     },
     "execution_count": 10,
     "metadata": {},
     "output_type": "execute_result"
    }
   ],
   "source": [
    "# Display Number of Rows, Number of Columns in Transaction dataset after Sampling\n",
    "df_trxns_sample.shape"
   ]
  },
  {
   "cell_type": "code",
   "execution_count": 11,
   "metadata": {},
   "outputs": [
    {
     "data": {
      "text/html": [
       "<div>\n",
       "<style scoped>\n",
       "    .dataframe tbody tr th:only-of-type {\n",
       "        vertical-align: middle;\n",
       "    }\n",
       "\n",
       "    .dataframe tbody tr th {\n",
       "        vertical-align: top;\n",
       "    }\n",
       "\n",
       "    .dataframe thead th {\n",
       "        text-align: right;\n",
       "    }\n",
       "</style>\n",
       "<table border=\"1\" class=\"dataframe\">\n",
       "  <thead>\n",
       "    <tr style=\"text-align: right;\">\n",
       "      <th></th>\n",
       "      <th>t_dat</th>\n",
       "      <th>customer_id</th>\n",
       "      <th>article_id</th>\n",
       "      <th>price</th>\n",
       "      <th>sales_channel_id</th>\n",
       "    </tr>\n",
       "  </thead>\n",
       "  <tbody>\n",
       "    <tr>\n",
       "      <th>16851105</th>\n",
       "      <td>2019-09-21</td>\n",
       "      <td>c35a0bbf71def421fd4f09ef7cccae838a24ce1f7021dd...</td>\n",
       "      <td>456163053</td>\n",
       "      <td>0.033881</td>\n",
       "      <td>2</td>\n",
       "    </tr>\n",
       "    <tr>\n",
       "      <th>25412933</th>\n",
       "      <td>2020-05-05</td>\n",
       "      <td>f51c8324e8d26c53f74c4756a1d0768378f838ab8e8b47...</td>\n",
       "      <td>506098016</td>\n",
       "      <td>0.030492</td>\n",
       "      <td>2</td>\n",
       "    </tr>\n",
       "    <tr>\n",
       "      <th>3463109</th>\n",
       "      <td>2018-12-07</td>\n",
       "      <td>3ea86ed5f1219380de2cd89af5d272099cf1de25c0cd51...</td>\n",
       "      <td>684688001</td>\n",
       "      <td>0.050831</td>\n",
       "      <td>2</td>\n",
       "    </tr>\n",
       "    <tr>\n",
       "      <th>28842456</th>\n",
       "      <td>2020-07-10</td>\n",
       "      <td>3f9c5f30f6b1e4d91b413d5cfc1ae58c766c7b3caa0f6b...</td>\n",
       "      <td>554477037</td>\n",
       "      <td>0.011847</td>\n",
       "      <td>2</td>\n",
       "    </tr>\n",
       "    <tr>\n",
       "      <th>4766865</th>\n",
       "      <td>2019-01-09</td>\n",
       "      <td>ab98977fcc0757ed8323776193b2b808c09da6c1ae8d0f...</td>\n",
       "      <td>669806001</td>\n",
       "      <td>0.084729</td>\n",
       "      <td>2</td>\n",
       "    </tr>\n",
       "  </tbody>\n",
       "</table>\n",
       "</div>"
      ],
      "text/plain": [
       "               t_dat                                        customer_id  \\\n",
       "16851105  2019-09-21  c35a0bbf71def421fd4f09ef7cccae838a24ce1f7021dd...   \n",
       "25412933  2020-05-05  f51c8324e8d26c53f74c4756a1d0768378f838ab8e8b47...   \n",
       "3463109   2018-12-07  3ea86ed5f1219380de2cd89af5d272099cf1de25c0cd51...   \n",
       "28842456  2020-07-10  3f9c5f30f6b1e4d91b413d5cfc1ae58c766c7b3caa0f6b...   \n",
       "4766865   2019-01-09  ab98977fcc0757ed8323776193b2b808c09da6c1ae8d0f...   \n",
       "\n",
       "          article_id     price  sales_channel_id  \n",
       "16851105   456163053  0.033881                 2  \n",
       "25412933   506098016  0.030492                 2  \n",
       "3463109    684688001  0.050831                 2  \n",
       "28842456   554477037  0.011847                 2  \n",
       "4766865    669806001  0.084729                 2  "
      ]
     },
     "execution_count": 11,
     "metadata": {},
     "output_type": "execute_result"
    }
   ],
   "source": [
    "# Check out the index\n",
    "df_trxns_sample.head()"
   ]
  },
  {
   "cell_type": "markdown",
   "metadata": {},
   "source": [
    "#### H&M Articles Dataset "
   ]
  },
  {
   "cell_type": "code",
   "execution_count": 12,
   "metadata": {},
   "outputs": [],
   "source": [
    "# Read file, located in 'input' folder above this notebook, for articles data - containing meta data on purchasable items.\n",
    "df_Articles = pd.read_csv(os.path.join(Path_To_Inputs,'articles.csv'))"
   ]
  },
  {
   "cell_type": "code",
   "execution_count": 13,
   "metadata": {},
   "outputs": [
    {
     "data": {
      "text/plain": [
       "(105542, 25)"
      ]
     },
     "execution_count": 13,
     "metadata": {},
     "output_type": "execute_result"
    }
   ],
   "source": [
    "# Display Number of Rows, Number of Columns in Articles dataset\n",
    "df_Articles.shape"
   ]
  },
  {
   "cell_type": "code",
   "execution_count": 14,
   "metadata": {},
   "outputs": [],
   "source": [
    "# Extract only the H&M articles contained in the sample Transaction dataset \n",
    "articleIDs_in_Trxn_Sample  = set(df_trxns_sample[\"article_id\"])"
   ]
  },
  {
   "cell_type": "code",
   "execution_count": 15,
   "metadata": {},
   "outputs": [],
   "source": [
    "# Create dataset that only contains H&M articles in the sample Transaction dataset\n",
    "df_articles_sample = df_Articles[df_Articles[\"article_id\"].isin(articleIDs_in_Trxn_Sample)]"
   ]
  },
  {
   "cell_type": "code",
   "execution_count": 16,
   "metadata": {},
   "outputs": [
    {
     "data": {
      "text/plain": [
       "(78283, 25)"
      ]
     },
     "execution_count": 16,
     "metadata": {},
     "output_type": "execute_result"
    }
   ],
   "source": [
    "# Display Number of Rows, Number of Columns in Sample Articles dataset\n",
    "df_articles_sample.shape"
   ]
  },
  {
   "cell_type": "markdown",
   "metadata": {},
   "source": [
    "#### H&M Customers Dataset "
   ]
  },
  {
   "cell_type": "code",
   "execution_count": 17,
   "metadata": {},
   "outputs": [],
   "source": [
    "# Load H&M Customer dataset\n",
    "df_customers = pd.read_csv(os.path.join(Path_To_Inputs,'customers.csv'))"
   ]
  },
  {
   "cell_type": "code",
   "execution_count": 18,
   "metadata": {},
   "outputs": [
    {
     "data": {
      "text/plain": [
       "(1371980, 7)"
      ]
     },
     "execution_count": 18,
     "metadata": {},
     "output_type": "execute_result"
    }
   ],
   "source": [
    "# Display Number of Rows, Number of Columns in Customers dataset prior to Sampling\n",
    "df_customers.shape"
   ]
  },
  {
   "cell_type": "code",
   "execution_count": 19,
   "metadata": {},
   "outputs": [],
   "source": [
    "# Extract only the H&M Customers contained in the sample Transaction dataset \n",
    "custIDs_in_Trxn_Sample  = set(df_trxns_sample[\"customer_id\"])"
   ]
  },
  {
   "cell_type": "code",
   "execution_count": 20,
   "metadata": {},
   "outputs": [
    {
     "data": {
      "text/plain": [
       "616895"
      ]
     },
     "execution_count": 20,
     "metadata": {},
     "output_type": "execute_result"
    }
   ],
   "source": [
    "#Count Customer Ids in Transaction Sample\n",
    "len(custIDs_in_Trxn_Sample)"
   ]
  },
  {
   "cell_type": "code",
   "execution_count": 21,
   "metadata": {},
   "outputs": [],
   "source": [
    "# Create dataset that only contains H&M Customers from the sample Transaction dataset\n",
    "df_customers_sample = df_customers[df_customers[\"customer_id\"].isin(custIDs_in_Trxn_Sample)]"
   ]
  },
  {
   "cell_type": "code",
   "execution_count": 22,
   "metadata": {},
   "outputs": [
    {
     "data": {
      "text/plain": [
       "(616895, 7)"
      ]
     },
     "execution_count": 22,
     "metadata": {},
     "output_type": "execute_result"
    }
   ],
   "source": [
    "# Display Number of Rows, Number of Columns in Sample Customers dataset\n",
    "df_customers_sample.shape"
   ]
  },
  {
   "cell_type": "markdown",
   "metadata": {},
   "source": [
    "###### "
   ]
  },
  {
   "cell_type": "markdown",
   "metadata": {},
   "source": [
    "### Exploratory Data Analysis"
   ]
  },
  {
   "cell_type": "markdown",
   "metadata": {},
   "source": [
    "### Display key data attributes and distributions in Sampled H&M datasets. <a class=\"tocSkip\">"
   ]
  },
  {
   "cell_type": "markdown",
   "metadata": {},
   "source": [
    "#### H&M Sampled Transaction Dataset "
   ]
  },
  {
   "cell_type": "code",
   "execution_count": 23,
   "metadata": {},
   "outputs": [
    {
     "data": {
      "text/html": [
       "<div>\n",
       "<style scoped>\n",
       "    .dataframe tbody tr th:only-of-type {\n",
       "        vertical-align: middle;\n",
       "    }\n",
       "\n",
       "    .dataframe tbody tr th {\n",
       "        vertical-align: top;\n",
       "    }\n",
       "\n",
       "    .dataframe thead th {\n",
       "        text-align: right;\n",
       "    }\n",
       "</style>\n",
       "<table border=\"1\" class=\"dataframe\">\n",
       "  <thead>\n",
       "    <tr style=\"text-align: right;\">\n",
       "      <th></th>\n",
       "      <th>t_dat</th>\n",
       "      <th>customer_id</th>\n",
       "      <th>article_id</th>\n",
       "      <th>price</th>\n",
       "      <th>sales_channel_id</th>\n",
       "    </tr>\n",
       "  </thead>\n",
       "  <tbody>\n",
       "    <tr>\n",
       "      <th>16851105</th>\n",
       "      <td>2019-09-21</td>\n",
       "      <td>c35a0bbf71def421fd4f09ef7cccae838a24ce1f7021dd...</td>\n",
       "      <td>456163053</td>\n",
       "      <td>0.033881</td>\n",
       "      <td>2</td>\n",
       "    </tr>\n",
       "    <tr>\n",
       "      <th>25412933</th>\n",
       "      <td>2020-05-05</td>\n",
       "      <td>f51c8324e8d26c53f74c4756a1d0768378f838ab8e8b47...</td>\n",
       "      <td>506098016</td>\n",
       "      <td>0.030492</td>\n",
       "      <td>2</td>\n",
       "    </tr>\n",
       "    <tr>\n",
       "      <th>3463109</th>\n",
       "      <td>2018-12-07</td>\n",
       "      <td>3ea86ed5f1219380de2cd89af5d272099cf1de25c0cd51...</td>\n",
       "      <td>684688001</td>\n",
       "      <td>0.050831</td>\n",
       "      <td>2</td>\n",
       "    </tr>\n",
       "    <tr>\n",
       "      <th>28842456</th>\n",
       "      <td>2020-07-10</td>\n",
       "      <td>3f9c5f30f6b1e4d91b413d5cfc1ae58c766c7b3caa0f6b...</td>\n",
       "      <td>554477037</td>\n",
       "      <td>0.011847</td>\n",
       "      <td>2</td>\n",
       "    </tr>\n",
       "    <tr>\n",
       "      <th>4766865</th>\n",
       "      <td>2019-01-09</td>\n",
       "      <td>ab98977fcc0757ed8323776193b2b808c09da6c1ae8d0f...</td>\n",
       "      <td>669806001</td>\n",
       "      <td>0.084729</td>\n",
       "      <td>2</td>\n",
       "    </tr>\n",
       "  </tbody>\n",
       "</table>\n",
       "</div>"
      ],
      "text/plain": [
       "               t_dat                                        customer_id  \\\n",
       "16851105  2019-09-21  c35a0bbf71def421fd4f09ef7cccae838a24ce1f7021dd...   \n",
       "25412933  2020-05-05  f51c8324e8d26c53f74c4756a1d0768378f838ab8e8b47...   \n",
       "3463109   2018-12-07  3ea86ed5f1219380de2cd89af5d272099cf1de25c0cd51...   \n",
       "28842456  2020-07-10  3f9c5f30f6b1e4d91b413d5cfc1ae58c766c7b3caa0f6b...   \n",
       "4766865   2019-01-09  ab98977fcc0757ed8323776193b2b808c09da6c1ae8d0f...   \n",
       "\n",
       "          article_id     price  sales_channel_id  \n",
       "16851105   456163053  0.033881                 2  \n",
       "25412933   506098016  0.030492                 2  \n",
       "3463109    684688001  0.050831                 2  \n",
       "28842456   554477037  0.011847                 2  \n",
       "4766865    669806001  0.084729                 2  "
      ]
     },
     "execution_count": 23,
     "metadata": {},
     "output_type": "execute_result"
    }
   ],
   "source": [
    "# Display basic column information for the initial Kaggle 'transaction_train' datatset - after Sampling of original dataset\n",
    "df_trxns_sample.head()"
   ]
  },
  {
   "cell_type": "code",
   "execution_count": 24,
   "metadata": {},
   "outputs": [
    {
     "data": {
      "text/plain": [
       "t_dat                object\n",
       "customer_id          object\n",
       "article_id            int64\n",
       "price               float64\n",
       "sales_channel_id      int64\n",
       "dtype: object"
      ]
     },
     "execution_count": 24,
     "metadata": {},
     "output_type": "execute_result"
    }
   ],
   "source": [
    "# Display datatype of colums in original H&M Transaction dataset\n",
    "df_trxns_sample.dtypes"
   ]
  },
  {
   "cell_type": "markdown",
   "metadata": {},
   "source": [
    "#### H&M Sampled Customer Dataset "
   ]
  },
  {
   "cell_type": "code",
   "execution_count": 25,
   "metadata": {},
   "outputs": [
    {
     "data": {
      "text/html": [
       "<div>\n",
       "<style scoped>\n",
       "    .dataframe tbody tr th:only-of-type {\n",
       "        vertical-align: middle;\n",
       "    }\n",
       "\n",
       "    .dataframe tbody tr th {\n",
       "        vertical-align: top;\n",
       "    }\n",
       "\n",
       "    .dataframe thead th {\n",
       "        text-align: right;\n",
       "    }\n",
       "</style>\n",
       "<table border=\"1\" class=\"dataframe\">\n",
       "  <thead>\n",
       "    <tr style=\"text-align: right;\">\n",
       "      <th></th>\n",
       "      <th>customer_id</th>\n",
       "      <th>FN</th>\n",
       "      <th>Active</th>\n",
       "      <th>club_member_status</th>\n",
       "      <th>fashion_news_frequency</th>\n",
       "      <th>age</th>\n",
       "      <th>postal_code</th>\n",
       "    </tr>\n",
       "  </thead>\n",
       "  <tbody>\n",
       "    <tr>\n",
       "      <th>1</th>\n",
       "      <td>0000423b00ade91418cceaf3b26c6af3dd342b51fd051e...</td>\n",
       "      <td>NaN</td>\n",
       "      <td>NaN</td>\n",
       "      <td>ACTIVE</td>\n",
       "      <td>NONE</td>\n",
       "      <td>25.0</td>\n",
       "      <td>2973abc54daa8a5f8ccfe9362140c63247c5eee03f1d93...</td>\n",
       "    </tr>\n",
       "    <tr>\n",
       "      <th>7</th>\n",
       "      <td>00007d2de826758b65a93dd24ce629ed66842531df6699...</td>\n",
       "      <td>1.0</td>\n",
       "      <td>1.0</td>\n",
       "      <td>ACTIVE</td>\n",
       "      <td>Regularly</td>\n",
       "      <td>32.0</td>\n",
       "      <td>8d6f45050876d059c830a0fe63f1a4c022de279bb68ce3...</td>\n",
       "    </tr>\n",
       "    <tr>\n",
       "      <th>10</th>\n",
       "      <td>0000945f66de1a11d9447609b8b41b1bc987ba185a5496...</td>\n",
       "      <td>NaN</td>\n",
       "      <td>NaN</td>\n",
       "      <td>ACTIVE</td>\n",
       "      <td>NONE</td>\n",
       "      <td>29.0</td>\n",
       "      <td>d93e1aaecdebf9f71ab42cc0c5fdbb378514c94971ad1c...</td>\n",
       "    </tr>\n",
       "    <tr>\n",
       "      <th>13</th>\n",
       "      <td>00009d946eec3ea54add5ba56d5210ea898def4b46c685...</td>\n",
       "      <td>1.0</td>\n",
       "      <td>1.0</td>\n",
       "      <td>ACTIVE</td>\n",
       "      <td>Regularly</td>\n",
       "      <td>56.0</td>\n",
       "      <td>b31984b20a8c478de38eaf113c581ff64e63c4242e607b...</td>\n",
       "    </tr>\n",
       "    <tr>\n",
       "      <th>18</th>\n",
       "      <td>0000c97821eb48d0e590fd309133f0a6c08f7750f64ccc...</td>\n",
       "      <td>NaN</td>\n",
       "      <td>NaN</td>\n",
       "      <td>ACTIVE</td>\n",
       "      <td>NONE</td>\n",
       "      <td>49.0</td>\n",
       "      <td>8ff2d3103bd127d46e7238c6cee0f3fd9a01bd4a49fb98...</td>\n",
       "    </tr>\n",
       "  </tbody>\n",
       "</table>\n",
       "</div>"
      ],
      "text/plain": [
       "                                          customer_id   FN  Active  \\\n",
       "1   0000423b00ade91418cceaf3b26c6af3dd342b51fd051e...  NaN     NaN   \n",
       "7   00007d2de826758b65a93dd24ce629ed66842531df6699...  1.0     1.0   \n",
       "10  0000945f66de1a11d9447609b8b41b1bc987ba185a5496...  NaN     NaN   \n",
       "13  00009d946eec3ea54add5ba56d5210ea898def4b46c685...  1.0     1.0   \n",
       "18  0000c97821eb48d0e590fd309133f0a6c08f7750f64ccc...  NaN     NaN   \n",
       "\n",
       "   club_member_status fashion_news_frequency   age  \\\n",
       "1              ACTIVE                   NONE  25.0   \n",
       "7              ACTIVE              Regularly  32.0   \n",
       "10             ACTIVE                   NONE  29.0   \n",
       "13             ACTIVE              Regularly  56.0   \n",
       "18             ACTIVE                   NONE  49.0   \n",
       "\n",
       "                                          postal_code  \n",
       "1   2973abc54daa8a5f8ccfe9362140c63247c5eee03f1d93...  \n",
       "7   8d6f45050876d059c830a0fe63f1a4c022de279bb68ce3...  \n",
       "10  d93e1aaecdebf9f71ab42cc0c5fdbb378514c94971ad1c...  \n",
       "13  b31984b20a8c478de38eaf113c581ff64e63c4242e607b...  \n",
       "18  8ff2d3103bd127d46e7238c6cee0f3fd9a01bd4a49fb98...  "
      ]
     },
     "execution_count": 25,
     "metadata": {},
     "output_type": "execute_result"
    }
   ],
   "source": [
    "# Display basic column information for the initial Kaggle 'customers' datatset - after Sampling of original dataset\n",
    "df_customers_sample.head()"
   ]
  },
  {
   "cell_type": "code",
   "execution_count": 26,
   "metadata": {},
   "outputs": [
    {
     "data": {
      "text/plain": [
       "customer_id                object\n",
       "FN                        float64\n",
       "Active                    float64\n",
       "club_member_status         object\n",
       "fashion_news_frequency     object\n",
       "age                       float64\n",
       "postal_code                object\n",
       "dtype: object"
      ]
     },
     "execution_count": 26,
     "metadata": {},
     "output_type": "execute_result"
    }
   ],
   "source": [
    "df_customers_sample.dtypes"
   ]
  },
  {
   "cell_type": "markdown",
   "metadata": {},
   "source": [
    "#### H&M Sampled Articles Dataset "
   ]
  },
  {
   "cell_type": "code",
   "execution_count": 27,
   "metadata": {},
   "outputs": [
    {
     "data": {
      "text/html": [
       "<div>\n",
       "<style scoped>\n",
       "    .dataframe tbody tr th:only-of-type {\n",
       "        vertical-align: middle;\n",
       "    }\n",
       "\n",
       "    .dataframe tbody tr th {\n",
       "        vertical-align: top;\n",
       "    }\n",
       "\n",
       "    .dataframe thead th {\n",
       "        text-align: right;\n",
       "    }\n",
       "</style>\n",
       "<table border=\"1\" class=\"dataframe\">\n",
       "  <thead>\n",
       "    <tr style=\"text-align: right;\">\n",
       "      <th></th>\n",
       "      <th>article_id</th>\n",
       "      <th>product_code</th>\n",
       "      <th>prod_name</th>\n",
       "      <th>product_type_no</th>\n",
       "      <th>product_type_name</th>\n",
       "      <th>product_group_name</th>\n",
       "      <th>graphical_appearance_no</th>\n",
       "      <th>graphical_appearance_name</th>\n",
       "      <th>colour_group_code</th>\n",
       "      <th>colour_group_name</th>\n",
       "      <th>...</th>\n",
       "      <th>department_name</th>\n",
       "      <th>index_code</th>\n",
       "      <th>index_name</th>\n",
       "      <th>index_group_no</th>\n",
       "      <th>index_group_name</th>\n",
       "      <th>section_no</th>\n",
       "      <th>section_name</th>\n",
       "      <th>garment_group_no</th>\n",
       "      <th>garment_group_name</th>\n",
       "      <th>detail_desc</th>\n",
       "    </tr>\n",
       "  </thead>\n",
       "  <tbody>\n",
       "    <tr>\n",
       "      <th>0</th>\n",
       "      <td>108775015</td>\n",
       "      <td>108775</td>\n",
       "      <td>Strap top</td>\n",
       "      <td>253</td>\n",
       "      <td>Vest top</td>\n",
       "      <td>Garment Upper body</td>\n",
       "      <td>1010016</td>\n",
       "      <td>Solid</td>\n",
       "      <td>9</td>\n",
       "      <td>Black</td>\n",
       "      <td>...</td>\n",
       "      <td>Jersey Basic</td>\n",
       "      <td>A</td>\n",
       "      <td>Ladieswear</td>\n",
       "      <td>1</td>\n",
       "      <td>Ladieswear</td>\n",
       "      <td>16</td>\n",
       "      <td>Womens Everyday Basics</td>\n",
       "      <td>1002</td>\n",
       "      <td>Jersey Basic</td>\n",
       "      <td>Jersey top with narrow shoulder straps.</td>\n",
       "    </tr>\n",
       "    <tr>\n",
       "      <th>1</th>\n",
       "      <td>108775044</td>\n",
       "      <td>108775</td>\n",
       "      <td>Strap top</td>\n",
       "      <td>253</td>\n",
       "      <td>Vest top</td>\n",
       "      <td>Garment Upper body</td>\n",
       "      <td>1010016</td>\n",
       "      <td>Solid</td>\n",
       "      <td>10</td>\n",
       "      <td>White</td>\n",
       "      <td>...</td>\n",
       "      <td>Jersey Basic</td>\n",
       "      <td>A</td>\n",
       "      <td>Ladieswear</td>\n",
       "      <td>1</td>\n",
       "      <td>Ladieswear</td>\n",
       "      <td>16</td>\n",
       "      <td>Womens Everyday Basics</td>\n",
       "      <td>1002</td>\n",
       "      <td>Jersey Basic</td>\n",
       "      <td>Jersey top with narrow shoulder straps.</td>\n",
       "    </tr>\n",
       "    <tr>\n",
       "      <th>2</th>\n",
       "      <td>108775051</td>\n",
       "      <td>108775</td>\n",
       "      <td>Strap top (1)</td>\n",
       "      <td>253</td>\n",
       "      <td>Vest top</td>\n",
       "      <td>Garment Upper body</td>\n",
       "      <td>1010017</td>\n",
       "      <td>Stripe</td>\n",
       "      <td>11</td>\n",
       "      <td>Off White</td>\n",
       "      <td>...</td>\n",
       "      <td>Jersey Basic</td>\n",
       "      <td>A</td>\n",
       "      <td>Ladieswear</td>\n",
       "      <td>1</td>\n",
       "      <td>Ladieswear</td>\n",
       "      <td>16</td>\n",
       "      <td>Womens Everyday Basics</td>\n",
       "      <td>1002</td>\n",
       "      <td>Jersey Basic</td>\n",
       "      <td>Jersey top with narrow shoulder straps.</td>\n",
       "    </tr>\n",
       "    <tr>\n",
       "      <th>3</th>\n",
       "      <td>110065001</td>\n",
       "      <td>110065</td>\n",
       "      <td>OP T-shirt (Idro)</td>\n",
       "      <td>306</td>\n",
       "      <td>Bra</td>\n",
       "      <td>Underwear</td>\n",
       "      <td>1010016</td>\n",
       "      <td>Solid</td>\n",
       "      <td>9</td>\n",
       "      <td>Black</td>\n",
       "      <td>...</td>\n",
       "      <td>Clean Lingerie</td>\n",
       "      <td>B</td>\n",
       "      <td>Lingeries/Tights</td>\n",
       "      <td>1</td>\n",
       "      <td>Ladieswear</td>\n",
       "      <td>61</td>\n",
       "      <td>Womens Lingerie</td>\n",
       "      <td>1017</td>\n",
       "      <td>Under-, Nightwear</td>\n",
       "      <td>Microfibre T-shirt bra with underwired, moulde...</td>\n",
       "    </tr>\n",
       "    <tr>\n",
       "      <th>4</th>\n",
       "      <td>110065002</td>\n",
       "      <td>110065</td>\n",
       "      <td>OP T-shirt (Idro)</td>\n",
       "      <td>306</td>\n",
       "      <td>Bra</td>\n",
       "      <td>Underwear</td>\n",
       "      <td>1010016</td>\n",
       "      <td>Solid</td>\n",
       "      <td>10</td>\n",
       "      <td>White</td>\n",
       "      <td>...</td>\n",
       "      <td>Clean Lingerie</td>\n",
       "      <td>B</td>\n",
       "      <td>Lingeries/Tights</td>\n",
       "      <td>1</td>\n",
       "      <td>Ladieswear</td>\n",
       "      <td>61</td>\n",
       "      <td>Womens Lingerie</td>\n",
       "      <td>1017</td>\n",
       "      <td>Under-, Nightwear</td>\n",
       "      <td>Microfibre T-shirt bra with underwired, moulde...</td>\n",
       "    </tr>\n",
       "  </tbody>\n",
       "</table>\n",
       "<p>5 rows × 25 columns</p>\n",
       "</div>"
      ],
      "text/plain": [
       "   article_id  product_code          prod_name  product_type_no  \\\n",
       "0   108775015        108775          Strap top              253   \n",
       "1   108775044        108775          Strap top              253   \n",
       "2   108775051        108775      Strap top (1)              253   \n",
       "3   110065001        110065  OP T-shirt (Idro)              306   \n",
       "4   110065002        110065  OP T-shirt (Idro)              306   \n",
       "\n",
       "  product_type_name  product_group_name  graphical_appearance_no  \\\n",
       "0          Vest top  Garment Upper body                  1010016   \n",
       "1          Vest top  Garment Upper body                  1010016   \n",
       "2          Vest top  Garment Upper body                  1010017   \n",
       "3               Bra           Underwear                  1010016   \n",
       "4               Bra           Underwear                  1010016   \n",
       "\n",
       "  graphical_appearance_name  colour_group_code colour_group_name  ...  \\\n",
       "0                     Solid                  9             Black  ...   \n",
       "1                     Solid                 10             White  ...   \n",
       "2                    Stripe                 11         Off White  ...   \n",
       "3                     Solid                  9             Black  ...   \n",
       "4                     Solid                 10             White  ...   \n",
       "\n",
       "   department_name index_code        index_name index_group_no  \\\n",
       "0     Jersey Basic          A        Ladieswear              1   \n",
       "1     Jersey Basic          A        Ladieswear              1   \n",
       "2     Jersey Basic          A        Ladieswear              1   \n",
       "3   Clean Lingerie          B  Lingeries/Tights              1   \n",
       "4   Clean Lingerie          B  Lingeries/Tights              1   \n",
       "\n",
       "   index_group_name section_no            section_name garment_group_no  \\\n",
       "0        Ladieswear         16  Womens Everyday Basics             1002   \n",
       "1        Ladieswear         16  Womens Everyday Basics             1002   \n",
       "2        Ladieswear         16  Womens Everyday Basics             1002   \n",
       "3        Ladieswear         61         Womens Lingerie             1017   \n",
       "4        Ladieswear         61         Womens Lingerie             1017   \n",
       "\n",
       "   garment_group_name                                        detail_desc  \n",
       "0        Jersey Basic            Jersey top with narrow shoulder straps.  \n",
       "1        Jersey Basic            Jersey top with narrow shoulder straps.  \n",
       "2        Jersey Basic            Jersey top with narrow shoulder straps.  \n",
       "3   Under-, Nightwear  Microfibre T-shirt bra with underwired, moulde...  \n",
       "4   Under-, Nightwear  Microfibre T-shirt bra with underwired, moulde...  \n",
       "\n",
       "[5 rows x 25 columns]"
      ]
     },
     "execution_count": 27,
     "metadata": {},
     "output_type": "execute_result"
    }
   ],
   "source": [
    "# Display basic column information for the initial Kaggle 'article' datatset - after Sampling of original dataset\n",
    "df_articles_sample.head()"
   ]
  },
  {
   "cell_type": "code",
   "execution_count": 28,
   "metadata": {},
   "outputs": [
    {
     "data": {
      "text/plain": [
       "article_id                       int64\n",
       "product_code                     int64\n",
       "prod_name                       object\n",
       "product_type_no                  int64\n",
       "product_type_name               object\n",
       "product_group_name              object\n",
       "graphical_appearance_no          int64\n",
       "graphical_appearance_name       object\n",
       "colour_group_code                int64\n",
       "colour_group_name               object\n",
       "perceived_colour_value_id        int64\n",
       "perceived_colour_value_name     object\n",
       "perceived_colour_master_id       int64\n",
       "perceived_colour_master_name    object\n",
       "department_no                    int64\n",
       "department_name                 object\n",
       "index_code                      object\n",
       "index_name                      object\n",
       "index_group_no                   int64\n",
       "index_group_name                object\n",
       "section_no                       int64\n",
       "section_name                    object\n",
       "garment_group_no                 int64\n",
       "garment_group_name              object\n",
       "detail_desc                     object\n",
       "dtype: object"
      ]
     },
     "execution_count": 28,
     "metadata": {},
     "output_type": "execute_result"
    }
   ],
   "source": [
    "df_articles_sample.dtypes"
   ]
  },
  {
   "cell_type": "markdown",
   "metadata": {},
   "source": [
    "###### "
   ]
  },
  {
   "cell_type": "markdown",
   "metadata": {},
   "source": [
    "### Data Preparation and Feature Enrichment"
   ]
  },
  {
   "cell_type": "markdown",
   "metadata": {},
   "source": [
    "### Construct a dataset upon which to build ML models. <a class=\"tocSkip\">"
   ]
  },
  {
   "cell_type": "markdown",
   "metadata": {},
   "source": [
    "### Begin with Transaction Dataset (sampled) and merge in customer and article data. <a class=\"tocSkip\">"
   ]
  },
  {
   "cell_type": "markdown",
   "metadata": {},
   "source": [
    "#### Transaction Data Feature Enrichment (Sample)"
   ]
  },
  {
   "cell_type": "code",
   "execution_count": 29,
   "metadata": {},
   "outputs": [],
   "source": [
    "# Create new dataset for modelling. Initial basis for new dataset is the sampled transaction dataset.\n",
    "df_HM_CustTrxn = df_trxns_sample"
   ]
  },
  {
   "cell_type": "code",
   "execution_count": 30,
   "metadata": {},
   "outputs": [
    {
     "data": {
      "text/html": [
       "<div>\n",
       "<style scoped>\n",
       "    .dataframe tbody tr th:only-of-type {\n",
       "        vertical-align: middle;\n",
       "    }\n",
       "\n",
       "    .dataframe tbody tr th {\n",
       "        vertical-align: top;\n",
       "    }\n",
       "\n",
       "    .dataframe thead th {\n",
       "        text-align: right;\n",
       "    }\n",
       "</style>\n",
       "<table border=\"1\" class=\"dataframe\">\n",
       "  <thead>\n",
       "    <tr style=\"text-align: right;\">\n",
       "      <th></th>\n",
       "      <th>t_dat</th>\n",
       "      <th>customer_id</th>\n",
       "      <th>article_id</th>\n",
       "      <th>price</th>\n",
       "      <th>sales_channel_id</th>\n",
       "    </tr>\n",
       "  </thead>\n",
       "  <tbody>\n",
       "    <tr>\n",
       "      <th>16851105</th>\n",
       "      <td>2019-09-21</td>\n",
       "      <td>c35a0bbf71def421fd4f09ef7cccae838a24ce1f7021dd...</td>\n",
       "      <td>456163053</td>\n",
       "      <td>0.033881</td>\n",
       "      <td>2</td>\n",
       "    </tr>\n",
       "    <tr>\n",
       "      <th>25412933</th>\n",
       "      <td>2020-05-05</td>\n",
       "      <td>f51c8324e8d26c53f74c4756a1d0768378f838ab8e8b47...</td>\n",
       "      <td>506098016</td>\n",
       "      <td>0.030492</td>\n",
       "      <td>2</td>\n",
       "    </tr>\n",
       "    <tr>\n",
       "      <th>3463109</th>\n",
       "      <td>2018-12-07</td>\n",
       "      <td>3ea86ed5f1219380de2cd89af5d272099cf1de25c0cd51...</td>\n",
       "      <td>684688001</td>\n",
       "      <td>0.050831</td>\n",
       "      <td>2</td>\n",
       "    </tr>\n",
       "    <tr>\n",
       "      <th>28842456</th>\n",
       "      <td>2020-07-10</td>\n",
       "      <td>3f9c5f30f6b1e4d91b413d5cfc1ae58c766c7b3caa0f6b...</td>\n",
       "      <td>554477037</td>\n",
       "      <td>0.011847</td>\n",
       "      <td>2</td>\n",
       "    </tr>\n",
       "    <tr>\n",
       "      <th>4766865</th>\n",
       "      <td>2019-01-09</td>\n",
       "      <td>ab98977fcc0757ed8323776193b2b808c09da6c1ae8d0f...</td>\n",
       "      <td>669806001</td>\n",
       "      <td>0.084729</td>\n",
       "      <td>2</td>\n",
       "    </tr>\n",
       "  </tbody>\n",
       "</table>\n",
       "</div>"
      ],
      "text/plain": [
       "               t_dat                                        customer_id  \\\n",
       "16851105  2019-09-21  c35a0bbf71def421fd4f09ef7cccae838a24ce1f7021dd...   \n",
       "25412933  2020-05-05  f51c8324e8d26c53f74c4756a1d0768378f838ab8e8b47...   \n",
       "3463109   2018-12-07  3ea86ed5f1219380de2cd89af5d272099cf1de25c0cd51...   \n",
       "28842456  2020-07-10  3f9c5f30f6b1e4d91b413d5cfc1ae58c766c7b3caa0f6b...   \n",
       "4766865   2019-01-09  ab98977fcc0757ed8323776193b2b808c09da6c1ae8d0f...   \n",
       "\n",
       "          article_id     price  sales_channel_id  \n",
       "16851105   456163053  0.033881                 2  \n",
       "25412933   506098016  0.030492                 2  \n",
       "3463109    684688001  0.050831                 2  \n",
       "28842456   554477037  0.011847                 2  \n",
       "4766865    669806001  0.084729                 2  "
      ]
     },
     "execution_count": 30,
     "metadata": {},
     "output_type": "execute_result"
    }
   ],
   "source": [
    "df_HM_CustTrxn.head()"
   ]
  },
  {
   "cell_type": "code",
   "execution_count": 31,
   "metadata": {},
   "outputs": [],
   "source": [
    "# Decompose Datetime information \n",
    "df_HM_CustTrxn['t_dat'] = pd.to_datetime(df_HM_CustTrxn['t_dat'], format=\"%Y-%m-%d\")\n",
    "\n",
    "# Add Column for Transaction Year and convert to integer value\n",
    "df_HM_CustTrxn['txn_year'] = df_HM_CustTrxn['t_dat'].dt.strftime('%Y')\n",
    "df_HM_CustTrxn['txn_year'] = df_HM_CustTrxn['txn_year'].astype(str).astype(int)\n",
    "\n",
    "# Add Column for Transaction Month and convert to integer value\n",
    "df_HM_CustTrxn['txn_mth'] = df_HM_CustTrxn['t_dat'].dt.strftime('%m')\n",
    "df_HM_CustTrxn['txn_mth'] = df_HM_CustTrxn['txn_mth'].astype(str).astype(int)\n",
    "\n",
    "# Add Column for Transaction Day and convert to integer value\n",
    "df_HM_CustTrxn['txn_day'] = df_HM_CustTrxn['t_dat'].dt.strftime('%d')\n",
    "df_HM_CustTrxn['txn_day'] = df_HM_CustTrxn['txn_day'].astype(str).astype(int)"
   ]
  },
  {
   "cell_type": "code",
   "execution_count": 32,
   "metadata": {},
   "outputs": [],
   "source": [
    "# Filter out column to drop timestamp attribute\n",
    "df_HM_CustTrxn = df_HM_CustTrxn.iloc[:,1:8]"
   ]
  },
  {
   "cell_type": "code",
   "execution_count": 33,
   "metadata": {},
   "outputs": [
    {
     "data": {
      "text/html": [
       "<div>\n",
       "<style scoped>\n",
       "    .dataframe tbody tr th:only-of-type {\n",
       "        vertical-align: middle;\n",
       "    }\n",
       "\n",
       "    .dataframe tbody tr th {\n",
       "        vertical-align: top;\n",
       "    }\n",
       "\n",
       "    .dataframe thead th {\n",
       "        text-align: right;\n",
       "    }\n",
       "</style>\n",
       "<table border=\"1\" class=\"dataframe\">\n",
       "  <thead>\n",
       "    <tr style=\"text-align: right;\">\n",
       "      <th></th>\n",
       "      <th>customer_id</th>\n",
       "      <th>article_id</th>\n",
       "      <th>price</th>\n",
       "      <th>sales_channel_id</th>\n",
       "      <th>txn_year</th>\n",
       "      <th>txn_mth</th>\n",
       "      <th>txn_day</th>\n",
       "    </tr>\n",
       "  </thead>\n",
       "  <tbody>\n",
       "    <tr>\n",
       "      <th>16851105</th>\n",
       "      <td>c35a0bbf71def421fd4f09ef7cccae838a24ce1f7021dd...</td>\n",
       "      <td>456163053</td>\n",
       "      <td>0.033881</td>\n",
       "      <td>2</td>\n",
       "      <td>2019</td>\n",
       "      <td>9</td>\n",
       "      <td>21</td>\n",
       "    </tr>\n",
       "    <tr>\n",
       "      <th>25412933</th>\n",
       "      <td>f51c8324e8d26c53f74c4756a1d0768378f838ab8e8b47...</td>\n",
       "      <td>506098016</td>\n",
       "      <td>0.030492</td>\n",
       "      <td>2</td>\n",
       "      <td>2020</td>\n",
       "      <td>5</td>\n",
       "      <td>5</td>\n",
       "    </tr>\n",
       "    <tr>\n",
       "      <th>3463109</th>\n",
       "      <td>3ea86ed5f1219380de2cd89af5d272099cf1de25c0cd51...</td>\n",
       "      <td>684688001</td>\n",
       "      <td>0.050831</td>\n",
       "      <td>2</td>\n",
       "      <td>2018</td>\n",
       "      <td>12</td>\n",
       "      <td>7</td>\n",
       "    </tr>\n",
       "    <tr>\n",
       "      <th>28842456</th>\n",
       "      <td>3f9c5f30f6b1e4d91b413d5cfc1ae58c766c7b3caa0f6b...</td>\n",
       "      <td>554477037</td>\n",
       "      <td>0.011847</td>\n",
       "      <td>2</td>\n",
       "      <td>2020</td>\n",
       "      <td>7</td>\n",
       "      <td>10</td>\n",
       "    </tr>\n",
       "    <tr>\n",
       "      <th>4766865</th>\n",
       "      <td>ab98977fcc0757ed8323776193b2b808c09da6c1ae8d0f...</td>\n",
       "      <td>669806001</td>\n",
       "      <td>0.084729</td>\n",
       "      <td>2</td>\n",
       "      <td>2019</td>\n",
       "      <td>1</td>\n",
       "      <td>9</td>\n",
       "    </tr>\n",
       "  </tbody>\n",
       "</table>\n",
       "</div>"
      ],
      "text/plain": [
       "                                                customer_id  article_id  \\\n",
       "16851105  c35a0bbf71def421fd4f09ef7cccae838a24ce1f7021dd...   456163053   \n",
       "25412933  f51c8324e8d26c53f74c4756a1d0768378f838ab8e8b47...   506098016   \n",
       "3463109   3ea86ed5f1219380de2cd89af5d272099cf1de25c0cd51...   684688001   \n",
       "28842456  3f9c5f30f6b1e4d91b413d5cfc1ae58c766c7b3caa0f6b...   554477037   \n",
       "4766865   ab98977fcc0757ed8323776193b2b808c09da6c1ae8d0f...   669806001   \n",
       "\n",
       "             price  sales_channel_id  txn_year  txn_mth  txn_day  \n",
       "16851105  0.033881                 2      2019        9       21  \n",
       "25412933  0.030492                 2      2020        5        5  \n",
       "3463109   0.050831                 2      2018       12        7  \n",
       "28842456  0.011847                 2      2020        7       10  \n",
       "4766865   0.084729                 2      2019        1        9  "
      ]
     },
     "execution_count": 33,
     "metadata": {},
     "output_type": "execute_result"
    }
   ],
   "source": [
    "df_HM_CustTrxn.head()"
   ]
  },
  {
   "cell_type": "code",
   "execution_count": 34,
   "metadata": {},
   "outputs": [
    {
     "name": "stdout",
     "output_type": "stream",
     "text": [
      "Any Null Values in the Trxn (sample) dataframe? \n",
      " customer_id         False\n",
      "article_id          False\n",
      "price               False\n",
      "sales_channel_id    False\n",
      "txn_year            False\n",
      "txn_mth             False\n",
      "txn_day             False\n",
      "dtype: bool\n"
     ]
    },
    {
     "data": {
      "text/plain": [
       "[None]"
      ]
     },
     "execution_count": 34,
     "metadata": {},
     "output_type": "execute_result"
    }
   ],
   "source": [
    "# Check for null values in the Transaction Dataframe\n",
    "[print('Any Null Values in the Trxn (sample) dataframe?','\\n' ,df_HM_CustTrxn.isnull().any())]"
   ]
  },
  {
   "cell_type": "markdown",
   "metadata": {},
   "source": [
    "#### Extend Dataframe with Customer Data"
   ]
  },
  {
   "cell_type": "code",
   "execution_count": 35,
   "metadata": {},
   "outputs": [
    {
     "data": {
      "text/plain": [
       "(1589416, 7)"
      ]
     },
     "execution_count": 35,
     "metadata": {},
     "output_type": "execute_result"
    }
   ],
   "source": [
    "# Confirm dimensions of Trxn (sample) dataframe BEFORE merging with Customer data\n",
    "df_HM_CustTrxn.shape"
   ]
  },
  {
   "cell_type": "markdown",
   "metadata": {},
   "source": [
    "#### Merge Customer Attributes into the Trxn (Sample) Dataframe. <a class=\"tocSkip\">"
   ]
  },
  {
   "cell_type": "code",
   "execution_count": 36,
   "metadata": {},
   "outputs": [],
   "source": [
    "# Merge Customer atributes from the Customer dataset based on a join with the 'customer_id' field\n",
    "df_HM_CustTrxn = pd.merge(df_HM_CustTrxn, df_customers_sample, how=\"left\", on=[\"customer_id\"])"
   ]
  },
  {
   "cell_type": "code",
   "execution_count": 37,
   "metadata": {},
   "outputs": [
    {
     "data": {
      "text/plain": [
       "(1589416, 13)"
      ]
     },
     "execution_count": 37,
     "metadata": {},
     "output_type": "execute_result"
    }
   ],
   "source": [
    "# Confirm dimensions of Trxn (sample) dataframe AFTER merging with Customer data\n",
    "df_HM_CustTrxn.shape"
   ]
  },
  {
   "cell_type": "code",
   "execution_count": 38,
   "metadata": {},
   "outputs": [
    {
     "data": {
      "text/html": [
       "<div>\n",
       "<style scoped>\n",
       "    .dataframe tbody tr th:only-of-type {\n",
       "        vertical-align: middle;\n",
       "    }\n",
       "\n",
       "    .dataframe tbody tr th {\n",
       "        vertical-align: top;\n",
       "    }\n",
       "\n",
       "    .dataframe thead th {\n",
       "        text-align: right;\n",
       "    }\n",
       "</style>\n",
       "<table border=\"1\" class=\"dataframe\">\n",
       "  <thead>\n",
       "    <tr style=\"text-align: right;\">\n",
       "      <th></th>\n",
       "      <th>customer_id</th>\n",
       "      <th>article_id</th>\n",
       "      <th>price</th>\n",
       "      <th>sales_channel_id</th>\n",
       "      <th>txn_year</th>\n",
       "      <th>txn_mth</th>\n",
       "      <th>txn_day</th>\n",
       "      <th>FN</th>\n",
       "      <th>Active</th>\n",
       "      <th>club_member_status</th>\n",
       "      <th>fashion_news_frequency</th>\n",
       "      <th>age</th>\n",
       "      <th>postal_code</th>\n",
       "    </tr>\n",
       "  </thead>\n",
       "  <tbody>\n",
       "    <tr>\n",
       "      <th>0</th>\n",
       "      <td>c35a0bbf71def421fd4f09ef7cccae838a24ce1f7021dd...</td>\n",
       "      <td>456163053</td>\n",
       "      <td>0.033881</td>\n",
       "      <td>2</td>\n",
       "      <td>2019</td>\n",
       "      <td>9</td>\n",
       "      <td>21</td>\n",
       "      <td>1.0</td>\n",
       "      <td>1.0</td>\n",
       "      <td>ACTIVE</td>\n",
       "      <td>Regularly</td>\n",
       "      <td>19.0</td>\n",
       "      <td>702d1df392896c81a30c5a9973b95bd54461c6e7102f3b...</td>\n",
       "    </tr>\n",
       "    <tr>\n",
       "      <th>1</th>\n",
       "      <td>f51c8324e8d26c53f74c4756a1d0768378f838ab8e8b47...</td>\n",
       "      <td>506098016</td>\n",
       "      <td>0.030492</td>\n",
       "      <td>2</td>\n",
       "      <td>2020</td>\n",
       "      <td>5</td>\n",
       "      <td>5</td>\n",
       "      <td>NaN</td>\n",
       "      <td>NaN</td>\n",
       "      <td>ACTIVE</td>\n",
       "      <td>NONE</td>\n",
       "      <td>21.0</td>\n",
       "      <td>6f8ee6f409a5f27bf98206a2f1468867ebf81594964d73...</td>\n",
       "    </tr>\n",
       "    <tr>\n",
       "      <th>2</th>\n",
       "      <td>3ea86ed5f1219380de2cd89af5d272099cf1de25c0cd51...</td>\n",
       "      <td>684688001</td>\n",
       "      <td>0.050831</td>\n",
       "      <td>2</td>\n",
       "      <td>2018</td>\n",
       "      <td>12</td>\n",
       "      <td>7</td>\n",
       "      <td>NaN</td>\n",
       "      <td>NaN</td>\n",
       "      <td>ACTIVE</td>\n",
       "      <td>NONE</td>\n",
       "      <td>44.0</td>\n",
       "      <td>99e8e6bc69135fd1901e0d5b4c417486d095455b9a4695...</td>\n",
       "    </tr>\n",
       "    <tr>\n",
       "      <th>3</th>\n",
       "      <td>3f9c5f30f6b1e4d91b413d5cfc1ae58c766c7b3caa0f6b...</td>\n",
       "      <td>554477037</td>\n",
       "      <td>0.011847</td>\n",
       "      <td>2</td>\n",
       "      <td>2020</td>\n",
       "      <td>7</td>\n",
       "      <td>10</td>\n",
       "      <td>1.0</td>\n",
       "      <td>1.0</td>\n",
       "      <td>ACTIVE</td>\n",
       "      <td>Regularly</td>\n",
       "      <td>32.0</td>\n",
       "      <td>2f98648f1578fab086a66308e2b88985dc5ae044aabf3f...</td>\n",
       "    </tr>\n",
       "    <tr>\n",
       "      <th>4</th>\n",
       "      <td>ab98977fcc0757ed8323776193b2b808c09da6c1ae8d0f...</td>\n",
       "      <td>669806001</td>\n",
       "      <td>0.084729</td>\n",
       "      <td>2</td>\n",
       "      <td>2019</td>\n",
       "      <td>1</td>\n",
       "      <td>9</td>\n",
       "      <td>NaN</td>\n",
       "      <td>NaN</td>\n",
       "      <td>ACTIVE</td>\n",
       "      <td>NONE</td>\n",
       "      <td>27.0</td>\n",
       "      <td>8c631676932b24690206e21ab3b639653a4a0714279e24...</td>\n",
       "    </tr>\n",
       "  </tbody>\n",
       "</table>\n",
       "</div>"
      ],
      "text/plain": [
       "                                         customer_id  article_id     price  \\\n",
       "0  c35a0bbf71def421fd4f09ef7cccae838a24ce1f7021dd...   456163053  0.033881   \n",
       "1  f51c8324e8d26c53f74c4756a1d0768378f838ab8e8b47...   506098016  0.030492   \n",
       "2  3ea86ed5f1219380de2cd89af5d272099cf1de25c0cd51...   684688001  0.050831   \n",
       "3  3f9c5f30f6b1e4d91b413d5cfc1ae58c766c7b3caa0f6b...   554477037  0.011847   \n",
       "4  ab98977fcc0757ed8323776193b2b808c09da6c1ae8d0f...   669806001  0.084729   \n",
       "\n",
       "   sales_channel_id  txn_year  txn_mth  txn_day   FN  Active  \\\n",
       "0                 2      2019        9       21  1.0     1.0   \n",
       "1                 2      2020        5        5  NaN     NaN   \n",
       "2                 2      2018       12        7  NaN     NaN   \n",
       "3                 2      2020        7       10  1.0     1.0   \n",
       "4                 2      2019        1        9  NaN     NaN   \n",
       "\n",
       "  club_member_status fashion_news_frequency   age  \\\n",
       "0             ACTIVE              Regularly  19.0   \n",
       "1             ACTIVE                   NONE  21.0   \n",
       "2             ACTIVE                   NONE  44.0   \n",
       "3             ACTIVE              Regularly  32.0   \n",
       "4             ACTIVE                   NONE  27.0   \n",
       "\n",
       "                                         postal_code  \n",
       "0  702d1df392896c81a30c5a9973b95bd54461c6e7102f3b...  \n",
       "1  6f8ee6f409a5f27bf98206a2f1468867ebf81594964d73...  \n",
       "2  99e8e6bc69135fd1901e0d5b4c417486d095455b9a4695...  \n",
       "3  2f98648f1578fab086a66308e2b88985dc5ae044aabf3f...  \n",
       "4  8c631676932b24690206e21ab3b639653a4a0714279e24...  "
      ]
     },
     "execution_count": 38,
     "metadata": {},
     "output_type": "execute_result"
    }
   ],
   "source": [
    "df_HM_CustTrxn.head()"
   ]
  },
  {
   "cell_type": "code",
   "execution_count": 39,
   "metadata": {},
   "outputs": [],
   "source": [
    "# Filter out other Customer specific attributes apart from; age + fashion_news_frequency + club_member_status + postal code\n",
    "# There are very many missing values in the other Customer dataset columns, so these will be ignored\n",
    "df_HM_CustTrxn = df_HM_CustTrxn.iloc[:, [0, 1, 2, 3, 4, 5, 6, 9, 10, 11, 12]]"
   ]
  },
  {
   "cell_type": "code",
   "execution_count": 40,
   "metadata": {},
   "outputs": [
    {
     "data": {
      "text/html": [
       "<div>\n",
       "<style scoped>\n",
       "    .dataframe tbody tr th:only-of-type {\n",
       "        vertical-align: middle;\n",
       "    }\n",
       "\n",
       "    .dataframe tbody tr th {\n",
       "        vertical-align: top;\n",
       "    }\n",
       "\n",
       "    .dataframe thead th {\n",
       "        text-align: right;\n",
       "    }\n",
       "</style>\n",
       "<table border=\"1\" class=\"dataframe\">\n",
       "  <thead>\n",
       "    <tr style=\"text-align: right;\">\n",
       "      <th></th>\n",
       "      <th>customer_id</th>\n",
       "      <th>article_id</th>\n",
       "      <th>price</th>\n",
       "      <th>sales_channel_id</th>\n",
       "      <th>txn_year</th>\n",
       "      <th>txn_mth</th>\n",
       "      <th>txn_day</th>\n",
       "      <th>club_member_status</th>\n",
       "      <th>fashion_news_frequency</th>\n",
       "      <th>age</th>\n",
       "      <th>postal_code</th>\n",
       "    </tr>\n",
       "  </thead>\n",
       "  <tbody>\n",
       "    <tr>\n",
       "      <th>0</th>\n",
       "      <td>c35a0bbf71def421fd4f09ef7cccae838a24ce1f7021dd...</td>\n",
       "      <td>456163053</td>\n",
       "      <td>0.033881</td>\n",
       "      <td>2</td>\n",
       "      <td>2019</td>\n",
       "      <td>9</td>\n",
       "      <td>21</td>\n",
       "      <td>ACTIVE</td>\n",
       "      <td>Regularly</td>\n",
       "      <td>19.0</td>\n",
       "      <td>702d1df392896c81a30c5a9973b95bd54461c6e7102f3b...</td>\n",
       "    </tr>\n",
       "    <tr>\n",
       "      <th>1</th>\n",
       "      <td>f51c8324e8d26c53f74c4756a1d0768378f838ab8e8b47...</td>\n",
       "      <td>506098016</td>\n",
       "      <td>0.030492</td>\n",
       "      <td>2</td>\n",
       "      <td>2020</td>\n",
       "      <td>5</td>\n",
       "      <td>5</td>\n",
       "      <td>ACTIVE</td>\n",
       "      <td>NONE</td>\n",
       "      <td>21.0</td>\n",
       "      <td>6f8ee6f409a5f27bf98206a2f1468867ebf81594964d73...</td>\n",
       "    </tr>\n",
       "    <tr>\n",
       "      <th>2</th>\n",
       "      <td>3ea86ed5f1219380de2cd89af5d272099cf1de25c0cd51...</td>\n",
       "      <td>684688001</td>\n",
       "      <td>0.050831</td>\n",
       "      <td>2</td>\n",
       "      <td>2018</td>\n",
       "      <td>12</td>\n",
       "      <td>7</td>\n",
       "      <td>ACTIVE</td>\n",
       "      <td>NONE</td>\n",
       "      <td>44.0</td>\n",
       "      <td>99e8e6bc69135fd1901e0d5b4c417486d095455b9a4695...</td>\n",
       "    </tr>\n",
       "    <tr>\n",
       "      <th>3</th>\n",
       "      <td>3f9c5f30f6b1e4d91b413d5cfc1ae58c766c7b3caa0f6b...</td>\n",
       "      <td>554477037</td>\n",
       "      <td>0.011847</td>\n",
       "      <td>2</td>\n",
       "      <td>2020</td>\n",
       "      <td>7</td>\n",
       "      <td>10</td>\n",
       "      <td>ACTIVE</td>\n",
       "      <td>Regularly</td>\n",
       "      <td>32.0</td>\n",
       "      <td>2f98648f1578fab086a66308e2b88985dc5ae044aabf3f...</td>\n",
       "    </tr>\n",
       "    <tr>\n",
       "      <th>4</th>\n",
       "      <td>ab98977fcc0757ed8323776193b2b808c09da6c1ae8d0f...</td>\n",
       "      <td>669806001</td>\n",
       "      <td>0.084729</td>\n",
       "      <td>2</td>\n",
       "      <td>2019</td>\n",
       "      <td>1</td>\n",
       "      <td>9</td>\n",
       "      <td>ACTIVE</td>\n",
       "      <td>NONE</td>\n",
       "      <td>27.0</td>\n",
       "      <td>8c631676932b24690206e21ab3b639653a4a0714279e24...</td>\n",
       "    </tr>\n",
       "  </tbody>\n",
       "</table>\n",
       "</div>"
      ],
      "text/plain": [
       "                                         customer_id  article_id     price  \\\n",
       "0  c35a0bbf71def421fd4f09ef7cccae838a24ce1f7021dd...   456163053  0.033881   \n",
       "1  f51c8324e8d26c53f74c4756a1d0768378f838ab8e8b47...   506098016  0.030492   \n",
       "2  3ea86ed5f1219380de2cd89af5d272099cf1de25c0cd51...   684688001  0.050831   \n",
       "3  3f9c5f30f6b1e4d91b413d5cfc1ae58c766c7b3caa0f6b...   554477037  0.011847   \n",
       "4  ab98977fcc0757ed8323776193b2b808c09da6c1ae8d0f...   669806001  0.084729   \n",
       "\n",
       "   sales_channel_id  txn_year  txn_mth  txn_day club_member_status  \\\n",
       "0                 2      2019        9       21             ACTIVE   \n",
       "1                 2      2020        5        5             ACTIVE   \n",
       "2                 2      2018       12        7             ACTIVE   \n",
       "3                 2      2020        7       10             ACTIVE   \n",
       "4                 2      2019        1        9             ACTIVE   \n",
       "\n",
       "  fashion_news_frequency   age  \\\n",
       "0              Regularly  19.0   \n",
       "1                   NONE  21.0   \n",
       "2                   NONE  44.0   \n",
       "3              Regularly  32.0   \n",
       "4                   NONE  27.0   \n",
       "\n",
       "                                         postal_code  \n",
       "0  702d1df392896c81a30c5a9973b95bd54461c6e7102f3b...  \n",
       "1  6f8ee6f409a5f27bf98206a2f1468867ebf81594964d73...  \n",
       "2  99e8e6bc69135fd1901e0d5b4c417486d095455b9a4695...  \n",
       "3  2f98648f1578fab086a66308e2b88985dc5ae044aabf3f...  \n",
       "4  8c631676932b24690206e21ab3b639653a4a0714279e24...  "
      ]
     },
     "execution_count": 40,
     "metadata": {},
     "output_type": "execute_result"
    }
   ],
   "source": [
    "df_HM_CustTrxn.head()"
   ]
  },
  {
   "cell_type": "code",
   "execution_count": 41,
   "metadata": {},
   "outputs": [
    {
     "data": {
      "text/plain": [
       "(1589416, 11)"
      ]
     },
     "execution_count": 41,
     "metadata": {},
     "output_type": "execute_result"
    }
   ],
   "source": [
    "df_HM_CustTrxn.shape"
   ]
  },
  {
   "cell_type": "code",
   "execution_count": 42,
   "metadata": {},
   "outputs": [
    {
     "name": "stdout",
     "output_type": "stream",
     "text": [
      "Any Null Values in the merged Trxn/Customer dataframe? \n",
      " customer_id               False\n",
      "article_id                False\n",
      "price                     False\n",
      "sales_channel_id          False\n",
      "txn_year                  False\n",
      "txn_mth                   False\n",
      "txn_day                   False\n",
      "club_member_status         True\n",
      "fashion_news_frequency     True\n",
      "age                        True\n",
      "postal_code               False\n",
      "dtype: bool\n"
     ]
    },
    {
     "data": {
      "text/plain": [
       "[None]"
      ]
     },
     "execution_count": 42,
     "metadata": {},
     "output_type": "execute_result"
    }
   ],
   "source": [
    "# Check for null values in the merged Trxn/Customer dataframe\n",
    "[print('Any Null Values in the merged Trxn/Customer dataframe?','\\n' ,df_HM_CustTrxn.isnull().any())]"
   ]
  },
  {
   "cell_type": "markdown",
   "metadata": {},
   "source": [
    "#### Remove Rows with Missing Club Member Status Attributes. <a class=\"tocSkip\">"
   ]
  },
  {
   "cell_type": "code",
   "execution_count": 43,
   "metadata": {},
   "outputs": [
    {
     "name": "stdout",
     "output_type": "stream",
     "text": [
      "Numbers of rows with missing club member status? \n",
      " 3085\n",
      "\n",
      "Precentage of total rows in Trxn dataframe with missing club member status attributes?\n",
      "00.194%\n",
      "\n",
      "Current Number of Rows/Columns in Trxn/Customer dataframe - with missing club mem status values removed \n",
      " (1586331, 11)\n"
     ]
    },
    {
     "data": {
      "text/plain": [
       "[None]"
      ]
     },
     "execution_count": 43,
     "metadata": {},
     "output_type": "execute_result"
    }
   ],
   "source": [
    "# Check missing values in the club_member_status column  \n",
    "df_null_club_member_status = df_HM_CustTrxn.loc[(df_HM_CustTrxn[\"club_member_status\"].isnull())]\n",
    "\n",
    "[print('Numbers of rows with missing club member status?','\\n' ,len(df_null_club_member_status.index))]\n",
    "[print('\\nPrecentage of total rows in Trxn dataframe with missing club member status attributes?\\n{:06.3f}%'\n",
    "                               .format((len(df_null_club_member_status.index)/len(df_HM_CustTrxn.index))*100))]\n",
    "\n",
    "\n",
    "# For simplicity the rows with missing values in the club member status will be ignored\n",
    "# Re-Build Txn/Customer Dataframe with no missing values in the club member status\n",
    "df_HM_CustTrxn = df_HM_CustTrxn.loc[(df_HM_CustTrxn[\"club_member_status\"].notnull())]\n",
    "\n",
    "# Confirm dimensions of Trxn (sample) dataframe AFTER removing rows with missing values in the club member status column\n",
    "[print('\\nCurrent Number of Rows/Columns in Trxn/Customer dataframe - with missing club mem status values removed','\\n' ,\n",
    "                                                                                                   df_HM_CustTrxn.shape)]\n"
   ]
  },
  {
   "cell_type": "markdown",
   "metadata": {},
   "source": [
    "#### Remove Rows with Missing Fashion News Frequency Attributes. <a class=\"tocSkip\">"
   ]
  },
  {
   "cell_type": "code",
   "execution_count": 44,
   "metadata": {},
   "outputs": [
    {
     "name": "stdout",
     "output_type": "stream",
     "text": [
      "Numbers of rows with missing fashion_news_frequency values? \n",
      " 6435\n",
      "\n",
      "Precentage of total rows in Trxn dataframe with missing fashion_news_frequency attributes?\n",
      "00.406%\n",
      "\n",
      "Current Number of Rows/Columns in Trxn/Customer dataframe - missing Fash News Freq values removed \n",
      " (1579896, 11)\n"
     ]
    },
    {
     "data": {
      "text/plain": [
       "[None]"
      ]
     },
     "execution_count": 44,
     "metadata": {},
     "output_type": "execute_result"
    }
   ],
   "source": [
    "# Check missing values in the club_member_status column  \n",
    "df_null_fn_freq = df_HM_CustTrxn.loc[(df_HM_CustTrxn[\"fashion_news_frequency\"].isnull())]\n",
    "\n",
    "[print('Numbers of rows with missing fashion_news_frequency values?','\\n' ,len(df_null_fn_freq.index))]\n",
    "[print('\\nPrecentage of total rows in Trxn dataframe with missing fashion_news_frequency attributes?\\n{:06.3f}%'\n",
    "                               .format((len(df_null_fn_freq.index)/len(df_HM_CustTrxn.index))*100))]\n",
    "\n",
    "# For simplicity the rows with missing values in the fashion_news_frequency column will be ignored\n",
    "# Re-Build Txn/Customer Dataframe with no missing values in the fashion_news_frequency column\n",
    "df_HM_CustTrxn = df_HM_CustTrxn.loc[(df_HM_CustTrxn[\"fashion_news_frequency\"].notnull())]\n",
    "\n",
    "# Confirm dimensions of Trxn (sample) dataframe AFTER removing rows with missing values in the fashion_news_frequency column\n",
    "[print('\\nCurrent Number of Rows/Columns in Trxn/Customer dataframe - missing Fash News Freq values removed','\\n' ,\n",
    "                                                                                                   df_HM_CustTrxn.shape)]"
   ]
  },
  {
   "cell_type": "markdown",
   "metadata": {},
   "source": [
    "#### Remove Rows with Missing Age Attributes. <a class=\"tocSkip\">"
   ]
  },
  {
   "cell_type": "code",
   "execution_count": 45,
   "metadata": {},
   "outputs": [
    {
     "name": "stdout",
     "output_type": "stream",
     "text": [
      "Numbers of rows with missing age values? \n",
      " 6260\n",
      "\n",
      "Precentage of total rows in Trxn dataframe with missing age attributes?\n",
      "00.396%\n",
      "\n",
      "Current Number of Rows/Columns in Trxn/Customer dataframe - missing ages removed \n",
      " (1573636, 11)\n"
     ]
    },
    {
     "data": {
      "text/plain": [
       "[None]"
      ]
     },
     "execution_count": 45,
     "metadata": {},
     "output_type": "execute_result"
    }
   ],
   "source": [
    "# Check missing values in the age column  \n",
    "df_null_age = df_HM_CustTrxn.loc[(df_HM_CustTrxn[\"age\"].isnull())]\n",
    "\n",
    "[print('Numbers of rows with missing age values?','\\n' ,len(df_null_age.index))]\n",
    "[print('\\nPrecentage of total rows in Trxn dataframe with missing age attributes?\\n{:06.3f}%'\n",
    "                               .format((len(df_null_age.index)/len(df_HM_CustTrxn.index))*100))]\n",
    "\n",
    "# Re-Build Txn/Customer Dataframe with no missing values in the age column\n",
    "df_HM_CustTrxn = df_HM_CustTrxn.loc[(df_HM_CustTrxn[\"age\"].notnull())]\n",
    "\n",
    "\n",
    "# Confirm dimensions of Trxn (sample) dataframe AFTER removing rows with missing values in the age column\n",
    "[print('\\nCurrent Number of Rows/Columns in Trxn/Customer dataframe - missing ages removed','\\n' ,df_HM_CustTrxn.shape)]"
   ]
  },
  {
   "cell_type": "markdown",
   "metadata": {},
   "source": [
    "#### Encode the club_member_status + fashion_news_frequency attributes <a class=\"tocSkip\">"
   ]
  },
  {
   "cell_type": "code",
   "execution_count": 46,
   "metadata": {},
   "outputs": [
    {
     "data": {
      "text/html": [
       "<div>\n",
       "<style scoped>\n",
       "    .dataframe tbody tr th:only-of-type {\n",
       "        vertical-align: middle;\n",
       "    }\n",
       "\n",
       "    .dataframe tbody tr th {\n",
       "        vertical-align: top;\n",
       "    }\n",
       "\n",
       "    .dataframe thead th {\n",
       "        text-align: right;\n",
       "    }\n",
       "</style>\n",
       "<table border=\"1\" class=\"dataframe\">\n",
       "  <thead>\n",
       "    <tr style=\"text-align: right;\">\n",
       "      <th></th>\n",
       "      <th>customer_id</th>\n",
       "      <th>article_id</th>\n",
       "      <th>price</th>\n",
       "      <th>sales_channel_id</th>\n",
       "      <th>txn_year</th>\n",
       "      <th>txn_mth</th>\n",
       "      <th>txn_day</th>\n",
       "      <th>club_member_status</th>\n",
       "      <th>fashion_news_frequency</th>\n",
       "      <th>age</th>\n",
       "      <th>postal_code</th>\n",
       "    </tr>\n",
       "  </thead>\n",
       "  <tbody>\n",
       "    <tr>\n",
       "      <th>0</th>\n",
       "      <td>c35a0bbf71def421fd4f09ef7cccae838a24ce1f7021dd...</td>\n",
       "      <td>456163053</td>\n",
       "      <td>0.033881</td>\n",
       "      <td>2</td>\n",
       "      <td>2019</td>\n",
       "      <td>9</td>\n",
       "      <td>21</td>\n",
       "      <td>ACTIVE</td>\n",
       "      <td>Regularly</td>\n",
       "      <td>19.0</td>\n",
       "      <td>702d1df392896c81a30c5a9973b95bd54461c6e7102f3b...</td>\n",
       "    </tr>\n",
       "    <tr>\n",
       "      <th>1</th>\n",
       "      <td>f51c8324e8d26c53f74c4756a1d0768378f838ab8e8b47...</td>\n",
       "      <td>506098016</td>\n",
       "      <td>0.030492</td>\n",
       "      <td>2</td>\n",
       "      <td>2020</td>\n",
       "      <td>5</td>\n",
       "      <td>5</td>\n",
       "      <td>ACTIVE</td>\n",
       "      <td>NONE</td>\n",
       "      <td>21.0</td>\n",
       "      <td>6f8ee6f409a5f27bf98206a2f1468867ebf81594964d73...</td>\n",
       "    </tr>\n",
       "    <tr>\n",
       "      <th>2</th>\n",
       "      <td>3ea86ed5f1219380de2cd89af5d272099cf1de25c0cd51...</td>\n",
       "      <td>684688001</td>\n",
       "      <td>0.050831</td>\n",
       "      <td>2</td>\n",
       "      <td>2018</td>\n",
       "      <td>12</td>\n",
       "      <td>7</td>\n",
       "      <td>ACTIVE</td>\n",
       "      <td>NONE</td>\n",
       "      <td>44.0</td>\n",
       "      <td>99e8e6bc69135fd1901e0d5b4c417486d095455b9a4695...</td>\n",
       "    </tr>\n",
       "    <tr>\n",
       "      <th>3</th>\n",
       "      <td>3f9c5f30f6b1e4d91b413d5cfc1ae58c766c7b3caa0f6b...</td>\n",
       "      <td>554477037</td>\n",
       "      <td>0.011847</td>\n",
       "      <td>2</td>\n",
       "      <td>2020</td>\n",
       "      <td>7</td>\n",
       "      <td>10</td>\n",
       "      <td>ACTIVE</td>\n",
       "      <td>Regularly</td>\n",
       "      <td>32.0</td>\n",
       "      <td>2f98648f1578fab086a66308e2b88985dc5ae044aabf3f...</td>\n",
       "    </tr>\n",
       "    <tr>\n",
       "      <th>4</th>\n",
       "      <td>ab98977fcc0757ed8323776193b2b808c09da6c1ae8d0f...</td>\n",
       "      <td>669806001</td>\n",
       "      <td>0.084729</td>\n",
       "      <td>2</td>\n",
       "      <td>2019</td>\n",
       "      <td>1</td>\n",
       "      <td>9</td>\n",
       "      <td>ACTIVE</td>\n",
       "      <td>NONE</td>\n",
       "      <td>27.0</td>\n",
       "      <td>8c631676932b24690206e21ab3b639653a4a0714279e24...</td>\n",
       "    </tr>\n",
       "  </tbody>\n",
       "</table>\n",
       "</div>"
      ],
      "text/plain": [
       "                                         customer_id  article_id     price  \\\n",
       "0  c35a0bbf71def421fd4f09ef7cccae838a24ce1f7021dd...   456163053  0.033881   \n",
       "1  f51c8324e8d26c53f74c4756a1d0768378f838ab8e8b47...   506098016  0.030492   \n",
       "2  3ea86ed5f1219380de2cd89af5d272099cf1de25c0cd51...   684688001  0.050831   \n",
       "3  3f9c5f30f6b1e4d91b413d5cfc1ae58c766c7b3caa0f6b...   554477037  0.011847   \n",
       "4  ab98977fcc0757ed8323776193b2b808c09da6c1ae8d0f...   669806001  0.084729   \n",
       "\n",
       "   sales_channel_id  txn_year  txn_mth  txn_day club_member_status  \\\n",
       "0                 2      2019        9       21             ACTIVE   \n",
       "1                 2      2020        5        5             ACTIVE   \n",
       "2                 2      2018       12        7             ACTIVE   \n",
       "3                 2      2020        7       10             ACTIVE   \n",
       "4                 2      2019        1        9             ACTIVE   \n",
       "\n",
       "  fashion_news_frequency   age  \\\n",
       "0              Regularly  19.0   \n",
       "1                   NONE  21.0   \n",
       "2                   NONE  44.0   \n",
       "3              Regularly  32.0   \n",
       "4                   NONE  27.0   \n",
       "\n",
       "                                         postal_code  \n",
       "0  702d1df392896c81a30c5a9973b95bd54461c6e7102f3b...  \n",
       "1  6f8ee6f409a5f27bf98206a2f1468867ebf81594964d73...  \n",
       "2  99e8e6bc69135fd1901e0d5b4c417486d095455b9a4695...  \n",
       "3  2f98648f1578fab086a66308e2b88985dc5ae044aabf3f...  \n",
       "4  8c631676932b24690206e21ab3b639653a4a0714279e24...  "
      ]
     },
     "execution_count": 46,
     "metadata": {},
     "output_type": "execute_result"
    }
   ],
   "source": [
    "df_HM_CustTrxn.head()"
   ]
  },
  {
   "cell_type": "code",
   "execution_count": 47,
   "metadata": {},
   "outputs": [],
   "source": [
    "def encode_Categor_Features(df, col_name):\n",
    "       \n",
    "    # The categorical values in dataframe must be encoded to numberical values\n",
    "    df_encoded_cols = pd.get_dummies(df[col_name])\n",
    "    df_encoded      = df.join(df_encoded_cols)\n",
    "    \n",
    "    # Remove the prior Categorical column from the Articles dataframe\n",
    "    df_encoded.drop([col_name], axis=1, inplace=True)\n",
    "    \n",
    "    # Return the dataframe with encoded columsn added\n",
    "    return df_encoded"
   ]
  },
  {
   "cell_type": "code",
   "execution_count": 48,
   "metadata": {},
   "outputs": [],
   "source": [
    "cust_cols_to_encode = [\"club_member_status\",\"fashion_news_frequency\"]\n",
    "for column_name in cust_cols_to_encode:\n",
    "    df_HM_CustTrxn = encode_Categor_Features(df_HM_CustTrxn, column_name)"
   ]
  },
  {
   "cell_type": "code",
   "execution_count": 49,
   "metadata": {},
   "outputs": [],
   "source": [
    "# Drop Postal Code - a non numerical value that is not easily converted\n",
    "df_HM_CustTrxn.drop([\"postal_code\"], axis=1, inplace=True)"
   ]
  },
  {
   "cell_type": "code",
   "execution_count": 50,
   "metadata": {},
   "outputs": [
    {
     "data": {
      "text/html": [
       "<div>\n",
       "<style scoped>\n",
       "    .dataframe tbody tr th:only-of-type {\n",
       "        vertical-align: middle;\n",
       "    }\n",
       "\n",
       "    .dataframe tbody tr th {\n",
       "        vertical-align: top;\n",
       "    }\n",
       "\n",
       "    .dataframe thead th {\n",
       "        text-align: right;\n",
       "    }\n",
       "</style>\n",
       "<table border=\"1\" class=\"dataframe\">\n",
       "  <thead>\n",
       "    <tr style=\"text-align: right;\">\n",
       "      <th></th>\n",
       "      <th>customer_id</th>\n",
       "      <th>article_id</th>\n",
       "      <th>price</th>\n",
       "      <th>sales_channel_id</th>\n",
       "      <th>txn_year</th>\n",
       "      <th>txn_mth</th>\n",
       "      <th>txn_day</th>\n",
       "      <th>age</th>\n",
       "      <th>ACTIVE</th>\n",
       "      <th>LEFT CLUB</th>\n",
       "      <th>PRE-CREATE</th>\n",
       "      <th>Monthly</th>\n",
       "      <th>NONE</th>\n",
       "      <th>Regularly</th>\n",
       "    </tr>\n",
       "  </thead>\n",
       "  <tbody>\n",
       "    <tr>\n",
       "      <th>0</th>\n",
       "      <td>c35a0bbf71def421fd4f09ef7cccae838a24ce1f7021dd...</td>\n",
       "      <td>456163053</td>\n",
       "      <td>0.033881</td>\n",
       "      <td>2</td>\n",
       "      <td>2019</td>\n",
       "      <td>9</td>\n",
       "      <td>21</td>\n",
       "      <td>19.0</td>\n",
       "      <td>1</td>\n",
       "      <td>0</td>\n",
       "      <td>0</td>\n",
       "      <td>0</td>\n",
       "      <td>0</td>\n",
       "      <td>1</td>\n",
       "    </tr>\n",
       "    <tr>\n",
       "      <th>1</th>\n",
       "      <td>f51c8324e8d26c53f74c4756a1d0768378f838ab8e8b47...</td>\n",
       "      <td>506098016</td>\n",
       "      <td>0.030492</td>\n",
       "      <td>2</td>\n",
       "      <td>2020</td>\n",
       "      <td>5</td>\n",
       "      <td>5</td>\n",
       "      <td>21.0</td>\n",
       "      <td>1</td>\n",
       "      <td>0</td>\n",
       "      <td>0</td>\n",
       "      <td>0</td>\n",
       "      <td>1</td>\n",
       "      <td>0</td>\n",
       "    </tr>\n",
       "    <tr>\n",
       "      <th>2</th>\n",
       "      <td>3ea86ed5f1219380de2cd89af5d272099cf1de25c0cd51...</td>\n",
       "      <td>684688001</td>\n",
       "      <td>0.050831</td>\n",
       "      <td>2</td>\n",
       "      <td>2018</td>\n",
       "      <td>12</td>\n",
       "      <td>7</td>\n",
       "      <td>44.0</td>\n",
       "      <td>1</td>\n",
       "      <td>0</td>\n",
       "      <td>0</td>\n",
       "      <td>0</td>\n",
       "      <td>1</td>\n",
       "      <td>0</td>\n",
       "    </tr>\n",
       "    <tr>\n",
       "      <th>3</th>\n",
       "      <td>3f9c5f30f6b1e4d91b413d5cfc1ae58c766c7b3caa0f6b...</td>\n",
       "      <td>554477037</td>\n",
       "      <td>0.011847</td>\n",
       "      <td>2</td>\n",
       "      <td>2020</td>\n",
       "      <td>7</td>\n",
       "      <td>10</td>\n",
       "      <td>32.0</td>\n",
       "      <td>1</td>\n",
       "      <td>0</td>\n",
       "      <td>0</td>\n",
       "      <td>0</td>\n",
       "      <td>0</td>\n",
       "      <td>1</td>\n",
       "    </tr>\n",
       "    <tr>\n",
       "      <th>4</th>\n",
       "      <td>ab98977fcc0757ed8323776193b2b808c09da6c1ae8d0f...</td>\n",
       "      <td>669806001</td>\n",
       "      <td>0.084729</td>\n",
       "      <td>2</td>\n",
       "      <td>2019</td>\n",
       "      <td>1</td>\n",
       "      <td>9</td>\n",
       "      <td>27.0</td>\n",
       "      <td>1</td>\n",
       "      <td>0</td>\n",
       "      <td>0</td>\n",
       "      <td>0</td>\n",
       "      <td>1</td>\n",
       "      <td>0</td>\n",
       "    </tr>\n",
       "  </tbody>\n",
       "</table>\n",
       "</div>"
      ],
      "text/plain": [
       "                                         customer_id  article_id     price  \\\n",
       "0  c35a0bbf71def421fd4f09ef7cccae838a24ce1f7021dd...   456163053  0.033881   \n",
       "1  f51c8324e8d26c53f74c4756a1d0768378f838ab8e8b47...   506098016  0.030492   \n",
       "2  3ea86ed5f1219380de2cd89af5d272099cf1de25c0cd51...   684688001  0.050831   \n",
       "3  3f9c5f30f6b1e4d91b413d5cfc1ae58c766c7b3caa0f6b...   554477037  0.011847   \n",
       "4  ab98977fcc0757ed8323776193b2b808c09da6c1ae8d0f...   669806001  0.084729   \n",
       "\n",
       "   sales_channel_id  txn_year  txn_mth  txn_day   age  ACTIVE  LEFT CLUB  \\\n",
       "0                 2      2019        9       21  19.0       1          0   \n",
       "1                 2      2020        5        5  21.0       1          0   \n",
       "2                 2      2018       12        7  44.0       1          0   \n",
       "3                 2      2020        7       10  32.0       1          0   \n",
       "4                 2      2019        1        9  27.0       1          0   \n",
       "\n",
       "   PRE-CREATE  Monthly  NONE  Regularly  \n",
       "0           0        0     0          1  \n",
       "1           0        0     1          0  \n",
       "2           0        0     1          0  \n",
       "3           0        0     0          1  \n",
       "4           0        0     1          0  "
      ]
     },
     "execution_count": 50,
     "metadata": {},
     "output_type": "execute_result"
    }
   ],
   "source": [
    "# Display basic column information for the initial Kaggle 'article' datatset - after Sampling of original dataset\n",
    "df_HM_CustTrxn.head()"
   ]
  },
  {
   "cell_type": "code",
   "execution_count": 51,
   "metadata": {},
   "outputs": [
    {
     "name": "stdout",
     "output_type": "stream",
     "text": [
      "\n",
      "Current Number of Rows/Columns in Trxn/Customer dataframe - after encoding of categorical values completed \n",
      " (1573636, 14)\n"
     ]
    },
    {
     "data": {
      "text/plain": [
       "[None]"
      ]
     },
     "execution_count": 51,
     "metadata": {},
     "output_type": "execute_result"
    }
   ],
   "source": [
    "# Confirm dimensions of Trxn (sample) dataframe AFTER encoding Categorical Values\n",
    "[print('\\nCurrent Number of Rows/Columns in Trxn/Customer dataframe - after encoding of categorical values completed','\\n' ,\n",
    "                                                                                                   df_HM_CustTrxn.shape)]"
   ]
  },
  {
   "cell_type": "code",
   "execution_count": 52,
   "metadata": {},
   "outputs": [
    {
     "name": "stdout",
     "output_type": "stream",
     "text": [
      "Any Null Values in the merged Trxn/Customer (sample) dataframe? \n",
      " customer_id         False\n",
      "article_id          False\n",
      "price               False\n",
      "sales_channel_id    False\n",
      "txn_year            False\n",
      "txn_mth             False\n",
      "txn_day             False\n",
      "age                 False\n",
      "ACTIVE              False\n",
      "LEFT CLUB           False\n",
      "PRE-CREATE          False\n",
      "Monthly             False\n",
      "NONE                False\n",
      "Regularly           False\n",
      "dtype: bool\n"
     ]
    },
    {
     "data": {
      "text/plain": [
       "[None]"
      ]
     },
     "execution_count": 52,
     "metadata": {},
     "output_type": "execute_result"
    }
   ],
   "source": [
    "# Check for null values in the Transaction Dataframe\n",
    "[print('Any Null Values in the merged Trxn/Customer (sample) dataframe?','\\n' ,df_HM_CustTrxn.isnull().any())]"
   ]
  },
  {
   "cell_type": "markdown",
   "metadata": {},
   "source": [
    "#### Extend Dataframe with Articles Data"
   ]
  },
  {
   "cell_type": "markdown",
   "metadata": {},
   "source": [
    "#### Remove 'Redundant' Categorical Columns in Articles (sample) Dataframe. <a class=\"tocSkip\">"
   ]
  },
  {
   "cell_type": "code",
   "execution_count": 53,
   "metadata": {},
   "outputs": [
    {
     "data": {
      "text/html": [
       "<div>\n",
       "<style scoped>\n",
       "    .dataframe tbody tr th:only-of-type {\n",
       "        vertical-align: middle;\n",
       "    }\n",
       "\n",
       "    .dataframe tbody tr th {\n",
       "        vertical-align: top;\n",
       "    }\n",
       "\n",
       "    .dataframe thead th {\n",
       "        text-align: right;\n",
       "    }\n",
       "</style>\n",
       "<table border=\"1\" class=\"dataframe\">\n",
       "  <thead>\n",
       "    <tr style=\"text-align: right;\">\n",
       "      <th></th>\n",
       "      <th>article_id</th>\n",
       "      <th>product_code</th>\n",
       "      <th>prod_name</th>\n",
       "      <th>product_type_no</th>\n",
       "      <th>product_type_name</th>\n",
       "      <th>product_group_name</th>\n",
       "      <th>graphical_appearance_no</th>\n",
       "      <th>graphical_appearance_name</th>\n",
       "      <th>colour_group_code</th>\n",
       "      <th>colour_group_name</th>\n",
       "      <th>...</th>\n",
       "      <th>department_name</th>\n",
       "      <th>index_code</th>\n",
       "      <th>index_name</th>\n",
       "      <th>index_group_no</th>\n",
       "      <th>index_group_name</th>\n",
       "      <th>section_no</th>\n",
       "      <th>section_name</th>\n",
       "      <th>garment_group_no</th>\n",
       "      <th>garment_group_name</th>\n",
       "      <th>detail_desc</th>\n",
       "    </tr>\n",
       "  </thead>\n",
       "  <tbody>\n",
       "    <tr>\n",
       "      <th>0</th>\n",
       "      <td>108775015</td>\n",
       "      <td>108775</td>\n",
       "      <td>Strap top</td>\n",
       "      <td>253</td>\n",
       "      <td>Vest top</td>\n",
       "      <td>Garment Upper body</td>\n",
       "      <td>1010016</td>\n",
       "      <td>Solid</td>\n",
       "      <td>9</td>\n",
       "      <td>Black</td>\n",
       "      <td>...</td>\n",
       "      <td>Jersey Basic</td>\n",
       "      <td>A</td>\n",
       "      <td>Ladieswear</td>\n",
       "      <td>1</td>\n",
       "      <td>Ladieswear</td>\n",
       "      <td>16</td>\n",
       "      <td>Womens Everyday Basics</td>\n",
       "      <td>1002</td>\n",
       "      <td>Jersey Basic</td>\n",
       "      <td>Jersey top with narrow shoulder straps.</td>\n",
       "    </tr>\n",
       "    <tr>\n",
       "      <th>1</th>\n",
       "      <td>108775044</td>\n",
       "      <td>108775</td>\n",
       "      <td>Strap top</td>\n",
       "      <td>253</td>\n",
       "      <td>Vest top</td>\n",
       "      <td>Garment Upper body</td>\n",
       "      <td>1010016</td>\n",
       "      <td>Solid</td>\n",
       "      <td>10</td>\n",
       "      <td>White</td>\n",
       "      <td>...</td>\n",
       "      <td>Jersey Basic</td>\n",
       "      <td>A</td>\n",
       "      <td>Ladieswear</td>\n",
       "      <td>1</td>\n",
       "      <td>Ladieswear</td>\n",
       "      <td>16</td>\n",
       "      <td>Womens Everyday Basics</td>\n",
       "      <td>1002</td>\n",
       "      <td>Jersey Basic</td>\n",
       "      <td>Jersey top with narrow shoulder straps.</td>\n",
       "    </tr>\n",
       "    <tr>\n",
       "      <th>2</th>\n",
       "      <td>108775051</td>\n",
       "      <td>108775</td>\n",
       "      <td>Strap top (1)</td>\n",
       "      <td>253</td>\n",
       "      <td>Vest top</td>\n",
       "      <td>Garment Upper body</td>\n",
       "      <td>1010017</td>\n",
       "      <td>Stripe</td>\n",
       "      <td>11</td>\n",
       "      <td>Off White</td>\n",
       "      <td>...</td>\n",
       "      <td>Jersey Basic</td>\n",
       "      <td>A</td>\n",
       "      <td>Ladieswear</td>\n",
       "      <td>1</td>\n",
       "      <td>Ladieswear</td>\n",
       "      <td>16</td>\n",
       "      <td>Womens Everyday Basics</td>\n",
       "      <td>1002</td>\n",
       "      <td>Jersey Basic</td>\n",
       "      <td>Jersey top with narrow shoulder straps.</td>\n",
       "    </tr>\n",
       "    <tr>\n",
       "      <th>3</th>\n",
       "      <td>110065001</td>\n",
       "      <td>110065</td>\n",
       "      <td>OP T-shirt (Idro)</td>\n",
       "      <td>306</td>\n",
       "      <td>Bra</td>\n",
       "      <td>Underwear</td>\n",
       "      <td>1010016</td>\n",
       "      <td>Solid</td>\n",
       "      <td>9</td>\n",
       "      <td>Black</td>\n",
       "      <td>...</td>\n",
       "      <td>Clean Lingerie</td>\n",
       "      <td>B</td>\n",
       "      <td>Lingeries/Tights</td>\n",
       "      <td>1</td>\n",
       "      <td>Ladieswear</td>\n",
       "      <td>61</td>\n",
       "      <td>Womens Lingerie</td>\n",
       "      <td>1017</td>\n",
       "      <td>Under-, Nightwear</td>\n",
       "      <td>Microfibre T-shirt bra with underwired, moulde...</td>\n",
       "    </tr>\n",
       "    <tr>\n",
       "      <th>4</th>\n",
       "      <td>110065002</td>\n",
       "      <td>110065</td>\n",
       "      <td>OP T-shirt (Idro)</td>\n",
       "      <td>306</td>\n",
       "      <td>Bra</td>\n",
       "      <td>Underwear</td>\n",
       "      <td>1010016</td>\n",
       "      <td>Solid</td>\n",
       "      <td>10</td>\n",
       "      <td>White</td>\n",
       "      <td>...</td>\n",
       "      <td>Clean Lingerie</td>\n",
       "      <td>B</td>\n",
       "      <td>Lingeries/Tights</td>\n",
       "      <td>1</td>\n",
       "      <td>Ladieswear</td>\n",
       "      <td>61</td>\n",
       "      <td>Womens Lingerie</td>\n",
       "      <td>1017</td>\n",
       "      <td>Under-, Nightwear</td>\n",
       "      <td>Microfibre T-shirt bra with underwired, moulde...</td>\n",
       "    </tr>\n",
       "  </tbody>\n",
       "</table>\n",
       "<p>5 rows × 25 columns</p>\n",
       "</div>"
      ],
      "text/plain": [
       "   article_id  product_code          prod_name  product_type_no  \\\n",
       "0   108775015        108775          Strap top              253   \n",
       "1   108775044        108775          Strap top              253   \n",
       "2   108775051        108775      Strap top (1)              253   \n",
       "3   110065001        110065  OP T-shirt (Idro)              306   \n",
       "4   110065002        110065  OP T-shirt (Idro)              306   \n",
       "\n",
       "  product_type_name  product_group_name  graphical_appearance_no  \\\n",
       "0          Vest top  Garment Upper body                  1010016   \n",
       "1          Vest top  Garment Upper body                  1010016   \n",
       "2          Vest top  Garment Upper body                  1010017   \n",
       "3               Bra           Underwear                  1010016   \n",
       "4               Bra           Underwear                  1010016   \n",
       "\n",
       "  graphical_appearance_name  colour_group_code colour_group_name  ...  \\\n",
       "0                     Solid                  9             Black  ...   \n",
       "1                     Solid                 10             White  ...   \n",
       "2                    Stripe                 11         Off White  ...   \n",
       "3                     Solid                  9             Black  ...   \n",
       "4                     Solid                 10             White  ...   \n",
       "\n",
       "   department_name index_code        index_name index_group_no  \\\n",
       "0     Jersey Basic          A        Ladieswear              1   \n",
       "1     Jersey Basic          A        Ladieswear              1   \n",
       "2     Jersey Basic          A        Ladieswear              1   \n",
       "3   Clean Lingerie          B  Lingeries/Tights              1   \n",
       "4   Clean Lingerie          B  Lingeries/Tights              1   \n",
       "\n",
       "   index_group_name section_no            section_name garment_group_no  \\\n",
       "0        Ladieswear         16  Womens Everyday Basics             1002   \n",
       "1        Ladieswear         16  Womens Everyday Basics             1002   \n",
       "2        Ladieswear         16  Womens Everyday Basics             1002   \n",
       "3        Ladieswear         61         Womens Lingerie             1017   \n",
       "4        Ladieswear         61         Womens Lingerie             1017   \n",
       "\n",
       "   garment_group_name                                        detail_desc  \n",
       "0        Jersey Basic            Jersey top with narrow shoulder straps.  \n",
       "1        Jersey Basic            Jersey top with narrow shoulder straps.  \n",
       "2        Jersey Basic            Jersey top with narrow shoulder straps.  \n",
       "3   Under-, Nightwear  Microfibre T-shirt bra with underwired, moulde...  \n",
       "4   Under-, Nightwear  Microfibre T-shirt bra with underwired, moulde...  \n",
       "\n",
       "[5 rows x 25 columns]"
      ]
     },
     "execution_count": 53,
     "metadata": {},
     "output_type": "execute_result"
    }
   ],
   "source": [
    "# Display basic column information for the initial Kaggle 'article' datatset - after Sampling of original dataset\n",
    "df_articles_sample.head()"
   ]
  },
  {
   "cell_type": "code",
   "execution_count": 54,
   "metadata": {},
   "outputs": [],
   "source": [
    "# Remove 'redundant' categotical columns from Articles (sample) dataframe\n",
    "# Consider a categorical column Redundant when is 'partnered' with a numerical code \n",
    "df_articles_sample.drop([\"prod_name\", \n",
    "                         \"product_type_name\", \n",
    "                         \"graphical_appearance_name\",\n",
    "                         \"colour_group_name\",\n",
    "                         \"perceived_colour_value_name\",\n",
    "                         \"perceived_colour_master_name\",\n",
    "                         \"department_name\",\n",
    "                         \"index_name\",\n",
    "                         \"index_group_name\",\n",
    "                         \"section_name\",\n",
    "                         \"garment_group_name\",\n",
    "                         \"detail_desc\"], axis=1, inplace=True)"
   ]
  },
  {
   "cell_type": "code",
   "execution_count": 55,
   "metadata": {},
   "outputs": [
    {
     "data": {
      "text/html": [
       "<div>\n",
       "<style scoped>\n",
       "    .dataframe tbody tr th:only-of-type {\n",
       "        vertical-align: middle;\n",
       "    }\n",
       "\n",
       "    .dataframe tbody tr th {\n",
       "        vertical-align: top;\n",
       "    }\n",
       "\n",
       "    .dataframe thead th {\n",
       "        text-align: right;\n",
       "    }\n",
       "</style>\n",
       "<table border=\"1\" class=\"dataframe\">\n",
       "  <thead>\n",
       "    <tr style=\"text-align: right;\">\n",
       "      <th></th>\n",
       "      <th>article_id</th>\n",
       "      <th>product_code</th>\n",
       "      <th>product_type_no</th>\n",
       "      <th>product_group_name</th>\n",
       "      <th>graphical_appearance_no</th>\n",
       "      <th>colour_group_code</th>\n",
       "      <th>perceived_colour_value_id</th>\n",
       "      <th>perceived_colour_master_id</th>\n",
       "      <th>department_no</th>\n",
       "      <th>index_code</th>\n",
       "      <th>index_group_no</th>\n",
       "      <th>section_no</th>\n",
       "      <th>garment_group_no</th>\n",
       "    </tr>\n",
       "  </thead>\n",
       "  <tbody>\n",
       "    <tr>\n",
       "      <th>0</th>\n",
       "      <td>108775015</td>\n",
       "      <td>108775</td>\n",
       "      <td>253</td>\n",
       "      <td>Garment Upper body</td>\n",
       "      <td>1010016</td>\n",
       "      <td>9</td>\n",
       "      <td>4</td>\n",
       "      <td>5</td>\n",
       "      <td>1676</td>\n",
       "      <td>A</td>\n",
       "      <td>1</td>\n",
       "      <td>16</td>\n",
       "      <td>1002</td>\n",
       "    </tr>\n",
       "    <tr>\n",
       "      <th>1</th>\n",
       "      <td>108775044</td>\n",
       "      <td>108775</td>\n",
       "      <td>253</td>\n",
       "      <td>Garment Upper body</td>\n",
       "      <td>1010016</td>\n",
       "      <td>10</td>\n",
       "      <td>3</td>\n",
       "      <td>9</td>\n",
       "      <td>1676</td>\n",
       "      <td>A</td>\n",
       "      <td>1</td>\n",
       "      <td>16</td>\n",
       "      <td>1002</td>\n",
       "    </tr>\n",
       "    <tr>\n",
       "      <th>2</th>\n",
       "      <td>108775051</td>\n",
       "      <td>108775</td>\n",
       "      <td>253</td>\n",
       "      <td>Garment Upper body</td>\n",
       "      <td>1010017</td>\n",
       "      <td>11</td>\n",
       "      <td>1</td>\n",
       "      <td>9</td>\n",
       "      <td>1676</td>\n",
       "      <td>A</td>\n",
       "      <td>1</td>\n",
       "      <td>16</td>\n",
       "      <td>1002</td>\n",
       "    </tr>\n",
       "    <tr>\n",
       "      <th>3</th>\n",
       "      <td>110065001</td>\n",
       "      <td>110065</td>\n",
       "      <td>306</td>\n",
       "      <td>Underwear</td>\n",
       "      <td>1010016</td>\n",
       "      <td>9</td>\n",
       "      <td>4</td>\n",
       "      <td>5</td>\n",
       "      <td>1339</td>\n",
       "      <td>B</td>\n",
       "      <td>1</td>\n",
       "      <td>61</td>\n",
       "      <td>1017</td>\n",
       "    </tr>\n",
       "    <tr>\n",
       "      <th>4</th>\n",
       "      <td>110065002</td>\n",
       "      <td>110065</td>\n",
       "      <td>306</td>\n",
       "      <td>Underwear</td>\n",
       "      <td>1010016</td>\n",
       "      <td>10</td>\n",
       "      <td>3</td>\n",
       "      <td>9</td>\n",
       "      <td>1339</td>\n",
       "      <td>B</td>\n",
       "      <td>1</td>\n",
       "      <td>61</td>\n",
       "      <td>1017</td>\n",
       "    </tr>\n",
       "  </tbody>\n",
       "</table>\n",
       "</div>"
      ],
      "text/plain": [
       "   article_id  product_code  product_type_no  product_group_name  \\\n",
       "0   108775015        108775              253  Garment Upper body   \n",
       "1   108775044        108775              253  Garment Upper body   \n",
       "2   108775051        108775              253  Garment Upper body   \n",
       "3   110065001        110065              306           Underwear   \n",
       "4   110065002        110065              306           Underwear   \n",
       "\n",
       "   graphical_appearance_no  colour_group_code  perceived_colour_value_id  \\\n",
       "0                  1010016                  9                          4   \n",
       "1                  1010016                 10                          3   \n",
       "2                  1010017                 11                          1   \n",
       "3                  1010016                  9                          4   \n",
       "4                  1010016                 10                          3   \n",
       "\n",
       "   perceived_colour_master_id  department_no index_code  index_group_no  \\\n",
       "0                           5           1676          A               1   \n",
       "1                           9           1676          A               1   \n",
       "2                           9           1676          A               1   \n",
       "3                           5           1339          B               1   \n",
       "4                           9           1339          B               1   \n",
       "\n",
       "   section_no  garment_group_no  \n",
       "0          16              1002  \n",
       "1          16              1002  \n",
       "2          16              1002  \n",
       "3          61              1017  \n",
       "4          61              1017  "
      ]
     },
     "execution_count": 55,
     "metadata": {},
     "output_type": "execute_result"
    }
   ],
   "source": [
    "# Display basic column information for the initial Kaggle 'article' datatset - after Sampling of original dataset\n",
    "df_articles_sample.head()"
   ]
  },
  {
   "cell_type": "markdown",
   "metadata": {},
   "source": [
    "#### Use One-Hot-Encoding on remaining categorical columns. <a class=\"tocSkip\">"
   ]
  },
  {
   "cell_type": "code",
   "execution_count": 56,
   "metadata": {},
   "outputs": [],
   "source": [
    "article_cols_to_encode =['product_group_name', 'index_code']\n",
    "for column_name in article_cols_to_encode:\n",
    "    df_articles_sample = encode_Categor_Features(df_articles_sample, column_name)"
   ]
  },
  {
   "cell_type": "code",
   "execution_count": 57,
   "metadata": {},
   "outputs": [
    {
     "data": {
      "text/plain": [
       "(78283, 40)"
      ]
     },
     "execution_count": 57,
     "metadata": {},
     "output_type": "execute_result"
    }
   ],
   "source": [
    "df_articles_sample.shape"
   ]
  },
  {
   "cell_type": "code",
   "execution_count": 58,
   "metadata": {},
   "outputs": [
    {
     "data": {
      "text/html": [
       "<div>\n",
       "<style scoped>\n",
       "    .dataframe tbody tr th:only-of-type {\n",
       "        vertical-align: middle;\n",
       "    }\n",
       "\n",
       "    .dataframe tbody tr th {\n",
       "        vertical-align: top;\n",
       "    }\n",
       "\n",
       "    .dataframe thead th {\n",
       "        text-align: right;\n",
       "    }\n",
       "</style>\n",
       "<table border=\"1\" class=\"dataframe\">\n",
       "  <thead>\n",
       "    <tr style=\"text-align: right;\">\n",
       "      <th></th>\n",
       "      <th>article_id</th>\n",
       "      <th>product_code</th>\n",
       "      <th>product_type_no</th>\n",
       "      <th>graphical_appearance_no</th>\n",
       "      <th>colour_group_code</th>\n",
       "      <th>perceived_colour_value_id</th>\n",
       "      <th>perceived_colour_master_id</th>\n",
       "      <th>department_no</th>\n",
       "      <th>index_group_no</th>\n",
       "      <th>section_no</th>\n",
       "      <th>...</th>\n",
       "      <th>A</th>\n",
       "      <th>B</th>\n",
       "      <th>C</th>\n",
       "      <th>D</th>\n",
       "      <th>F</th>\n",
       "      <th>G</th>\n",
       "      <th>H</th>\n",
       "      <th>I</th>\n",
       "      <th>J</th>\n",
       "      <th>S</th>\n",
       "    </tr>\n",
       "  </thead>\n",
       "  <tbody>\n",
       "    <tr>\n",
       "      <th>0</th>\n",
       "      <td>108775015</td>\n",
       "      <td>108775</td>\n",
       "      <td>253</td>\n",
       "      <td>1010016</td>\n",
       "      <td>9</td>\n",
       "      <td>4</td>\n",
       "      <td>5</td>\n",
       "      <td>1676</td>\n",
       "      <td>1</td>\n",
       "      <td>16</td>\n",
       "      <td>...</td>\n",
       "      <td>1</td>\n",
       "      <td>0</td>\n",
       "      <td>0</td>\n",
       "      <td>0</td>\n",
       "      <td>0</td>\n",
       "      <td>0</td>\n",
       "      <td>0</td>\n",
       "      <td>0</td>\n",
       "      <td>0</td>\n",
       "      <td>0</td>\n",
       "    </tr>\n",
       "    <tr>\n",
       "      <th>1</th>\n",
       "      <td>108775044</td>\n",
       "      <td>108775</td>\n",
       "      <td>253</td>\n",
       "      <td>1010016</td>\n",
       "      <td>10</td>\n",
       "      <td>3</td>\n",
       "      <td>9</td>\n",
       "      <td>1676</td>\n",
       "      <td>1</td>\n",
       "      <td>16</td>\n",
       "      <td>...</td>\n",
       "      <td>1</td>\n",
       "      <td>0</td>\n",
       "      <td>0</td>\n",
       "      <td>0</td>\n",
       "      <td>0</td>\n",
       "      <td>0</td>\n",
       "      <td>0</td>\n",
       "      <td>0</td>\n",
       "      <td>0</td>\n",
       "      <td>0</td>\n",
       "    </tr>\n",
       "    <tr>\n",
       "      <th>2</th>\n",
       "      <td>108775051</td>\n",
       "      <td>108775</td>\n",
       "      <td>253</td>\n",
       "      <td>1010017</td>\n",
       "      <td>11</td>\n",
       "      <td>1</td>\n",
       "      <td>9</td>\n",
       "      <td>1676</td>\n",
       "      <td>1</td>\n",
       "      <td>16</td>\n",
       "      <td>...</td>\n",
       "      <td>1</td>\n",
       "      <td>0</td>\n",
       "      <td>0</td>\n",
       "      <td>0</td>\n",
       "      <td>0</td>\n",
       "      <td>0</td>\n",
       "      <td>0</td>\n",
       "      <td>0</td>\n",
       "      <td>0</td>\n",
       "      <td>0</td>\n",
       "    </tr>\n",
       "    <tr>\n",
       "      <th>3</th>\n",
       "      <td>110065001</td>\n",
       "      <td>110065</td>\n",
       "      <td>306</td>\n",
       "      <td>1010016</td>\n",
       "      <td>9</td>\n",
       "      <td>4</td>\n",
       "      <td>5</td>\n",
       "      <td>1339</td>\n",
       "      <td>1</td>\n",
       "      <td>61</td>\n",
       "      <td>...</td>\n",
       "      <td>0</td>\n",
       "      <td>1</td>\n",
       "      <td>0</td>\n",
       "      <td>0</td>\n",
       "      <td>0</td>\n",
       "      <td>0</td>\n",
       "      <td>0</td>\n",
       "      <td>0</td>\n",
       "      <td>0</td>\n",
       "      <td>0</td>\n",
       "    </tr>\n",
       "    <tr>\n",
       "      <th>4</th>\n",
       "      <td>110065002</td>\n",
       "      <td>110065</td>\n",
       "      <td>306</td>\n",
       "      <td>1010016</td>\n",
       "      <td>10</td>\n",
       "      <td>3</td>\n",
       "      <td>9</td>\n",
       "      <td>1339</td>\n",
       "      <td>1</td>\n",
       "      <td>61</td>\n",
       "      <td>...</td>\n",
       "      <td>0</td>\n",
       "      <td>1</td>\n",
       "      <td>0</td>\n",
       "      <td>0</td>\n",
       "      <td>0</td>\n",
       "      <td>0</td>\n",
       "      <td>0</td>\n",
       "      <td>0</td>\n",
       "      <td>0</td>\n",
       "      <td>0</td>\n",
       "    </tr>\n",
       "  </tbody>\n",
       "</table>\n",
       "<p>5 rows × 40 columns</p>\n",
       "</div>"
      ],
      "text/plain": [
       "   article_id  product_code  product_type_no  graphical_appearance_no  \\\n",
       "0   108775015        108775              253                  1010016   \n",
       "1   108775044        108775              253                  1010016   \n",
       "2   108775051        108775              253                  1010017   \n",
       "3   110065001        110065              306                  1010016   \n",
       "4   110065002        110065              306                  1010016   \n",
       "\n",
       "   colour_group_code  perceived_colour_value_id  perceived_colour_master_id  \\\n",
       "0                  9                          4                           5   \n",
       "1                 10                          3                           9   \n",
       "2                 11                          1                           9   \n",
       "3                  9                          4                           5   \n",
       "4                 10                          3                           9   \n",
       "\n",
       "   department_no  index_group_no  section_no  ...  A  B  C  D  F  G  H  I  J  \\\n",
       "0           1676               1          16  ...  1  0  0  0  0  0  0  0  0   \n",
       "1           1676               1          16  ...  1  0  0  0  0  0  0  0  0   \n",
       "2           1676               1          16  ...  1  0  0  0  0  0  0  0  0   \n",
       "3           1339               1          61  ...  0  1  0  0  0  0  0  0  0   \n",
       "4           1339               1          61  ...  0  1  0  0  0  0  0  0  0   \n",
       "\n",
       "   S  \n",
       "0  0  \n",
       "1  0  \n",
       "2  0  \n",
       "3  0  \n",
       "4  0  \n",
       "\n",
       "[5 rows x 40 columns]"
      ]
     },
     "execution_count": 58,
     "metadata": {},
     "output_type": "execute_result"
    }
   ],
   "source": [
    "# Display basic column information for sampled articles dataframe after encoding\n",
    "df_articles_sample.head()"
   ]
  },
  {
   "cell_type": "markdown",
   "metadata": {},
   "source": [
    "#### Merge Trxn/Customers Dataframe with Articles Dataframe (sample). <a class=\"tocSkip\">"
   ]
  },
  {
   "cell_type": "code",
   "execution_count": 59,
   "metadata": {},
   "outputs": [],
   "source": [
    "# Merge Articles atributes from the Articles dataset based on a join with the 'article_id' field\n",
    "df_HM_CustTrxnArtcls = pd.merge(df_HM_CustTrxn, df_articles_sample, how=\"left\", on=[\"article_id\"])"
   ]
  },
  {
   "cell_type": "code",
   "execution_count": 60,
   "metadata": {},
   "outputs": [
    {
     "data": {
      "text/plain": [
       "(1573636, 53)"
      ]
     },
     "execution_count": 60,
     "metadata": {},
     "output_type": "execute_result"
    }
   ],
   "source": [
    "# Confirm dimensions of Trxn (sample) dataframe AFTER merging with Articles data\n",
    "df_HM_CustTrxnArtcls.shape"
   ]
  },
  {
   "cell_type": "code",
   "execution_count": 61,
   "metadata": {},
   "outputs": [
    {
     "data": {
      "text/html": [
       "<div>\n",
       "<style scoped>\n",
       "    .dataframe tbody tr th:only-of-type {\n",
       "        vertical-align: middle;\n",
       "    }\n",
       "\n",
       "    .dataframe tbody tr th {\n",
       "        vertical-align: top;\n",
       "    }\n",
       "\n",
       "    .dataframe thead th {\n",
       "        text-align: right;\n",
       "    }\n",
       "</style>\n",
       "<table border=\"1\" class=\"dataframe\">\n",
       "  <thead>\n",
       "    <tr style=\"text-align: right;\">\n",
       "      <th></th>\n",
       "      <th>customer_id</th>\n",
       "      <th>article_id</th>\n",
       "      <th>price</th>\n",
       "      <th>sales_channel_id</th>\n",
       "      <th>txn_year</th>\n",
       "      <th>txn_mth</th>\n",
       "      <th>txn_day</th>\n",
       "      <th>age</th>\n",
       "      <th>ACTIVE</th>\n",
       "      <th>LEFT CLUB</th>\n",
       "      <th>...</th>\n",
       "      <th>A</th>\n",
       "      <th>B</th>\n",
       "      <th>C</th>\n",
       "      <th>D</th>\n",
       "      <th>F</th>\n",
       "      <th>G</th>\n",
       "      <th>H</th>\n",
       "      <th>I</th>\n",
       "      <th>J</th>\n",
       "      <th>S</th>\n",
       "    </tr>\n",
       "  </thead>\n",
       "  <tbody>\n",
       "    <tr>\n",
       "      <th>0</th>\n",
       "      <td>c35a0bbf71def421fd4f09ef7cccae838a24ce1f7021dd...</td>\n",
       "      <td>456163053</td>\n",
       "      <td>0.033881</td>\n",
       "      <td>2</td>\n",
       "      <td>2019</td>\n",
       "      <td>9</td>\n",
       "      <td>21</td>\n",
       "      <td>19.0</td>\n",
       "      <td>1</td>\n",
       "      <td>0</td>\n",
       "      <td>...</td>\n",
       "      <td>1</td>\n",
       "      <td>0</td>\n",
       "      <td>0</td>\n",
       "      <td>0</td>\n",
       "      <td>0</td>\n",
       "      <td>0</td>\n",
       "      <td>0</td>\n",
       "      <td>0</td>\n",
       "      <td>0</td>\n",
       "      <td>0</td>\n",
       "    </tr>\n",
       "    <tr>\n",
       "      <th>1</th>\n",
       "      <td>f51c8324e8d26c53f74c4756a1d0768378f838ab8e8b47...</td>\n",
       "      <td>506098016</td>\n",
       "      <td>0.030492</td>\n",
       "      <td>2</td>\n",
       "      <td>2020</td>\n",
       "      <td>5</td>\n",
       "      <td>5</td>\n",
       "      <td>21.0</td>\n",
       "      <td>1</td>\n",
       "      <td>0</td>\n",
       "      <td>...</td>\n",
       "      <td>0</td>\n",
       "      <td>1</td>\n",
       "      <td>0</td>\n",
       "      <td>0</td>\n",
       "      <td>0</td>\n",
       "      <td>0</td>\n",
       "      <td>0</td>\n",
       "      <td>0</td>\n",
       "      <td>0</td>\n",
       "      <td>0</td>\n",
       "    </tr>\n",
       "    <tr>\n",
       "      <th>2</th>\n",
       "      <td>3ea86ed5f1219380de2cd89af5d272099cf1de25c0cd51...</td>\n",
       "      <td>684688001</td>\n",
       "      <td>0.050831</td>\n",
       "      <td>2</td>\n",
       "      <td>2018</td>\n",
       "      <td>12</td>\n",
       "      <td>7</td>\n",
       "      <td>44.0</td>\n",
       "      <td>1</td>\n",
       "      <td>0</td>\n",
       "      <td>...</td>\n",
       "      <td>0</td>\n",
       "      <td>1</td>\n",
       "      <td>0</td>\n",
       "      <td>0</td>\n",
       "      <td>0</td>\n",
       "      <td>0</td>\n",
       "      <td>0</td>\n",
       "      <td>0</td>\n",
       "      <td>0</td>\n",
       "      <td>0</td>\n",
       "    </tr>\n",
       "    <tr>\n",
       "      <th>3</th>\n",
       "      <td>3f9c5f30f6b1e4d91b413d5cfc1ae58c766c7b3caa0f6b...</td>\n",
       "      <td>554477037</td>\n",
       "      <td>0.011847</td>\n",
       "      <td>2</td>\n",
       "      <td>2020</td>\n",
       "      <td>7</td>\n",
       "      <td>10</td>\n",
       "      <td>32.0</td>\n",
       "      <td>1</td>\n",
       "      <td>0</td>\n",
       "      <td>...</td>\n",
       "      <td>0</td>\n",
       "      <td>0</td>\n",
       "      <td>0</td>\n",
       "      <td>1</td>\n",
       "      <td>0</td>\n",
       "      <td>0</td>\n",
       "      <td>0</td>\n",
       "      <td>0</td>\n",
       "      <td>0</td>\n",
       "      <td>0</td>\n",
       "    </tr>\n",
       "    <tr>\n",
       "      <th>4</th>\n",
       "      <td>ab98977fcc0757ed8323776193b2b808c09da6c1ae8d0f...</td>\n",
       "      <td>669806001</td>\n",
       "      <td>0.084729</td>\n",
       "      <td>2</td>\n",
       "      <td>2019</td>\n",
       "      <td>1</td>\n",
       "      <td>9</td>\n",
       "      <td>27.0</td>\n",
       "      <td>1</td>\n",
       "      <td>0</td>\n",
       "      <td>...</td>\n",
       "      <td>0</td>\n",
       "      <td>0</td>\n",
       "      <td>0</td>\n",
       "      <td>1</td>\n",
       "      <td>0</td>\n",
       "      <td>0</td>\n",
       "      <td>0</td>\n",
       "      <td>0</td>\n",
       "      <td>0</td>\n",
       "      <td>0</td>\n",
       "    </tr>\n",
       "  </tbody>\n",
       "</table>\n",
       "<p>5 rows × 53 columns</p>\n",
       "</div>"
      ],
      "text/plain": [
       "                                         customer_id  article_id     price  \\\n",
       "0  c35a0bbf71def421fd4f09ef7cccae838a24ce1f7021dd...   456163053  0.033881   \n",
       "1  f51c8324e8d26c53f74c4756a1d0768378f838ab8e8b47...   506098016  0.030492   \n",
       "2  3ea86ed5f1219380de2cd89af5d272099cf1de25c0cd51...   684688001  0.050831   \n",
       "3  3f9c5f30f6b1e4d91b413d5cfc1ae58c766c7b3caa0f6b...   554477037  0.011847   \n",
       "4  ab98977fcc0757ed8323776193b2b808c09da6c1ae8d0f...   669806001  0.084729   \n",
       "\n",
       "   sales_channel_id  txn_year  txn_mth  txn_day   age  ACTIVE  LEFT CLUB  ...  \\\n",
       "0                 2      2019        9       21  19.0       1          0  ...   \n",
       "1                 2      2020        5        5  21.0       1          0  ...   \n",
       "2                 2      2018       12        7  44.0       1          0  ...   \n",
       "3                 2      2020        7       10  32.0       1          0  ...   \n",
       "4                 2      2019        1        9  27.0       1          0  ...   \n",
       "\n",
       "   A  B  C  D  F  G  H  I  J  S  \n",
       "0  1  0  0  0  0  0  0  0  0  0  \n",
       "1  0  1  0  0  0  0  0  0  0  0  \n",
       "2  0  1  0  0  0  0  0  0  0  0  \n",
       "3  0  0  0  1  0  0  0  0  0  0  \n",
       "4  0  0  0  1  0  0  0  0  0  0  \n",
       "\n",
       "[5 rows x 53 columns]"
      ]
     },
     "execution_count": 61,
     "metadata": {},
     "output_type": "execute_result"
    }
   ],
   "source": [
    "# Display basic column information for the initial Kaggle 'transaction_train' datatset - AFTER merging with Articles data\n",
    "df_HM_CustTrxnArtcls.head()"
   ]
  },
  {
   "cell_type": "code",
   "execution_count": 62,
   "metadata": {},
   "outputs": [
    {
     "name": "stdout",
     "output_type": "stream",
     "text": [
      "Any Null Values in the merged Trxn/Customer/Articles dataframe? \n",
      " customer_id                   False\n",
      "article_id                    False\n",
      "price                         False\n",
      "sales_channel_id              False\n",
      "txn_year                      False\n",
      "txn_mth                       False\n",
      "txn_day                       False\n",
      "age                           False\n",
      "ACTIVE                        False\n",
      "LEFT CLUB                     False\n",
      "PRE-CREATE                    False\n",
      "Monthly                       False\n",
      "NONE                          False\n",
      "Regularly                     False\n",
      "product_code                  False\n",
      "product_type_no               False\n",
      "graphical_appearance_no       False\n",
      "colour_group_code             False\n",
      "perceived_colour_value_id     False\n",
      "perceived_colour_master_id    False\n",
      "department_no                 False\n",
      "index_group_no                False\n",
      "section_no                    False\n",
      "garment_group_no              False\n",
      "Accessories                   False\n",
      "Bags                          False\n",
      "Cosmetic                      False\n",
      "Fun                           False\n",
      "Furniture                     False\n",
      "Garment Full body             False\n",
      "Garment Lower body            False\n",
      "Garment Upper body            False\n",
      "Garment and Shoe care         False\n",
      "Interior textile              False\n",
      "Items                         False\n",
      "Nightwear                     False\n",
      "Shoes                         False\n",
      "Socks & Tights                False\n",
      "Stationery                    False\n",
      "Swimwear                      False\n",
      "Underwear                     False\n",
      "Underwear/nightwear           False\n",
      "Unknown                       False\n",
      "A                             False\n",
      "B                             False\n",
      "C                             False\n",
      "D                             False\n",
      "F                             False\n",
      "G                             False\n",
      "H                             False\n",
      "I                             False\n",
      "J                             False\n",
      "S                             False\n",
      "dtype: bool\n"
     ]
    },
    {
     "data": {
      "text/plain": [
       "[None]"
      ]
     },
     "execution_count": 62,
     "metadata": {},
     "output_type": "execute_result"
    }
   ],
   "source": [
    "# Check for null values in the merged Trxn/Customer/Articles dataframe\n",
    "[print('Any Null Values in the merged Trxn/Customer/Articles dataframe?','\\n' ,df_HM_CustTrxnArtcls.isnull().any())]"
   ]
  },
  {
   "cell_type": "markdown",
   "metadata": {},
   "source": [
    "#### Final Data Preparation Steps"
   ]
  },
  {
   "cell_type": "markdown",
   "metadata": {},
   "source": [
    "#### Remove Any Duplicates in Final Merged Dataframe. <a class=\"tocSkip\">"
   ]
  },
  {
   "cell_type": "code",
   "execution_count": 63,
   "metadata": {},
   "outputs": [
    {
     "name": "stdout",
     "output_type": "stream",
     "text": [
      "Numbers of duplicated rows in the final merged Trxn/Customer/Articles dataframe? \n",
      " 9745\n"
     ]
    },
    {
     "data": {
      "text/plain": [
       "[None]"
      ]
     },
     "execution_count": 63,
     "metadata": {},
     "output_type": "execute_result"
    }
   ],
   "source": [
    "# run a check to see if any duplicate entires exist in the merged Trxn/Customer/Articles dataframe\n",
    "[print('Numbers of duplicated rows in the final merged Trxn/Customer/Articles dataframe?','\\n' \n",
    "                                                                       ,df_HM_CustTrxnArtcls.duplicated().sum())]"
   ]
  },
  {
   "cell_type": "code",
   "execution_count": 64,
   "metadata": {},
   "outputs": [],
   "source": [
    "# Drop duplicate rows in the merged Trxn/Customer/Articles dataframe\n",
    "df_HM_CustTrxnArtcls = df_HM_CustTrxnArtcls.drop_duplicates()"
   ]
  },
  {
   "cell_type": "code",
   "execution_count": 65,
   "metadata": {},
   "outputs": [],
   "source": [
    "# Re-check: Find duplicate rows across all columns\n",
    "duplicateRows = df_HM_CustTrxnArtcls[df_HM_CustTrxnArtcls.duplicated()]"
   ]
  },
  {
   "cell_type": "code",
   "execution_count": 66,
   "metadata": {},
   "outputs": [
    {
     "name": "stdout",
     "output_type": "stream",
     "text": [
      "Success! Duplicate Rows Removed from merged Trxn/Customer/Articles dataframe\n"
     ]
    }
   ],
   "source": [
    "# This code will advise if duplicates are successfully removed.\n",
    "if duplicateRows.shape[0] < 1:\n",
    "    [print('Success! Duplicate Rows Removed from merged Trxn/Customer/Articles dataframe')]\n",
    "else:\n",
    "    [print('Warning! Duplicate Rows Remain in merged Trxn/Customer/Articles dataframe')] "
   ]
  },
  {
   "cell_type": "code",
   "execution_count": 67,
   "metadata": {},
   "outputs": [
    {
     "name": "stdout",
     "output_type": "stream",
     "text": [
      "\n",
      "Current Number of Rows/Columns in merged Trxn/Customer/Articles dataframe - duplicates removed \n",
      " (1563891, 53)\n"
     ]
    },
    {
     "data": {
      "text/plain": [
       "[None]"
      ]
     },
     "execution_count": 67,
     "metadata": {},
     "output_type": "execute_result"
    }
   ],
   "source": [
    "# Confirm dimensions of Trxn/Customer/Articles (sample) dataframe AFTER removing duplicate rows\n",
    "[print('\\nCurrent Number of Rows/Columns in merged Trxn/Customer/Articles dataframe - duplicates removed','\\n' ,\n",
    "                                                                                           df_HM_CustTrxnArtcls.shape)]"
   ]
  },
  {
   "cell_type": "code",
   "execution_count": 68,
   "metadata": {},
   "outputs": [],
   "source": [
    "### See if there is a way to check the integrity of the customer merging.."
   ]
  },
  {
   "cell_type": "code",
   "execution_count": null,
   "metadata": {},
   "outputs": [],
   "source": [
    "df_HM_CustTrxnArtcls.dtypes"
   ]
  },
  {
   "cell_type": "markdown",
   "metadata": {},
   "source": [
    "###### "
   ]
  },
  {
   "cell_type": "markdown",
   "metadata": {},
   "source": [
    "## Split Data: Train and Test Sets"
   ]
  },
  {
   "cell_type": "markdown",
   "metadata": {},
   "source": [
    "#### Split Data into 70% for Training, 30% for Testing. <a class=\"tocSkip\">"
   ]
  },
  {
   "cell_type": "code",
   "execution_count": 69,
   "metadata": {},
   "outputs": [],
   "source": [
    "# Split the data into train and test set\n",
    "# Parameter set to 30% for size of Test set\n",
    "# Given that there is ordering in the dataset, the 'shuffle' parameter is set to 'True'\n",
    "train, test = train_test_split(df_HM_CustTrxnArtcls, test_size=0.1, random_state=101, shuffle=True)"
   ]
  },
  {
   "cell_type": "code",
   "execution_count": 70,
   "metadata": {},
   "outputs": [
    {
     "name": "stdout",
     "output_type": "stream",
     "text": [
      "\n",
      "H&M Sample Data Split Training Set Shape : \n",
      "\t\n",
      "(1407501, 53)\n",
      "\n",
      "H&M Sample Data Split Test Set Shape : \n",
      "\t\n",
      "(156390, 53)\n"
     ]
    }
   ],
   "source": [
    "# Output Confirmation of data split\n",
    "dataDescription = 'H&M Sample Data Split'\n",
    "print(\"\\n{} Training Set Shape : \\n\\t\".format(dataDescription))\n",
    "print(train.shape)\n",
    "print(\"\\n{} Test Set Shape : \\n\\t\".format(dataDescription))\n",
    "print(test.shape)"
   ]
  },
  {
   "cell_type": "markdown",
   "metadata": {},
   "source": [
    "###### "
   ]
  },
  {
   "cell_type": "markdown",
   "metadata": {},
   "source": [
    "## Model Preparation"
   ]
  },
  {
   "cell_type": "markdown",
   "metadata": {},
   "source": [
    "### Set Up the Scaling Algorithm"
   ]
  },
  {
   "cell_type": "code",
   "execution_count": 71,
   "metadata": {},
   "outputs": [],
   "source": [
    "from sklearn.preprocessing import MinMaxScaler\n",
    "# Normalizing numerical features so that each feature has a value between 0 and 1\n",
    "scaler = MinMaxScaler()"
   ]
  },
  {
   "cell_type": "code",
   "execution_count": 72,
   "metadata": {},
   "outputs": [],
   "source": [
    "# Normalizing numerical features so that each feature has mean 0 and variance 1\n",
    "# feature_scaler = StandardScaler()"
   ]
  },
  {
   "cell_type": "markdown",
   "metadata": {},
   "source": [
    "### Set Up the Columns to be Scaled"
   ]
  },
  {
   "cell_type": "code",
   "execution_count": 73,
   "metadata": {},
   "outputs": [],
   "source": [
    "chk_cols =  ['product_code',\n",
    "             'product_type_no',\n",
    "             'graphical_appearance_no',\n",
    "             'colour_group_code',\n",
    "             'perceived_colour_value_id',\n",
    "             'perceived_colour_master_id',\n",
    "             'department_no',\n",
    "             'index_group_no',\n",
    "             'section_no',\n",
    "             'garment_group_no']"
   ]
  },
  {
   "cell_type": "markdown",
   "metadata": {},
   "source": [
    "### Scale the Training Dataset "
   ]
  },
  {
   "cell_type": "code",
   "execution_count": 74,
   "metadata": {},
   "outputs": [],
   "source": [
    "def scale_trainset_features(df, dtype, no_scale):\n",
    "    for x in df.columns[df.dtypes == dtype]:\n",
    "        if x != no_scale:\n",
    "            df[x] = scaler.fit_transform(np.array(df[x]).reshape(-1,1))    "
   ]
  },
  {
   "cell_type": "code",
   "execution_count": 75,
   "metadata": {},
   "outputs": [],
   "source": [
    "no_scale = 'article_id'\n",
    "scale_dtypes = ['int64','int32','float64']\n",
    "for data_types in scale_dtypes:\n",
    "    scale_trainset_features(train, data_types, no_scale)"
   ]
  },
  {
   "cell_type": "markdown",
   "metadata": {},
   "source": [
    "###### "
   ]
  },
  {
   "cell_type": "markdown",
   "metadata": {},
   "source": [
    "###### "
   ]
  },
  {
   "cell_type": "markdown",
   "metadata": {},
   "source": [
    "###### "
   ]
  },
  {
   "cell_type": "markdown",
   "metadata": {},
   "source": [
    "###### "
   ]
  },
  {
   "cell_type": "markdown",
   "metadata": {},
   "source": [
    "## K Nearest Neighbour Operations"
   ]
  },
  {
   "cell_type": "markdown",
   "metadata": {},
   "source": [
    "### Create Functions for NN Analysis"
   ]
  },
  {
   "cell_type": "markdown",
   "metadata": {},
   "source": [
    "#### Set up function to Build Nearest Neighbours Model "
   ]
  },
  {
   "cell_type": "code",
   "execution_count": 76,
   "metadata": {},
   "outputs": [],
   "source": [
    "# Set up Unsupervised learner for implementing neighbour searches of Customer Transactions\n",
    "# Set default parameters for NN algorithm - these can be overwritten during optimisationphase\n",
    "def setup_NN_model(df_train, NN_metric = 'cosine', NN_algo = 'brute'):\n",
    "       \n",
    "    # Set up numerical data inputs for NearestNeighbors function\n",
    "    df_cust_articles = df_train[chk_cols]\n",
    "    \n",
    "    # Set up parameters of NearestNeighbors function\n",
    "    model_knn = NearestNeighbors(metric = NN_metric, algorithm = NN_algo)\n",
    "    \n",
    "    # Implement NearestNeighbors function on merged Trxn/Customer/Article data elements\n",
    "    model_knn.fit(df_cust_articles)\n",
    "    \n",
    "    return model_knn, df_cust_articles"
   ]
  },
  {
   "cell_type": "markdown",
   "metadata": {},
   "source": [
    "#### Set up function to  Nearest Neighbours (+ Articles bought) for a Customer "
   ]
  },
  {
   "cell_type": "code",
   "execution_count": 77,
   "metadata": {},
   "outputs": [],
   "source": [
    "# Use a function to return a list of Nearest Neighbours for a given customer.\n",
    "# Return Neighbour Customer Ids and the articles they both\n",
    "def get_CustSub_NeighbourIDs_articles(model_knn, df_cust_articles, df_train, NN_Neighbours):\n",
    "     \n",
    "    \n",
    "    # Return index values for nearest neighbours - determined by 'Num_Neighbour' parameter\n",
    "    distances, indices = model_knn.kneighbors(df_cust_articles.iloc[0].values.reshape(1, -1), \n",
    "                                              n_neighbors = NN_Neighbours)\n",
    "     \n",
    "    \n",
    "\n",
    "    # Using the Index values returned by the Nearest neighbour model\n",
    "    # Generate a list of Customer Ids and Article Ids for these neighbours\n",
    "    for i in range(0, len(distances.flatten())):\n",
    "        if i == 0:\n",
    "            customer_list = []\n",
    "            article_list  = []\n",
    "        else:\n",
    "            customer_list.append(df_train.loc[indices.flatten()[i],'customer_id'])\n",
    "            article_list.append(df_train.loc[indices.flatten()[i],'article_id'])\n",
    "        \n",
    "    df_neighbourhood = pd.DataFrame({'customer_id': customer_list, 'article_id': article_list})\n",
    "    del customer_list, article_list\n",
    "    \n",
    "    return df_neighbourhood  "
   ]
  },
  {
   "cell_type": "markdown",
   "metadata": {},
   "source": [
    "#### Find Top Selling Products in 'Neighbourhood' for a Customer "
   ]
  },
  {
   "cell_type": "code",
   "execution_count": 78,
   "metadata": {},
   "outputs": [],
   "source": [
    "# Function to return Top 12 Articles Purchased by the Customer 'Neighbourhood'\n",
    "def get_Top12_Articles_from_CustNNs(df, num_of_articles):\n",
    "      \n",
    "    # Finding number of times a particular item is purchased by customers in the neighbourhood\n",
    "    temp = df.groupby(['article_id'])['customer_id'].agg('count').reset_index() \n",
    "    temp.columns = ['article_id','count']\n",
    "    \n",
    "    # Sort the articles by the number of time purchased by the 'neighbourhood' customers\n",
    "    temp = temp.sort_values('count', ascending=False)\n",
    "    \n",
    "    # Select the Top 12 - if there are duplicate just select the first entry\n",
    "    temp = temp.nlargest(num_of_articles,'count', keep='first')\n",
    "    \n",
    "    # Isolate the Article Ids\n",
    "    temp = temp['article_id']\n",
    "    \n",
    "    # Convert to dataframe and reset index\n",
    "    df_article_list = pd.DataFrame({'article_id': temp})\n",
    "    df_article_list = df_article_list.reset_index(drop=True)\n",
    "    \n",
    "    \n",
    "    # Return the list of Top 12 articles\n",
    "    return df_article_list"
   ]
  },
  {
   "cell_type": "markdown",
   "metadata": {},
   "source": [
    "#### Invoke Function to Build KNN Model  "
   ]
  },
  {
   "cell_type": "code",
   "execution_count": 79,
   "metadata": {},
   "outputs": [],
   "source": [
    "# Reset Training dataframe index - remove old one; this allows for extraction of correct index records\n",
    "# returned by the NearestNeighbors function\n",
    "train.reset_index(drop=True,inplace=True)"
   ]
  },
  {
   "cell_type": "code",
   "execution_count": 80,
   "metadata": {},
   "outputs": [],
   "source": [
    "# Call function to set up NN learner\n",
    "hm_model_knn, df_cust_articles_nn = setup_NN_model(train, NN_metric = 'cosine', NN_algo = 'brute')"
   ]
  },
  {
   "cell_type": "markdown",
   "metadata": {},
   "source": [
    "###### "
   ]
  },
  {
   "cell_type": "markdown",
   "metadata": {},
   "source": [
    "###### "
   ]
  },
  {
   "cell_type": "markdown",
   "metadata": {},
   "source": [
    "###### "
   ]
  },
  {
   "cell_type": "markdown",
   "metadata": {},
   "source": [
    "## Build Submission"
   ]
  },
  {
   "cell_type": "markdown",
   "metadata": {},
   "source": [
    "#### The solution file to have 1371980 prediction rows - use Sample Submission to construct  <a class=\"tocSkip\">"
   ]
  },
  {
   "cell_type": "markdown",
   "metadata": {},
   "source": [
    "### Read Sample Submission File"
   ]
  },
  {
   "cell_type": "code",
   "execution_count": 81,
   "metadata": {},
   "outputs": [],
   "source": [
    "# Read in Full Sample Submission File\n",
    "df_sub  = pd.read_csv('../input/sample_submission.csv',\n",
    "                            #usecols= ['customer_id'], \n",
    "                            dtype={'customer_id': 'string'})"
   ]
  },
  {
   "cell_type": "code",
   "execution_count": 82,
   "metadata": {},
   "outputs": [],
   "source": [
    "# Temp code to build submission framework based on a smaller fraction of the Sample Submission file\n",
    "df_sub_sample = df_sub.sample(frac=0.001, replace=False)  "
   ]
  },
  {
   "cell_type": "code",
   "execution_count": 83,
   "metadata": {},
   "outputs": [
    {
     "data": {
      "text/html": [
       "<div>\n",
       "<style scoped>\n",
       "    .dataframe tbody tr th:only-of-type {\n",
       "        vertical-align: middle;\n",
       "    }\n",
       "\n",
       "    .dataframe tbody tr th {\n",
       "        vertical-align: top;\n",
       "    }\n",
       "\n",
       "    .dataframe thead th {\n",
       "        text-align: right;\n",
       "    }\n",
       "</style>\n",
       "<table border=\"1\" class=\"dataframe\">\n",
       "  <thead>\n",
       "    <tr style=\"text-align: right;\">\n",
       "      <th></th>\n",
       "      <th>customer_id</th>\n",
       "      <th>prediction</th>\n",
       "    </tr>\n",
       "  </thead>\n",
       "  <tbody>\n",
       "    <tr>\n",
       "      <th>462018</th>\n",
       "      <td>56564dae3b8fb4f7e1ef73704c208f758a4350f34dd7ce...</td>\n",
       "      <td>0706016001 0706016002 0372860001 0610776002 07...</td>\n",
       "    </tr>\n",
       "    <tr>\n",
       "      <th>412759</th>\n",
       "      <td>4d2b79284aa8eddd117f61fe840caacdbae1fe9bef284f...</td>\n",
       "      <td>0706016001 0706016002 0372860001 0610776002 07...</td>\n",
       "    </tr>\n",
       "    <tr>\n",
       "      <th>1078099</th>\n",
       "      <td>c931ca02cd11f2dd2319b19b9857af2bc5ef7bc7c7df61...</td>\n",
       "      <td>0706016001 0706016002 0372860001 0610776002 07...</td>\n",
       "    </tr>\n",
       "    <tr>\n",
       "      <th>1333214</th>\n",
       "      <td>f8c1de3d2b02b88907d9575a0c8ccbcadffe8b0a8b1ae1...</td>\n",
       "      <td>0706016001 0706016002 0372860001 0610776002 07...</td>\n",
       "    </tr>\n",
       "    <tr>\n",
       "      <th>569540</th>\n",
       "      <td>6a445509d6cf37e7ad99e5aed8e3ad2dbf1214050fe63c...</td>\n",
       "      <td>0706016001 0706016002 0372860001 0610776002 07...</td>\n",
       "    </tr>\n",
       "  </tbody>\n",
       "</table>\n",
       "</div>"
      ],
      "text/plain": [
       "                                               customer_id  \\\n",
       "462018   56564dae3b8fb4f7e1ef73704c208f758a4350f34dd7ce...   \n",
       "412759   4d2b79284aa8eddd117f61fe840caacdbae1fe9bef284f...   \n",
       "1078099  c931ca02cd11f2dd2319b19b9857af2bc5ef7bc7c7df61...   \n",
       "1333214  f8c1de3d2b02b88907d9575a0c8ccbcadffe8b0a8b1ae1...   \n",
       "569540   6a445509d6cf37e7ad99e5aed8e3ad2dbf1214050fe63c...   \n",
       "\n",
       "                                                prediction  \n",
       "462018   0706016001 0706016002 0372860001 0610776002 07...  \n",
       "412759   0706016001 0706016002 0372860001 0610776002 07...  \n",
       "1078099  0706016001 0706016002 0372860001 0610776002 07...  \n",
       "1333214  0706016001 0706016002 0372860001 0610776002 07...  \n",
       "569540   0706016001 0706016002 0372860001 0610776002 07...  "
      ]
     },
     "execution_count": 83,
     "metadata": {},
     "output_type": "execute_result"
    }
   ],
   "source": [
    "# Temp code to check dataframe matches file output\n",
    "df_sub_sample.head()"
   ]
  },
  {
   "cell_type": "markdown",
   "metadata": {},
   "source": [
    "#### Record record size of file for later validation.  <a class=\"tocSkip\">"
   ]
  },
  {
   "cell_type": "code",
   "execution_count": 84,
   "metadata": {},
   "outputs": [],
   "source": [
    "numCustomers = df_sub.shape[0]"
   ]
  },
  {
   "cell_type": "markdown",
   "metadata": {},
   "source": [
    "### Define Function to read Customer IDs from Submission File"
   ]
  },
  {
   "cell_type": "code",
   "execution_count": 85,
   "metadata": {},
   "outputs": [],
   "source": [
    "# Function to return Customer Ids from sample submission file in sequence\n",
    "def get_next_SubmissionCustomer(idx):\n",
    "           \n",
    "    # Get Customer Id from Sample Sub\n",
    "    cust_id       = df_sub_sample.iloc[idx,0]\n",
    "    \n",
    "    df_cust_id = df_sub_sample.head(idx+1)\n",
    "    df_cust_id = df_cust_id.drop(['prediction'], axis = 1)\n",
    "    \n",
    "    \n",
    "    \n",
    "    # Return index of customer id in training dataframe and the customer id itself\n",
    "    return df_cust_id, cust_id"
   ]
  },
  {
   "cell_type": "markdown",
   "metadata": {},
   "source": [
    "### Extract Customer IDs from Submission File and Find Article Predictions"
   ]
  },
  {
   "cell_type": "markdown",
   "metadata": {},
   "source": [
    "#### Define Function to Obtain Customer Transactions"
   ]
  },
  {
   "cell_type": "code",
   "execution_count": 86,
   "metadata": {},
   "outputs": [],
   "source": [
    "def find_latest_CustomerTrxn(rec):\n",
    "    \n",
    "    # Get Next Customer Id from Submission Table\n",
    "    df_one_cust, cust_id = get_next_SubmissionCustomer(rec)\n",
    "\n",
    "    \n",
    "    # Merge Customer atributes from the Customer dataset based on a join with the 'customer_id' field\n",
    "    df_SubCust_Trxn = pd.merge(df_one_cust, df_trxns, how=\"left\", on=[\"customer_id\"])\n",
    "\n",
    "    \n",
    "    # On rare occassion that a customer has no transactions - create a dummy records to avoid a failure\n",
    "    if df_SubCust_Trxn.shape[0] == 0:\n",
    "        print('NO Transactions!')\n",
    "        # Create dummy dataframe\n",
    "        df_Dummy = pd.DataFrame([[cust_id,\n",
    "                '2016-10-25',\n",
    "                 651329001,\n",
    "                 0.021593,\n",
    "                 1]], columns=['customer_id','t_dat','article_id','price','sales_channel_id'])\n",
    "        # Stack the DataFrames on top of each other\n",
    "        df_SubCust_Trxn = pd.concat([df_SubCust_Trxn, df_Dummy], axis=0)\n",
    "        df_SubCust_Trxn.reset_index(drop=True, inplace=True)\n",
    "    \n",
    "    \n",
    "    # Use last transaction\n",
    "    df_SubCust_Trxn1 = df_SubCust_Trxn.sort_values(by=['t_dat'], ascending=False).head(1)\n",
    "    \n",
    "    \n",
    "    \n",
    "    return df_SubCust_Trxn1, cust_id"
   ]
  },
  {
   "cell_type": "markdown",
   "metadata": {},
   "source": [
    "#### Define Function to Obtain Customer Features"
   ]
  },
  {
   "cell_type": "code",
   "execution_count": 87,
   "metadata": {},
   "outputs": [],
   "source": [
    "def find_latest_CustomerAttrs(df):\n",
    "\n",
    "    \n",
    "    # Merge Customer atributes from the Customer dataset based on a join with the 'customer_id' field\n",
    "    df = pd.merge(df, df_customers, how=\"left\", on=[\"customer_id\"])\n",
    "    \n",
    "    # Filter out other Customer specific attributes apart from; age + fashion_news_frequency + club_member_status + postal code\n",
    "    # There are very many missing values in the other Customer dataset columns, so these will be ignored\n",
    "    df = df.iloc[:, [0, 1, 2, 3, 4, 7, 8, 9, 10]]\n",
    "\n",
    "    \n",
    "    \n",
    "    return df"
   ]
  },
  {
   "cell_type": "markdown",
   "metadata": {},
   "source": [
    "#### Define Function to Obtain Article Features"
   ]
  },
  {
   "cell_type": "code",
   "execution_count": 88,
   "metadata": {},
   "outputs": [],
   "source": [
    "def find_latest_ArticleAttrs(df):\n",
    "    \n",
    "    # Merge Articles atributes from the Articles dataset based on a join with the 'article_id' field\n",
    "    df = pd.merge(df, df_Articles, how=\"left\", on=[\"article_id\"])\n",
    "    \n",
    "    # Remove 'redundant' categorical columns from Articles (sample) dataframe\n",
    "    # Consider a categorical column Redundant when is 'partnered' with a numerical code \n",
    "    df.drop([\"prod_name\", \n",
    "             \"product_type_name\", \n",
    "             \"graphical_appearance_name\",\n",
    "             \"colour_group_name\",\n",
    "             \"perceived_colour_value_name\",\n",
    "             \"perceived_colour_master_name\",\n",
    "             \"department_name\",\n",
    "             \"index_name\",\n",
    "             \"index_group_name\",\n",
    "             \"section_name\",\n",
    "             \"garment_group_name\",\n",
    "             \"detail_desc\"], axis=1, inplace=True)\n",
    "    \n",
    "    # Encode Categorical Values\n",
    "    for column_name in article_cols_to_encode:\n",
    "        df = encode_Categor_Features(df, column_name)\n",
    "    \n",
    "    \n",
    "    return df    "
   ]
  },
  {
   "cell_type": "markdown",
   "metadata": {},
   "source": [
    "#### Define Function to Obtain Article Predictions"
   ]
  },
  {
   "cell_type": "code",
   "execution_count": 89,
   "metadata": {},
   "outputs": [],
   "source": [
    "def get_ArticlePredictions(knn_mdl, df, iNum_of_neighbours, TopN):\n",
    "        \n",
    "    # Call function to find nearest neighbour Customer Ids and Article Ids\n",
    "    # Pass in index, parameters for Nearest Neighbour function, and the number of neighbours to retrun\n",
    "    df_neighbours = get_CustSub_NeighbourIDs_articles(knn_mdl, df, train, iNum_of_neighbours)\n",
    "    \n",
    "    # Call function to return list of the most popular Articles in terms of the \n",
    "    # purchases made by the customers neighbourhood\n",
    "    df_cust_preds = get_Top12_Articles_from_CustNNs(df_neighbours, TopN)\n",
    "\n",
    "    \n",
    "    return df_cust_preds    "
   ]
  },
  {
   "cell_type": "markdown",
   "metadata": {},
   "source": [
    "#### Define Functions to Parse Article Predictions for Kaggle Submission"
   ]
  },
  {
   "cell_type": "code",
   "execution_count": 90,
   "metadata": {},
   "outputs": [],
   "source": [
    "# Function to return Article Id Predictions in String format required for Kaggle competition\n",
    "def get_str_Article_Predictions(df):\n",
    "    \n",
    "    article_pred = df['article_id'].values.tolist()\n",
    "    \n",
    "    article_pred = ['0' + str(article_id) for article_id in article_pred]\n",
    "    article_pred_str =  ' '.join(article_pred)\n",
    "    \n",
    "    str_article_preds = article_pred_str\n",
    "    \n",
    "    return str_article_preds"
   ]
  },
  {
   "cell_type": "code",
   "execution_count": 91,
   "metadata": {},
   "outputs": [],
   "source": [
    "# Function to Build up dataframe for submission\n",
    "def build_up_submission_df(cust, str_preds):\n",
    "    \n",
    "    str = cust + ' ' + str_preds\n",
    "    #print(str)   \n",
    "    \n",
    "    # List1 \n",
    "    lst = [[cust, str_preds]]    \n",
    "    df = pd.DataFrame(lst, columns =['customer_id', 'prediction'])\n",
    "    final_df =df\n",
    "    \n",
    "    \n",
    "    return final_df"
   ]
  },
  {
   "cell_type": "markdown",
   "metadata": {},
   "source": [
    "#### Iterate Through Submission File to Generate Article Predictions"
   ]
  },
  {
   "cell_type": "code",
   "execution_count": 92,
   "metadata": {},
   "outputs": [],
   "source": [
    "# Creating an empty Dataframe with column names only - will be filled with each Customer and their set of predictions\n",
    "df_Submission_Stack = pd.DataFrame(columns=['customer_id', 'prediction'])"
   ]
  },
  {
   "cell_type": "code",
   "execution_count": 93,
   "metadata": {},
   "outputs": [
    {
     "name": "stdout",
     "output_type": "stream",
     "text": [
      "cust_rec is... 0\n",
      "\n",
      "cust_rec is... 1\n",
      "\n",
      "cust_rec is... 2\n",
      "\n",
      "cust_rec is... 3\n",
      "\n",
      "cust_rec is... 4\n",
      "\n",
      "cust_rec is... 5\n",
      "\n",
      "cust_rec is... 6\n",
      "\n",
      "cust_rec is... 7\n",
      "\n",
      "cust_rec is... 8\n",
      "\n",
      "cust_rec is... 9\n",
      "\n",
      "cust_rec is... 10\n",
      "\n",
      "cust_rec is... 11\n",
      "\n",
      "cust_rec is... 12\n",
      "\n",
      "cust_rec is... 13\n",
      "\n",
      "cust_rec is... 14\n",
      "\n",
      "cust_rec is... 15\n",
      "\n",
      "cust_rec is... 16\n",
      "\n",
      "cust_rec is... 17\n",
      "\n",
      "cust_rec is... 18\n",
      "\n",
      "cust_rec is... 19\n",
      "\n",
      "cust_rec is... 20\n",
      "\n",
      "cust_rec is... 21\n",
      "\n",
      "cust_rec is... 22\n",
      "\n",
      "cust_rec is... 23\n",
      "\n",
      "cust_rec is... 24\n",
      "\n",
      "cust_rec is... 25\n",
      "\n",
      "cust_rec is... 26\n",
      "\n",
      "cust_rec is... 27\n",
      "\n",
      "cust_rec is... 28\n",
      "\n",
      "cust_rec is... 29\n",
      "\n",
      "cust_rec is... 30\n",
      "\n",
      "cust_rec is... 31\n",
      "\n",
      "cust_rec is... 32\n",
      "\n",
      "cust_rec is... 33\n",
      "\n",
      "cust_rec is... 34\n",
      "\n",
      "cust_rec is... 35\n",
      "\n",
      "cust_rec is... 36\n",
      "\n",
      "cust_rec is... 37\n",
      "\n",
      "cust_rec is... 38\n",
      "\n",
      "cust_rec is... 39\n",
      "\n",
      "cust_rec is... 40\n",
      "\n",
      "cust_rec is... 41\n",
      "\n",
      "cust_rec is... 42\n",
      "\n",
      "cust_rec is... 43\n",
      "\n",
      "cust_rec is... 44\n",
      "\n",
      "cust_rec is... 45\n",
      "\n",
      "cust_rec is... 46\n",
      "\n",
      "cust_rec is... 47\n",
      "\n",
      "cust_rec is... 48\n",
      "\n",
      "cust_rec is... 49\n",
      "\n",
      "cust_rec is... 50\n",
      "\n",
      "cust_rec is... 51\n",
      "\n",
      "cust_rec is... 52\n",
      "\n",
      "cust_rec is... 53\n",
      "\n",
      "cust_rec is... 54\n",
      "\n",
      "cust_rec is... 55\n",
      "\n",
      "cust_rec is... 56\n",
      "\n",
      "cust_rec is... 57\n",
      "\n",
      "cust_rec is... 58\n",
      "\n",
      "cust_rec is... 59\n",
      "\n",
      "cust_rec is... 60\n",
      "\n",
      "cust_rec is... 61\n",
      "\n",
      "cust_rec is... 62\n",
      "\n",
      "cust_rec is... 63\n",
      "\n",
      "cust_rec is... 64\n",
      "\n",
      "cust_rec is... 65\n",
      "\n",
      "cust_rec is... 66\n",
      "\n",
      "cust_rec is... 67\n",
      "\n",
      "cust_rec is... 68\n",
      "\n",
      "cust_rec is... 69\n",
      "\n",
      "cust_rec is... 70\n",
      "\n",
      "cust_rec is... 71\n",
      "\n",
      "cust_rec is... 72\n",
      "\n",
      "cust_rec is... 73\n",
      "\n",
      "cust_rec is... 74\n",
      "\n",
      "cust_rec is... 75\n",
      "\n",
      "cust_rec is... 76\n",
      "\n",
      "cust_rec is... 77\n",
      "\n",
      "cust_rec is... 78\n",
      "\n",
      "cust_rec is... 79\n",
      "\n",
      "cust_rec is... 80\n",
      "\n",
      "cust_rec is... 81\n",
      "\n",
      "cust_rec is... 82\n",
      "\n",
      "cust_rec is... 83\n",
      "\n",
      "cust_rec is... 84\n",
      "\n",
      "cust_rec is... 85\n",
      "\n",
      "cust_rec is... 86\n",
      "\n",
      "cust_rec is... 87\n",
      "\n",
      "cust_rec is... 88\n",
      "\n",
      "cust_rec is... 89\n",
      "\n",
      "cust_rec is... 90\n",
      "\n",
      "cust_rec is... 91\n",
      "\n",
      "cust_rec is... 92\n",
      "\n",
      "cust_rec is... 93\n",
      "\n",
      "cust_rec is... 94\n",
      "\n",
      "cust_rec is... 95\n",
      "\n",
      "cust_rec is... 96\n",
      "\n",
      "cust_rec is... 97\n",
      "\n",
      "cust_rec is... 98\n",
      "\n",
      "cust_rec is... 99\n",
      "\n"
     ]
    }
   ],
   "source": [
    "# Set up loop based on Submission file size\n",
    "customer_records = 10\n",
    "\n",
    "\n",
    "# Generate article predictions for each customer write to a new submission file\n",
    "for cust_rec in range(0, customer_records):\n",
    "    \n",
    "    print('cust_rec is... ' + str(cust_rec) +'\\n')\n",
    "    \n",
    "    df_SubCust_Trxn1, cust_id  = find_latest_CustomerTrxn(cust_rec)\n",
    "    \n",
    "    df_SubCust_Trxn1  = find_latest_CustomerAttrs(df_SubCust_Trxn1)\n",
    "    \n",
    "    df_SubCust_Trxn1  = find_latest_ArticleAttrs(df_SubCust_Trxn1)\n",
    "    \n",
    "    df_CustNNVectors  = df_SubCust_Trxn1[chk_cols]\n",
    "    \n",
    "    #display(df_CustNNVectors.iloc[0].values.reshape(1, -1))\n",
    "    \n",
    "    iNeighbours       = 550 # Number of Neighbours parameter for KNN model\n",
    "    TopN              = 12  # Number of Artcile predictions to return\n",
    "    df_cust_preds     = get_ArticlePredictions(hm_model_knn, df_CustNNVectors, iNeighbours, TopN)\n",
    "    \n",
    "    # Get a string output of Customer Article Predicitons - format as required for Kaggle competition\n",
    "    str_articles_predictions = get_str_Article_Predictions(df_cust_preds)\n",
    "    \n",
    "    # Format Customer ID and list of Article predictions - add to dataframe to be used for CSV output\n",
    "    df_NextCust_Preds = build_up_submission_df(cust_id, str_articles_predictions)\n",
    "    \n",
    "    \n",
    "    # Stack the DataFrames on top of each other\n",
    "    df_Submission_Stack = pd.concat([df_Submission_Stack, df_NextCust_Preds], axis=0)\n",
    "     \n",
    "    "
   ]
  },
  {
   "cell_type": "markdown",
   "metadata": {},
   "source": [
    "### Write Predictions Submission File to CSV"
   ]
  },
  {
   "cell_type": "markdown",
   "metadata": {},
   "source": [
    "#### SetUp Disk Directory for Submission File"
   ]
  },
  {
   "cell_type": "code",
   "execution_count": 94,
   "metadata": {},
   "outputs": [],
   "source": [
    "# Set up folder for submission file with predictions\n",
    "submission_path = '../submission'"
   ]
  },
  {
   "cell_type": "code",
   "execution_count": 95,
   "metadata": {},
   "outputs": [],
   "source": [
    "# Create folder above project directory\n",
    "os.makedirs(submission_path, exist_ok=True)  "
   ]
  },
  {
   "cell_type": "markdown",
   "metadata": {},
   "source": [
    "#### Create Submission .CSV File"
   ]
  },
  {
   "cell_type": "code",
   "execution_count": 96,
   "metadata": {},
   "outputs": [],
   "source": [
    "df_Submission_Stack = df_Submission_Stack.reset_index(drop=True)"
   ]
  },
  {
   "cell_type": "code",
   "execution_count": 97,
   "metadata": {},
   "outputs": [],
   "source": [
    "# Write pre-test submission file to disk\n",
    "df_Submission_Stack.to_csv(submission_path+'/submission_pretest.csv',index=False)"
   ]
  },
  {
   "cell_type": "code",
   "execution_count": 98,
   "metadata": {},
   "outputs": [
    {
     "name": "stdout",
     "output_type": "stream",
     "text": [
      "Matching the number of dfSub rows to the correct submission size. \n",
      "Submission Row: 100 v Expected Rows: 1371980\n"
     ]
    },
    {
     "data": {
      "text/plain": [
       "[None]"
      ]
     },
     "execution_count": 98,
     "metadata": {},
     "output_type": "execute_result"
    }
   ],
   "source": [
    "dfTempFinal  = pd.read_csv(submission_path+'/submission_pretest.csv')\n",
    "\n",
    "[print(\"Matching the number of dfSub rows to the correct submission size. \\nSubmission Row: {} v Expected Rows: {}\"\n",
    "                                                                                   .format(dfTempFinal.shape[0],numCustomers))]"
   ]
  },
  {
   "cell_type": "code",
   "execution_count": 99,
   "metadata": {},
   "outputs": [
    {
     "data": {
      "text/html": [
       "<div>\n",
       "<style scoped>\n",
       "    .dataframe tbody tr th:only-of-type {\n",
       "        vertical-align: middle;\n",
       "    }\n",
       "\n",
       "    .dataframe tbody tr th {\n",
       "        vertical-align: top;\n",
       "    }\n",
       "\n",
       "    .dataframe thead th {\n",
       "        text-align: right;\n",
       "    }\n",
       "</style>\n",
       "<table border=\"1\" class=\"dataframe\">\n",
       "  <thead>\n",
       "    <tr style=\"text-align: right;\">\n",
       "      <th></th>\n",
       "      <th>customer_id</th>\n",
       "      <th>prediction</th>\n",
       "    </tr>\n",
       "  </thead>\n",
       "  <tbody>\n",
       "    <tr>\n",
       "      <th>0</th>\n",
       "      <td>56564dae3b8fb4f7e1ef73704c208f758a4350f34dd7ce...</td>\n",
       "      <td>0842952003 0827370002 0826492006 0821152004 08...</td>\n",
       "    </tr>\n",
       "    <tr>\n",
       "      <th>1</th>\n",
       "      <td>4d2b79284aa8eddd117f61fe840caacdbae1fe9bef284f...</td>\n",
       "      <td>0827370002 0826492006 0690611001 0821152004 08...</td>\n",
       "    </tr>\n",
       "    <tr>\n",
       "      <th>2</th>\n",
       "      <td>c931ca02cd11f2dd2319b19b9857af2bc5ef7bc7c7df61...</td>\n",
       "      <td>0827370002 0826492006 0690611001 0821152004 08...</td>\n",
       "    </tr>\n",
       "    <tr>\n",
       "      <th>3</th>\n",
       "      <td>f8c1de3d2b02b88907d9575a0c8ccbcadffe8b0a8b1ae1...</td>\n",
       "      <td>0827370002 0826492006 0690611001 0821152004 08...</td>\n",
       "    </tr>\n",
       "    <tr>\n",
       "      <th>4</th>\n",
       "      <td>6a445509d6cf37e7ad99e5aed8e3ad2dbf1214050fe63c...</td>\n",
       "      <td>0827370002 0826492006 0690611001 0821152004 08...</td>\n",
       "    </tr>\n",
       "  </tbody>\n",
       "</table>\n",
       "</div>"
      ],
      "text/plain": [
       "                                         customer_id  \\\n",
       "0  56564dae3b8fb4f7e1ef73704c208f758a4350f34dd7ce...   \n",
       "1  4d2b79284aa8eddd117f61fe840caacdbae1fe9bef284f...   \n",
       "2  c931ca02cd11f2dd2319b19b9857af2bc5ef7bc7c7df61...   \n",
       "3  f8c1de3d2b02b88907d9575a0c8ccbcadffe8b0a8b1ae1...   \n",
       "4  6a445509d6cf37e7ad99e5aed8e3ad2dbf1214050fe63c...   \n",
       "\n",
       "                                          prediction  \n",
       "0  0842952003 0827370002 0826492006 0821152004 08...  \n",
       "1  0827370002 0826492006 0690611001 0821152004 08...  \n",
       "2  0827370002 0826492006 0690611001 0821152004 08...  \n",
       "3  0827370002 0826492006 0690611001 0821152004 08...  \n",
       "4  0827370002 0826492006 0690611001 0821152004 08...  "
      ]
     },
     "execution_count": 99,
     "metadata": {},
     "output_type": "execute_result"
    }
   ],
   "source": [
    "# Check format of final submission file\n",
    "dfTempFinal.head()"
   ]
  },
  {
   "cell_type": "code",
   "execution_count": 100,
   "metadata": {},
   "outputs": [],
   "source": [
    "# Write final submission file to disk\n",
    "dfTempFinal.to_csv(submission_path+'/submission.csv',index=False)"
   ]
  },
  {
   "cell_type": "markdown",
   "metadata": {},
   "source": [
    "###### "
   ]
  },
  {
   "cell_type": "markdown",
   "metadata": {},
   "source": [
    "###### "
   ]
  },
  {
   "cell_type": "markdown",
   "metadata": {},
   "source": [
    "## References"
   ]
  },
  {
   "cell_type": "markdown",
   "metadata": {},
   "source": [
    "#### <a class=\"tocSkip\">"
   ]
  }
 ],
 "metadata": {
  "kernelspec": {
   "display_name": "Python 3",
   "language": "python",
   "name": "python3"
  },
  "language_info": {
   "codemirror_mode": {
    "name": "ipython",
    "version": 3
   },
   "file_extension": ".py",
   "mimetype": "text/x-python",
   "name": "python",
   "nbconvert_exporter": "python",
   "pygments_lexer": "ipython3",
   "version": "3.8.5"
  },
  "toc": {
   "base_numbering": 1,
   "nav_menu": {},
   "number_sections": true,
   "sideBar": true,
   "skip_h1_title": true,
   "title_cell": "Table of Contents",
   "title_sidebar": "Contents",
   "toc_cell": true,
   "toc_position": {
    "height": "659px",
    "left": "0px",
    "right": "1227.5px",
    "top": "87px",
    "width": "341.5px"
   },
   "toc_section_display": "block",
   "toc_window_display": true
  }
 },
 "nbformat": 4,
 "nbformat_minor": 2
}
