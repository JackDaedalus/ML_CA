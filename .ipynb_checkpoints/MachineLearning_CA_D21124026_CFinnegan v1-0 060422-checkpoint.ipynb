{
 "cells": [
  {
   "cell_type": "markdown",
   "metadata": {},
   "source": [
    "# Machine Learning - Continuous Assessment - Class Group: TU060 <a class=\"tocSkip\">"
   ]
  },
  {
   "cell_type": "markdown",
   "metadata": {},
   "source": [
    "# MSc in Computer Science - Data Science (Part Time) <a class=\"tocSkip\">"
   ]
  },
  {
   "cell_type": "markdown",
   "metadata": {},
   "source": [
    "# Student Name: Ciaran Finnegan  <a class=\"tocSkip\">"
   ]
  },
  {
   "cell_type": "markdown",
   "metadata": {},
   "source": [
    "# Student No: D21124026 <a class=\"tocSkip\">"
   ]
  },
  {
   "cell_type": "markdown",
   "metadata": {},
   "source": [
    "#### Student EMail: D21124026@mytudublin.ie <a class=\"tocSkip\">"
   ]
  },
  {
   "cell_type": "markdown",
   "metadata": {},
   "source": [
    "## May 2022<a class=\"tocSkip\">"
   ]
  },
  {
   "cell_type": "markdown",
   "metadata": {},
   "source": [
    "# "
   ]
  },
  {
   "cell_type": "markdown",
   "metadata": {},
   "source": [
    "# H&M Personalised Fashion Recommendations <a class=\"tocSkip\">\n"
   ]
  },
  {
   "cell_type": "markdown",
   "metadata": {},
   "source": [
    "#### This project takes the datasets provided by Kaggle for the H&M Personalised Fashion Recommendations competition.  <a class=\"tocSkip\">\n",
    "\n",
    "Ipso forum..."
   ]
  },
  {
   "cell_type": "markdown",
   "metadata": {},
   "source": [
    "## <a class=\"tocSkip\">"
   ]
  },
  {
   "cell_type": "markdown",
   "metadata": {},
   "source": [
    "#### The CA follows a n-part structure. <a class=\"tocSkip\">\n",
    "\n",
    "Section 1: Ipso forum...\n",
    "\n",
    "Section 2: Ipso forum...\n",
    "\n",
    "Section 3: Ipso forum...\n"
   ]
  },
  {
   "cell_type": "markdown",
   "metadata": {},
   "source": [
    "### <a class=\"tocSkip\">"
   ]
  },
  {
   "cell_type": "markdown",
   "metadata": {
    "toc": true
   },
   "source": [
    "<h1>Table of Contents<span class=\"tocSkip\"></span></h1>\n",
    "<div class=\"toc\"><ul class=\"toc-item\"><li><span><a href=\"#Data-Import,-Cleaning-and-Merging\" data-toc-modified-id=\"Data-Import,-Cleaning-and-Merging-1\"><span class=\"toc-item-num\">1&nbsp;&nbsp;</span>Data Import, Cleaning and Merging</a></span><ul class=\"toc-item\"><li><span><a href=\"#Import-Libraries\" data-toc-modified-id=\"Import-Libraries-1.1\"><span class=\"toc-item-num\">1.1&nbsp;&nbsp;</span>Import Libraries</a></span><ul class=\"toc-item\"><li><span><a href=\"#Panda-+-Numpy\" data-toc-modified-id=\"Panda-+-Numpy-1.1.1\"><span class=\"toc-item-num\">1.1.1&nbsp;&nbsp;</span>Panda + Numpy</a></span></li><li><span><a href=\"#Matplotlib-Library\" data-toc-modified-id=\"Matplotlib-Library-1.1.2\"><span class=\"toc-item-num\">1.1.2&nbsp;&nbsp;</span>Matplotlib Library</a></span></li><li><span><a href=\"#Seaborn-Library\" data-toc-modified-id=\"Seaborn-Library-1.1.3\"><span class=\"toc-item-num\">1.1.3&nbsp;&nbsp;</span>Seaborn Library</a></span></li><li><span><a href=\"#Plotly-Libraries\" data-toc-modified-id=\"Plotly-Libraries-1.1.4\"><span class=\"toc-item-num\">1.1.4&nbsp;&nbsp;</span>Plotly Libraries</a></span></li></ul></li><li><span><a href=\"#Load-External-Datasets\" data-toc-modified-id=\"Load-External-Datasets-1.2\"><span class=\"toc-item-num\">1.2&nbsp;&nbsp;</span>Load External Datasets</a></span><ul class=\"toc-item\"><li><span><a href=\"#Kaggle-Happiness-Dataset\" data-toc-modified-id=\"Kaggle-Happiness-Dataset-1.2.1\"><span class=\"toc-item-num\">1.2.1&nbsp;&nbsp;</span>Kaggle Happiness Dataset</a></span></li><li><span><a href=\"#GDP-and-Political-Stability-Dataset\" data-toc-modified-id=\"GDP-and-Political-Stability-Dataset-1.2.2\"><span class=\"toc-item-num\">1.2.2&nbsp;&nbsp;</span>GDP and Political Stability Dataset</a></span></li><li><span><a href=\"#Human-Freedom-Index-Dataset\" data-toc-modified-id=\"Human-Freedom-Index-Dataset-1.2.3\"><span class=\"toc-item-num\">1.2.3&nbsp;&nbsp;</span>Human Freedom Index Dataset</a></span></li><li><span><a href=\"#CIA-World-Factbook-Dataset\" data-toc-modified-id=\"CIA-World-Factbook-Dataset-1.2.4\"><span class=\"toc-item-num\">1.2.4&nbsp;&nbsp;</span>CIA World Factbook Dataset</a></span></li><li><span><a href=\"#Global-Political-Regimes-Dataset\" data-toc-modified-id=\"Global-Political-Regimes-Dataset-1.2.5\"><span class=\"toc-item-num\">1.2.5&nbsp;&nbsp;</span>Global Political Regimes Dataset</a></span></li></ul></li><li><span><a href=\"#Dataframe-Content-Overviews\" data-toc-modified-id=\"Dataframe-Content-Overviews-1.3\"><span class=\"toc-item-num\">1.3&nbsp;&nbsp;</span>Dataframe Content Overviews</a></span></li><li><span><a href=\"#Clean-Up-Dataframes\" data-toc-modified-id=\"Clean-Up-Dataframes-1.4\"><span class=\"toc-item-num\">1.4&nbsp;&nbsp;</span>Clean Up Dataframes</a></span><ul class=\"toc-item\"><li><span><a href=\"#GDP/Political-Fragility:\" data-toc-modified-id=\"GDP/Political-Fragility:-1.4.1\"><span class=\"toc-item-num\">1.4.1&nbsp;&nbsp;</span>GDP/Political Fragility:</a></span></li><li><span><a href=\"#Human-Freedom-Index\" data-toc-modified-id=\"Human-Freedom-Index-1.4.2\"><span class=\"toc-item-num\">1.4.2&nbsp;&nbsp;</span>Human Freedom Index</a></span></li><li><span><a href=\"#CIA-WorldFact-Data\" data-toc-modified-id=\"CIA-WorldFact-Data-1.4.3\"><span class=\"toc-item-num\">1.4.3&nbsp;&nbsp;</span>CIA WorldFact Data</a></span></li><li><span><a href=\"#Political-Regime-Data\" data-toc-modified-id=\"Political-Regime-Data-1.4.4\"><span class=\"toc-item-num\">1.4.4&nbsp;&nbsp;</span>Political Regime Data</a></span></li></ul></li><li><span><a href=\"#Merge-Dataframes\" data-toc-modified-id=\"Merge-Dataframes-1.5\"><span class=\"toc-item-num\">1.5&nbsp;&nbsp;</span>Merge Dataframes</a></span><ul class=\"toc-item\"><li><span><a href=\"#Kaggle-Happiness-+-State-Fragility-dataframe\" data-toc-modified-id=\"Kaggle-Happiness-+-State-Fragility-dataframe-1.5.1\"><span class=\"toc-item-num\">1.5.1&nbsp;&nbsp;</span>Kaggle Happiness + State Fragility dataframe</a></span></li><li><span><a href=\"#New-Happiness-dataframe-+-'Human-Freedom'-Attributes\" data-toc-modified-id=\"New-Happiness-dataframe-+-'Human-Freedom'-Attributes-1.5.2\"><span class=\"toc-item-num\">1.5.2&nbsp;&nbsp;</span>New Happiness dataframe + 'Human Freedom' Attributes</a></span></li><li><span><a href=\"#New-Happiness-+-CIA-WorldFact-Data\" data-toc-modified-id=\"New-Happiness-+-CIA-WorldFact-Data-1.5.3\"><span class=\"toc-item-num\">1.5.3&nbsp;&nbsp;</span>New Happiness + CIA WorldFact Data</a></span></li><li><span><a href=\"#New-Happiness-+-Political-Regime-Data\" data-toc-modified-id=\"New-Happiness-+-Political-Regime-Data-1.5.4\"><span class=\"toc-item-num\">1.5.4&nbsp;&nbsp;</span>New Happiness + Political Regime Data</a></span></li></ul></li><li><span><a href=\"#Final-Check-on-New-Happiness-Dataframe\" data-toc-modified-id=\"Final-Check-on-New-Happiness-Dataframe-1.6\"><span class=\"toc-item-num\">1.6&nbsp;&nbsp;</span>Final Check on New Happiness Dataframe</a></span></li></ul></li><li><span><a href=\"#Data-Exploration:-Augmented-Global-'Happiness'-Dataframe\" data-toc-modified-id=\"Data-Exploration:-Augmented-Global-'Happiness'-Dataframe-2\"><span class=\"toc-item-num\">2&nbsp;&nbsp;</span>Data Exploration: Augmented Global 'Happiness' Dataframe</a></span><ul class=\"toc-item\"><li><span><a href=\"#Grouping-of-Nations-Per-Geographical-Regions\" data-toc-modified-id=\"Grouping-of-Nations-Per-Geographical-Regions-2.1\"><span class=\"toc-item-num\">2.1&nbsp;&nbsp;</span>Grouping of Nations Per Geographical Regions</a></span><ul class=\"toc-item\"><li><span><a href=\"#Bar-Chart---Countries-Per-Region\" data-toc-modified-id=\"Bar-Chart---Countries-Per-Region-2.1.1\"><span class=\"toc-item-num\">2.1.1&nbsp;&nbsp;</span>Bar Chart - Countries Per Region</a></span></li><li><span><a href=\"#Choropleth-Global-Maps\" data-toc-modified-id=\"Choropleth-Global-Maps-2.1.2\"><span class=\"toc-item-num\">2.1.2&nbsp;&nbsp;</span>Choropleth Global Maps</a></span></li><li><span><a href=\"#Box-Plots-of-Attributes-Contributing-to-'Happiness'\" data-toc-modified-id=\"Box-Plots-of-Attributes-Contributing-to-'Happiness'-2.1.3\"><span class=\"toc-item-num\">2.1.3&nbsp;&nbsp;</span>Box Plots of Attributes Contributing to 'Happiness'</a></span></li><li><span><a href=\"#Bar-Chart:-Political-Regimes\" data-toc-modified-id=\"Bar-Chart:-Political-Regimes-2.1.4\"><span class=\"toc-item-num\">2.1.4&nbsp;&nbsp;</span>Bar Chart: Political Regimes</a></span></li></ul></li></ul></li><li><span><a href=\"#Data-Analysis:-What-can-the-data-tell-us?\" data-toc-modified-id=\"Data-Analysis:-What-can-the-data-tell-us?-3\"><span class=\"toc-item-num\">3&nbsp;&nbsp;</span>Data Analysis: What can the data tell us?</a></span><ul class=\"toc-item\"><li><span><a href=\"#Happiness-+-GDP/Political-Fragility\" data-toc-modified-id=\"Happiness-+-GDP/Political-Fragility-3.1\"><span class=\"toc-item-num\">3.1&nbsp;&nbsp;</span>Happiness + GDP/Political Fragility</a></span></li><li><span><a href=\"#Happiness-+-GDP/Internet-Access\" data-toc-modified-id=\"Happiness-+-GDP/Internet-Access-3.2\"><span class=\"toc-item-num\">3.2&nbsp;&nbsp;</span>Happiness + GDP/Internet Access</a></span></li><li><span><a href=\"#Happiness-+-Human-Freedom\" data-toc-modified-id=\"Happiness-+-Human-Freedom-3.3\"><span class=\"toc-item-num\">3.3&nbsp;&nbsp;</span>Happiness + Human Freedom</a></span></li><li><span><a href=\"#Happiness-+-Political-Regimes\" data-toc-modified-id=\"Happiness-+-Political-Regimes-3.4\"><span class=\"toc-item-num\">3.4&nbsp;&nbsp;</span>Happiness + Political Regimes</a></span></li></ul></li><li><span><a href=\"#Conclusions\" data-toc-modified-id=\"Conclusions-4\"><span class=\"toc-item-num\">4&nbsp;&nbsp;</span>Conclusions</a></span></li><li><span><a href=\"#References\" data-toc-modified-id=\"References-5\"><span class=\"toc-item-num\">5&nbsp;&nbsp;</span>References</a></span></li></ul></div>"
   ]
  },
  {
   "cell_type": "markdown",
   "metadata": {},
   "source": [
    "## Data Import, Analysis and Cleaning"
   ]
  },
  {
   "cell_type": "markdown",
   "metadata": {},
   "source": [
    "### The assignment starts with a Kaggle H&M Personalised Fashion Recommendations datasets. <a class=\"tocSkip\">"
   ]
  },
  {
   "cell_type": "markdown",
   "metadata": {},
   "source": [
    "### Import Libraries"
   ]
  },
  {
   "cell_type": "markdown",
   "metadata": {},
   "source": [
    "Note: It is assumed that the matplotlib and plotly library has been installed on the user's machine before it is available for import.\n",
    "\n",
    "```bash\n",
    "> pip install matplotlib\n",
    "> pip install plotly\n",
    "```\n"
   ]
  },
  {
   "cell_type": "markdown",
   "metadata": {},
   "source": [
    "#### Panda + Numpy"
   ]
  },
  {
   "cell_type": "code",
   "execution_count": 1,
   "metadata": {},
   "outputs": [],
   "source": [
    "# Python libraries for data manipulation\n",
    "import numpy as np\n",
    "import pandas as pd"
   ]
  },
  {
   "cell_type": "markdown",
   "metadata": {},
   "source": [
    "Set up additional libraries for graphical presentations. A number of earlier graphs use Matplotlib. In later sections, Plotly graphs are used."
   ]
  },
  {
   "cell_type": "markdown",
   "metadata": {},
   "source": [
    "#### Matplotlib Library"
   ]
  },
  {
   "cell_type": "code",
   "execution_count": 2,
   "metadata": {},
   "outputs": [],
   "source": [
    "import matplotlib.pyplot as plt"
   ]
  },
  {
   "cell_type": "markdown",
   "metadata": {},
   "source": [
    "#### Seaborn Library"
   ]
  },
  {
   "cell_type": "code",
   "execution_count": 3,
   "metadata": {},
   "outputs": [],
   "source": [
    "import seaborn as sns"
   ]
  },
  {
   "cell_type": "markdown",
   "metadata": {},
   "source": [
    "#### Plotly Libraries"
   ]
  },
  {
   "cell_type": "code",
   "execution_count": 4,
   "metadata": {},
   "outputs": [],
   "source": [
    "# For interactive graphics and global displays\n",
    "import plotly.express as px\n",
    "import plotly.graph_objects as go"
   ]
  },
  {
   "cell_type": "markdown",
   "metadata": {},
   "source": [
    "### <a class=\"tocSkip\">"
   ]
  },
  {
   "cell_type": "code",
   "execution_count": 5,
   "metadata": {},
   "outputs": [],
   "source": [
    "import warnings\n",
    "warnings.filterwarnings(\"ignore\")"
   ]
  },
  {
   "cell_type": "markdown",
   "metadata": {},
   "source": [
    "### <a class=\"tocSkip\">"
   ]
  },
  {
   "cell_type": "markdown",
   "metadata": {},
   "source": [
    "Set up a list of colours to be used in some of the graphs, as data is being cycled through and displayed"
   ]
  },
  {
   "cell_type": "code",
   "execution_count": 6,
   "metadata": {},
   "outputs": [],
   "source": [
    "# Set up colour palette for use in the horizonatal box plot and other graphs\n",
    "colours = ['indianred','lightseagreen','goldenrod','magenta','green','blue','cyan','red',\n",
    "           'teal','mediumpurple','ghostwhite','honeydew','slateblue','darkorchid','darksalmon','darkgrey']"
   ]
  },
  {
   "cell_type": "markdown",
   "metadata": {},
   "source": [
    "# "
   ]
  },
  {
   "cell_type": "markdown",
   "metadata": {},
   "source": [
    "### Load External Datasets"
   ]
  },
  {
   "cell_type": "markdown",
   "metadata": {},
   "source": [
    "#### Kaggle H&M Personalised Fashion Recommendations Datasets"
   ]
  },
  {
   "cell_type": "markdown",
   "metadata": {},
   "source": [
    "Ipso lorem.."
   ]
  },
  {
   "cell_type": "code",
   "execution_count": 9,
   "metadata": {},
   "outputs": [],
   "source": [
    "# Read file, located in same directory as this notebook, for World Happiness Index data\n",
    "df_WorldHappinessIndex = pd.read_csv('../input/World_Happiness_Index_In_2015.csv')"
   ]
  },
  {
   "cell_type": "code",
   "execution_count": 10,
   "metadata": {},
   "outputs": [
    {
     "data": {
      "text/html": [
       "<div>\n",
       "<style scoped>\n",
       "    .dataframe tbody tr th:only-of-type {\n",
       "        vertical-align: middle;\n",
       "    }\n",
       "\n",
       "    .dataframe tbody tr th {\n",
       "        vertical-align: top;\n",
       "    }\n",
       "\n",
       "    .dataframe thead th {\n",
       "        text-align: right;\n",
       "    }\n",
       "</style>\n",
       "<table border=\"1\" class=\"dataframe\">\n",
       "  <thead>\n",
       "    <tr style=\"text-align: right;\">\n",
       "      <th></th>\n",
       "      <th>Country</th>\n",
       "      <th>Region</th>\n",
       "      <th>Happiness Rank</th>\n",
       "      <th>Happiness Score</th>\n",
       "      <th>Standard Error</th>\n",
       "      <th>Economy (GDP per Capita)</th>\n",
       "      <th>Family</th>\n",
       "      <th>Health (Life Expectancy)</th>\n",
       "      <th>Freedom</th>\n",
       "      <th>Trust (Government Corruption)</th>\n",
       "      <th>Generosity</th>\n",
       "      <th>Dystopia Residual</th>\n",
       "    </tr>\n",
       "  </thead>\n",
       "  <tbody>\n",
       "    <tr>\n",
       "      <th>0</th>\n",
       "      <td>Switzerland</td>\n",
       "      <td>Western Europe</td>\n",
       "      <td>1</td>\n",
       "      <td>7.587</td>\n",
       "      <td>0.03411</td>\n",
       "      <td>1.39651</td>\n",
       "      <td>1.34951</td>\n",
       "      <td>0.94143</td>\n",
       "      <td>0.66557</td>\n",
       "      <td>0.41978</td>\n",
       "      <td>0.29678</td>\n",
       "      <td>2.51738</td>\n",
       "    </tr>\n",
       "    <tr>\n",
       "      <th>1</th>\n",
       "      <td>Iceland</td>\n",
       "      <td>Western Europe</td>\n",
       "      <td>2</td>\n",
       "      <td>7.561</td>\n",
       "      <td>0.04884</td>\n",
       "      <td>1.30232</td>\n",
       "      <td>1.40223</td>\n",
       "      <td>0.94784</td>\n",
       "      <td>0.62877</td>\n",
       "      <td>0.14145</td>\n",
       "      <td>0.43630</td>\n",
       "      <td>2.70201</td>\n",
       "    </tr>\n",
       "    <tr>\n",
       "      <th>2</th>\n",
       "      <td>Denmark</td>\n",
       "      <td>Western Europe</td>\n",
       "      <td>3</td>\n",
       "      <td>7.527</td>\n",
       "      <td>0.03328</td>\n",
       "      <td>1.32548</td>\n",
       "      <td>1.36058</td>\n",
       "      <td>0.87464</td>\n",
       "      <td>0.64938</td>\n",
       "      <td>0.48357</td>\n",
       "      <td>0.34139</td>\n",
       "      <td>2.49204</td>\n",
       "    </tr>\n",
       "    <tr>\n",
       "      <th>3</th>\n",
       "      <td>Norway</td>\n",
       "      <td>Western Europe</td>\n",
       "      <td>4</td>\n",
       "      <td>7.522</td>\n",
       "      <td>0.03880</td>\n",
       "      <td>1.45900</td>\n",
       "      <td>1.33095</td>\n",
       "      <td>0.88521</td>\n",
       "      <td>0.66973</td>\n",
       "      <td>0.36503</td>\n",
       "      <td>0.34699</td>\n",
       "      <td>2.46531</td>\n",
       "    </tr>\n",
       "    <tr>\n",
       "      <th>4</th>\n",
       "      <td>Canada</td>\n",
       "      <td>North America</td>\n",
       "      <td>5</td>\n",
       "      <td>7.427</td>\n",
       "      <td>0.03553</td>\n",
       "      <td>1.32629</td>\n",
       "      <td>1.32261</td>\n",
       "      <td>0.90563</td>\n",
       "      <td>0.63297</td>\n",
       "      <td>0.32957</td>\n",
       "      <td>0.45811</td>\n",
       "      <td>2.45176</td>\n",
       "    </tr>\n",
       "  </tbody>\n",
       "</table>\n",
       "</div>"
      ],
      "text/plain": [
       "       Country          Region  Happiness Rank  Happiness Score  \\\n",
       "0  Switzerland  Western Europe               1            7.587   \n",
       "1      Iceland  Western Europe               2            7.561   \n",
       "2      Denmark  Western Europe               3            7.527   \n",
       "3       Norway  Western Europe               4            7.522   \n",
       "4       Canada   North America               5            7.427   \n",
       "\n",
       "   Standard Error  Economy (GDP per Capita)   Family  \\\n",
       "0         0.03411                   1.39651  1.34951   \n",
       "1         0.04884                   1.30232  1.40223   \n",
       "2         0.03328                   1.32548  1.36058   \n",
       "3         0.03880                   1.45900  1.33095   \n",
       "4         0.03553                   1.32629  1.32261   \n",
       "\n",
       "   Health (Life Expectancy)  Freedom  Trust (Government Corruption)  \\\n",
       "0                   0.94143  0.66557                        0.41978   \n",
       "1                   0.94784  0.62877                        0.14145   \n",
       "2                   0.87464  0.64938                        0.48357   \n",
       "3                   0.88521  0.66973                        0.36503   \n",
       "4                   0.90563  0.63297                        0.32957   \n",
       "\n",
       "   Generosity  Dystopia Residual  \n",
       "0     0.29678            2.51738  \n",
       "1     0.43630            2.70201  \n",
       "2     0.34139            2.49204  \n",
       "3     0.34699            2.46531  \n",
       "4     0.45811            2.45176  "
      ]
     },
     "execution_count": 10,
     "metadata": {},
     "output_type": "execute_result"
    }
   ],
   "source": [
    "# Display basic file data for the initial Kaggle 'Gloabl Happiness' datatset\n",
    "df_WorldHappinessIndex.head()"
   ]
  },
  {
   "cell_type": "markdown",
   "metadata": {},
   "source": [
    "#### <a class=\"tocSkip\">"
   ]
  }
 ],
 "metadata": {
  "kernelspec": {
   "display_name": "Python 3",
   "language": "python",
   "name": "python3"
  },
  "language_info": {
   "codemirror_mode": {
    "name": "ipython",
    "version": 3
   },
   "file_extension": ".py",
   "mimetype": "text/x-python",
   "name": "python",
   "nbconvert_exporter": "python",
   "pygments_lexer": "ipython3",
   "version": "3.8.8"
  },
  "toc": {
   "base_numbering": 1,
   "nav_menu": {},
   "number_sections": true,
   "sideBar": true,
   "skip_h1_title": true,
   "title_cell": "Table of Contents",
   "title_sidebar": "Contents",
   "toc_cell": true,
   "toc_position": {
    "height": "659px",
    "left": "0px",
    "right": "1227.5px",
    "top": "87px",
    "width": "341.5px"
   },
   "toc_section_display": "block",
   "toc_window_display": true
  }
 },
 "nbformat": 4,
 "nbformat_minor": 2
}
