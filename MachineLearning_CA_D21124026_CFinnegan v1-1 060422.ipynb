{
 "cells": [
  {
   "cell_type": "markdown",
   "metadata": {},
   "source": [
    "# Machine Learning - Continuous Assessment - Class Group: TU060 <a class=\"tocSkip\">"
   ]
  },
  {
   "cell_type": "markdown",
   "metadata": {},
   "source": [
    "# MSc in Computer Science - Data Science (Part Time) <a class=\"tocSkip\">"
   ]
  },
  {
   "cell_type": "markdown",
   "metadata": {},
   "source": [
    "# Student Name: Ciaran Finnegan  <a class=\"tocSkip\">"
   ]
  },
  {
   "cell_type": "markdown",
   "metadata": {},
   "source": [
    "# Student No: D21124026 <a class=\"tocSkip\">"
   ]
  },
  {
   "cell_type": "markdown",
   "metadata": {},
   "source": [
    "#### Student EMail: D21124026@mytudublin.ie <a class=\"tocSkip\">"
   ]
  },
  {
   "cell_type": "markdown",
   "metadata": {},
   "source": [
    "## May 2022<a class=\"tocSkip\">"
   ]
  },
  {
   "cell_type": "markdown",
   "metadata": {},
   "source": [
    "# "
   ]
  },
  {
   "cell_type": "markdown",
   "metadata": {},
   "source": [
    "# H&M Personalised Fashion Recommendations <a class=\"tocSkip\">\n"
   ]
  },
  {
   "cell_type": "markdown",
   "metadata": {},
   "source": [
    "#### This project takes the datasets provided by Kaggle for the H&M Personalised Fashion Recommendations competition.  <a class=\"tocSkip\">\n",
    "\n",
    "Ipso forum..."
   ]
  },
  {
   "cell_type": "markdown",
   "metadata": {},
   "source": [
    "## <a class=\"tocSkip\">"
   ]
  },
  {
   "cell_type": "markdown",
   "metadata": {},
   "source": [
    "#### The CA follows a n-part structure. <a class=\"tocSkip\">\n",
    "\n",
    "Section 1: Ipso forum...\n",
    "\n",
    "Section 2: Ipso forum...\n",
    "\n",
    "Section 3: Ipso forum...\n"
   ]
  },
  {
   "cell_type": "markdown",
   "metadata": {},
   "source": [
    "### <a class=\"tocSkip\">"
   ]
  },
  {
   "cell_type": "markdown",
   "metadata": {
    "toc": true
   },
   "source": [
    "<h1>Table of Contents<span class=\"tocSkip\"></span></h1>\n",
    "<div class=\"toc\"><ul class=\"toc-item\"><li><span><a href=\"#Jupyter-Notebook-Set-Up\" data-toc-modified-id=\"Jupyter-Notebook-Set-Up-1\"><span class=\"toc-item-num\">1&nbsp;&nbsp;</span>Jupyter Notebook Set Up</a></span><ul class=\"toc-item\"><li><span><a href=\"#Import-Libraries\" data-toc-modified-id=\"Import-Libraries-1.1\"><span class=\"toc-item-num\">1.1&nbsp;&nbsp;</span>Import Libraries</a></span><ul class=\"toc-item\"><li><span><a href=\"#General-Utility-Libraries\" data-toc-modified-id=\"General-Utility-Libraries-1.1.1\"><span class=\"toc-item-num\">1.1.1&nbsp;&nbsp;</span>General Utility Libraries</a></span></li><li><span><a href=\"#Panda-+-Numpy\" data-toc-modified-id=\"Panda-+-Numpy-1.1.2\"><span class=\"toc-item-num\">1.1.2&nbsp;&nbsp;</span>Panda + Numpy</a></span></li><li><span><a href=\"#Matplotlib-Library\" data-toc-modified-id=\"Matplotlib-Library-1.1.3\"><span class=\"toc-item-num\">1.1.3&nbsp;&nbsp;</span>Matplotlib Library</a></span></li><li><span><a href=\"#Plotly-Libraries\" data-toc-modified-id=\"Plotly-Libraries-1.1.4\"><span class=\"toc-item-num\">1.1.4&nbsp;&nbsp;</span>Plotly Libraries</a></span></li></ul></li></ul></li><li><span><a href=\"#Project-Data-Import,-Analysis-and-Preparation\" data-toc-modified-id=\"Project-Data-Import,-Analysis-and-Preparation-2\"><span class=\"toc-item-num\">2&nbsp;&nbsp;</span>Project Data Import, Analysis and Preparation</a></span><ul class=\"toc-item\"><li><span><a href=\"#Load-and-Sample-Kaggle-H&amp;M-Datasets\" data-toc-modified-id=\"Load-and-Sample-Kaggle-H&amp;M-Datasets-2.1\"><span class=\"toc-item-num\">2.1&nbsp;&nbsp;</span>Load and Sample Kaggle H&amp;M Datasets</a></span><ul class=\"toc-item\"><li><span><a href=\"#Set-Up-File-Paths\" data-toc-modified-id=\"Set-Up-File-Paths-2.1.1\"><span class=\"toc-item-num\">2.1.1&nbsp;&nbsp;</span>Set Up File Paths</a></span></li><li><span><a href=\"#H&amp;M-Transaction-Dataset\" data-toc-modified-id=\"H&amp;M-Transaction-Dataset-2.1.2\"><span class=\"toc-item-num\">2.1.2&nbsp;&nbsp;</span>H&amp;M Transaction Dataset</a></span></li><li><span><a href=\"#H&amp;M-Articles-Dataset\" data-toc-modified-id=\"H&amp;M-Articles-Dataset-2.1.3\"><span class=\"toc-item-num\">2.1.3&nbsp;&nbsp;</span>H&amp;M Articles Dataset</a></span></li><li><span><a href=\"#H&amp;M-Customers-Dataset\" data-toc-modified-id=\"H&amp;M-Customers-Dataset-2.1.4\"><span class=\"toc-item-num\">2.1.4&nbsp;&nbsp;</span>H&amp;M Customers Dataset</a></span></li></ul></li><li><span><a href=\"#Exploratory-Data-Analysis\" data-toc-modified-id=\"Exploratory-Data-Analysis-2.2\"><span class=\"toc-item-num\">2.2&nbsp;&nbsp;</span>Exploratory Data Analysis</a></span><ul class=\"toc-item\"><li><span><a href=\"#H&amp;M-Sampled-Transaction-Dataset\" data-toc-modified-id=\"H&amp;M-Sampled-Transaction-Dataset-2.2.1\"><span class=\"toc-item-num\">2.2.1&nbsp;&nbsp;</span>H&amp;M Sampled Transaction Dataset</a></span></li><li><span><a href=\"#H&amp;M-Sampled-Customer-Dataset\" data-toc-modified-id=\"H&amp;M-Sampled-Customer-Dataset-2.2.2\"><span class=\"toc-item-num\">2.2.2&nbsp;&nbsp;</span>H&amp;M Sampled Customer Dataset</a></span></li><li><span><a href=\"#H&amp;M-Sampled-Articles-Dataset\" data-toc-modified-id=\"H&amp;M-Sampled-Articles-Dataset-2.2.3\"><span class=\"toc-item-num\">2.2.3&nbsp;&nbsp;</span>H&amp;M Sampled Articles Dataset</a></span></li></ul></li><li><span><a href=\"#Data-Preparation\" data-toc-modified-id=\"Data-Preparation-2.3\"><span class=\"toc-item-num\">2.3&nbsp;&nbsp;</span>Data Preparation</a></span><ul class=\"toc-item\"><li><span><a href=\"#Data-Preparation-/-Feature-Enrichment-on-Transaction-Data-(sample)\" data-toc-modified-id=\"Data-Preparation-/-Feature-Enrichment-on-Transaction-Data-(sample)-2.3.1\"><span class=\"toc-item-num\">2.3.1&nbsp;&nbsp;</span>Data Preparation / Feature Enrichment on Transaction Data (sample)</a></span></li><li><span><a href=\"#Data-Preparation-/-Feature-Enrichment-with-Customer-Data-(sample)\" data-toc-modified-id=\"Data-Preparation-/-Feature-Enrichment-with-Customer-Data-(sample)-2.3.2\"><span class=\"toc-item-num\">2.3.2&nbsp;&nbsp;</span>Data Preparation / Feature Enrichment with Customer Data (sample)</a></span></li></ul></li></ul></li><li><span><a href=\"#References\" data-toc-modified-id=\"References-3\"><span class=\"toc-item-num\">3&nbsp;&nbsp;</span>References</a></span></li></ul></div>"
   ]
  },
  {
   "cell_type": "markdown",
   "metadata": {},
   "source": [
    "## Jupyter Notebook Set Up"
   ]
  },
  {
   "cell_type": "markdown",
   "metadata": {},
   "source": [
    "### Import Libraries"
   ]
  },
  {
   "cell_type": "markdown",
   "metadata": {},
   "source": [
    "Note: It is assumed that the matplotlib and plotly library has been installed on the user's machine before it is available for import.\n",
    "\n",
    "```bash\n",
    "> pip install matplotlib\n",
    "> pip install plotly\n",
    "```\n"
   ]
  },
  {
   "cell_type": "markdown",
   "metadata": {},
   "source": [
    "#### General Utility Libraries"
   ]
  },
  {
   "cell_type": "code",
   "execution_count": 1,
   "metadata": {},
   "outputs": [],
   "source": [
    "import os"
   ]
  },
  {
   "cell_type": "markdown",
   "metadata": {},
   "source": [
    "#### Panda + Numpy"
   ]
  },
  {
   "cell_type": "code",
   "execution_count": 2,
   "metadata": {},
   "outputs": [],
   "source": [
    "# Python libraries for data manipulation\n",
    "import numpy as np\n",
    "import pandas as pd"
   ]
  },
  {
   "cell_type": "markdown",
   "metadata": {},
   "source": [
    "Set up additional libraries for graphical presentations. A number of earlier graphs use Matplotlib. In later sections, Plotly graphs are used."
   ]
  },
  {
   "cell_type": "markdown",
   "metadata": {},
   "source": [
    "#### Matplotlib Library"
   ]
  },
  {
   "cell_type": "code",
   "execution_count": 3,
   "metadata": {},
   "outputs": [],
   "source": [
    "import matplotlib.pyplot as plt"
   ]
  },
  {
   "cell_type": "markdown",
   "metadata": {},
   "source": [
    "#### Plotly Libraries"
   ]
  },
  {
   "cell_type": "code",
   "execution_count": 4,
   "metadata": {},
   "outputs": [],
   "source": [
    "# For interactive graphics and global displays\n",
    "import plotly.express as px\n",
    "import plotly.graph_objects as go"
   ]
  },
  {
   "cell_type": "markdown",
   "metadata": {},
   "source": [
    "### <a class=\"tocSkip\">"
   ]
  },
  {
   "cell_type": "code",
   "execution_count": 5,
   "metadata": {},
   "outputs": [],
   "source": [
    "import warnings\n",
    "warnings.filterwarnings(\"ignore\")"
   ]
  },
  {
   "cell_type": "markdown",
   "metadata": {},
   "source": [
    "### <a class=\"tocSkip\">"
   ]
  },
  {
   "cell_type": "markdown",
   "metadata": {},
   "source": [
    "## Project Data Import, Analysis and Preparation"
   ]
  },
  {
   "cell_type": "markdown",
   "metadata": {},
   "source": [
    "### Load and Sample Kaggle H&M Datasets"
   ]
  },
  {
   "cell_type": "markdown",
   "metadata": {},
   "source": [
    "### The assignment starts with a Kaggle H&M Personalised Fashion Recommendations datasets. <a class=\"tocSkip\">"
   ]
  },
  {
   "cell_type": "markdown",
   "metadata": {},
   "source": [
    "#### Set Up File Paths "
   ]
  },
  {
   "cell_type": "code",
   "execution_count": 6,
   "metadata": {},
   "outputs": [],
   "source": [
    "# Set up a Global path file variable to use when loading each dataset\n",
    "Path_To_Inputs = '../input'"
   ]
  },
  {
   "cell_type": "markdown",
   "metadata": {},
   "source": [
    "#### H&M Transaction Dataset "
   ]
  },
  {
   "cell_type": "code",
   "execution_count": 7,
   "metadata": {},
   "outputs": [],
   "source": [
    "# Load H&M Transaction dataset\n",
    "df_trxns = pd.read_csv(os.path.join(Path_To_Inputs,'transactions_train.csv'))"
   ]
  },
  {
   "cell_type": "code",
   "execution_count": 8,
   "metadata": {},
   "outputs": [
    {
     "data": {
      "text/plain": [
       "(31788324, 5)"
      ]
     },
     "execution_count": 8,
     "metadata": {},
     "output_type": "execute_result"
    }
   ],
   "source": [
    "# Display Number of Rows, Number of Columns in Transaction dataset prior to Sampling\n",
    "df_trxns.shape"
   ]
  },
  {
   "cell_type": "code",
   "execution_count": 9,
   "metadata": {},
   "outputs": [],
   "source": [
    "# Extract random sample of Transactions (without replacement) - 0.1% of records\n",
    "df_trxns_sample = df_trxns.sample(frac=0.001, replace=False)"
   ]
  },
  {
   "cell_type": "code",
   "execution_count": 10,
   "metadata": {},
   "outputs": [
    {
     "data": {
      "text/plain": [
       "(31788, 5)"
      ]
     },
     "execution_count": 10,
     "metadata": {},
     "output_type": "execute_result"
    }
   ],
   "source": [
    "# Display Number of Rows, Number of Columns in Transaction dataset after Sampling\n",
    "df_trxns_sample.shape"
   ]
  },
  {
   "cell_type": "markdown",
   "metadata": {},
   "source": [
    "#### H&M Articles Dataset "
   ]
  },
  {
   "cell_type": "code",
   "execution_count": 11,
   "metadata": {},
   "outputs": [],
   "source": [
    "# Read file, located in 'input' folder above this notebook, for articles data - containing meta data on purchasable items.\n",
    "df_Articles = pd.read_csv(os.path.join(Path_To_Inputs,'articles.csv'))"
   ]
  },
  {
   "cell_type": "code",
   "execution_count": 12,
   "metadata": {},
   "outputs": [
    {
     "data": {
      "text/plain": [
       "(105542, 25)"
      ]
     },
     "execution_count": 12,
     "metadata": {},
     "output_type": "execute_result"
    }
   ],
   "source": [
    "# Display Number of Rows, Number of Columns in Articles dataset\n",
    "df_Articles.shape"
   ]
  },
  {
   "cell_type": "code",
   "execution_count": 13,
   "metadata": {},
   "outputs": [],
   "source": [
    "# Display basic file data for the initial Kaggle H&M 'articles' datatset\n",
    "# df_Articles.head()"
   ]
  },
  {
   "cell_type": "code",
   "execution_count": 14,
   "metadata": {},
   "outputs": [],
   "source": [
    "# Extract only the H&M articles contained in the sample Transaction dataset \n",
    "articleIDs_in_Trxn_Sample  = set(df_trxns_sample[\"article_id\"])"
   ]
  },
  {
   "cell_type": "code",
   "execution_count": 15,
   "metadata": {},
   "outputs": [],
   "source": [
    "#Count Article Ids in Transaction Sample\n",
    "#len(articleIDs_in_Trxn_Sample)"
   ]
  },
  {
   "cell_type": "code",
   "execution_count": 16,
   "metadata": {},
   "outputs": [],
   "source": [
    "# Create dataset that only contains H&M articles in the sample Transaction dataset\n",
    "df_articles_sample = df_Articles[df_Articles[\"article_id\"].isin(articleIDs_in_Trxn_Sample)]"
   ]
  },
  {
   "cell_type": "code",
   "execution_count": 17,
   "metadata": {},
   "outputs": [
    {
     "data": {
      "text/plain": [
       "(18321, 25)"
      ]
     },
     "execution_count": 17,
     "metadata": {},
     "output_type": "execute_result"
    }
   ],
   "source": [
    "# Display Number of Rows, Number of Columns in Sample Articles dataset\n",
    "df_articles_sample.shape"
   ]
  },
  {
   "cell_type": "markdown",
   "metadata": {},
   "source": [
    "#### H&M Customers Dataset "
   ]
  },
  {
   "cell_type": "code",
   "execution_count": 18,
   "metadata": {},
   "outputs": [],
   "source": [
    "# Load H&M Customer dataset\n",
    "df_customers = pd.read_csv(os.path.join(Path_To_Inputs,'customers.csv'))"
   ]
  },
  {
   "cell_type": "code",
   "execution_count": 19,
   "metadata": {},
   "outputs": [
    {
     "data": {
      "text/plain": [
       "(1371980, 7)"
      ]
     },
     "execution_count": 19,
     "metadata": {},
     "output_type": "execute_result"
    }
   ],
   "source": [
    "# Display Number of Rows, Number of Columns in Customers dataset prior to Sampling\n",
    "df_customers.shape"
   ]
  },
  {
   "cell_type": "code",
   "execution_count": 20,
   "metadata": {},
   "outputs": [],
   "source": [
    "# Extract only the H&M Customers contained in the sample Transaction dataset \n",
    "custIDs_in_Trxn_Sample  = set(df_trxns_sample[\"customer_id\"])"
   ]
  },
  {
   "cell_type": "code",
   "execution_count": 21,
   "metadata": {},
   "outputs": [
    {
     "data": {
      "text/plain": [
       "30432"
      ]
     },
     "execution_count": 21,
     "metadata": {},
     "output_type": "execute_result"
    }
   ],
   "source": [
    "#Count Customer Ids in Transaction Sample\n",
    "len(custIDs_in_Trxn_Sample)"
   ]
  },
  {
   "cell_type": "code",
   "execution_count": 22,
   "metadata": {},
   "outputs": [],
   "source": [
    "# Create dataset that only contains H&M Customers from the sample Transaction dataset\n",
    "df_customers_sample = df_customers[df_customers[\"customer_id\"].isin(custIDs_in_Trxn_Sample)]"
   ]
  },
  {
   "cell_type": "code",
   "execution_count": 23,
   "metadata": {},
   "outputs": [
    {
     "data": {
      "text/plain": [
       "(30432, 7)"
      ]
     },
     "execution_count": 23,
     "metadata": {},
     "output_type": "execute_result"
    }
   ],
   "source": [
    "# Display Number of Rows, Number of Columns in Sample Customers dataset\n",
    "df_customers_sample.shape"
   ]
  },
  {
   "cell_type": "markdown",
   "metadata": {},
   "source": [
    "###### "
   ]
  },
  {
   "cell_type": "markdown",
   "metadata": {},
   "source": [
    "### Exploratory Data Analysis"
   ]
  },
  {
   "cell_type": "markdown",
   "metadata": {},
   "source": [
    "### Display key data attributes and distributions in Sampled H&M datasets. <a class=\"tocSkip\">"
   ]
  },
  {
   "cell_type": "markdown",
   "metadata": {},
   "source": [
    "#### H&M Sampled Transaction Dataset "
   ]
  },
  {
   "cell_type": "code",
   "execution_count": 24,
   "metadata": {},
   "outputs": [
    {
     "data": {
      "text/html": [
       "<div>\n",
       "<style scoped>\n",
       "    .dataframe tbody tr th:only-of-type {\n",
       "        vertical-align: middle;\n",
       "    }\n",
       "\n",
       "    .dataframe tbody tr th {\n",
       "        vertical-align: top;\n",
       "    }\n",
       "\n",
       "    .dataframe thead th {\n",
       "        text-align: right;\n",
       "    }\n",
       "</style>\n",
       "<table border=\"1\" class=\"dataframe\">\n",
       "  <thead>\n",
       "    <tr style=\"text-align: right;\">\n",
       "      <th></th>\n",
       "      <th>t_dat</th>\n",
       "      <th>customer_id</th>\n",
       "      <th>article_id</th>\n",
       "      <th>price</th>\n",
       "      <th>sales_channel_id</th>\n",
       "    </tr>\n",
       "  </thead>\n",
       "  <tbody>\n",
       "    <tr>\n",
       "      <th>24288205</th>\n",
       "      <td>2020-04-08</td>\n",
       "      <td>50f6fab29c8b3fc1b25d3c099d0cd5708e3e7f5ced694f...</td>\n",
       "      <td>811835003</td>\n",
       "      <td>0.022017</td>\n",
       "      <td>2</td>\n",
       "    </tr>\n",
       "    <tr>\n",
       "      <th>2076220</th>\n",
       "      <td>2018-11-03</td>\n",
       "      <td>2dee5926adf115828fbed2499f8540059796627d4d814b...</td>\n",
       "      <td>679042003</td>\n",
       "      <td>0.016932</td>\n",
       "      <td>2</td>\n",
       "    </tr>\n",
       "    <tr>\n",
       "      <th>27953483</th>\n",
       "      <td>2020-06-24</td>\n",
       "      <td>b37d9cb6416fb8cc0115895ea00e1957c9c31787145f81...</td>\n",
       "      <td>754404004</td>\n",
       "      <td>0.025407</td>\n",
       "      <td>2</td>\n",
       "    </tr>\n",
       "    <tr>\n",
       "      <th>29530167</th>\n",
       "      <td>2020-07-27</td>\n",
       "      <td>109148eb0573dd62731d3783465bf2bd7b3bb14c6c0418...</td>\n",
       "      <td>636207006</td>\n",
       "      <td>0.030492</td>\n",
       "      <td>1</td>\n",
       "    </tr>\n",
       "    <tr>\n",
       "      <th>5332546</th>\n",
       "      <td>2019-01-23</td>\n",
       "      <td>d6cb3db0fa2d75a5bc71058bbe5f65f9530d29f76a38e0...</td>\n",
       "      <td>694131003</td>\n",
       "      <td>0.007983</td>\n",
       "      <td>1</td>\n",
       "    </tr>\n",
       "  </tbody>\n",
       "</table>\n",
       "</div>"
      ],
      "text/plain": [
       "               t_dat                                        customer_id  \\\n",
       "24288205  2020-04-08  50f6fab29c8b3fc1b25d3c099d0cd5708e3e7f5ced694f...   \n",
       "2076220   2018-11-03  2dee5926adf115828fbed2499f8540059796627d4d814b...   \n",
       "27953483  2020-06-24  b37d9cb6416fb8cc0115895ea00e1957c9c31787145f81...   \n",
       "29530167  2020-07-27  109148eb0573dd62731d3783465bf2bd7b3bb14c6c0418...   \n",
       "5332546   2019-01-23  d6cb3db0fa2d75a5bc71058bbe5f65f9530d29f76a38e0...   \n",
       "\n",
       "          article_id     price  sales_channel_id  \n",
       "24288205   811835003  0.022017                 2  \n",
       "2076220    679042003  0.016932                 2  \n",
       "27953483   754404004  0.025407                 2  \n",
       "29530167   636207006  0.030492                 1  \n",
       "5332546    694131003  0.007983                 1  "
      ]
     },
     "execution_count": 24,
     "metadata": {},
     "output_type": "execute_result"
    }
   ],
   "source": [
    "# Display basic column information for the initial Kaggle 'transaction_train' datatset - after Sampling of original dataset\n",
    "df_trxns_sample.head()"
   ]
  },
  {
   "cell_type": "code",
   "execution_count": 25,
   "metadata": {},
   "outputs": [
    {
     "data": {
      "text/plain": [
       "t_dat                object\n",
       "customer_id          object\n",
       "article_id            int64\n",
       "price               float64\n",
       "sales_channel_id      int64\n",
       "dtype: object"
      ]
     },
     "execution_count": 25,
     "metadata": {},
     "output_type": "execute_result"
    }
   ],
   "source": [
    "# Display datatype of colums in original H&M Transaction dataset\n",
    "df_trxns_sample.dtypes"
   ]
  },
  {
   "cell_type": "markdown",
   "metadata": {},
   "source": [
    "#### H&M Sampled Customer Dataset "
   ]
  },
  {
   "cell_type": "code",
   "execution_count": 27,
   "metadata": {},
   "outputs": [
    {
     "data": {
      "text/html": [
       "<div>\n",
       "<style scoped>\n",
       "    .dataframe tbody tr th:only-of-type {\n",
       "        vertical-align: middle;\n",
       "    }\n",
       "\n",
       "    .dataframe tbody tr th {\n",
       "        vertical-align: top;\n",
       "    }\n",
       "\n",
       "    .dataframe thead th {\n",
       "        text-align: right;\n",
       "    }\n",
       "</style>\n",
       "<table border=\"1\" class=\"dataframe\">\n",
       "  <thead>\n",
       "    <tr style=\"text-align: right;\">\n",
       "      <th></th>\n",
       "      <th>customer_id</th>\n",
       "      <th>FN</th>\n",
       "      <th>Active</th>\n",
       "      <th>club_member_status</th>\n",
       "      <th>fashion_news_frequency</th>\n",
       "      <th>age</th>\n",
       "      <th>postal_code</th>\n",
       "    </tr>\n",
       "  </thead>\n",
       "  <tbody>\n",
       "    <tr>\n",
       "      <th>27</th>\n",
       "      <td>00012315fd38859ff2c446876ca507abbcbcf582d0e266...</td>\n",
       "      <td>NaN</td>\n",
       "      <td>NaN</td>\n",
       "      <td>ACTIVE</td>\n",
       "      <td>NONE</td>\n",
       "      <td>25.0</td>\n",
       "      <td>2c29ae653a9282cce4151bd87643c907644e09541abc28...</td>\n",
       "    </tr>\n",
       "    <tr>\n",
       "      <th>28</th>\n",
       "      <td>0001420326c217a367048472e05395373c40a039f6fd45...</td>\n",
       "      <td>NaN</td>\n",
       "      <td>NaN</td>\n",
       "      <td>ACTIVE</td>\n",
       "      <td>NONE</td>\n",
       "      <td>38.0</td>\n",
       "      <td>cfce56dfa8dde87e7db24b96b8b6cb46bb940ddabe9de0...</td>\n",
       "    </tr>\n",
       "    <tr>\n",
       "      <th>195</th>\n",
       "      <td>00080403a669b3b89d1bef1ec73ea466d95e39698d6dde...</td>\n",
       "      <td>NaN</td>\n",
       "      <td>NaN</td>\n",
       "      <td>ACTIVE</td>\n",
       "      <td>NONE</td>\n",
       "      <td>34.0</td>\n",
       "      <td>5af3c7af7cfd5b817222d7f04f7f9bf6dbdaa51f3b6ca1...</td>\n",
       "    </tr>\n",
       "    <tr>\n",
       "      <th>216</th>\n",
       "      <td>0009344276939620e81b41ab8958edca7c2a5b9d6ee45d...</td>\n",
       "      <td>1.0</td>\n",
       "      <td>1.0</td>\n",
       "      <td>ACTIVE</td>\n",
       "      <td>Regularly</td>\n",
       "      <td>59.0</td>\n",
       "      <td>9101ef974f3b773f1c63fdfc215af28618f74a691a5556...</td>\n",
       "    </tr>\n",
       "    <tr>\n",
       "      <th>290</th>\n",
       "      <td>000da3d7d0ef65573d455266b21b085483913d296f65cc...</td>\n",
       "      <td>NaN</td>\n",
       "      <td>NaN</td>\n",
       "      <td>PRE-CREATE</td>\n",
       "      <td>NONE</td>\n",
       "      <td>NaN</td>\n",
       "      <td>c9a22609dbb596e7d97f3eac937fb5970b9e27057f71a2...</td>\n",
       "    </tr>\n",
       "  </tbody>\n",
       "</table>\n",
       "</div>"
      ],
      "text/plain": [
       "                                           customer_id   FN  Active  \\\n",
       "27   00012315fd38859ff2c446876ca507abbcbcf582d0e266...  NaN     NaN   \n",
       "28   0001420326c217a367048472e05395373c40a039f6fd45...  NaN     NaN   \n",
       "195  00080403a669b3b89d1bef1ec73ea466d95e39698d6dde...  NaN     NaN   \n",
       "216  0009344276939620e81b41ab8958edca7c2a5b9d6ee45d...  1.0     1.0   \n",
       "290  000da3d7d0ef65573d455266b21b085483913d296f65cc...  NaN     NaN   \n",
       "\n",
       "    club_member_status fashion_news_frequency   age  \\\n",
       "27              ACTIVE                   NONE  25.0   \n",
       "28              ACTIVE                   NONE  38.0   \n",
       "195             ACTIVE                   NONE  34.0   \n",
       "216             ACTIVE              Regularly  59.0   \n",
       "290         PRE-CREATE                   NONE   NaN   \n",
       "\n",
       "                                           postal_code  \n",
       "27   2c29ae653a9282cce4151bd87643c907644e09541abc28...  \n",
       "28   cfce56dfa8dde87e7db24b96b8b6cb46bb940ddabe9de0...  \n",
       "195  5af3c7af7cfd5b817222d7f04f7f9bf6dbdaa51f3b6ca1...  \n",
       "216  9101ef974f3b773f1c63fdfc215af28618f74a691a5556...  \n",
       "290  c9a22609dbb596e7d97f3eac937fb5970b9e27057f71a2...  "
      ]
     },
     "execution_count": 27,
     "metadata": {},
     "output_type": "execute_result"
    }
   ],
   "source": [
    "# Display basic column information for the initial Kaggle 'customers' datatset - after Sampling of original dataset\n",
    "df_customers_sample.head()"
   ]
  },
  {
   "cell_type": "code",
   "execution_count": 61,
   "metadata": {},
   "outputs": [
    {
     "data": {
      "text/plain": [
       "customer_id                object\n",
       "FN                        float64\n",
       "Active                    float64\n",
       "club_member_status         object\n",
       "fashion_news_frequency     object\n",
       "age                       float64\n",
       "postal_code                object\n",
       "dtype: object"
      ]
     },
     "execution_count": 61,
     "metadata": {},
     "output_type": "execute_result"
    }
   ],
   "source": [
    "df_customers_sample.dtypes"
   ]
  },
  {
   "cell_type": "markdown",
   "metadata": {},
   "source": [
    "#### H&M Sampled Articles Dataset "
   ]
  },
  {
   "cell_type": "code",
   "execution_count": null,
   "metadata": {},
   "outputs": [],
   "source": [
    "# Display basic column information for the initial Kaggle 'article' datatset - after Sampling of original dataset\n",
    "df_articles_sample.head()"
   ]
  },
  {
   "cell_type": "markdown",
   "metadata": {},
   "source": [
    "###### "
   ]
  },
  {
   "cell_type": "markdown",
   "metadata": {},
   "source": [
    "### Data Preparation"
   ]
  },
  {
   "cell_type": "markdown",
   "metadata": {},
   "source": [
    "### Construct a dataset upon which to build ML models. <a class=\"tocSkip\">"
   ]
  },
  {
   "cell_type": "markdown",
   "metadata": {},
   "source": [
    "### Begin with Transaction Dataset (sampled) and merge in customer and article data. <a class=\"tocSkip\">"
   ]
  },
  {
   "cell_type": "markdown",
   "metadata": {},
   "source": [
    "#### Data Preparation / Feature Enrichment on Transaction Data (sample)"
   ]
  },
  {
   "cell_type": "code",
   "execution_count": 90,
   "metadata": {},
   "outputs": [],
   "source": [
    "# Create new dataset for modelling. Initial basis for new dataset is the sampled transaction dataset.\n",
    "df_HM_CustTrxn = df_trxns_sample"
   ]
  },
  {
   "cell_type": "code",
   "execution_count": 91,
   "metadata": {},
   "outputs": [
    {
     "data": {
      "text/html": [
       "<div>\n",
       "<style scoped>\n",
       "    .dataframe tbody tr th:only-of-type {\n",
       "        vertical-align: middle;\n",
       "    }\n",
       "\n",
       "    .dataframe tbody tr th {\n",
       "        vertical-align: top;\n",
       "    }\n",
       "\n",
       "    .dataframe thead th {\n",
       "        text-align: right;\n",
       "    }\n",
       "</style>\n",
       "<table border=\"1\" class=\"dataframe\">\n",
       "  <thead>\n",
       "    <tr style=\"text-align: right;\">\n",
       "      <th></th>\n",
       "      <th>t_dat</th>\n",
       "      <th>customer_id</th>\n",
       "      <th>article_id</th>\n",
       "      <th>price</th>\n",
       "      <th>sales_channel_id</th>\n",
       "      <th>txn_year</th>\n",
       "      <th>txn_mth</th>\n",
       "      <th>txn_day</th>\n",
       "    </tr>\n",
       "  </thead>\n",
       "  <tbody>\n",
       "    <tr>\n",
       "      <th>24288205</th>\n",
       "      <td>2020-04-08</td>\n",
       "      <td>50f6fab29c8b3fc1b25d3c099d0cd5708e3e7f5ced694f...</td>\n",
       "      <td>811835003</td>\n",
       "      <td>0.022017</td>\n",
       "      <td>2</td>\n",
       "      <td>2020</td>\n",
       "      <td>04</td>\n",
       "      <td>08</td>\n",
       "    </tr>\n",
       "    <tr>\n",
       "      <th>2076220</th>\n",
       "      <td>2018-11-03</td>\n",
       "      <td>2dee5926adf115828fbed2499f8540059796627d4d814b...</td>\n",
       "      <td>679042003</td>\n",
       "      <td>0.016932</td>\n",
       "      <td>2</td>\n",
       "      <td>2018</td>\n",
       "      <td>11</td>\n",
       "      <td>03</td>\n",
       "    </tr>\n",
       "    <tr>\n",
       "      <th>27953483</th>\n",
       "      <td>2020-06-24</td>\n",
       "      <td>b37d9cb6416fb8cc0115895ea00e1957c9c31787145f81...</td>\n",
       "      <td>754404004</td>\n",
       "      <td>0.025407</td>\n",
       "      <td>2</td>\n",
       "      <td>2020</td>\n",
       "      <td>06</td>\n",
       "      <td>24</td>\n",
       "    </tr>\n",
       "    <tr>\n",
       "      <th>29530167</th>\n",
       "      <td>2020-07-27</td>\n",
       "      <td>109148eb0573dd62731d3783465bf2bd7b3bb14c6c0418...</td>\n",
       "      <td>636207006</td>\n",
       "      <td>0.030492</td>\n",
       "      <td>1</td>\n",
       "      <td>2020</td>\n",
       "      <td>07</td>\n",
       "      <td>27</td>\n",
       "    </tr>\n",
       "    <tr>\n",
       "      <th>5332546</th>\n",
       "      <td>2019-01-23</td>\n",
       "      <td>d6cb3db0fa2d75a5bc71058bbe5f65f9530d29f76a38e0...</td>\n",
       "      <td>694131003</td>\n",
       "      <td>0.007983</td>\n",
       "      <td>1</td>\n",
       "      <td>2019</td>\n",
       "      <td>01</td>\n",
       "      <td>23</td>\n",
       "    </tr>\n",
       "  </tbody>\n",
       "</table>\n",
       "</div>"
      ],
      "text/plain": [
       "              t_dat                                        customer_id  \\\n",
       "24288205 2020-04-08  50f6fab29c8b3fc1b25d3c099d0cd5708e3e7f5ced694f...   \n",
       "2076220  2018-11-03  2dee5926adf115828fbed2499f8540059796627d4d814b...   \n",
       "27953483 2020-06-24  b37d9cb6416fb8cc0115895ea00e1957c9c31787145f81...   \n",
       "29530167 2020-07-27  109148eb0573dd62731d3783465bf2bd7b3bb14c6c0418...   \n",
       "5332546  2019-01-23  d6cb3db0fa2d75a5bc71058bbe5f65f9530d29f76a38e0...   \n",
       "\n",
       "          article_id     price  sales_channel_id txn_year txn_mth txn_day  \n",
       "24288205   811835003  0.022017                 2     2020      04      08  \n",
       "2076220    679042003  0.016932                 2     2018      11      03  \n",
       "27953483   754404004  0.025407                 2     2020      06      24  \n",
       "29530167   636207006  0.030492                 1     2020      07      27  \n",
       "5332546    694131003  0.007983                 1     2019      01      23  "
      ]
     },
     "execution_count": 91,
     "metadata": {},
     "output_type": "execute_result"
    }
   ],
   "source": [
    "df_HM_CustTrxn.head()"
   ]
  },
  {
   "cell_type": "code",
   "execution_count": 92,
   "metadata": {},
   "outputs": [],
   "source": [
    "# Decompose Datetime information \n",
    "df_HM_CustTrxn['t_dat'] = pd.to_datetime(df_HM_CustTrxn['t_dat'], format=\"%Y-%m-%d\")\n",
    "\n",
    "# Add Column for Transaction Year\n",
    "df_HM_CustTrxn['txn_year'] = df_HM_CustTrxn['t_dat'].dt.strftime('%Y')\n",
    "\n",
    "# Add Column for Transaction Month\n",
    "df_HM_CustTrxn['txn_mth'] = df_HM_CustTrxn['t_dat'].dt.strftime('%m')\n",
    "\n",
    "# Add Column for Transaction Day\n",
    "df_HM_CustTrxn['txn_day'] = df_HM_CustTrxn['t_dat'].dt.strftime('%d')"
   ]
  },
  {
   "cell_type": "code",
   "execution_count": 93,
   "metadata": {},
   "outputs": [],
   "source": [
    "# Filter out column to drop timestamp attribute\n",
    "df_HM_CustTrxn = df_HM_CustTrxn.iloc[:,1:8]"
   ]
  },
  {
   "cell_type": "code",
   "execution_count": 94,
   "metadata": {},
   "outputs": [
    {
     "data": {
      "text/html": [
       "<div>\n",
       "<style scoped>\n",
       "    .dataframe tbody tr th:only-of-type {\n",
       "        vertical-align: middle;\n",
       "    }\n",
       "\n",
       "    .dataframe tbody tr th {\n",
       "        vertical-align: top;\n",
       "    }\n",
       "\n",
       "    .dataframe thead th {\n",
       "        text-align: right;\n",
       "    }\n",
       "</style>\n",
       "<table border=\"1\" class=\"dataframe\">\n",
       "  <thead>\n",
       "    <tr style=\"text-align: right;\">\n",
       "      <th></th>\n",
       "      <th>customer_id</th>\n",
       "      <th>article_id</th>\n",
       "      <th>price</th>\n",
       "      <th>sales_channel_id</th>\n",
       "      <th>txn_year</th>\n",
       "      <th>txn_mth</th>\n",
       "      <th>txn_day</th>\n",
       "    </tr>\n",
       "  </thead>\n",
       "  <tbody>\n",
       "    <tr>\n",
       "      <th>24288205</th>\n",
       "      <td>50f6fab29c8b3fc1b25d3c099d0cd5708e3e7f5ced694f...</td>\n",
       "      <td>811835003</td>\n",
       "      <td>0.022017</td>\n",
       "      <td>2</td>\n",
       "      <td>2020</td>\n",
       "      <td>04</td>\n",
       "      <td>08</td>\n",
       "    </tr>\n",
       "    <tr>\n",
       "      <th>2076220</th>\n",
       "      <td>2dee5926adf115828fbed2499f8540059796627d4d814b...</td>\n",
       "      <td>679042003</td>\n",
       "      <td>0.016932</td>\n",
       "      <td>2</td>\n",
       "      <td>2018</td>\n",
       "      <td>11</td>\n",
       "      <td>03</td>\n",
       "    </tr>\n",
       "    <tr>\n",
       "      <th>27953483</th>\n",
       "      <td>b37d9cb6416fb8cc0115895ea00e1957c9c31787145f81...</td>\n",
       "      <td>754404004</td>\n",
       "      <td>0.025407</td>\n",
       "      <td>2</td>\n",
       "      <td>2020</td>\n",
       "      <td>06</td>\n",
       "      <td>24</td>\n",
       "    </tr>\n",
       "    <tr>\n",
       "      <th>29530167</th>\n",
       "      <td>109148eb0573dd62731d3783465bf2bd7b3bb14c6c0418...</td>\n",
       "      <td>636207006</td>\n",
       "      <td>0.030492</td>\n",
       "      <td>1</td>\n",
       "      <td>2020</td>\n",
       "      <td>07</td>\n",
       "      <td>27</td>\n",
       "    </tr>\n",
       "    <tr>\n",
       "      <th>5332546</th>\n",
       "      <td>d6cb3db0fa2d75a5bc71058bbe5f65f9530d29f76a38e0...</td>\n",
       "      <td>694131003</td>\n",
       "      <td>0.007983</td>\n",
       "      <td>1</td>\n",
       "      <td>2019</td>\n",
       "      <td>01</td>\n",
       "      <td>23</td>\n",
       "    </tr>\n",
       "  </tbody>\n",
       "</table>\n",
       "</div>"
      ],
      "text/plain": [
       "                                                customer_id  article_id  \\\n",
       "24288205  50f6fab29c8b3fc1b25d3c099d0cd5708e3e7f5ced694f...   811835003   \n",
       "2076220   2dee5926adf115828fbed2499f8540059796627d4d814b...   679042003   \n",
       "27953483  b37d9cb6416fb8cc0115895ea00e1957c9c31787145f81...   754404004   \n",
       "29530167  109148eb0573dd62731d3783465bf2bd7b3bb14c6c0418...   636207006   \n",
       "5332546   d6cb3db0fa2d75a5bc71058bbe5f65f9530d29f76a38e0...   694131003   \n",
       "\n",
       "             price  sales_channel_id txn_year txn_mth txn_day  \n",
       "24288205  0.022017                 2     2020      04      08  \n",
       "2076220   0.016932                 2     2018      11      03  \n",
       "27953483  0.025407                 2     2020      06      24  \n",
       "29530167  0.030492                 1     2020      07      27  \n",
       "5332546   0.007983                 1     2019      01      23  "
      ]
     },
     "execution_count": 94,
     "metadata": {},
     "output_type": "execute_result"
    }
   ],
   "source": [
    "df_HM_CustTrxn.head()"
   ]
  },
  {
   "cell_type": "code",
   "execution_count": 95,
   "metadata": {},
   "outputs": [
    {
     "data": {
      "text/plain": [
       "customer_id          object\n",
       "article_id            int64\n",
       "price               float64\n",
       "sales_channel_id      int64\n",
       "txn_year             object\n",
       "txn_mth              object\n",
       "txn_day              object\n",
       "dtype: object"
      ]
     },
     "execution_count": 95,
     "metadata": {},
     "output_type": "execute_result"
    }
   ],
   "source": [
    "df_HM_CustTrxn.dtypes"
   ]
  },
  {
   "cell_type": "markdown",
   "metadata": {},
   "source": [
    "#### Data Preparation / Feature Enrichment with Customer Data (sample)"
   ]
  },
  {
   "cell_type": "code",
   "execution_count": 96,
   "metadata": {},
   "outputs": [
    {
     "data": {
      "text/plain": [
       "(31788, 7)"
      ]
     },
     "execution_count": 96,
     "metadata": {},
     "output_type": "execute_result"
    }
   ],
   "source": [
    "df_HM_CustTrxn.shape"
   ]
  },
  {
   "cell_type": "code",
   "execution_count": 97,
   "metadata": {},
   "outputs": [],
   "source": [
    "# Merge Customer atributes from the Customer dataset based on a join with the 'customer_id' field\n",
    "df_HM_CustTrxn = pd.merge(df_HM_CustTrxn, df_customers_sample, how=\"left\", on=[\"customer_id\"])"
   ]
  },
  {
   "cell_type": "code",
   "execution_count": 98,
   "metadata": {},
   "outputs": [
    {
     "data": {
      "text/plain": [
       "(31788, 13)"
      ]
     },
     "execution_count": 98,
     "metadata": {},
     "output_type": "execute_result"
    }
   ],
   "source": [
    "df_HM_CustTrxn.shape"
   ]
  },
  {
   "cell_type": "code",
   "execution_count": 99,
   "metadata": {},
   "outputs": [
    {
     "data": {
      "text/html": [
       "<div>\n",
       "<style scoped>\n",
       "    .dataframe tbody tr th:only-of-type {\n",
       "        vertical-align: middle;\n",
       "    }\n",
       "\n",
       "    .dataframe tbody tr th {\n",
       "        vertical-align: top;\n",
       "    }\n",
       "\n",
       "    .dataframe thead th {\n",
       "        text-align: right;\n",
       "    }\n",
       "</style>\n",
       "<table border=\"1\" class=\"dataframe\">\n",
       "  <thead>\n",
       "    <tr style=\"text-align: right;\">\n",
       "      <th></th>\n",
       "      <th>customer_id</th>\n",
       "      <th>article_id</th>\n",
       "      <th>price</th>\n",
       "      <th>sales_channel_id</th>\n",
       "      <th>txn_year</th>\n",
       "      <th>txn_mth</th>\n",
       "      <th>txn_day</th>\n",
       "      <th>FN</th>\n",
       "      <th>Active</th>\n",
       "      <th>club_member_status</th>\n",
       "      <th>fashion_news_frequency</th>\n",
       "      <th>age</th>\n",
       "      <th>postal_code</th>\n",
       "    </tr>\n",
       "  </thead>\n",
       "  <tbody>\n",
       "    <tr>\n",
       "      <th>0</th>\n",
       "      <td>50f6fab29c8b3fc1b25d3c099d0cd5708e3e7f5ced694f...</td>\n",
       "      <td>811835003</td>\n",
       "      <td>0.022017</td>\n",
       "      <td>2</td>\n",
       "      <td>2020</td>\n",
       "      <td>04</td>\n",
       "      <td>08</td>\n",
       "      <td>NaN</td>\n",
       "      <td>NaN</td>\n",
       "      <td>ACTIVE</td>\n",
       "      <td>NONE</td>\n",
       "      <td>44.0</td>\n",
       "      <td>956be5f3926e90ec3da85b49439f12fc35ed8e7fbb9fec...</td>\n",
       "    </tr>\n",
       "    <tr>\n",
       "      <th>1</th>\n",
       "      <td>2dee5926adf115828fbed2499f8540059796627d4d814b...</td>\n",
       "      <td>679042003</td>\n",
       "      <td>0.016932</td>\n",
       "      <td>2</td>\n",
       "      <td>2018</td>\n",
       "      <td>11</td>\n",
       "      <td>03</td>\n",
       "      <td>1.0</td>\n",
       "      <td>1.0</td>\n",
       "      <td>ACTIVE</td>\n",
       "      <td>Regularly</td>\n",
       "      <td>29.0</td>\n",
       "      <td>2cc8481ef375b327abf96d042f68788b1c06eb7743b79d...</td>\n",
       "    </tr>\n",
       "    <tr>\n",
       "      <th>2</th>\n",
       "      <td>b37d9cb6416fb8cc0115895ea00e1957c9c31787145f81...</td>\n",
       "      <td>754404004</td>\n",
       "      <td>0.025407</td>\n",
       "      <td>2</td>\n",
       "      <td>2020</td>\n",
       "      <td>06</td>\n",
       "      <td>24</td>\n",
       "      <td>1.0</td>\n",
       "      <td>1.0</td>\n",
       "      <td>ACTIVE</td>\n",
       "      <td>Regularly</td>\n",
       "      <td>28.0</td>\n",
       "      <td>3c10c6013dc170b4b432256a221dbe12aef562eb0e41e5...</td>\n",
       "    </tr>\n",
       "    <tr>\n",
       "      <th>3</th>\n",
       "      <td>109148eb0573dd62731d3783465bf2bd7b3bb14c6c0418...</td>\n",
       "      <td>636207006</td>\n",
       "      <td>0.030492</td>\n",
       "      <td>1</td>\n",
       "      <td>2020</td>\n",
       "      <td>07</td>\n",
       "      <td>27</td>\n",
       "      <td>NaN</td>\n",
       "      <td>NaN</td>\n",
       "      <td>ACTIVE</td>\n",
       "      <td>NONE</td>\n",
       "      <td>62.0</td>\n",
       "      <td>f0702974293135c005b3bfd353a7d81d91e63c1ba5935a...</td>\n",
       "    </tr>\n",
       "    <tr>\n",
       "      <th>4</th>\n",
       "      <td>d6cb3db0fa2d75a5bc71058bbe5f65f9530d29f76a38e0...</td>\n",
       "      <td>694131003</td>\n",
       "      <td>0.007983</td>\n",
       "      <td>1</td>\n",
       "      <td>2019</td>\n",
       "      <td>01</td>\n",
       "      <td>23</td>\n",
       "      <td>NaN</td>\n",
       "      <td>NaN</td>\n",
       "      <td>ACTIVE</td>\n",
       "      <td>NONE</td>\n",
       "      <td>54.0</td>\n",
       "      <td>d5803bf563c7794723e636fb48c712938e4f8a69bca8bf...</td>\n",
       "    </tr>\n",
       "  </tbody>\n",
       "</table>\n",
       "</div>"
      ],
      "text/plain": [
       "                                         customer_id  article_id     price  \\\n",
       "0  50f6fab29c8b3fc1b25d3c099d0cd5708e3e7f5ced694f...   811835003  0.022017   \n",
       "1  2dee5926adf115828fbed2499f8540059796627d4d814b...   679042003  0.016932   \n",
       "2  b37d9cb6416fb8cc0115895ea00e1957c9c31787145f81...   754404004  0.025407   \n",
       "3  109148eb0573dd62731d3783465bf2bd7b3bb14c6c0418...   636207006  0.030492   \n",
       "4  d6cb3db0fa2d75a5bc71058bbe5f65f9530d29f76a38e0...   694131003  0.007983   \n",
       "\n",
       "   sales_channel_id txn_year txn_mth txn_day   FN  Active club_member_status  \\\n",
       "0                 2     2020      04      08  NaN     NaN             ACTIVE   \n",
       "1                 2     2018      11      03  1.0     1.0             ACTIVE   \n",
       "2                 2     2020      06      24  1.0     1.0             ACTIVE   \n",
       "3                 1     2020      07      27  NaN     NaN             ACTIVE   \n",
       "4                 1     2019      01      23  NaN     NaN             ACTIVE   \n",
       "\n",
       "  fashion_news_frequency   age  \\\n",
       "0                   NONE  44.0   \n",
       "1              Regularly  29.0   \n",
       "2              Regularly  28.0   \n",
       "3                   NONE  62.0   \n",
       "4                   NONE  54.0   \n",
       "\n",
       "                                         postal_code  \n",
       "0  956be5f3926e90ec3da85b49439f12fc35ed8e7fbb9fec...  \n",
       "1  2cc8481ef375b327abf96d042f68788b1c06eb7743b79d...  \n",
       "2  3c10c6013dc170b4b432256a221dbe12aef562eb0e41e5...  \n",
       "3  f0702974293135c005b3bfd353a7d81d91e63c1ba5935a...  \n",
       "4  d5803bf563c7794723e636fb48c712938e4f8a69bca8bf...  "
      ]
     },
     "execution_count": 99,
     "metadata": {},
     "output_type": "execute_result"
    }
   ],
   "source": [
    "df_HM_CustTrxn.head()"
   ]
  },
  {
   "cell_type": "code",
   "execution_count": 100,
   "metadata": {},
   "outputs": [],
   "source": [
    "# Filter out other Customer specific attributes apart from; age + fashion_news_frequency + club_member_status + postal code\n",
    "# There are very many missing values in the other Customer dataset columns, so these will be ignored\n",
    "df_HM_CustTrxn = df_HM_CustTrxn.iloc[:, [0, 1, 2, 3, 4, 5, 6, 9, 10, 11, 12]]"
   ]
  },
  {
   "cell_type": "code",
   "execution_count": 101,
   "metadata": {},
   "outputs": [
    {
     "data": {
      "text/html": [
       "<div>\n",
       "<style scoped>\n",
       "    .dataframe tbody tr th:only-of-type {\n",
       "        vertical-align: middle;\n",
       "    }\n",
       "\n",
       "    .dataframe tbody tr th {\n",
       "        vertical-align: top;\n",
       "    }\n",
       "\n",
       "    .dataframe thead th {\n",
       "        text-align: right;\n",
       "    }\n",
       "</style>\n",
       "<table border=\"1\" class=\"dataframe\">\n",
       "  <thead>\n",
       "    <tr style=\"text-align: right;\">\n",
       "      <th></th>\n",
       "      <th>customer_id</th>\n",
       "      <th>article_id</th>\n",
       "      <th>price</th>\n",
       "      <th>sales_channel_id</th>\n",
       "      <th>txn_year</th>\n",
       "      <th>txn_mth</th>\n",
       "      <th>txn_day</th>\n",
       "      <th>club_member_status</th>\n",
       "      <th>fashion_news_frequency</th>\n",
       "      <th>age</th>\n",
       "      <th>postal_code</th>\n",
       "    </tr>\n",
       "  </thead>\n",
       "  <tbody>\n",
       "    <tr>\n",
       "      <th>0</th>\n",
       "      <td>50f6fab29c8b3fc1b25d3c099d0cd5708e3e7f5ced694f...</td>\n",
       "      <td>811835003</td>\n",
       "      <td>0.022017</td>\n",
       "      <td>2</td>\n",
       "      <td>2020</td>\n",
       "      <td>04</td>\n",
       "      <td>08</td>\n",
       "      <td>ACTIVE</td>\n",
       "      <td>NONE</td>\n",
       "      <td>44.0</td>\n",
       "      <td>956be5f3926e90ec3da85b49439f12fc35ed8e7fbb9fec...</td>\n",
       "    </tr>\n",
       "    <tr>\n",
       "      <th>1</th>\n",
       "      <td>2dee5926adf115828fbed2499f8540059796627d4d814b...</td>\n",
       "      <td>679042003</td>\n",
       "      <td>0.016932</td>\n",
       "      <td>2</td>\n",
       "      <td>2018</td>\n",
       "      <td>11</td>\n",
       "      <td>03</td>\n",
       "      <td>ACTIVE</td>\n",
       "      <td>Regularly</td>\n",
       "      <td>29.0</td>\n",
       "      <td>2cc8481ef375b327abf96d042f68788b1c06eb7743b79d...</td>\n",
       "    </tr>\n",
       "    <tr>\n",
       "      <th>2</th>\n",
       "      <td>b37d9cb6416fb8cc0115895ea00e1957c9c31787145f81...</td>\n",
       "      <td>754404004</td>\n",
       "      <td>0.025407</td>\n",
       "      <td>2</td>\n",
       "      <td>2020</td>\n",
       "      <td>06</td>\n",
       "      <td>24</td>\n",
       "      <td>ACTIVE</td>\n",
       "      <td>Regularly</td>\n",
       "      <td>28.0</td>\n",
       "      <td>3c10c6013dc170b4b432256a221dbe12aef562eb0e41e5...</td>\n",
       "    </tr>\n",
       "    <tr>\n",
       "      <th>3</th>\n",
       "      <td>109148eb0573dd62731d3783465bf2bd7b3bb14c6c0418...</td>\n",
       "      <td>636207006</td>\n",
       "      <td>0.030492</td>\n",
       "      <td>1</td>\n",
       "      <td>2020</td>\n",
       "      <td>07</td>\n",
       "      <td>27</td>\n",
       "      <td>ACTIVE</td>\n",
       "      <td>NONE</td>\n",
       "      <td>62.0</td>\n",
       "      <td>f0702974293135c005b3bfd353a7d81d91e63c1ba5935a...</td>\n",
       "    </tr>\n",
       "    <tr>\n",
       "      <th>4</th>\n",
       "      <td>d6cb3db0fa2d75a5bc71058bbe5f65f9530d29f76a38e0...</td>\n",
       "      <td>694131003</td>\n",
       "      <td>0.007983</td>\n",
       "      <td>1</td>\n",
       "      <td>2019</td>\n",
       "      <td>01</td>\n",
       "      <td>23</td>\n",
       "      <td>ACTIVE</td>\n",
       "      <td>NONE</td>\n",
       "      <td>54.0</td>\n",
       "      <td>d5803bf563c7794723e636fb48c712938e4f8a69bca8bf...</td>\n",
       "    </tr>\n",
       "  </tbody>\n",
       "</table>\n",
       "</div>"
      ],
      "text/plain": [
       "                                         customer_id  article_id     price  \\\n",
       "0  50f6fab29c8b3fc1b25d3c099d0cd5708e3e7f5ced694f...   811835003  0.022017   \n",
       "1  2dee5926adf115828fbed2499f8540059796627d4d814b...   679042003  0.016932   \n",
       "2  b37d9cb6416fb8cc0115895ea00e1957c9c31787145f81...   754404004  0.025407   \n",
       "3  109148eb0573dd62731d3783465bf2bd7b3bb14c6c0418...   636207006  0.030492   \n",
       "4  d6cb3db0fa2d75a5bc71058bbe5f65f9530d29f76a38e0...   694131003  0.007983   \n",
       "\n",
       "   sales_channel_id txn_year txn_mth txn_day club_member_status  \\\n",
       "0                 2     2020      04      08             ACTIVE   \n",
       "1                 2     2018      11      03             ACTIVE   \n",
       "2                 2     2020      06      24             ACTIVE   \n",
       "3                 1     2020      07      27             ACTIVE   \n",
       "4                 1     2019      01      23             ACTIVE   \n",
       "\n",
       "  fashion_news_frequency   age  \\\n",
       "0                   NONE  44.0   \n",
       "1              Regularly  29.0   \n",
       "2              Regularly  28.0   \n",
       "3                   NONE  62.0   \n",
       "4                   NONE  54.0   \n",
       "\n",
       "                                         postal_code  \n",
       "0  956be5f3926e90ec3da85b49439f12fc35ed8e7fbb9fec...  \n",
       "1  2cc8481ef375b327abf96d042f68788b1c06eb7743b79d...  \n",
       "2  3c10c6013dc170b4b432256a221dbe12aef562eb0e41e5...  \n",
       "3  f0702974293135c005b3bfd353a7d81d91e63c1ba5935a...  \n",
       "4  d5803bf563c7794723e636fb48c712938e4f8a69bca8bf...  "
      ]
     },
     "execution_count": 101,
     "metadata": {},
     "output_type": "execute_result"
    }
   ],
   "source": [
    "df_HM_CustTrxn.head()"
   ]
  },
  {
   "cell_type": "code",
   "execution_count": null,
   "metadata": {},
   "outputs": [],
   "source": [
    "### Pick up here..."
   ]
  },
  {
   "cell_type": "code",
   "execution_count": null,
   "metadata": {},
   "outputs": [],
   "source": [
    "### Check for nulls and missing - remove them - see WWD "
   ]
  },
  {
   "cell_type": "code",
   "execution_count": null,
   "metadata": {},
   "outputs": [],
   "source": [
    "### Encode the club_member_status + fashion_news_frequency"
   ]
  },
  {
   "cell_type": "code",
   "execution_count": null,
   "metadata": {},
   "outputs": [],
   "source": [
    "### See if there is a way to check the integrity of the customer merging.."
   ]
  },
  {
   "cell_type": "code",
   "execution_count": null,
   "metadata": {},
   "outputs": [],
   "source": [
    "### Move onto Arttcles..."
   ]
  },
  {
   "cell_type": "markdown",
   "metadata": {},
   "source": [
    "###### "
   ]
  },
  {
   "cell_type": "markdown",
   "metadata": {},
   "source": [
    "###### "
   ]
  },
  {
   "cell_type": "markdown",
   "metadata": {},
   "source": [
    "###### "
   ]
  },
  {
   "cell_type": "markdown",
   "metadata": {},
   "source": [
    "## References"
   ]
  },
  {
   "cell_type": "markdown",
   "metadata": {},
   "source": [
    "#### <a class=\"tocSkip\">"
   ]
  }
 ],
 "metadata": {
  "kernelspec": {
   "display_name": "Python 3",
   "language": "python",
   "name": "python3"
  },
  "language_info": {
   "codemirror_mode": {
    "name": "ipython",
    "version": 3
   },
   "file_extension": ".py",
   "mimetype": "text/x-python",
   "name": "python",
   "nbconvert_exporter": "python",
   "pygments_lexer": "ipython3",
   "version": "3.8.5"
  },
  "toc": {
   "base_numbering": 1,
   "nav_menu": {},
   "number_sections": true,
   "sideBar": true,
   "skip_h1_title": true,
   "title_cell": "Table of Contents",
   "title_sidebar": "Contents",
   "toc_cell": true,
   "toc_position": {
    "height": "659px",
    "left": "0px",
    "right": "1227.5px",
    "top": "87px",
    "width": "341.5px"
   },
   "toc_section_display": "block",
   "toc_window_display": true
  }
 },
 "nbformat": 4,
 "nbformat_minor": 2
}
